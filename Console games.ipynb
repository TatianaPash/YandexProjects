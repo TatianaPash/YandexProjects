{
 "cells": [
  {
   "cell_type": "markdown",
   "id": "4404e274",
   "metadata": {},
   "source": [
    "# Сборный проект"
   ]
  },
  {
   "cell_type": "markdown",
   "id": "20a2c418",
   "metadata": {},
   "source": [
    "# 1. Ознакомление с данными"
   ]
  },
  {
   "cell_type": "markdown",
   "id": "df09de35",
   "metadata": {},
   "source": [
    "### Описание\n",
    "<br>\n",
    "Вы работаете в интернет-магазине «Стримчик», который продаёт по всему миру компьютерные игры. Нужно выявить определяющие успешность игры закономерности. Это позволит сделать ставку на потенциально популярный продукт и спланировать рекламные кампании.\n",
    "Перед вами данные до 2016 года. Представим, что сейчас декабрь 2016 г., и вы планируете кампанию на 2017-й. Нужно отработать принцип работы с данными. "
   ]
  },
  {
   "cell_type": "markdown",
   "id": "7476919d",
   "metadata": {},
   "source": [
    "•\tName — название игры\n",
    "<br>\n",
    "•\tPlatform — платформа\n",
    "<br>\n",
    "•\tYear_of_Release — год выпуска\n",
    "<br>\n",
    "•\tGenre — жанр игры\n",
    "<br>\n",
    "•\tNA_sales — продажи в Северной Америке (миллионы проданных копий)\n",
    "<br>\n",
    "•\tEU_sales — продажи в Европе (миллионы проданных копий)\n",
    "<br>\n",
    "•\tJP_sales — продажи в Японии (миллионы проданных копий)\n",
    "<br>\n",
    "•\tOther_sales — продажи в других странах (миллионы проданных копий)\n",
    "<br>\n",
    "•\tCritic_Score — оценка критиков (максимум 100)\n",
    "<br>\n",
    "•\tUser_Score — оценка пользователей (максимум 10)\n",
    "<br>\n",
    "•\tRating — рейтинг от организации ESRB (англ. Entertainment Software Rating Board). Эта ассоциация определяет рейтинг компьютерных игр и присваивает им подходящую возрастную категорию."
   ]
  },
  {
   "cell_type": "code",
   "execution_count": 1,
   "id": "6036f162",
   "metadata": {},
   "outputs": [],
   "source": [
    "#импортируем библиотеки\n",
    "\n",
    "import pandas as pd\n",
    "import seaborn as sns\n",
    "import numpy as np\n",
    "import matplotlib.pyplot as plt\n",
    "from scipy import stats as st\n",
    "import numpy as np\n",
    "import pandas as pd\n",
    "\n",
    "import warnings\n",
    "warnings.filterwarnings('ignore')"
   ]
  },
  {
   "cell_type": "code",
   "execution_count": 2,
   "id": "f955271a",
   "metadata": {},
   "outputs": [
    {
     "data": {
      "text/html": [
       "<div>\n",
       "<style scoped>\n",
       "    .dataframe tbody tr th:only-of-type {\n",
       "        vertical-align: middle;\n",
       "    }\n",
       "\n",
       "    .dataframe tbody tr th {\n",
       "        vertical-align: top;\n",
       "    }\n",
       "\n",
       "    .dataframe thead th {\n",
       "        text-align: right;\n",
       "    }\n",
       "</style>\n",
       "<table border=\"1\" class=\"dataframe\">\n",
       "  <thead>\n",
       "    <tr style=\"text-align: right;\">\n",
       "      <th></th>\n",
       "      <th>Name</th>\n",
       "      <th>Platform</th>\n",
       "      <th>Year_of_Release</th>\n",
       "      <th>Genre</th>\n",
       "      <th>NA_sales</th>\n",
       "      <th>EU_sales</th>\n",
       "      <th>JP_sales</th>\n",
       "      <th>Other_sales</th>\n",
       "      <th>Critic_Score</th>\n",
       "      <th>User_Score</th>\n",
       "      <th>Rating</th>\n",
       "    </tr>\n",
       "  </thead>\n",
       "  <tbody>\n",
       "    <tr>\n",
       "      <th>0</th>\n",
       "      <td>Wii Sports</td>\n",
       "      <td>Wii</td>\n",
       "      <td>2006.0</td>\n",
       "      <td>Sports</td>\n",
       "      <td>41.36</td>\n",
       "      <td>28.96</td>\n",
       "      <td>3.77</td>\n",
       "      <td>8.45</td>\n",
       "      <td>76.0</td>\n",
       "      <td>8</td>\n",
       "      <td>E</td>\n",
       "    </tr>\n",
       "    <tr>\n",
       "      <th>1</th>\n",
       "      <td>Super Mario Bros.</td>\n",
       "      <td>NES</td>\n",
       "      <td>1985.0</td>\n",
       "      <td>Platform</td>\n",
       "      <td>29.08</td>\n",
       "      <td>3.58</td>\n",
       "      <td>6.81</td>\n",
       "      <td>0.77</td>\n",
       "      <td>NaN</td>\n",
       "      <td>NaN</td>\n",
       "      <td>NaN</td>\n",
       "    </tr>\n",
       "    <tr>\n",
       "      <th>2</th>\n",
       "      <td>Mario Kart Wii</td>\n",
       "      <td>Wii</td>\n",
       "      <td>2008.0</td>\n",
       "      <td>Racing</td>\n",
       "      <td>15.68</td>\n",
       "      <td>12.76</td>\n",
       "      <td>3.79</td>\n",
       "      <td>3.29</td>\n",
       "      <td>82.0</td>\n",
       "      <td>8.3</td>\n",
       "      <td>E</td>\n",
       "    </tr>\n",
       "    <tr>\n",
       "      <th>3</th>\n",
       "      <td>Wii Sports Resort</td>\n",
       "      <td>Wii</td>\n",
       "      <td>2009.0</td>\n",
       "      <td>Sports</td>\n",
       "      <td>15.61</td>\n",
       "      <td>10.93</td>\n",
       "      <td>3.28</td>\n",
       "      <td>2.95</td>\n",
       "      <td>80.0</td>\n",
       "      <td>8</td>\n",
       "      <td>E</td>\n",
       "    </tr>\n",
       "    <tr>\n",
       "      <th>4</th>\n",
       "      <td>Pokemon Red/Pokemon Blue</td>\n",
       "      <td>GB</td>\n",
       "      <td>1996.0</td>\n",
       "      <td>Role-Playing</td>\n",
       "      <td>11.27</td>\n",
       "      <td>8.89</td>\n",
       "      <td>10.22</td>\n",
       "      <td>1.00</td>\n",
       "      <td>NaN</td>\n",
       "      <td>NaN</td>\n",
       "      <td>NaN</td>\n",
       "    </tr>\n",
       "    <tr>\n",
       "      <th>5</th>\n",
       "      <td>Tetris</td>\n",
       "      <td>GB</td>\n",
       "      <td>1989.0</td>\n",
       "      <td>Puzzle</td>\n",
       "      <td>23.20</td>\n",
       "      <td>2.26</td>\n",
       "      <td>4.22</td>\n",
       "      <td>0.58</td>\n",
       "      <td>NaN</td>\n",
       "      <td>NaN</td>\n",
       "      <td>NaN</td>\n",
       "    </tr>\n",
       "    <tr>\n",
       "      <th>6</th>\n",
       "      <td>New Super Mario Bros.</td>\n",
       "      <td>DS</td>\n",
       "      <td>2006.0</td>\n",
       "      <td>Platform</td>\n",
       "      <td>11.28</td>\n",
       "      <td>9.14</td>\n",
       "      <td>6.50</td>\n",
       "      <td>2.88</td>\n",
       "      <td>89.0</td>\n",
       "      <td>8.5</td>\n",
       "      <td>E</td>\n",
       "    </tr>\n",
       "    <tr>\n",
       "      <th>7</th>\n",
       "      <td>Wii Play</td>\n",
       "      <td>Wii</td>\n",
       "      <td>2006.0</td>\n",
       "      <td>Misc</td>\n",
       "      <td>13.96</td>\n",
       "      <td>9.18</td>\n",
       "      <td>2.93</td>\n",
       "      <td>2.84</td>\n",
       "      <td>58.0</td>\n",
       "      <td>6.6</td>\n",
       "      <td>E</td>\n",
       "    </tr>\n",
       "    <tr>\n",
       "      <th>8</th>\n",
       "      <td>New Super Mario Bros. Wii</td>\n",
       "      <td>Wii</td>\n",
       "      <td>2009.0</td>\n",
       "      <td>Platform</td>\n",
       "      <td>14.44</td>\n",
       "      <td>6.94</td>\n",
       "      <td>4.70</td>\n",
       "      <td>2.24</td>\n",
       "      <td>87.0</td>\n",
       "      <td>8.4</td>\n",
       "      <td>E</td>\n",
       "    </tr>\n",
       "    <tr>\n",
       "      <th>9</th>\n",
       "      <td>Duck Hunt</td>\n",
       "      <td>NES</td>\n",
       "      <td>1984.0</td>\n",
       "      <td>Shooter</td>\n",
       "      <td>26.93</td>\n",
       "      <td>0.63</td>\n",
       "      <td>0.28</td>\n",
       "      <td>0.47</td>\n",
       "      <td>NaN</td>\n",
       "      <td>NaN</td>\n",
       "      <td>NaN</td>\n",
       "    </tr>\n",
       "  </tbody>\n",
       "</table>\n",
       "</div>"
      ],
      "text/plain": [
       "                        Name Platform  Year_of_Release         Genre  \\\n",
       "0                 Wii Sports      Wii           2006.0        Sports   \n",
       "1          Super Mario Bros.      NES           1985.0      Platform   \n",
       "2             Mario Kart Wii      Wii           2008.0        Racing   \n",
       "3          Wii Sports Resort      Wii           2009.0        Sports   \n",
       "4   Pokemon Red/Pokemon Blue       GB           1996.0  Role-Playing   \n",
       "5                     Tetris       GB           1989.0        Puzzle   \n",
       "6      New Super Mario Bros.       DS           2006.0      Platform   \n",
       "7                   Wii Play      Wii           2006.0          Misc   \n",
       "8  New Super Mario Bros. Wii      Wii           2009.0      Platform   \n",
       "9                  Duck Hunt      NES           1984.0       Shooter   \n",
       "\n",
       "   NA_sales  EU_sales  JP_sales  Other_sales  Critic_Score User_Score Rating  \n",
       "0     41.36     28.96      3.77         8.45          76.0          8      E  \n",
       "1     29.08      3.58      6.81         0.77           NaN        NaN    NaN  \n",
       "2     15.68     12.76      3.79         3.29          82.0        8.3      E  \n",
       "3     15.61     10.93      3.28         2.95          80.0          8      E  \n",
       "4     11.27      8.89     10.22         1.00           NaN        NaN    NaN  \n",
       "5     23.20      2.26      4.22         0.58           NaN        NaN    NaN  \n",
       "6     11.28      9.14      6.50         2.88          89.0        8.5      E  \n",
       "7     13.96      9.18      2.93         2.84          58.0        6.6      E  \n",
       "8     14.44      6.94      4.70         2.24          87.0        8.4      E  \n",
       "9     26.93      0.63      0.28         0.47           NaN        NaN    NaN  "
      ]
     },
     "metadata": {},
     "output_type": "display_data"
    }
   ],
   "source": [
    "#df = pd.read_csv('games.csv', sep=',')\n",
    "df = pd.read_csv('/datasets/games.csv', sep=',')\n",
    "display(df.head(10))"
   ]
  },
  {
   "cell_type": "code",
   "execution_count": 3,
   "id": "432384b7",
   "metadata": {},
   "outputs": [],
   "source": [
    "#try:\n",
    "    #df = pd.read_csv('games.csv')\n",
    "#except:\n",
    "    #df = pd.read_csv('/datasets/games.csv')"
   ]
  },
  {
   "cell_type": "code",
   "execution_count": 4,
   "id": "5a0b07cc",
   "metadata": {
    "scrolled": false
   },
   "outputs": [
    {
     "name": "stdout",
     "output_type": "stream",
     "text": [
      "<class 'pandas.core.frame.DataFrame'>\n",
      "RangeIndex: 16715 entries, 0 to 16714\n",
      "Data columns (total 11 columns):\n",
      " #   Column           Non-Null Count  Dtype  \n",
      "---  ------           --------------  -----  \n",
      " 0   Name             16713 non-null  object \n",
      " 1   Platform         16715 non-null  object \n",
      " 2   Year_of_Release  16446 non-null  float64\n",
      " 3   Genre            16713 non-null  object \n",
      " 4   NA_sales         16715 non-null  float64\n",
      " 5   EU_sales         16715 non-null  float64\n",
      " 6   JP_sales         16715 non-null  float64\n",
      " 7   Other_sales      16715 non-null  float64\n",
      " 8   Critic_Score     8137 non-null   float64\n",
      " 9   User_Score       10014 non-null  object \n",
      " 10  Rating           9949 non-null   object \n",
      "dtypes: float64(6), object(5)\n",
      "memory usage: 1.4+ MB\n"
     ]
    }
   ],
   "source": [
    "#Смотрим информацию по типам данных\n",
    "df.info()"
   ]
  },
  {
   "cell_type": "code",
   "execution_count": 5,
   "id": "5127f532",
   "metadata": {
    "scrolled": true
   },
   "outputs": [
    {
     "data": {
      "text/plain": [
       "Name                  2\n",
       "Platform              0\n",
       "Year_of_Release     269\n",
       "Genre                 2\n",
       "NA_sales              0\n",
       "EU_sales              0\n",
       "JP_sales              0\n",
       "Other_sales           0\n",
       "Critic_Score       8578\n",
       "User_Score         6701\n",
       "Rating             6766\n",
       "dtype: int64"
      ]
     },
     "execution_count": 5,
     "metadata": {},
     "output_type": "execute_result"
    }
   ],
   "source": [
    "# проверяем пропуски\n",
    "df.isna().sum()"
   ]
  },
  {
   "cell_type": "code",
   "execution_count": 6,
   "id": "e38c0010",
   "metadata": {},
   "outputs": [
    {
     "data": {
      "text/plain": [
       "0"
      ]
     },
     "execution_count": 6,
     "metadata": {},
     "output_type": "execute_result"
    }
   ],
   "source": [
    "# подсчёт явных дубликатов\n",
    "df.duplicated().sum() "
   ]
  },
  {
   "cell_type": "code",
   "execution_count": 7,
   "id": "ab63bfe2",
   "metadata": {
    "scrolled": false
   },
   "outputs": [
    {
     "data": {
      "text/plain": [
       "array(['E', nan, 'M', 'T', 'E10+', 'K-A', 'AO', 'EC', 'RP'], dtype=object)"
      ]
     },
     "execution_count": 7,
     "metadata": {},
     "output_type": "execute_result"
    }
   ],
   "source": [
    "#Проверим данные методом unique()\n",
    "#df['Name'].unique()    \n",
    "#df['Platform'].unique()\n",
    "#df['Year_of_Release'].unique()\n",
    "#df['Genre'].unique()   \n",
    "#df['NA_sales'].unique()\n",
    "#df['EU_sales'].unique()\n",
    "#df['JP_sales'].unique()\n",
    "#df['Other_sales'].unique()\n",
    "#df['Critic_Score'].unique()\n",
    "#df['User_Score'].unique()\n",
    "df['Rating'].unique()"
   ]
  },
  {
   "cell_type": "markdown",
   "id": "39dd4ee5",
   "metadata": {},
   "source": [
    "# Вывод\n",
    "<br>\n",
    "Посмотрев общую информацию, я отметила для себя, что необходимо:\n",
    "<br>\n",
    "1)поменять типы данных Year_of_Release и Critic_score с float на int, так как это целочисленные значения\n",
    "<br>\n",
    "User_Score с object на float, так как там есть значения с плавающей точкой\n",
    "<br>\n",
    "2)Обработать пропуски (год выпуска, жанр, оценка критиков, оценка пользователей, рейтинг) \n",
    "<br>\n",
    "3)Явные дубликаты не обнаружены"
   ]
  },
  {
   "cell_type": "markdown",
   "id": "06ed4c8d",
   "metadata": {},
   "source": [
    "# 2. Подготовка данных"
   ]
  },
  {
   "cell_type": "code",
   "execution_count": 8,
   "id": "d66a4b84",
   "metadata": {},
   "outputs": [
    {
     "data": {
      "text/plain": [
       "Index(['name', 'platform', 'year_of_release', 'genre', 'na_sales', 'eu_sales',\n",
       "       'jp_sales', 'other_sales', 'critic_score', 'user_score', 'rating'],\n",
       "      dtype='object')"
      ]
     },
     "execution_count": 8,
     "metadata": {},
     "output_type": "execute_result"
    }
   ],
   "source": [
    "#Приводим названия столбцов к нижнему регистру\n",
    "df.columns = df.columns.str.lower()\n",
    "df.columns"
   ]
  },
  {
   "cell_type": "markdown",
   "id": "fa8a6179",
   "metadata": {},
   "source": [
    "Проверим 2 пропуска в столбце name и genre"
   ]
  },
  {
   "cell_type": "code",
   "execution_count": 9,
   "id": "0c606f90",
   "metadata": {
    "scrolled": true
   },
   "outputs": [
    {
     "data": {
      "text/html": [
       "<div>\n",
       "<style scoped>\n",
       "    .dataframe tbody tr th:only-of-type {\n",
       "        vertical-align: middle;\n",
       "    }\n",
       "\n",
       "    .dataframe tbody tr th {\n",
       "        vertical-align: top;\n",
       "    }\n",
       "\n",
       "    .dataframe thead th {\n",
       "        text-align: right;\n",
       "    }\n",
       "</style>\n",
       "<table border=\"1\" class=\"dataframe\">\n",
       "  <thead>\n",
       "    <tr style=\"text-align: right;\">\n",
       "      <th></th>\n",
       "      <th>name</th>\n",
       "      <th>platform</th>\n",
       "      <th>year_of_release</th>\n",
       "      <th>genre</th>\n",
       "      <th>na_sales</th>\n",
       "      <th>eu_sales</th>\n",
       "      <th>jp_sales</th>\n",
       "      <th>other_sales</th>\n",
       "      <th>critic_score</th>\n",
       "      <th>user_score</th>\n",
       "      <th>rating</th>\n",
       "    </tr>\n",
       "  </thead>\n",
       "  <tbody>\n",
       "    <tr>\n",
       "      <th>659</th>\n",
       "      <td>NaN</td>\n",
       "      <td>GEN</td>\n",
       "      <td>1993.0</td>\n",
       "      <td>NaN</td>\n",
       "      <td>1.78</td>\n",
       "      <td>0.53</td>\n",
       "      <td>0.00</td>\n",
       "      <td>0.08</td>\n",
       "      <td>NaN</td>\n",
       "      <td>NaN</td>\n",
       "      <td>NaN</td>\n",
       "    </tr>\n",
       "    <tr>\n",
       "      <th>14244</th>\n",
       "      <td>NaN</td>\n",
       "      <td>GEN</td>\n",
       "      <td>1993.0</td>\n",
       "      <td>NaN</td>\n",
       "      <td>0.00</td>\n",
       "      <td>0.00</td>\n",
       "      <td>0.03</td>\n",
       "      <td>0.00</td>\n",
       "      <td>NaN</td>\n",
       "      <td>NaN</td>\n",
       "      <td>NaN</td>\n",
       "    </tr>\n",
       "  </tbody>\n",
       "</table>\n",
       "</div>"
      ],
      "text/plain": [
       "      name platform  year_of_release genre  na_sales  eu_sales  jp_sales  \\\n",
       "659    NaN      GEN           1993.0   NaN      1.78      0.53      0.00   \n",
       "14244  NaN      GEN           1993.0   NaN      0.00      0.00      0.03   \n",
       "\n",
       "       other_sales  critic_score user_score rating  \n",
       "659           0.08           NaN        NaN    NaN  \n",
       "14244         0.00           NaN        NaN    NaN  "
      ]
     },
     "execution_count": 9,
     "metadata": {},
     "output_type": "execute_result"
    }
   ],
   "source": [
    "df.loc[df['name'].isna()]"
   ]
  },
  {
   "cell_type": "code",
   "execution_count": 10,
   "id": "b037a89f",
   "metadata": {},
   "outputs": [
    {
     "data": {
      "text/html": [
       "<div>\n",
       "<style scoped>\n",
       "    .dataframe tbody tr th:only-of-type {\n",
       "        vertical-align: middle;\n",
       "    }\n",
       "\n",
       "    .dataframe tbody tr th {\n",
       "        vertical-align: top;\n",
       "    }\n",
       "\n",
       "    .dataframe thead th {\n",
       "        text-align: right;\n",
       "    }\n",
       "</style>\n",
       "<table border=\"1\" class=\"dataframe\">\n",
       "  <thead>\n",
       "    <tr style=\"text-align: right;\">\n",
       "      <th></th>\n",
       "      <th>name</th>\n",
       "      <th>platform</th>\n",
       "      <th>year_of_release</th>\n",
       "      <th>genre</th>\n",
       "      <th>na_sales</th>\n",
       "      <th>eu_sales</th>\n",
       "      <th>jp_sales</th>\n",
       "      <th>other_sales</th>\n",
       "      <th>critic_score</th>\n",
       "      <th>user_score</th>\n",
       "      <th>rating</th>\n",
       "    </tr>\n",
       "  </thead>\n",
       "  <tbody>\n",
       "    <tr>\n",
       "      <th>659</th>\n",
       "      <td>NaN</td>\n",
       "      <td>GEN</td>\n",
       "      <td>1993.0</td>\n",
       "      <td>NaN</td>\n",
       "      <td>1.78</td>\n",
       "      <td>0.53</td>\n",
       "      <td>0.00</td>\n",
       "      <td>0.08</td>\n",
       "      <td>NaN</td>\n",
       "      <td>NaN</td>\n",
       "      <td>NaN</td>\n",
       "    </tr>\n",
       "    <tr>\n",
       "      <th>14244</th>\n",
       "      <td>NaN</td>\n",
       "      <td>GEN</td>\n",
       "      <td>1993.0</td>\n",
       "      <td>NaN</td>\n",
       "      <td>0.00</td>\n",
       "      <td>0.00</td>\n",
       "      <td>0.03</td>\n",
       "      <td>0.00</td>\n",
       "      <td>NaN</td>\n",
       "      <td>NaN</td>\n",
       "      <td>NaN</td>\n",
       "    </tr>\n",
       "  </tbody>\n",
       "</table>\n",
       "</div>"
      ],
      "text/plain": [
       "      name platform  year_of_release genre  na_sales  eu_sales  jp_sales  \\\n",
       "659    NaN      GEN           1993.0   NaN      1.78      0.53      0.00   \n",
       "14244  NaN      GEN           1993.0   NaN      0.00      0.00      0.03   \n",
       "\n",
       "       other_sales  critic_score user_score rating  \n",
       "659           0.08           NaN        NaN    NaN  \n",
       "14244         0.00           NaN        NaN    NaN  "
      ]
     },
     "execution_count": 10,
     "metadata": {},
     "output_type": "execute_result"
    }
   ],
   "source": [
    "df.loc[df['genre'].isna()]"
   ]
  },
  {
   "cell_type": "markdown",
   "id": "37bd9542",
   "metadata": {},
   "source": [
    "Данные с неизвестным названием, неизвестным жанром, а так же неизвестными рейтингами совпадают. Предлагаю убрать, так как на остальные данные они не повлияют, а также нам нужно узнать перспективные игры, а игры без названия нам не дадут никакой полезной информации"
   ]
  },
  {
   "cell_type": "code",
   "execution_count": 11,
   "id": "b01291c7",
   "metadata": {},
   "outputs": [
    {
     "data": {
      "text/plain": [
       "name                  0\n",
       "platform              0\n",
       "year_of_release       0\n",
       "genre                 0\n",
       "na_sales              0\n",
       "eu_sales              0\n",
       "jp_sales              0\n",
       "other_sales           0\n",
       "critic_score       8461\n",
       "user_score         6605\n",
       "rating             6676\n",
       "dtype: int64"
      ]
     },
     "execution_count": 11,
     "metadata": {},
     "output_type": "execute_result"
    }
   ],
   "source": [
    "#Убираем данные с пропусками в столбцах name и year_of_release\n",
    "df.drop(df[df['name'].isna()].index, inplace=True)\n",
    "df.drop(df[df['year_of_release'].isna()].index, inplace=True)\n",
    "df.isna().sum()"
   ]
  },
  {
   "cell_type": "code",
   "execution_count": 12,
   "id": "381c956e",
   "metadata": {},
   "outputs": [
    {
     "data": {
      "text/plain": [
       "2376"
      ]
     },
     "execution_count": 12,
     "metadata": {},
     "output_type": "execute_result"
    }
   ],
   "source": [
    "#Обрабатываем пропуски в столбце user_score\n",
    "df[df['user_score'] == 'tbd']['user_score'].count()"
   ]
  },
  {
   "cell_type": "code",
   "execution_count": 13,
   "id": "075887dd",
   "metadata": {},
   "outputs": [],
   "source": [
    "#В столбце user score найдено значение tbd, что означает to be determined, то бишь еще будет решено позже,\n",
    "#соответственно, предлагаю заменить на NaN\n",
    "df['user_score'] = df['user_score'].replace('tbd', np.nan, regex=True)"
   ]
  },
  {
   "cell_type": "code",
   "execution_count": 14,
   "id": "55f6830d",
   "metadata": {},
   "outputs": [],
   "source": [
    "#Нам понадобятся данные по оценке критиками и игроками, поэтому предлагаю заменить все Nan на значение -1, так как цифрами проще оперировать\n",
    "#df.loc[(df['user_score'].isna()), 'user_score'] = -1\n",
    "#df.loc[(df['critic_score'].isna()), 'critic_score'] = -1\n",
    "#df.loc[(df['rating'].isna()), 'rating'] = -1"
   ]
  },
  {
   "cell_type": "code",
   "execution_count": 15,
   "id": "97ff6d64",
   "metadata": {
    "scrolled": true
   },
   "outputs": [
    {
     "data": {
      "text/plain": [
       "'Пропуски до замены:'"
      ]
     },
     "metadata": {},
     "output_type": "display_data"
    },
    {
     "data": {
      "text/plain": [
       "8981"
      ]
     },
     "metadata": {},
     "output_type": "display_data"
    },
    {
     "data": {
      "text/plain": [
       "'Пропуски после замены:'"
      ]
     },
     "metadata": {},
     "output_type": "display_data"
    },
    {
     "data": {
      "text/plain": [
       "0"
      ]
     },
     "metadata": {},
     "output_type": "display_data"
    }
   ],
   "source": [
    "#Нам понадобятся данные по оценке критиками и игроками, поэтому предлагаю заменить все Nan на медианные значения\n",
    "display('Пропуски до замены:', df['user_score'].isna().sum())\n",
    "for i in df['genre'].unique():\n",
    "    median = df.loc[df['genre'] == i, 'user_score'].median()\n",
    "    df.loc[(df['user_score'].isna()) & (df['genre'] == i), 'user_score'] = median\n",
    "display('Пропуски после замены:', df['user_score'].isna().sum())"
   ]
  },
  {
   "cell_type": "code",
   "execution_count": 16,
   "id": "02bc1a7a",
   "metadata": {},
   "outputs": [
    {
     "data": {
      "text/plain": [
       "'Пропуски до замены:'"
      ]
     },
     "metadata": {},
     "output_type": "display_data"
    },
    {
     "data": {
      "text/plain": [
       "8461"
      ]
     },
     "metadata": {},
     "output_type": "display_data"
    },
    {
     "data": {
      "text/plain": [
       "'Пропуски после замены:'"
      ]
     },
     "metadata": {},
     "output_type": "display_data"
    },
    {
     "data": {
      "text/plain": [
       "0"
      ]
     },
     "metadata": {},
     "output_type": "display_data"
    }
   ],
   "source": [
    "display('Пропуски до замены:', df['critic_score'].isna().sum())\n",
    "for i in df['genre'].unique():\n",
    "    median = df.loc[df['genre'] == i, 'critic_score'].median()\n",
    "    df.loc[(df['critic_score'].isna()) & (df['genre'] == i), 'critic_score'] = median\n",
    "display('Пропуски после замены:', df['critic_score'].isna().sum())"
   ]
  },
  {
   "cell_type": "code",
   "execution_count": 17,
   "id": "8dfc9896",
   "metadata": {},
   "outputs": [],
   "source": [
    "#Меняем пропуски на значение unknown\n",
    "df['rating'] = df['rating'].fillna('unknown')"
   ]
  },
  {
   "cell_type": "code",
   "execution_count": 18,
   "id": "823dccc6",
   "metadata": {
    "scrolled": true
   },
   "outputs": [
    {
     "name": "stdout",
     "output_type": "stream",
     "text": [
      "<class 'pandas.core.frame.DataFrame'>\n",
      "Int64Index: 16444 entries, 0 to 16714\n",
      "Data columns (total 11 columns):\n",
      " #   Column           Non-Null Count  Dtype  \n",
      "---  ------           --------------  -----  \n",
      " 0   name             16444 non-null  object \n",
      " 1   platform         16444 non-null  object \n",
      " 2   year_of_release  16444 non-null  int64  \n",
      " 3   genre            16444 non-null  object \n",
      " 4   na_sales         16444 non-null  float64\n",
      " 5   eu_sales         16444 non-null  float64\n",
      " 6   jp_sales         16444 non-null  float64\n",
      " 7   other_sales      16444 non-null  float64\n",
      " 8   critic_score     16444 non-null  int64  \n",
      " 9   user_score       16444 non-null  float64\n",
      " 10  rating           16444 non-null  object \n",
      "dtypes: float64(5), int64(2), object(4)\n",
      "memory usage: 1.5+ MB\n"
     ]
    }
   ],
   "source": [
    "#Меняем типы данных\n",
    "df['year_of_release'] = df['year_of_release'].astype('int')\n",
    "df['user_score'] =  df['user_score'].astype('float', errors='ignore')\n",
    "df['critic_score'] = df['critic_score'].astype('int')\n",
    "df.info()"
   ]
  },
  {
   "cell_type": "code",
   "execution_count": 19,
   "id": "0f02f5f8",
   "metadata": {
    "scrolled": false
   },
   "outputs": [
    {
     "data": {
      "text/html": [
       "<div>\n",
       "<style scoped>\n",
       "    .dataframe tbody tr th:only-of-type {\n",
       "        vertical-align: middle;\n",
       "    }\n",
       "\n",
       "    .dataframe tbody tr th {\n",
       "        vertical-align: top;\n",
       "    }\n",
       "\n",
       "    .dataframe thead th {\n",
       "        text-align: right;\n",
       "    }\n",
       "</style>\n",
       "<table border=\"1\" class=\"dataframe\">\n",
       "  <thead>\n",
       "    <tr style=\"text-align: right;\">\n",
       "      <th></th>\n",
       "      <th>name</th>\n",
       "      <th>platform</th>\n",
       "      <th>year_of_release</th>\n",
       "      <th>genre</th>\n",
       "      <th>na_sales</th>\n",
       "      <th>eu_sales</th>\n",
       "      <th>jp_sales</th>\n",
       "      <th>other_sales</th>\n",
       "      <th>critic_score</th>\n",
       "      <th>user_score</th>\n",
       "      <th>rating</th>\n",
       "    </tr>\n",
       "  </thead>\n",
       "  <tbody>\n",
       "    <tr>\n",
       "      <th>0</th>\n",
       "      <td>Wii Sports</td>\n",
       "      <td>Wii</td>\n",
       "      <td>2006</td>\n",
       "      <td>Sports</td>\n",
       "      <td>41.36</td>\n",
       "      <td>28.96</td>\n",
       "      <td>3.77</td>\n",
       "      <td>8.45</td>\n",
       "      <td>76</td>\n",
       "      <td>8.00</td>\n",
       "      <td>E</td>\n",
       "    </tr>\n",
       "    <tr>\n",
       "      <th>1</th>\n",
       "      <td>Super Mario Bros.</td>\n",
       "      <td>NES</td>\n",
       "      <td>1985</td>\n",
       "      <td>Platform</td>\n",
       "      <td>29.08</td>\n",
       "      <td>3.58</td>\n",
       "      <td>6.81</td>\n",
       "      <td>0.77</td>\n",
       "      <td>69</td>\n",
       "      <td>7.70</td>\n",
       "      <td>unknown</td>\n",
       "    </tr>\n",
       "  </tbody>\n",
       "</table>\n",
       "</div>"
      ],
      "text/plain": [
       "                name platform  year_of_release     genre  na_sales  eu_sales  \\\n",
       "0         Wii Sports      Wii             2006    Sports     41.36     28.96   \n",
       "1  Super Mario Bros.      NES             1985  Platform     29.08      3.58   \n",
       "\n",
       "   jp_sales  other_sales  critic_score  user_score   rating  \n",
       "0      3.77         8.45            76        8.00        E  \n",
       "1      6.81         0.77            69        7.70  unknown  "
      ]
     },
     "execution_count": 19,
     "metadata": {},
     "output_type": "execute_result"
    }
   ],
   "source": [
    "#Сокращаем знаки после запятой и выводим общие данные\n",
    "pd.options.display.float_format = '{:,.2f}'.format\n",
    "df.head(2)"
   ]
  },
  {
   "cell_type": "code",
   "execution_count": 20,
   "id": "49c48bb5",
   "metadata": {
    "scrolled": true
   },
   "outputs": [
    {
     "data": {
      "text/plain": [
       "unknown    6676\n",
       "E          3921\n",
       "T          2905\n",
       "M          1536\n",
       "E10+       1393\n",
       "EC            8\n",
       "K-A           3\n",
       "RP            1\n",
       "AO            1\n",
       "Name: rating, dtype: int64"
      ]
     },
     "execution_count": 20,
     "metadata": {},
     "output_type": "execute_result"
    }
   ],
   "source": [
    "#Проверим столбец с возрастным рейтингом\n",
    "df['rating'].value_counts()"
   ]
  },
  {
   "cell_type": "code",
   "execution_count": 21,
   "id": "bfa2da54",
   "metadata": {},
   "outputs": [
    {
     "data": {
      "text/plain": [
       "unknown    6677\n",
       "E          3921\n",
       "T          2905\n",
       "M          1537\n",
       "E10+       1404\n",
       "Name: rating, dtype: int64"
      ]
     },
     "execution_count": 21,
     "metadata": {},
     "output_type": "execute_result"
    }
   ],
   "source": [
    "#Меняем редкие значения рейтинга\n",
    "df['rating'] = df['rating'].replace('K-A', 'E10+')\n",
    "df['rating'] = df['rating'].replace('RP', 'unknown')\n",
    "df['rating'] = df['rating'].replace('AO', 'M')\n",
    "df['rating'] = df['rating'].replace('EC', 'E10+')\n",
    "df['rating'].value_counts()"
   ]
  },
  {
   "cell_type": "code",
   "execution_count": 22,
   "id": "5c03b687",
   "metadata": {
    "scrolled": false
   },
   "outputs": [
    {
     "data": {
      "text/html": [
       "<div>\n",
       "<style scoped>\n",
       "    .dataframe tbody tr th:only-of-type {\n",
       "        vertical-align: middle;\n",
       "    }\n",
       "\n",
       "    .dataframe tbody tr th {\n",
       "        vertical-align: top;\n",
       "    }\n",
       "\n",
       "    .dataframe thead th {\n",
       "        text-align: right;\n",
       "    }\n",
       "</style>\n",
       "<table border=\"1\" class=\"dataframe\">\n",
       "  <thead>\n",
       "    <tr style=\"text-align: right;\">\n",
       "      <th></th>\n",
       "      <th>name</th>\n",
       "      <th>platform</th>\n",
       "      <th>year_of_release</th>\n",
       "      <th>genre</th>\n",
       "      <th>na_sales</th>\n",
       "      <th>eu_sales</th>\n",
       "      <th>jp_sales</th>\n",
       "      <th>other_sales</th>\n",
       "      <th>critic_score</th>\n",
       "      <th>user_score</th>\n",
       "      <th>rating</th>\n",
       "      <th>total_sales</th>\n",
       "    </tr>\n",
       "  </thead>\n",
       "  <tbody>\n",
       "    <tr>\n",
       "      <th>0</th>\n",
       "      <td>Wii Sports</td>\n",
       "      <td>Wii</td>\n",
       "      <td>2006</td>\n",
       "      <td>Sports</td>\n",
       "      <td>41.36</td>\n",
       "      <td>28.96</td>\n",
       "      <td>3.77</td>\n",
       "      <td>8.45</td>\n",
       "      <td>76</td>\n",
       "      <td>8.00</td>\n",
       "      <td>E</td>\n",
       "      <td>82.54</td>\n",
       "    </tr>\n",
       "    <tr>\n",
       "      <th>1</th>\n",
       "      <td>Super Mario Bros.</td>\n",
       "      <td>NES</td>\n",
       "      <td>1985</td>\n",
       "      <td>Platform</td>\n",
       "      <td>29.08</td>\n",
       "      <td>3.58</td>\n",
       "      <td>6.81</td>\n",
       "      <td>0.77</td>\n",
       "      <td>69</td>\n",
       "      <td>7.70</td>\n",
       "      <td>unknown</td>\n",
       "      <td>40.24</td>\n",
       "    </tr>\n",
       "    <tr>\n",
       "      <th>2</th>\n",
       "      <td>Mario Kart Wii</td>\n",
       "      <td>Wii</td>\n",
       "      <td>2008</td>\n",
       "      <td>Racing</td>\n",
       "      <td>15.68</td>\n",
       "      <td>12.76</td>\n",
       "      <td>3.79</td>\n",
       "      <td>3.29</td>\n",
       "      <td>82</td>\n",
       "      <td>8.30</td>\n",
       "      <td>E</td>\n",
       "      <td>35.52</td>\n",
       "    </tr>\n",
       "    <tr>\n",
       "      <th>3</th>\n",
       "      <td>Wii Sports Resort</td>\n",
       "      <td>Wii</td>\n",
       "      <td>2009</td>\n",
       "      <td>Sports</td>\n",
       "      <td>15.61</td>\n",
       "      <td>10.93</td>\n",
       "      <td>3.28</td>\n",
       "      <td>2.95</td>\n",
       "      <td>80</td>\n",
       "      <td>8.00</td>\n",
       "      <td>E</td>\n",
       "      <td>32.77</td>\n",
       "    </tr>\n",
       "    <tr>\n",
       "      <th>4</th>\n",
       "      <td>Pokemon Red/Pokemon Blue</td>\n",
       "      <td>GB</td>\n",
       "      <td>1996</td>\n",
       "      <td>Role-Playing</td>\n",
       "      <td>11.27</td>\n",
       "      <td>8.89</td>\n",
       "      <td>10.22</td>\n",
       "      <td>1.00</td>\n",
       "      <td>74</td>\n",
       "      <td>7.80</td>\n",
       "      <td>unknown</td>\n",
       "      <td>31.38</td>\n",
       "    </tr>\n",
       "  </tbody>\n",
       "</table>\n",
       "</div>"
      ],
      "text/plain": [
       "                       name platform  year_of_release         genre  na_sales  \\\n",
       "0                Wii Sports      Wii             2006        Sports     41.36   \n",
       "1         Super Mario Bros.      NES             1985      Platform     29.08   \n",
       "2            Mario Kart Wii      Wii             2008        Racing     15.68   \n",
       "3         Wii Sports Resort      Wii             2009        Sports     15.61   \n",
       "4  Pokemon Red/Pokemon Blue       GB             1996  Role-Playing     11.27   \n",
       "\n",
       "   eu_sales  jp_sales  other_sales  critic_score  user_score   rating  \\\n",
       "0     28.96      3.77         8.45            76        8.00        E   \n",
       "1      3.58      6.81         0.77            69        7.70  unknown   \n",
       "2     12.76      3.79         3.29            82        8.30        E   \n",
       "3     10.93      3.28         2.95            80        8.00        E   \n",
       "4      8.89     10.22         1.00            74        7.80  unknown   \n",
       "\n",
       "   total_sales  \n",
       "0        82.54  \n",
       "1        40.24  \n",
       "2        35.52  \n",
       "3        32.77  \n",
       "4        31.38  "
      ]
     },
     "execution_count": 22,
     "metadata": {},
     "output_type": "execute_result"
    }
   ],
   "source": [
    "#Создаем отдельный столбец с общей суммой продаж по всем регионам\n",
    "df['total_sales'] = df['na_sales'] + df['eu_sales'] + df['jp_sales'] + df['other_sales']\n",
    "df.head()"
   ]
  },
  {
   "cell_type": "markdown",
   "id": "9f6366bc",
   "metadata": {},
   "source": [
    "# Вывод\n",
    "<br>\n",
    "Удалены строки с пропусками в названиях, так как такие строки не несут для нас нужной информации\n",
    "<br>\n",
    "Произведена частичная замена пропусков года релиза в тех случаях, когда игра была выпущена на других платформах\n",
    "<br>\n",
    "В столбце user score найдено значение tbd, что означает to be determined. Рейтинг еще не установлен, соответственно, предлагаю заменить на unknown. \n",
    "<br>\n",
    "K-A - старое название рейтинга E10+\n",
    "<br>\n",
    "AO - adults only меняем на mature, EC - на E10+\n",
    "<br>\n",
    "RP - рейтинг еще не назначен\n",
    "<br>\n",
    "Если данные выгружались из нескольких источников, то из-за несовпадения имени, часть данных может отсутствовать. Восстановить их мы не можем. Это касается всех пропусков.\n",
    "<br>\n",
    "\n",
    "<br>\n",
    "Создан столбец с общей суммой продаж"
   ]
  },
  {
   "cell_type": "markdown",
   "id": "09468c68",
   "metadata": {},
   "source": [
    "# 3. Исследовательский анализ"
   ]
  },
  {
   "cell_type": "code",
   "execution_count": 23,
   "id": "eb296c51",
   "metadata": {
    "scrolled": false
   },
   "outputs": [
    {
     "data": {
      "image/png": "[encoded data removed]",
      "text/plain": [
       "<Figure size 1080x504 with 1 Axes>"
      ]
     },
     "metadata": {
      "needs_background": "light"
     },
     "output_type": "display_data"
    }
   ],
   "source": [
    "#Посмотрите, сколько игр выпускалось в разные годы. Важны ли данные за все периоды?\n",
    "df.groupby('year_of_release')['year_of_release'].count().plot(kind='bar', figsize=(15,7))\n",
    "plt.title('Количество игр по годам')\n",
    "plt.ylabel('number of games')\n",
    "plt.show()"
   ]
  },
  {
   "cell_type": "markdown",
   "id": "af87c90e",
   "metadata": {},
   "source": [
    "**Вывод**\n",
    "<br>\n",
    "Как мне кажется, нет смысла рассматривать все периоды. С 2002 года по 2011 был подъем в игровой индустрии, а далее все пошло на спад. Пиком можно считать 2008-2009 годы, когда было выпущено больше всего игр. В последние годы идет тренд на снижение. С 2012 года по 2016 год примерно выпуск игр был одинаковым, соответсвенно, можно предположить,что тенденция может сохраниться."
   ]
  },
  {
   "cell_type": "code",
   "execution_count": 24,
   "id": "025805b5",
   "metadata": {
    "scrolled": false
   },
   "outputs": [
    {
     "data": {
      "image/png": "[encoded data removed]",
      "text/plain": [
       "<Figure size 720x360 with 1 Axes>"
      ]
     },
     "metadata": {
      "needs_background": "light"
     },
     "output_type": "display_data"
    }
   ],
   "source": [
    "#Посмотрим самые продаваемые игровые платформы\n",
    "platforms_sales = df.pivot_table(index='platform', values='total_sales', aggfunc='sum')\n",
    "platforms_sales.plot(kind='bar', y='total_sales', figsize=(10, 5), legend=False).set(xlabel='Platform', ylabel='Total sales')\n",
    "plt.show()"
   ]
  },
  {
   "cell_type": "code",
   "execution_count": 25,
   "id": "83bd0e6c",
   "metadata": {
    "scrolled": false
   },
   "outputs": [
    {
     "data": {
      "text/html": [
       "<div>\n",
       "<style scoped>\n",
       "    .dataframe tbody tr th:only-of-type {\n",
       "        vertical-align: middle;\n",
       "    }\n",
       "\n",
       "    .dataframe tbody tr th {\n",
       "        vertical-align: top;\n",
       "    }\n",
       "\n",
       "    .dataframe thead th {\n",
       "        text-align: right;\n",
       "    }\n",
       "</style>\n",
       "<table border=\"1\" class=\"dataframe\">\n",
       "  <thead>\n",
       "    <tr style=\"text-align: right;\">\n",
       "      <th></th>\n",
       "      <th>platform</th>\n",
       "      <th>total_sales</th>\n",
       "    </tr>\n",
       "  </thead>\n",
       "  <tbody>\n",
       "    <tr>\n",
       "      <th>16</th>\n",
       "      <td>PS2</td>\n",
       "      <td>1,233.56</td>\n",
       "    </tr>\n",
       "    <tr>\n",
       "      <th>28</th>\n",
       "      <td>X360</td>\n",
       "      <td>961.24</td>\n",
       "    </tr>\n",
       "    <tr>\n",
       "      <th>17</th>\n",
       "      <td>PS3</td>\n",
       "      <td>931.34</td>\n",
       "    </tr>\n",
       "    <tr>\n",
       "      <th>26</th>\n",
       "      <td>Wii</td>\n",
       "      <td>891.18</td>\n",
       "    </tr>\n",
       "    <tr>\n",
       "      <th>4</th>\n",
       "      <td>DS</td>\n",
       "      <td>802.78</td>\n",
       "    </tr>\n",
       "  </tbody>\n",
       "</table>\n",
       "</div>"
      ],
      "text/plain": [
       "   platform  total_sales\n",
       "16      PS2     1,233.56\n",
       "28     X360       961.24\n",
       "17      PS3       931.34\n",
       "26      Wii       891.18\n",
       "4        DS       802.78"
      ]
     },
     "execution_count": 25,
     "metadata": {},
     "output_type": "execute_result"
    }
   ],
   "source": [
    "#Выберите платформы с наибольшими суммарными продажами и постройте распределение по годам. \n",
    "top_platforms = df.groupby(['platform'])['total_sales'].sum().reset_index().sort_values(by='total_sales', ascending=False).head(5)\n",
    "top_platforms"
   ]
  },
  {
   "cell_type": "code",
   "execution_count": 26,
   "id": "ea59a8b7",
   "metadata": {},
   "outputs": [
    {
     "data": {
      "text/html": [
       "<div>\n",
       "<style scoped>\n",
       "    .dataframe tbody tr th:only-of-type {\n",
       "        vertical-align: middle;\n",
       "    }\n",
       "\n",
       "    .dataframe tbody tr th {\n",
       "        vertical-align: top;\n",
       "    }\n",
       "\n",
       "    .dataframe thead th {\n",
       "        text-align: right;\n",
       "    }\n",
       "</style>\n",
       "<table border=\"1\" class=\"dataframe\">\n",
       "  <thead>\n",
       "    <tr style=\"text-align: right;\">\n",
       "      <th>year_of_release</th>\n",
       "      <th>1980</th>\n",
       "      <th>1981</th>\n",
       "      <th>1982</th>\n",
       "      <th>1983</th>\n",
       "      <th>1984</th>\n",
       "      <th>1985</th>\n",
       "      <th>1986</th>\n",
       "      <th>1987</th>\n",
       "      <th>1988</th>\n",
       "      <th>1989</th>\n",
       "      <th>...</th>\n",
       "      <th>2007</th>\n",
       "      <th>2008</th>\n",
       "      <th>2009</th>\n",
       "      <th>2010</th>\n",
       "      <th>2011</th>\n",
       "      <th>2012</th>\n",
       "      <th>2013</th>\n",
       "      <th>2014</th>\n",
       "      <th>2015</th>\n",
       "      <th>2016</th>\n",
       "    </tr>\n",
       "    <tr>\n",
       "      <th>platform</th>\n",
       "      <th></th>\n",
       "      <th></th>\n",
       "      <th></th>\n",
       "      <th></th>\n",
       "      <th></th>\n",
       "      <th></th>\n",
       "      <th></th>\n",
       "      <th></th>\n",
       "      <th></th>\n",
       "      <th></th>\n",
       "      <th></th>\n",
       "      <th></th>\n",
       "      <th></th>\n",
       "      <th></th>\n",
       "      <th></th>\n",
       "      <th></th>\n",
       "      <th></th>\n",
       "      <th></th>\n",
       "      <th></th>\n",
       "      <th></th>\n",
       "      <th></th>\n",
       "    </tr>\n",
       "  </thead>\n",
       "  <tbody>\n",
       "    <tr>\n",
       "      <th>2600</th>\n",
       "      <td>11.38</td>\n",
       "      <td>35.68</td>\n",
       "      <td>28.88</td>\n",
       "      <td>5.84</td>\n",
       "      <td>0.27</td>\n",
       "      <td>0.45</td>\n",
       "      <td>0.67</td>\n",
       "      <td>1.94</td>\n",
       "      <td>0.74</td>\n",
       "      <td>0.63</td>\n",
       "      <td>...</td>\n",
       "      <td>0.00</td>\n",
       "      <td>0.00</td>\n",
       "      <td>0.00</td>\n",
       "      <td>0.00</td>\n",
       "      <td>0.00</td>\n",
       "      <td>0.00</td>\n",
       "      <td>0.00</td>\n",
       "      <td>0.00</td>\n",
       "      <td>0.00</td>\n",
       "      <td>0.00</td>\n",
       "    </tr>\n",
       "    <tr>\n",
       "      <th>3DO</th>\n",
       "      <td>0.00</td>\n",
       "      <td>0.00</td>\n",
       "      <td>0.00</td>\n",
       "      <td>0.00</td>\n",
       "      <td>0.00</td>\n",
       "      <td>0.00</td>\n",
       "      <td>0.00</td>\n",
       "      <td>0.00</td>\n",
       "      <td>0.00</td>\n",
       "      <td>0.00</td>\n",
       "      <td>...</td>\n",
       "      <td>0.00</td>\n",
       "      <td>0.00</td>\n",
       "      <td>0.00</td>\n",
       "      <td>0.00</td>\n",
       "      <td>0.00</td>\n",
       "      <td>0.00</td>\n",
       "      <td>0.00</td>\n",
       "      <td>0.00</td>\n",
       "      <td>0.00</td>\n",
       "      <td>0.00</td>\n",
       "    </tr>\n",
       "    <tr>\n",
       "      <th>3DS</th>\n",
       "      <td>0.00</td>\n",
       "      <td>0.00</td>\n",
       "      <td>0.00</td>\n",
       "      <td>0.00</td>\n",
       "      <td>0.00</td>\n",
       "      <td>0.00</td>\n",
       "      <td>0.00</td>\n",
       "      <td>0.00</td>\n",
       "      <td>0.00</td>\n",
       "      <td>0.00</td>\n",
       "      <td>...</td>\n",
       "      <td>0.00</td>\n",
       "      <td>0.00</td>\n",
       "      <td>0.00</td>\n",
       "      <td>0.00</td>\n",
       "      <td>63.20</td>\n",
       "      <td>51.36</td>\n",
       "      <td>56.57</td>\n",
       "      <td>43.76</td>\n",
       "      <td>27.78</td>\n",
       "      <td>15.14</td>\n",
       "    </tr>\n",
       "    <tr>\n",
       "      <th>DC</th>\n",
       "      <td>0.00</td>\n",
       "      <td>0.00</td>\n",
       "      <td>0.00</td>\n",
       "      <td>0.00</td>\n",
       "      <td>0.00</td>\n",
       "      <td>0.00</td>\n",
       "      <td>0.00</td>\n",
       "      <td>0.00</td>\n",
       "      <td>0.00</td>\n",
       "      <td>0.00</td>\n",
       "      <td>...</td>\n",
       "      <td>0.02</td>\n",
       "      <td>0.04</td>\n",
       "      <td>0.00</td>\n",
       "      <td>0.00</td>\n",
       "      <td>0.00</td>\n",
       "      <td>0.00</td>\n",
       "      <td>0.00</td>\n",
       "      <td>0.00</td>\n",
       "      <td>0.00</td>\n",
       "      <td>0.00</td>\n",
       "    </tr>\n",
       "    <tr>\n",
       "      <th>DS</th>\n",
       "      <td>0.00</td>\n",
       "      <td>0.00</td>\n",
       "      <td>0.00</td>\n",
       "      <td>0.00</td>\n",
       "      <td>0.00</td>\n",
       "      <td>0.02</td>\n",
       "      <td>0.00</td>\n",
       "      <td>0.00</td>\n",
       "      <td>0.00</td>\n",
       "      <td>0.00</td>\n",
       "      <td>...</td>\n",
       "      <td>146.94</td>\n",
       "      <td>145.31</td>\n",
       "      <td>119.54</td>\n",
       "      <td>85.02</td>\n",
       "      <td>26.18</td>\n",
       "      <td>11.01</td>\n",
       "      <td>1.54</td>\n",
       "      <td>0.00</td>\n",
       "      <td>0.00</td>\n",
       "      <td>0.00</td>\n",
       "    </tr>\n",
       "    <tr>\n",
       "      <th>GB</th>\n",
       "      <td>0.00</td>\n",
       "      <td>0.00</td>\n",
       "      <td>0.00</td>\n",
       "      <td>0.00</td>\n",
       "      <td>0.00</td>\n",
       "      <td>0.00</td>\n",
       "      <td>0.00</td>\n",
       "      <td>0.00</td>\n",
       "      <td>1.43</td>\n",
       "      <td>64.97</td>\n",
       "      <td>...</td>\n",
       "      <td>0.00</td>\n",
       "      <td>0.00</td>\n",
       "      <td>0.00</td>\n",
       "      <td>0.00</td>\n",
       "      <td>0.00</td>\n",
       "      <td>0.00</td>\n",
       "      <td>0.00</td>\n",
       "      <td>0.00</td>\n",
       "      <td>0.00</td>\n",
       "      <td>0.00</td>\n",
       "    </tr>\n",
       "    <tr>\n",
       "      <th>GBA</th>\n",
       "      <td>0.00</td>\n",
       "      <td>0.00</td>\n",
       "      <td>0.00</td>\n",
       "      <td>0.00</td>\n",
       "      <td>0.00</td>\n",
       "      <td>0.00</td>\n",
       "      <td>0.00</td>\n",
       "      <td>0.00</td>\n",
       "      <td>0.00</td>\n",
       "      <td>0.00</td>\n",
       "      <td>...</td>\n",
       "      <td>3.40</td>\n",
       "      <td>0.00</td>\n",
       "      <td>0.00</td>\n",
       "      <td>0.00</td>\n",
       "      <td>0.00</td>\n",
       "      <td>0.00</td>\n",
       "      <td>0.00</td>\n",
       "      <td>0.00</td>\n",
       "      <td>0.00</td>\n",
       "      <td>0.00</td>\n",
       "    </tr>\n",
       "    <tr>\n",
       "      <th>GC</th>\n",
       "      <td>0.00</td>\n",
       "      <td>0.00</td>\n",
       "      <td>0.00</td>\n",
       "      <td>0.00</td>\n",
       "      <td>0.00</td>\n",
       "      <td>0.00</td>\n",
       "      <td>0.00</td>\n",
       "      <td>0.00</td>\n",
       "      <td>0.00</td>\n",
       "      <td>0.00</td>\n",
       "      <td>...</td>\n",
       "      <td>0.27</td>\n",
       "      <td>0.00</td>\n",
       "      <td>0.00</td>\n",
       "      <td>0.00</td>\n",
       "      <td>0.00</td>\n",
       "      <td>0.00</td>\n",
       "      <td>0.00</td>\n",
       "      <td>0.00</td>\n",
       "      <td>0.00</td>\n",
       "      <td>0.00</td>\n",
       "    </tr>\n",
       "    <tr>\n",
       "      <th>GEN</th>\n",
       "      <td>0.00</td>\n",
       "      <td>0.00</td>\n",
       "      <td>0.00</td>\n",
       "      <td>0.00</td>\n",
       "      <td>0.00</td>\n",
       "      <td>0.00</td>\n",
       "      <td>0.00</td>\n",
       "      <td>0.00</td>\n",
       "      <td>0.00</td>\n",
       "      <td>0.00</td>\n",
       "      <td>...</td>\n",
       "      <td>0.00</td>\n",
       "      <td>0.00</td>\n",
       "      <td>0.00</td>\n",
       "      <td>0.00</td>\n",
       "      <td>0.00</td>\n",
       "      <td>0.00</td>\n",
       "      <td>0.00</td>\n",
       "      <td>0.00</td>\n",
       "      <td>0.00</td>\n",
       "      <td>0.00</td>\n",
       "    </tr>\n",
       "    <tr>\n",
       "      <th>GG</th>\n",
       "      <td>0.00</td>\n",
       "      <td>0.00</td>\n",
       "      <td>0.00</td>\n",
       "      <td>0.00</td>\n",
       "      <td>0.00</td>\n",
       "      <td>0.00</td>\n",
       "      <td>0.00</td>\n",
       "      <td>0.00</td>\n",
       "      <td>0.00</td>\n",
       "      <td>0.00</td>\n",
       "      <td>...</td>\n",
       "      <td>0.00</td>\n",
       "      <td>0.00</td>\n",
       "      <td>0.00</td>\n",
       "      <td>0.00</td>\n",
       "      <td>0.00</td>\n",
       "      <td>0.00</td>\n",
       "      <td>0.00</td>\n",
       "      <td>0.00</td>\n",
       "      <td>0.00</td>\n",
       "      <td>0.00</td>\n",
       "    </tr>\n",
       "    <tr>\n",
       "      <th>N64</th>\n",
       "      <td>0.00</td>\n",
       "      <td>0.00</td>\n",
       "      <td>0.00</td>\n",
       "      <td>0.00</td>\n",
       "      <td>0.00</td>\n",
       "      <td>0.00</td>\n",
       "      <td>0.00</td>\n",
       "      <td>0.00</td>\n",
       "      <td>0.00</td>\n",
       "      <td>0.00</td>\n",
       "      <td>...</td>\n",
       "      <td>0.00</td>\n",
       "      <td>0.00</td>\n",
       "      <td>0.00</td>\n",
       "      <td>0.00</td>\n",
       "      <td>0.00</td>\n",
       "      <td>0.00</td>\n",
       "      <td>0.00</td>\n",
       "      <td>0.00</td>\n",
       "      <td>0.00</td>\n",
       "      <td>0.00</td>\n",
       "    </tr>\n",
       "    <tr>\n",
       "      <th>NES</th>\n",
       "      <td>0.00</td>\n",
       "      <td>0.00</td>\n",
       "      <td>0.00</td>\n",
       "      <td>10.96</td>\n",
       "      <td>50.08</td>\n",
       "      <td>53.44</td>\n",
       "      <td>36.41</td>\n",
       "      <td>19.76</td>\n",
       "      <td>45.01</td>\n",
       "      <td>7.85</td>\n",
       "      <td>...</td>\n",
       "      <td>0.00</td>\n",
       "      <td>0.00</td>\n",
       "      <td>0.00</td>\n",
       "      <td>0.00</td>\n",
       "      <td>0.00</td>\n",
       "      <td>0.00</td>\n",
       "      <td>0.00</td>\n",
       "      <td>0.00</td>\n",
       "      <td>0.00</td>\n",
       "      <td>0.00</td>\n",
       "    </tr>\n",
       "    <tr>\n",
       "      <th>NG</th>\n",
       "      <td>0.00</td>\n",
       "      <td>0.00</td>\n",
       "      <td>0.00</td>\n",
       "      <td>0.00</td>\n",
       "      <td>0.00</td>\n",
       "      <td>0.00</td>\n",
       "      <td>0.00</td>\n",
       "      <td>0.00</td>\n",
       "      <td>0.00</td>\n",
       "      <td>0.00</td>\n",
       "      <td>...</td>\n",
       "      <td>0.00</td>\n",
       "      <td>0.00</td>\n",
       "      <td>0.00</td>\n",
       "      <td>0.00</td>\n",
       "      <td>0.00</td>\n",
       "      <td>0.00</td>\n",
       "      <td>0.00</td>\n",
       "      <td>0.00</td>\n",
       "      <td>0.00</td>\n",
       "      <td>0.00</td>\n",
       "    </tr>\n",
       "    <tr>\n",
       "      <th>PC</th>\n",
       "      <td>0.00</td>\n",
       "      <td>0.00</td>\n",
       "      <td>0.00</td>\n",
       "      <td>0.00</td>\n",
       "      <td>0.00</td>\n",
       "      <td>0.04</td>\n",
       "      <td>0.00</td>\n",
       "      <td>0.00</td>\n",
       "      <td>0.03</td>\n",
       "      <td>0.00</td>\n",
       "      <td>...</td>\n",
       "      <td>9.28</td>\n",
       "      <td>12.42</td>\n",
       "      <td>16.91</td>\n",
       "      <td>24.28</td>\n",
       "      <td>35.03</td>\n",
       "      <td>23.22</td>\n",
       "      <td>12.38</td>\n",
       "      <td>13.28</td>\n",
       "      <td>8.52</td>\n",
       "      <td>5.25</td>\n",
       "    </tr>\n",
       "    <tr>\n",
       "      <th>PCFX</th>\n",
       "      <td>0.00</td>\n",
       "      <td>0.00</td>\n",
       "      <td>0.00</td>\n",
       "      <td>0.00</td>\n",
       "      <td>0.00</td>\n",
       "      <td>0.00</td>\n",
       "      <td>0.00</td>\n",
       "      <td>0.00</td>\n",
       "      <td>0.00</td>\n",
       "      <td>0.00</td>\n",
       "      <td>...</td>\n",
       "      <td>0.00</td>\n",
       "      <td>0.00</td>\n",
       "      <td>0.00</td>\n",
       "      <td>0.00</td>\n",
       "      <td>0.00</td>\n",
       "      <td>0.00</td>\n",
       "      <td>0.00</td>\n",
       "      <td>0.00</td>\n",
       "      <td>0.00</td>\n",
       "      <td>0.00</td>\n",
       "    </tr>\n",
       "    <tr>\n",
       "      <th>PS</th>\n",
       "      <td>0.00</td>\n",
       "      <td>0.00</td>\n",
       "      <td>0.00</td>\n",
       "      <td>0.00</td>\n",
       "      <td>0.00</td>\n",
       "      <td>0.00</td>\n",
       "      <td>0.00</td>\n",
       "      <td>0.00</td>\n",
       "      <td>0.00</td>\n",
       "      <td>0.00</td>\n",
       "      <td>...</td>\n",
       "      <td>0.00</td>\n",
       "      <td>0.00</td>\n",
       "      <td>0.00</td>\n",
       "      <td>0.00</td>\n",
       "      <td>0.00</td>\n",
       "      <td>0.00</td>\n",
       "      <td>0.00</td>\n",
       "      <td>0.00</td>\n",
       "      <td>0.00</td>\n",
       "      <td>0.00</td>\n",
       "    </tr>\n",
       "    <tr>\n",
       "      <th>PS2</th>\n",
       "      <td>0.00</td>\n",
       "      <td>0.00</td>\n",
       "      <td>0.00</td>\n",
       "      <td>0.00</td>\n",
       "      <td>0.00</td>\n",
       "      <td>0.00</td>\n",
       "      <td>0.00</td>\n",
       "      <td>0.00</td>\n",
       "      <td>0.00</td>\n",
       "      <td>0.00</td>\n",
       "      <td>...</td>\n",
       "      <td>75.99</td>\n",
       "      <td>53.90</td>\n",
       "      <td>26.40</td>\n",
       "      <td>5.64</td>\n",
       "      <td>0.45</td>\n",
       "      <td>0.00</td>\n",
       "      <td>0.00</td>\n",
       "      <td>0.00</td>\n",
       "      <td>0.00</td>\n",
       "      <td>0.00</td>\n",
       "    </tr>\n",
       "    <tr>\n",
       "      <th>PS3</th>\n",
       "      <td>0.00</td>\n",
       "      <td>0.00</td>\n",
       "      <td>0.00</td>\n",
       "      <td>0.00</td>\n",
       "      <td>0.00</td>\n",
       "      <td>0.00</td>\n",
       "      <td>0.00</td>\n",
       "      <td>0.00</td>\n",
       "      <td>0.00</td>\n",
       "      <td>0.00</td>\n",
       "      <td>...</td>\n",
       "      <td>73.19</td>\n",
       "      <td>118.52</td>\n",
       "      <td>130.93</td>\n",
       "      <td>142.17</td>\n",
       "      <td>156.78</td>\n",
       "      <td>107.36</td>\n",
       "      <td>113.25</td>\n",
       "      <td>47.76</td>\n",
       "      <td>16.82</td>\n",
       "      <td>3.60</td>\n",
       "    </tr>\n",
       "    <tr>\n",
       "      <th>PS4</th>\n",
       "      <td>0.00</td>\n",
       "      <td>0.00</td>\n",
       "      <td>0.00</td>\n",
       "      <td>0.00</td>\n",
       "      <td>0.00</td>\n",
       "      <td>0.00</td>\n",
       "      <td>0.00</td>\n",
       "      <td>0.00</td>\n",
       "      <td>0.00</td>\n",
       "      <td>0.00</td>\n",
       "      <td>...</td>\n",
       "      <td>0.00</td>\n",
       "      <td>0.00</td>\n",
       "      <td>0.00</td>\n",
       "      <td>0.00</td>\n",
       "      <td>0.00</td>\n",
       "      <td>0.00</td>\n",
       "      <td>25.99</td>\n",
       "      <td>100.00</td>\n",
       "      <td>118.90</td>\n",
       "      <td>69.25</td>\n",
       "    </tr>\n",
       "    <tr>\n",
       "      <th>PSP</th>\n",
       "      <td>0.00</td>\n",
       "      <td>0.00</td>\n",
       "      <td>0.00</td>\n",
       "      <td>0.00</td>\n",
       "      <td>0.00</td>\n",
       "      <td>0.00</td>\n",
       "      <td>0.00</td>\n",
       "      <td>0.00</td>\n",
       "      <td>0.00</td>\n",
       "      <td>0.00</td>\n",
       "      <td>...</td>\n",
       "      <td>46.93</td>\n",
       "      <td>34.55</td>\n",
       "      <td>37.78</td>\n",
       "      <td>35.04</td>\n",
       "      <td>17.82</td>\n",
       "      <td>7.69</td>\n",
       "      <td>3.14</td>\n",
       "      <td>0.24</td>\n",
       "      <td>0.12</td>\n",
       "      <td>0.00</td>\n",
       "    </tr>\n",
       "    <tr>\n",
       "      <th>PSV</th>\n",
       "      <td>0.00</td>\n",
       "      <td>0.00</td>\n",
       "      <td>0.00</td>\n",
       "      <td>0.00</td>\n",
       "      <td>0.00</td>\n",
       "      <td>0.00</td>\n",
       "      <td>0.00</td>\n",
       "      <td>0.00</td>\n",
       "      <td>0.00</td>\n",
       "      <td>0.00</td>\n",
       "      <td>...</td>\n",
       "      <td>0.00</td>\n",
       "      <td>0.00</td>\n",
       "      <td>0.00</td>\n",
       "      <td>0.00</td>\n",
       "      <td>4.63</td>\n",
       "      <td>16.19</td>\n",
       "      <td>10.59</td>\n",
       "      <td>11.90</td>\n",
       "      <td>6.25</td>\n",
       "      <td>4.25</td>\n",
       "    </tr>\n",
       "    <tr>\n",
       "      <th>SAT</th>\n",
       "      <td>0.00</td>\n",
       "      <td>0.00</td>\n",
       "      <td>0.00</td>\n",
       "      <td>0.00</td>\n",
       "      <td>0.00</td>\n",
       "      <td>0.00</td>\n",
       "      <td>0.00</td>\n",
       "      <td>0.00</td>\n",
       "      <td>0.00</td>\n",
       "      <td>0.00</td>\n",
       "      <td>...</td>\n",
       "      <td>0.00</td>\n",
       "      <td>0.00</td>\n",
       "      <td>0.00</td>\n",
       "      <td>0.00</td>\n",
       "      <td>0.00</td>\n",
       "      <td>0.00</td>\n",
       "      <td>0.00</td>\n",
       "      <td>0.00</td>\n",
       "      <td>0.00</td>\n",
       "      <td>0.00</td>\n",
       "    </tr>\n",
       "    <tr>\n",
       "      <th>SCD</th>\n",
       "      <td>0.00</td>\n",
       "      <td>0.00</td>\n",
       "      <td>0.00</td>\n",
       "      <td>0.00</td>\n",
       "      <td>0.00</td>\n",
       "      <td>0.00</td>\n",
       "      <td>0.00</td>\n",
       "      <td>0.00</td>\n",
       "      <td>0.00</td>\n",
       "      <td>0.00</td>\n",
       "      <td>...</td>\n",
       "      <td>0.00</td>\n",
       "      <td>0.00</td>\n",
       "      <td>0.00</td>\n",
       "      <td>0.00</td>\n",
       "      <td>0.00</td>\n",
       "      <td>0.00</td>\n",
       "      <td>0.00</td>\n",
       "      <td>0.00</td>\n",
       "      <td>0.00</td>\n",
       "      <td>0.00</td>\n",
       "    </tr>\n",
       "    <tr>\n",
       "      <th>SNES</th>\n",
       "      <td>0.00</td>\n",
       "      <td>0.00</td>\n",
       "      <td>0.00</td>\n",
       "      <td>0.00</td>\n",
       "      <td>0.00</td>\n",
       "      <td>0.00</td>\n",
       "      <td>0.00</td>\n",
       "      <td>0.00</td>\n",
       "      <td>0.00</td>\n",
       "      <td>0.00</td>\n",
       "      <td>...</td>\n",
       "      <td>0.00</td>\n",
       "      <td>0.00</td>\n",
       "      <td>0.00</td>\n",
       "      <td>0.00</td>\n",
       "      <td>0.00</td>\n",
       "      <td>0.00</td>\n",
       "      <td>0.00</td>\n",
       "      <td>0.00</td>\n",
       "      <td>0.00</td>\n",
       "      <td>0.00</td>\n",
       "    </tr>\n",
       "    <tr>\n",
       "      <th>TG16</th>\n",
       "      <td>0.00</td>\n",
       "      <td>0.00</td>\n",
       "      <td>0.00</td>\n",
       "      <td>0.00</td>\n",
       "      <td>0.00</td>\n",
       "      <td>0.00</td>\n",
       "      <td>0.00</td>\n",
       "      <td>0.00</td>\n",
       "      <td>0.00</td>\n",
       "      <td>0.00</td>\n",
       "      <td>...</td>\n",
       "      <td>0.00</td>\n",
       "      <td>0.00</td>\n",
       "      <td>0.00</td>\n",
       "      <td>0.00</td>\n",
       "      <td>0.00</td>\n",
       "      <td>0.00</td>\n",
       "      <td>0.00</td>\n",
       "      <td>0.00</td>\n",
       "      <td>0.00</td>\n",
       "      <td>0.00</td>\n",
       "    </tr>\n",
       "    <tr>\n",
       "      <th>WS</th>\n",
       "      <td>0.00</td>\n",
       "      <td>0.00</td>\n",
       "      <td>0.00</td>\n",
       "      <td>0.00</td>\n",
       "      <td>0.00</td>\n",
       "      <td>0.00</td>\n",
       "      <td>0.00</td>\n",
       "      <td>0.00</td>\n",
       "      <td>0.00</td>\n",
       "      <td>0.00</td>\n",
       "      <td>...</td>\n",
       "      <td>0.00</td>\n",
       "      <td>0.00</td>\n",
       "      <td>0.00</td>\n",
       "      <td>0.00</td>\n",
       "      <td>0.00</td>\n",
       "      <td>0.00</td>\n",
       "      <td>0.00</td>\n",
       "      <td>0.00</td>\n",
       "      <td>0.00</td>\n",
       "      <td>0.00</td>\n",
       "    </tr>\n",
       "    <tr>\n",
       "      <th>Wii</th>\n",
       "      <td>0.00</td>\n",
       "      <td>0.00</td>\n",
       "      <td>0.00</td>\n",
       "      <td>0.00</td>\n",
       "      <td>0.00</td>\n",
       "      <td>0.00</td>\n",
       "      <td>0.00</td>\n",
       "      <td>0.00</td>\n",
       "      <td>0.00</td>\n",
       "      <td>0.00</td>\n",
       "      <td>...</td>\n",
       "      <td>152.77</td>\n",
       "      <td>171.32</td>\n",
       "      <td>206.97</td>\n",
       "      <td>127.95</td>\n",
       "      <td>59.65</td>\n",
       "      <td>21.71</td>\n",
       "      <td>8.59</td>\n",
       "      <td>3.75</td>\n",
       "      <td>1.14</td>\n",
       "      <td>0.18</td>\n",
       "    </tr>\n",
       "    <tr>\n",
       "      <th>WiiU</th>\n",
       "      <td>0.00</td>\n",
       "      <td>0.00</td>\n",
       "      <td>0.00</td>\n",
       "      <td>0.00</td>\n",
       "      <td>0.00</td>\n",
       "      <td>0.00</td>\n",
       "      <td>0.00</td>\n",
       "      <td>0.00</td>\n",
       "      <td>0.00</td>\n",
       "      <td>0.00</td>\n",
       "      <td>...</td>\n",
       "      <td>0.00</td>\n",
       "      <td>0.00</td>\n",
       "      <td>0.00</td>\n",
       "      <td>0.00</td>\n",
       "      <td>0.00</td>\n",
       "      <td>17.56</td>\n",
       "      <td>21.65</td>\n",
       "      <td>22.03</td>\n",
       "      <td>16.35</td>\n",
       "      <td>4.60</td>\n",
       "    </tr>\n",
       "    <tr>\n",
       "      <th>X360</th>\n",
       "      <td>0.00</td>\n",
       "      <td>0.00</td>\n",
       "      <td>0.00</td>\n",
       "      <td>0.00</td>\n",
       "      <td>0.00</td>\n",
       "      <td>0.00</td>\n",
       "      <td>0.00</td>\n",
       "      <td>0.00</td>\n",
       "      <td>0.00</td>\n",
       "      <td>0.00</td>\n",
       "      <td>...</td>\n",
       "      <td>95.41</td>\n",
       "      <td>135.26</td>\n",
       "      <td>120.29</td>\n",
       "      <td>170.03</td>\n",
       "      <td>143.84</td>\n",
       "      <td>99.74</td>\n",
       "      <td>88.58</td>\n",
       "      <td>34.74</td>\n",
       "      <td>11.96</td>\n",
       "      <td>1.52</td>\n",
       "    </tr>\n",
       "    <tr>\n",
       "      <th>XB</th>\n",
       "      <td>0.00</td>\n",
       "      <td>0.00</td>\n",
       "      <td>0.00</td>\n",
       "      <td>0.00</td>\n",
       "      <td>0.00</td>\n",
       "      <td>0.00</td>\n",
       "      <td>0.00</td>\n",
       "      <td>0.00</td>\n",
       "      <td>0.00</td>\n",
       "      <td>0.00</td>\n",
       "      <td>...</td>\n",
       "      <td>0.55</td>\n",
       "      <td>0.18</td>\n",
       "      <td>0.00</td>\n",
       "      <td>0.00</td>\n",
       "      <td>0.00</td>\n",
       "      <td>0.00</td>\n",
       "      <td>0.00</td>\n",
       "      <td>0.00</td>\n",
       "      <td>0.00</td>\n",
       "      <td>0.00</td>\n",
       "    </tr>\n",
       "    <tr>\n",
       "      <th>XOne</th>\n",
       "      <td>0.00</td>\n",
       "      <td>0.00</td>\n",
       "      <td>0.00</td>\n",
       "      <td>0.00</td>\n",
       "      <td>0.00</td>\n",
       "      <td>0.00</td>\n",
       "      <td>0.00</td>\n",
       "      <td>0.00</td>\n",
       "      <td>0.00</td>\n",
       "      <td>0.00</td>\n",
       "      <td>...</td>\n",
       "      <td>0.00</td>\n",
       "      <td>0.00</td>\n",
       "      <td>0.00</td>\n",
       "      <td>0.00</td>\n",
       "      <td>0.00</td>\n",
       "      <td>0.00</td>\n",
       "      <td>18.96</td>\n",
       "      <td>54.07</td>\n",
       "      <td>60.14</td>\n",
       "      <td>26.15</td>\n",
       "    </tr>\n",
       "  </tbody>\n",
       "</table>\n",
       "<p>31 rows × 37 columns</p>\n",
       "</div>"
      ],
      "text/plain": [
       "year_of_release  1980  1981  1982  1983  1984  1985  1986  1987  1988  1989  \\\n",
       "platform                                                                      \n",
       "2600            11.38 35.68 28.88  5.84  0.27  0.45  0.67  1.94  0.74  0.63   \n",
       "3DO              0.00  0.00  0.00  0.00  0.00  0.00  0.00  0.00  0.00  0.00   \n",
       "3DS              0.00  0.00  0.00  0.00  0.00  0.00  0.00  0.00  0.00  0.00   \n",
       "DC               0.00  0.00  0.00  0.00  0.00  0.00  0.00  0.00  0.00  0.00   \n",
       "DS               0.00  0.00  0.00  0.00  0.00  0.02  0.00  0.00  0.00  0.00   \n",
       "GB               0.00  0.00  0.00  0.00  0.00  0.00  0.00  0.00  1.43 64.97   \n",
       "GBA              0.00  0.00  0.00  0.00  0.00  0.00  0.00  0.00  0.00  0.00   \n",
       "GC               0.00  0.00  0.00  0.00  0.00  0.00  0.00  0.00  0.00  0.00   \n",
       "GEN              0.00  0.00  0.00  0.00  0.00  0.00  0.00  0.00  0.00  0.00   \n",
       "GG               0.00  0.00  0.00  0.00  0.00  0.00  0.00  0.00  0.00  0.00   \n",
       "N64              0.00  0.00  0.00  0.00  0.00  0.00  0.00  0.00  0.00  0.00   \n",
       "NES              0.00  0.00  0.00 10.96 50.08 53.44 36.41 19.76 45.01  7.85   \n",
       "NG               0.00  0.00  0.00  0.00  0.00  0.00  0.00  0.00  0.00  0.00   \n",
       "PC               0.00  0.00  0.00  0.00  0.00  0.04  0.00  0.00  0.03  0.00   \n",
       "PCFX             0.00  0.00  0.00  0.00  0.00  0.00  0.00  0.00  0.00  0.00   \n",
       "PS               0.00  0.00  0.00  0.00  0.00  0.00  0.00  0.00  0.00  0.00   \n",
       "PS2              0.00  0.00  0.00  0.00  0.00  0.00  0.00  0.00  0.00  0.00   \n",
       "PS3              0.00  0.00  0.00  0.00  0.00  0.00  0.00  0.00  0.00  0.00   \n",
       "PS4              0.00  0.00  0.00  0.00  0.00  0.00  0.00  0.00  0.00  0.00   \n",
       "PSP              0.00  0.00  0.00  0.00  0.00  0.00  0.00  0.00  0.00  0.00   \n",
       "PSV              0.00  0.00  0.00  0.00  0.00  0.00  0.00  0.00  0.00  0.00   \n",
       "SAT              0.00  0.00  0.00  0.00  0.00  0.00  0.00  0.00  0.00  0.00   \n",
       "SCD              0.00  0.00  0.00  0.00  0.00  0.00  0.00  0.00  0.00  0.00   \n",
       "SNES             0.00  0.00  0.00  0.00  0.00  0.00  0.00  0.00  0.00  0.00   \n",
       "TG16             0.00  0.00  0.00  0.00  0.00  0.00  0.00  0.00  0.00  0.00   \n",
       "WS               0.00  0.00  0.00  0.00  0.00  0.00  0.00  0.00  0.00  0.00   \n",
       "Wii              0.00  0.00  0.00  0.00  0.00  0.00  0.00  0.00  0.00  0.00   \n",
       "WiiU             0.00  0.00  0.00  0.00  0.00  0.00  0.00  0.00  0.00  0.00   \n",
       "X360             0.00  0.00  0.00  0.00  0.00  0.00  0.00  0.00  0.00  0.00   \n",
       "XB               0.00  0.00  0.00  0.00  0.00  0.00  0.00  0.00  0.00  0.00   \n",
       "XOne             0.00  0.00  0.00  0.00  0.00  0.00  0.00  0.00  0.00  0.00   \n",
       "\n",
       "year_of_release  ...   2007   2008   2009   2010   2011   2012   2013   2014  \\\n",
       "platform         ...                                                           \n",
       "2600             ...   0.00   0.00   0.00   0.00   0.00   0.00   0.00   0.00   \n",
       "3DO              ...   0.00   0.00   0.00   0.00   0.00   0.00   0.00   0.00   \n",
       "3DS              ...   0.00   0.00   0.00   0.00  63.20  51.36  56.57  43.76   \n",
       "DC               ...   0.02   0.04   0.00   0.00   0.00   0.00   0.00   0.00   \n",
       "DS               ... 146.94 145.31 119.54  85.02  26.18  11.01   1.54   0.00   \n",
       "GB               ...   0.00   0.00   0.00   0.00   0.00   0.00   0.00   0.00   \n",
       "GBA              ...   3.40   0.00   0.00   0.00   0.00   0.00   0.00   0.00   \n",
       "GC               ...   0.27   0.00   0.00   0.00   0.00   0.00   0.00   0.00   \n",
       "GEN              ...   0.00   0.00   0.00   0.00   0.00   0.00   0.00   0.00   \n",
       "GG               ...   0.00   0.00   0.00   0.00   0.00   0.00   0.00   0.00   \n",
       "N64              ...   0.00   0.00   0.00   0.00   0.00   0.00   0.00   0.00   \n",
       "NES              ...   0.00   0.00   0.00   0.00   0.00   0.00   0.00   0.00   \n",
       "NG               ...   0.00   0.00   0.00   0.00   0.00   0.00   0.00   0.00   \n",
       "PC               ...   9.28  12.42  16.91  24.28  35.03  23.22  12.38  13.28   \n",
       "PCFX             ...   0.00   0.00   0.00   0.00   0.00   0.00   0.00   0.00   \n",
       "PS               ...   0.00   0.00   0.00   0.00   0.00   0.00   0.00   0.00   \n",
       "PS2              ...  75.99  53.90  26.40   5.64   0.45   0.00   0.00   0.00   \n",
       "PS3              ...  73.19 118.52 130.93 142.17 156.78 107.36 113.25  47.76   \n",
       "PS4              ...   0.00   0.00   0.00   0.00   0.00   0.00  25.99 100.00   \n",
       "PSP              ...  46.93  34.55  37.78  35.04  17.82   7.69   3.14   0.24   \n",
       "PSV              ...   0.00   0.00   0.00   0.00   4.63  16.19  10.59  11.90   \n",
       "SAT              ...   0.00   0.00   0.00   0.00   0.00   0.00   0.00   0.00   \n",
       "SCD              ...   0.00   0.00   0.00   0.00   0.00   0.00   0.00   0.00   \n",
       "SNES             ...   0.00   0.00   0.00   0.00   0.00   0.00   0.00   0.00   \n",
       "TG16             ...   0.00   0.00   0.00   0.00   0.00   0.00   0.00   0.00   \n",
       "WS               ...   0.00   0.00   0.00   0.00   0.00   0.00   0.00   0.00   \n",
       "Wii              ... 152.77 171.32 206.97 127.95  59.65  21.71   8.59   3.75   \n",
       "WiiU             ...   0.00   0.00   0.00   0.00   0.00  17.56  21.65  22.03   \n",
       "X360             ...  95.41 135.26 120.29 170.03 143.84  99.74  88.58  34.74   \n",
       "XB               ...   0.55   0.18   0.00   0.00   0.00   0.00   0.00   0.00   \n",
       "XOne             ...   0.00   0.00   0.00   0.00   0.00   0.00  18.96  54.07   \n",
       "\n",
       "year_of_release   2015  2016  \n",
       "platform                      \n",
       "2600              0.00  0.00  \n",
       "3DO               0.00  0.00  \n",
       "3DS              27.78 15.14  \n",
       "DC                0.00  0.00  \n",
       "DS                0.00  0.00  \n",
       "GB                0.00  0.00  \n",
       "GBA               0.00  0.00  \n",
       "GC                0.00  0.00  \n",
       "GEN               0.00  0.00  \n",
       "GG                0.00  0.00  \n",
       "N64               0.00  0.00  \n",
       "NES               0.00  0.00  \n",
       "NG                0.00  0.00  \n",
       "PC                8.52  5.25  \n",
       "PCFX              0.00  0.00  \n",
       "PS                0.00  0.00  \n",
       "PS2               0.00  0.00  \n",
       "PS3              16.82  3.60  \n",
       "PS4             118.90 69.25  \n",
       "PSP               0.12  0.00  \n",
       "PSV               6.25  4.25  \n",
       "SAT               0.00  0.00  \n",
       "SCD               0.00  0.00  \n",
       "SNES              0.00  0.00  \n",
       "TG16              0.00  0.00  \n",
       "WS                0.00  0.00  \n",
       "Wii               1.14  0.18  \n",
       "WiiU             16.35  4.60  \n",
       "X360             11.96  1.52  \n",
       "XB                0.00  0.00  \n",
       "XOne             60.14 26.15  \n",
       "\n",
       "[31 rows x 37 columns]"
      ]
     },
     "metadata": {},
     "output_type": "display_data"
    }
   ],
   "source": [
    "# построим линейный график сумм продаж по этим 5 платформам\n",
    "platforms_sales = df.pivot_table(index='platform', columns='year_of_release', values='total_sales', aggfunc='sum')\n",
    "platforms_sales.fillna(0, inplace=True) \n",
    "display(platforms_sales)"
   ]
  },
  {
   "cell_type": "markdown",
   "id": "e723020f",
   "metadata": {},
   "source": [
    "**Вывод**\n",
    "<br>\n",
    "Наши лидеры продаж за все время:\n",
    "<br>\n",
    "PS2, X360, PS3, Wii, DS\n",
    "<br>"
   ]
  },
  {
   "cell_type": "markdown",
   "id": "d22407ed",
   "metadata": {},
   "source": [
    "Теперь посмотрим топ-5 самых продаваемых игровых платформ"
   ]
  },
  {
   "cell_type": "code",
   "execution_count": 27,
   "id": "aaed8bec",
   "metadata": {},
   "outputs": [],
   "source": [
    "#Посмотрим распределение продаж с 1994 года\n",
    "platform_sales_since_94 = df.query('year_of_release >= 1994').groupby(['platform', 'year_of_release']).agg({'total_sales': 'sum'}).reset_index()"
   ]
  },
  {
   "cell_type": "code",
   "execution_count": 28,
   "id": "7b1fcd75",
   "metadata": {},
   "outputs": [
    {
     "data": {
      "image/png": "[encoded data removed]",
      "text/plain": [
       "<Figure size 432x288 with 1 Axes>"
      ]
     },
     "metadata": {
      "needs_background": "light"
     },
     "output_type": "display_data"
    }
   ],
   "source": [
    "#PS2\n",
    "ps2 = platform_sales_since_94[platform_sales_since_94['platform'] == 'PS2']\n",
    "plt.bar(ps2['year_of_release'], ps2['total_sales'])\n",
    "plt.xlabel('years')\n",
    "plt.ylabel('mln_dollars')\n",
    "plt.title('PS2 sales')\n",
    "plt.show()"
   ]
  },
  {
   "cell_type": "code",
   "execution_count": 29,
   "id": "e64e6447",
   "metadata": {},
   "outputs": [
    {
     "data": {
      "image/png": "[encoded data removed]",
      "text/plain": [
       "<Figure size 432x288 with 1 Axes>"
      ]
     },
     "metadata": {
      "needs_background": "light"
     },
     "output_type": "display_data"
    }
   ],
   "source": [
    "#x360\n",
    "x360 = platform_sales_since_94[platform_sales_since_94['platform'] == 'X360']\n",
    "plt.bar(x360['year_of_release'], x360['total_sales'], color='green')\n",
    "plt.xlabel('years')\n",
    "plt.ylabel('mln_dollars')\n",
    "plt.title('X360 sales')\n",
    "plt.show()"
   ]
  },
  {
   "cell_type": "code",
   "execution_count": 30,
   "id": "a1fbd64e",
   "metadata": {
    "scrolled": true
   },
   "outputs": [
    {
     "data": {
      "image/png": "[encoded data removed]",
      "text/plain": [
       "<Figure size 432x288 with 1 Axes>"
      ]
     },
     "metadata": {
      "needs_background": "light"
     },
     "output_type": "display_data"
    }
   ],
   "source": [
    "#PS3\n",
    "ps3 = platform_sales_since_94[platform_sales_since_94['platform'] == 'PS3']\n",
    "plt.bar(ps3['year_of_release'], ps3['total_sales'], color='orange')\n",
    "plt.xlabel('years')\n",
    "plt.ylabel('mln_dollars')\n",
    "plt.title('PS3 sales')\n",
    "plt.show()"
   ]
  },
  {
   "cell_type": "code",
   "execution_count": 31,
   "id": "e814f8ad",
   "metadata": {},
   "outputs": [
    {
     "data": {
      "image/png": "[encoded data removed]",
      "text/plain": [
       "<Figure size 432x288 with 1 Axes>"
      ]
     },
     "metadata": {
      "needs_background": "light"
     },
     "output_type": "display_data"
    }
   ],
   "source": [
    "#Wii\n",
    "wii = platform_sales_since_94[platform_sales_since_94['platform'] == 'Wii']\n",
    "plt.bar(wii['year_of_release'], wii['total_sales'], color='grey')\n",
    "plt.xlabel('years')\n",
    "plt.ylabel('mln_dollars')\n",
    "plt.title('Wii sales')\n",
    "plt.show()"
   ]
  },
  {
   "cell_type": "code",
   "execution_count": 32,
   "id": "90600829",
   "metadata": {},
   "outputs": [
    {
     "data": {
      "image/png": "[encoded data removed]",
      "text/plain": [
       "<Figure size 432x288 with 1 Axes>"
      ]
     },
     "metadata": {
      "needs_background": "light"
     },
     "output_type": "display_data"
    }
   ],
   "source": [
    "#DS\n",
    "ds = platform_sales_since_94[platform_sales_since_94['platform'] == 'DS']\n",
    "plt.bar(ds['year_of_release'], ds['total_sales'], color='brown')\n",
    "plt.xlabel('years')\n",
    "plt.ylabel('mln_dollars')\n",
    "plt.title('DS sales')\n",
    "plt.show()"
   ]
  },
  {
   "cell_type": "code",
   "execution_count": 33,
   "id": "a2c655e1",
   "metadata": {},
   "outputs": [
    {
     "data": {
      "image/png": "[encoded data removed]",
      "text/plain": [
       "<Figure size 432x288 with 1 Axes>"
      ]
     },
     "metadata": {
      "needs_background": "light"
     },
     "output_type": "display_data"
    }
   ],
   "source": [
    "# построим график общих продаж по платформам из выбранных топ 5 после 94 г\n",
    "plt.bar(top_platforms['platform'], top_platforms['total_sales'], color='crimson')\n",
    "plt.xlabel('platform')\n",
    "plt.ylabel('mln_dollars')\n",
    "plt.title('platform sales')\n",
    "plt.show()"
   ]
  },
  {
   "cell_type": "markdown",
   "id": "5781358a",
   "metadata": {},
   "source": [
    "**Вывод**\n",
    "<br>\n",
    "Как видим на графиках, был некий подъем и далее спад. Рассмотрим каждую консоль отдельно, кроме PS2 и PS3, так как это консоли одной компании.\n",
    "<br>\n",
    "Дата выхода PS2 4 марта 2000 год и она считается самой успешной консолью. Как раз на графике видно подъем продаж после 2000 года. Спад начинается в 2006 года, но был выпуск PS3, который состоялся в Японии 11 ноября 2006 года, 17 ноября приставка появилась в Северной Америке в первом квартале 2007 года. И подъем сохранялся до 2012 года, далее с 2012 уже начался спад, что обосновано анонсом 4ой консоли данной серии, которая вышла в 2013 году.\n",
    "<br>\n",
    "Xbox 360 это вторая по счёту игровая приставка компании Microsoft. Конкурентами Xbox 360 среди игровых платформ седьмого поколения являлись PlayStation 3 от Sony и Wii от Nintendo. \n",
    "Xbox 360 был официально анонсирован 12 мая 2005 года. Все доступные на время выпуска приставки были успешно проданы в каждой стране, кроме Японии.\n",
    "<br>\n",
    "Wii — игровая приставка 7-го поколения. Была выпущена в продажу в 2006 году. Как игровая система 7-го поколения, является прямым конкурентом Microsoft Xbox 360 и Sony PlayStation 3. Пик продаж был в 2009 году.Далее начался спад. Официально она стоила ~250 долларов. В 2009 году стала снимажться цена. Сначала 200, далее 150 долларов в мае 2009. Как мы и видим подъем продаж начался именно в 2009 году. В том же году была анонсирована консоль следующего поколения и начался спад на продажи.\n",
    "<br>\n",
    "Nintendo DS это портативная консоль, которая была выпущена в 2004 году. В 2008 была выпущена новая версия, соответсвенно с 2008 начинается небольшой спад продаж.\n",
    "<br>\n",
    "Срок \"жизни\" консоли примерно 10 лет. Из них пик продаж от 4 до 6 лет, далее происходит спад. Как было написано, спад происходил из-за насыщения рынка, а так е выпуска новой консоли. \n"
   ]
  },
  {
   "cell_type": "markdown",
   "id": "5fa0c65b",
   "metadata": {},
   "source": [
    "Соответсвенно можно сделать такой вывод, что в год объявления выпуска консолей не было такого подъема продаж. Подъем часто нарастает постепенно (кроме PS2 - самая популярная консоль). На подъем влияли прайсдропы и возможно выпуски популярных качественных игр, но это можно еще уточнить. \n",
    "Снижение происходило после прайсдропов, так как рынок был насещён или же были уже анонсированы новые консоли.\n",
    "Playstation выпускает новую консоль каждые 7 лет, Xbox - выпуск консолей был в 2001, 2005, 2013, 2016.\n",
    "Wii - 2006, 2011. Wii U (вторая версия консоли была провальной, что мы и видим на графике). После была выпущена модель Nintendo Switch в 2016 году.\n",
    "DS - 2004, 2006, 2008, 2010. В 2011 году Nintendo выпустила консоль Nintendo 3DS, которая не оправдала надежд и имела технические проблемы. В 2012 году обновили консоль Nintendo 3DS XL, в 2013 была выпущена модель Nintendo 2DS, в 2014-2015 выпущены «New 3DS» и «New 3DS XL». Эти модели не в списке. "
   ]
  },
  {
   "cell_type": "markdown",
   "id": "ed42ac61",
   "metadata": {},
   "source": [
    "**Чтобы проверить актуальные данные, рассмотрим последние 4 года, так как в последние 4 года продажи находятся примерно на одном уровне.**"
   ]
  },
  {
   "cell_type": "code",
   "execution_count": 34,
   "id": "ac821d51",
   "metadata": {},
   "outputs": [],
   "source": [
    "#Посмотрим актуальное распределение продаж с 2012 года\n",
    "platform_sales_since_2012 = df.query('year_of_release >= 2012').groupby(['platform', 'year_of_release']).agg({'total_sales': 'sum'}).reset_index()"
   ]
  },
  {
   "cell_type": "code",
   "execution_count": 35,
   "id": "3d09d724",
   "metadata": {},
   "outputs": [
    {
     "data": {
      "image/png": "[encoded data removed]",
      "text/plain": [
       "<Figure size 1008x504 with 1 Axes>"
      ]
     },
     "metadata": {
      "needs_background": "light"
     },
     "output_type": "display_data"
    }
   ],
   "source": [
    "# смотрим глобальные продажи всех игр по платформам, актуальных с 2000 года по 2016 год\n",
    "sns.catplot(x=\"platform\", \n",
    "            y='total_sales', \n",
    "            kind=\"box\", \n",
    "            data=platform_sales_since_2012, \n",
    "            orient='v', \n",
    "            height=7, \n",
    "            aspect=2,\n",
    "            #palette='flare'\n",
    "           )\n",
    "_ = plt.ylim(0, 130)"
   ]
  },
  {
   "cell_type": "code",
   "execution_count": 36,
   "id": "dc2a7815",
   "metadata": {},
   "outputs": [],
   "source": [
    "#Посмотрим распределение продаж с 1994 года\n",
    "platform_sales_since_94 = df.query('year_of_release >= 1994').groupby(['platform', 'year_of_release']).agg({'total_sales': 'sum'}).reset_index()"
   ]
  },
  {
   "cell_type": "code",
   "execution_count": 37,
   "id": "50e70433",
   "metadata": {},
   "outputs": [
    {
     "data": {
      "image/png": "[encoded data removed]",
      "text/plain": [
       "<Figure size 1008x504 with 1 Axes>"
      ]
     },
     "metadata": {
      "needs_background": "light"
     },
     "output_type": "display_data"
    }
   ],
   "source": [
    "sns.catplot(x=\"platform\", \n",
    "            y='total_sales', \n",
    "            kind=\"box\", \n",
    "            data=platform_sales_since_94, \n",
    "            orient='v', \n",
    "            height=7, \n",
    "            aspect=2,\n",
    "            #palette='flare'\n",
    "           )\n",
    "_ = plt.ylim(0, 220)"
   ]
  },
  {
   "cell_type": "markdown",
   "id": "a1e411ae",
   "metadata": {},
   "source": [
    "**Вывод**\n",
    "Лидеры немного поменялись. Playstation 4 и Playstation 3 можно считать абсолютными лидерами, на третьем месте находится  X360. На четвертом месте XOne и последнее место в топ 5 занимает 3DS."
   ]
  },
  {
   "cell_type": "markdown",
   "id": "b2a999b3",
   "metadata": {},
   "source": [
    "**Вывод 2**\n",
    "WII мог бы составить конкуренцию популярным консолям (как и PS), но, к сожалению, сдал позиции после 2011 года"
   ]
  },
  {
   "cell_type": "code",
   "execution_count": 38,
   "id": "5837dc9a",
   "metadata": {},
   "outputs": [],
   "source": [
    "#Актуальные платформы с 2012 года по 2016 год\n",
    "platforms_since_2012 = df.query('year_of_release >= 2012')"
   ]
  },
  {
   "cell_type": "code",
   "execution_count": 39,
   "id": "f9bb06d2",
   "metadata": {},
   "outputs": [
    {
     "data": {
      "text/plain": [
       "Index(['PS4', 'PS3', 'X360', '3DS', 'XOne'], dtype='object', name='platform')"
      ]
     },
     "execution_count": 39,
     "metadata": {},
     "output_type": "execute_result"
    }
   ],
   "source": [
    "top__since_2012 = platforms_since_2012.groupby('platform')['total_sales'].sum().sort_values(ascending=False).index[0:5]\n",
    "top__since_2012"
   ]
  },
  {
   "cell_type": "markdown",
   "id": "cd3dd43f",
   "metadata": {},
   "source": [
    "Как видим, в отрезке последних 4 лет лидеры поменялись - 'PS4', 'PS3', 'X360', '3DS', 'XOne'"
   ]
  },
  {
   "cell_type": "markdown",
   "id": "99e4aca7",
   "metadata": {},
   "source": [
    "Посмотрим, как влияют на продажи внутри одной популярной платформы отзывы пользователей и критиков. Возьмем самую популярную консоль актуального отрезка времени - PS4"
   ]
  },
  {
   "cell_type": "code",
   "execution_count": 40,
   "id": "7792cbbc",
   "metadata": {},
   "outputs": [],
   "source": [
    "#Выделяем данные по приставке без пропусков(числовое значение -1)\n",
    "ps4 = platforms_since_2012.query('platform == \"PS4\" and (user_score != -1) and (critic_score != -1)')"
   ]
  },
  {
   "cell_type": "code",
   "execution_count": 41,
   "id": "3bf71b82",
   "metadata": {
    "scrolled": true
   },
   "outputs": [
    {
     "data": {
      "image/png": "[encoded data removed]",
      "text/plain": [
       "<Figure size 432x288 with 1 Axes>"
      ]
     },
     "metadata": {
      "needs_background": "light"
     },
     "output_type": "display_data"
    }
   ],
   "source": [
    "# строим диаграмму рассеяния для отзывов игроков\n",
    "ps4.plot(x='user_score', y='total_sales', kind='scatter', title='PS4 user score/sales')\n",
    "plt.show()"
   ]
  },
  {
   "cell_type": "code",
   "execution_count": 42,
   "id": "f46c1349",
   "metadata": {
    "scrolled": true
   },
   "outputs": [
    {
     "data": {
      "text/plain": [
       "-0.0654819507758568"
      ]
     },
     "execution_count": 42,
     "metadata": {},
     "output_type": "execute_result"
    }
   ],
   "source": [
    "#Корреляция между отзывами и продажами\n",
    "ps4['user_score'].corr(ps4['total_sales'])"
   ]
  },
  {
   "cell_type": "code",
   "execution_count": 43,
   "id": "d4a2ba67",
   "metadata": {},
   "outputs": [
    {
     "data": {
      "image/png": "[encoded data removed]",
      "text/plain": [
       "<Figure size 432x288 with 1 Axes>"
      ]
     },
     "metadata": {
      "needs_background": "light"
     },
     "output_type": "display_data"
    }
   ],
   "source": [
    "# строим диаграмму рассеяния для отзывов критиков\n",
    "ps4.plot(x='critic_score', y='total_sales', kind='scatter', title = 'PS4 critic score/sales')\n",
    "plt.show()"
   ]
  },
  {
   "cell_type": "code",
   "execution_count": 44,
   "id": "0414653d",
   "metadata": {},
   "outputs": [
    {
     "data": {
      "text/plain": [
       "0.35140802447758474"
      ]
     },
     "execution_count": 44,
     "metadata": {},
     "output_type": "execute_result"
    }
   ],
   "source": [
    "#Корреляция между отзывами и продажами\n",
    "ps4['critic_score'].corr(ps4['total_sales'])"
   ]
  },
  {
   "cell_type": "markdown",
   "id": "77d4324e",
   "metadata": {},
   "source": [
    "**Вывод**\n",
    "<br>\n",
    "Графики показывают, что отзывы игроков никак не влияют на продажи, так как коэффициент корреляции составил -0.06, а отзывы критиков все же имеют значение, имея коэффициент корреляции 0,35."
   ]
  },
  {
   "cell_type": "markdown",
   "id": "09a2de7e",
   "metadata": {},
   "source": [
    "Можем посмотреть те же параметры у других консолей. PS3 и X360, так как они в лидерах по продажам"
   ]
  },
  {
   "cell_type": "code",
   "execution_count": 45,
   "id": "e85e7260",
   "metadata": {},
   "outputs": [],
   "source": [
    "#Проделываем те же манипуляции с PS3\n",
    "ps3 = platforms_since_2012.query('platform == \"PS3\" and (user_score != -1) and (critic_score != -1)')"
   ]
  },
  {
   "cell_type": "code",
   "execution_count": 46,
   "id": "7f6fb6da",
   "metadata": {},
   "outputs": [
    {
     "data": {
      "image/png": "[encoded data removed]",
      "text/plain": [
       "<Figure size 432x288 with 1 Axes>"
      ]
     },
     "metadata": {
      "needs_background": "light"
     },
     "output_type": "display_data"
    }
   ],
   "source": [
    "ps3.plot(x='user_score', y='total_sales', kind='scatter', title='PS3 user score/sales')\n",
    "plt.show()"
   ]
  },
  {
   "cell_type": "code",
   "execution_count": 47,
   "id": "776c932f",
   "metadata": {
    "scrolled": true
   },
   "outputs": [
    {
     "data": {
      "text/plain": [
       "-0.08737842929064489"
      ]
     },
     "execution_count": 47,
     "metadata": {},
     "output_type": "execute_result"
    }
   ],
   "source": [
    "ps3['user_score'].corr(ps3['total_sales'])"
   ]
  },
  {
   "cell_type": "code",
   "execution_count": 48,
   "id": "e722e168",
   "metadata": {},
   "outputs": [
    {
     "data": {
      "image/png": "[encoded data removed]",
      "text/plain": [
       "<Figure size 432x288 with 1 Axes>"
      ]
     },
     "metadata": {
      "needs_background": "light"
     },
     "output_type": "display_data"
    }
   ],
   "source": [
    "ps3.plot(x='critic_score', y='total_sales', kind='scatter', title = 'PS3 critic score/sales')\n",
    "plt.show()"
   ]
  },
  {
   "cell_type": "code",
   "execution_count": 49,
   "id": "447acacb",
   "metadata": {
    "scrolled": true
   },
   "outputs": [
    {
     "data": {
      "text/plain": [
       "0.32333130141655564"
      ]
     },
     "execution_count": 49,
     "metadata": {},
     "output_type": "execute_result"
    }
   ],
   "source": [
    "ps3['critic_score'].corr(ps3['total_sales'])"
   ]
  },
  {
   "cell_type": "code",
   "execution_count": 50,
   "id": "e1b553d2",
   "metadata": {},
   "outputs": [],
   "source": [
    "#Проделываем те же манипуляции с X360\n",
    "x360 = platforms_since_2012.query('platform == \"X360\" and (user_score != -1) and (critic_score != -1)')"
   ]
  },
  {
   "cell_type": "code",
   "execution_count": 51,
   "id": "3c7d4010",
   "metadata": {
    "scrolled": true
   },
   "outputs": [
    {
     "data": {
      "image/png": "[encoded data removed]",
      "text/plain": [
       "<Figure size 432x288 with 1 Axes>"
      ]
     },
     "metadata": {
      "needs_background": "light"
     },
     "output_type": "display_data"
    }
   ],
   "source": [
    "x360.plot(x='user_score', y='total_sales', kind='scatter', title='X360 user score/sales')\n",
    "plt.show()"
   ]
  },
  {
   "cell_type": "code",
   "execution_count": 52,
   "id": "d4a89765",
   "metadata": {},
   "outputs": [
    {
     "data": {
      "text/plain": [
       "-0.03413344563451158"
      ]
     },
     "execution_count": 52,
     "metadata": {},
     "output_type": "execute_result"
    }
   ],
   "source": [
    "x360['user_score'].corr(x360['total_sales'])"
   ]
  },
  {
   "cell_type": "code",
   "execution_count": 53,
   "id": "61503782",
   "metadata": {},
   "outputs": [
    {
     "data": {
      "image/png": "[encoded data removed]",
      "text/plain": [
       "<Figure size 432x288 with 1 Axes>"
      ]
     },
     "metadata": {
      "needs_background": "light"
     },
     "output_type": "display_data"
    }
   ],
   "source": [
    "x360.plot(x='critic_score', y='total_sales', kind='scatter', title = 'X360 critic score/sales')\n",
    "plt.show()"
   ]
  },
  {
   "cell_type": "code",
   "execution_count": 54,
   "id": "c4953132",
   "metadata": {},
   "outputs": [
    {
     "data": {
      "text/plain": [
       "0.3339369217323399"
      ]
     },
     "execution_count": 54,
     "metadata": {},
     "output_type": "execute_result"
    }
   ],
   "source": [
    "x360['critic_score'].corr(x360['total_sales'])"
   ]
  },
  {
   "cell_type": "markdown",
   "id": "c7d101fd",
   "metadata": {},
   "source": [
    "**Вывод**\n",
    "<br>\n",
    "Все актуально для других приставок. Оценки игроков не имеют влияния, а оценки критиков частично влияют на продажи, где-то больше, где-то меньше.\n"
   ]
  },
  {
   "cell_type": "markdown",
   "id": "d4dd8f31",
   "metadata": {},
   "source": [
    "Посмотрим общее распределение игр по жанрам. Самые прибыльные жанры. Жанры с высокими и низкими продажами"
   ]
  },
  {
   "cell_type": "code",
   "execution_count": 55,
   "id": "8220812f",
   "metadata": {},
   "outputs": [
    {
     "data": {
      "text/plain": [
       "Index(['Action', 'Shooter', 'Role-Playing', 'Sports', 'Misc'], dtype='object', name='genre')"
      ]
     },
     "execution_count": 55,
     "metadata": {},
     "output_type": "execute_result"
    }
   ],
   "source": [
    "#Популярные жанры за актуальный период с 2012\n",
    "top_genre = platforms_since_2012.groupby('genre')['total_sales'].sum().sort_values(ascending=False).index[0:5]\n",
    "top_genre"
   ]
  },
  {
   "cell_type": "code",
   "execution_count": 56,
   "id": "e5cd7287",
   "metadata": {},
   "outputs": [
    {
     "data": {
      "text/plain": [
       "Index(['Action', 'Sports', 'Shooter', 'Role-Playing', 'Platform'], dtype='object', name='genre')"
      ]
     },
     "execution_count": 56,
     "metadata": {},
     "output_type": "execute_result"
    }
   ],
   "source": [
    "#Можно проверить все игры с 1980 года\n",
    "platforms_since_1980 = df.query('year_of_release >= 1980')\n",
    "top_genre1 = platforms_since_1980.groupby('genre')['total_sales'].sum().sort_values(ascending=False).index[0:5]\n",
    "top_genre1"
   ]
  },
  {
   "cell_type": "markdown",
   "id": "3c34046a",
   "metadata": {},
   "source": [
    "**Вывод**\n",
    "<br>\n",
    "Наш топ актуальных жанров:\n",
    "<br>\n",
    "Action - Имеет акцент на борьбе, включает в себя прохождение определённых уровней для достижения битвы с боссами.\n",
    "<br>\n",
    "Shooter - Игрок находится в трёхмерном пространстве и имеет некоторую свободу передвижения. Уровни, как правило, являют собой ограниченный лабиринт, в котором расположены враги, союзники и нейтрально настроенные NPC, которых необходимо уничтожить\n",
    "<br>\n",
    "RPG - Сосредоточена на решении проблем, взаимодействии с неигровыми персонажами, участии в боях, статистическом развитии персонажа\n",
    "<br>\n",
    "Misc - или miscellaneous. Игры, не принадлежащие к одному определенному жанру\n",
    "<br>\n",
    "Sports - Отражают соревнования по существующим видам спорта\n",
    "_________________\n",
    "Жанры популярные за все время:\n",
    "<br>\n",
    "Различий немного. В топе остались action, sport, shooter,RPG, а так же был популярен platform, который был вытеснен жанром misc\n",
    "<br>\n",
    "Platform - Основное внимание уделяется прыжкам или сложностям навигации, часто включают в себя элементы игр-экшенов"
   ]
  },
  {
   "cell_type": "code",
   "execution_count": 57,
   "id": "6e403cfa",
   "metadata": {},
   "outputs": [],
   "source": [
    "games_sales = df.pivot_table('total_sales', \n",
    "                                             index='name', \n",
    "                                             columns='platform', aggfunc='median')\n",
    "games_sales.fillna(0, inplace=True)\n",
    "games_sales['all_platforms'] = games_sales.sum(axis=1)\n",
    "games_sales = games_sales.sort_values(by='all_platforms', ascending=False)\n",
    "games_sales = games_sales.reset_index()"
   ]
  },
  {
   "cell_type": "code",
   "execution_count": 58,
   "id": "66440548",
   "metadata": {
    "scrolled": true
   },
   "outputs": [
    {
     "data": {
      "image/png": "[encoded data removed]",
      "text/plain": [
       "<Figure size 400x400 with 1 Axes>"
      ]
     },
     "metadata": {
      "needs_background": "light"
     },
     "output_type": "display_data"
    }
   ],
   "source": [
    "plt.figure(figsize=(5, 5), dpi= 80)\n",
    "plt.ylim(0,2)\n",
    "plt.title('Глобальные продажи каждой игры, млн. долл.')\n",
    "\n",
    "plt.grid(linestyle='--', which='major',\n",
    "         color='black', alpha=.5)\n",
    "sns.boxplot(y=games_sales['all_platforms'], color=\"yellow\")\n",
    "plt.ylabel('')\n",
    "plt.show()"
   ]
  },
  {
   "cell_type": "code",
   "execution_count": 59,
   "id": "9784caa3",
   "metadata": {},
   "outputs": [
    {
     "data": {
      "image/png": "[encoded data removed]",
      "text/plain": [
       "<Figure size 400x400 with 1 Axes>"
      ]
     },
     "metadata": {
      "needs_background": "light"
     },
     "output_type": "display_data"
    }
   ],
   "source": [
    "plt.figure(figsize=(5, 5), dpi= 80)\n",
    "plt.ylim(0,15)\n",
    "plt.title('Глобальные продажи каждой игры, млн. долл.')\n",
    "\n",
    "plt.grid(linestyle='--', which='major',\n",
    "         color='black', alpha=.5)\n",
    "sns.boxplot(y=games_sales['all_platforms'], color=\"yellow\")\n",
    "plt.ylabel('')\n",
    "plt.show()"
   ]
  },
  {
   "cell_type": "markdown",
   "id": "b71e24b0",
   "metadata": {},
   "source": [
    "**Вывод**\n",
    "В среднем мы видим, что медианные продажи игр были в районе 0,6 млн.долларов. Тем не менее есть продажи игр и превышающие 15 млн."
   ]
  },
  {
   "cell_type": "code",
   "execution_count": 60,
   "id": "22a53f19",
   "metadata": {},
   "outputs": [
    {
     "data": {
      "text/html": [
       "<div>\n",
       "<style scoped>\n",
       "    .dataframe tbody tr th:only-of-type {\n",
       "        vertical-align: middle;\n",
       "    }\n",
       "\n",
       "    .dataframe tbody tr th {\n",
       "        vertical-align: top;\n",
       "    }\n",
       "\n",
       "    .dataframe thead tr th {\n",
       "        text-align: left;\n",
       "    }\n",
       "\n",
       "    .dataframe thead tr:last-of-type th {\n",
       "        text-align: right;\n",
       "    }\n",
       "</style>\n",
       "<table border=\"1\" class=\"dataframe\">\n",
       "  <thead>\n",
       "    <tr>\n",
       "      <th></th>\n",
       "      <th>name</th>\n",
       "    </tr>\n",
       "    <tr>\n",
       "      <th></th>\n",
       "      <th>count</th>\n",
       "    </tr>\n",
       "    <tr>\n",
       "      <th>genre</th>\n",
       "      <th></th>\n",
       "    </tr>\n",
       "  </thead>\n",
       "  <tbody>\n",
       "    <tr>\n",
       "      <th>Action</th>\n",
       "      <td>3307</td>\n",
       "    </tr>\n",
       "    <tr>\n",
       "      <th>Adventure</th>\n",
       "      <td>1293</td>\n",
       "    </tr>\n",
       "    <tr>\n",
       "      <th>Fighting</th>\n",
       "      <td>837</td>\n",
       "    </tr>\n",
       "    <tr>\n",
       "      <th>Misc</th>\n",
       "      <td>1721</td>\n",
       "    </tr>\n",
       "    <tr>\n",
       "      <th>Platform</th>\n",
       "      <td>878</td>\n",
       "    </tr>\n",
       "    <tr>\n",
       "      <th>Puzzle</th>\n",
       "      <td>569</td>\n",
       "    </tr>\n",
       "    <tr>\n",
       "      <th>Racing</th>\n",
       "      <td>1226</td>\n",
       "    </tr>\n",
       "    <tr>\n",
       "      <th>Role-Playing</th>\n",
       "      <td>1481</td>\n",
       "    </tr>\n",
       "    <tr>\n",
       "      <th>Shooter</th>\n",
       "      <td>1296</td>\n",
       "    </tr>\n",
       "    <tr>\n",
       "      <th>Simulation</th>\n",
       "      <td>857</td>\n",
       "    </tr>\n",
       "    <tr>\n",
       "      <th>Sports</th>\n",
       "      <td>2306</td>\n",
       "    </tr>\n",
       "    <tr>\n",
       "      <th>Strategy</th>\n",
       "      <td>673</td>\n",
       "    </tr>\n",
       "  </tbody>\n",
       "</table>\n",
       "</div>"
      ],
      "text/plain": [
       "              name\n",
       "             count\n",
       "genre             \n",
       "Action        3307\n",
       "Adventure     1293\n",
       "Fighting       837\n",
       "Misc          1721\n",
       "Platform       878\n",
       "Puzzle         569\n",
       "Racing        1226\n",
       "Role-Playing  1481\n",
       "Shooter       1296\n",
       "Simulation     857\n",
       "Sports        2306\n",
       "Strategy       673"
      ]
     },
     "execution_count": 60,
     "metadata": {},
     "output_type": "execute_result"
    }
   ],
   "source": [
    "games_amount = df.groupby(['genre']).agg({'name':['count']})\n",
    "games_amount"
   ]
  },
  {
   "cell_type": "code",
   "execution_count": 61,
   "id": "ae9c90d4",
   "metadata": {},
   "outputs": [
    {
     "data": {
      "image/png": "[encoded data removed]",
      "text/plain": [
       "<Figure size 720x360 with 1 Axes>"
      ]
     },
     "metadata": {
      "needs_background": "light"
     },
     "output_type": "display_data"
    }
   ],
   "source": [
    "games_amount.plot(kind='bar', y='name', figsize=(10, 5), legend=False).set(xlabel='Genre', ylabel='Amount of games')\n",
    "plt.show()"
   ]
  },
  {
   "cell_type": "code",
   "execution_count": 62,
   "id": "4719d7d0",
   "metadata": {},
   "outputs": [
    {
     "data": {
      "text/html": [
       "<div>\n",
       "<style scoped>\n",
       "    .dataframe tbody tr th:only-of-type {\n",
       "        vertical-align: middle;\n",
       "    }\n",
       "\n",
       "    .dataframe tbody tr th {\n",
       "        vertical-align: top;\n",
       "    }\n",
       "\n",
       "    .dataframe thead tr th {\n",
       "        text-align: left;\n",
       "    }\n",
       "\n",
       "    .dataframe thead tr:last-of-type th {\n",
       "        text-align: right;\n",
       "    }\n",
       "</style>\n",
       "<table border=\"1\" class=\"dataframe\">\n",
       "  <thead>\n",
       "    <tr>\n",
       "      <th></th>\n",
       "      <th>name</th>\n",
       "    </tr>\n",
       "    <tr>\n",
       "      <th></th>\n",
       "      <th>count</th>\n",
       "    </tr>\n",
       "    <tr>\n",
       "      <th>genre</th>\n",
       "      <th></th>\n",
       "    </tr>\n",
       "  </thead>\n",
       "  <tbody>\n",
       "    <tr>\n",
       "      <th>Action</th>\n",
       "      <td>1031</td>\n",
       "    </tr>\n",
       "    <tr>\n",
       "      <th>Adventure</th>\n",
       "      <td>302</td>\n",
       "    </tr>\n",
       "    <tr>\n",
       "      <th>Fighting</th>\n",
       "      <td>109</td>\n",
       "    </tr>\n",
       "    <tr>\n",
       "      <th>Misc</th>\n",
       "      <td>192</td>\n",
       "    </tr>\n",
       "    <tr>\n",
       "      <th>Platform</th>\n",
       "      <td>85</td>\n",
       "    </tr>\n",
       "    <tr>\n",
       "      <th>Puzzle</th>\n",
       "      <td>28</td>\n",
       "    </tr>\n",
       "    <tr>\n",
       "      <th>Racing</th>\n",
       "      <td>115</td>\n",
       "    </tr>\n",
       "    <tr>\n",
       "      <th>Role-Playing</th>\n",
       "      <td>370</td>\n",
       "    </tr>\n",
       "    <tr>\n",
       "      <th>Shooter</th>\n",
       "      <td>235</td>\n",
       "    </tr>\n",
       "    <tr>\n",
       "      <th>Simulation</th>\n",
       "      <td>80</td>\n",
       "    </tr>\n",
       "    <tr>\n",
       "      <th>Sports</th>\n",
       "      <td>268</td>\n",
       "    </tr>\n",
       "    <tr>\n",
       "      <th>Strategy</th>\n",
       "      <td>71</td>\n",
       "    </tr>\n",
       "  </tbody>\n",
       "</table>\n",
       "</div>"
      ],
      "text/plain": [
       "              name\n",
       "             count\n",
       "genre             \n",
       "Action        1031\n",
       "Adventure      302\n",
       "Fighting       109\n",
       "Misc           192\n",
       "Platform        85\n",
       "Puzzle          28\n",
       "Racing         115\n",
       "Role-Playing   370\n",
       "Shooter        235\n",
       "Simulation      80\n",
       "Sports         268\n",
       "Strategy        71"
      ]
     },
     "execution_count": 62,
     "metadata": {},
     "output_type": "execute_result"
    }
   ],
   "source": [
    "#Посмотрим количество за актуальный период - последние 4 года\n",
    "games_amount_actual = platforms_since_2012.groupby(['genre']).agg({'name':['count']})\n",
    "games_amount_actual"
   ]
  },
  {
   "cell_type": "code",
   "execution_count": 63,
   "id": "adc823d7",
   "metadata": {},
   "outputs": [
    {
     "data": {
      "image/png": "[encoded data removed]",
      "text/plain": [
       "<Figure size 720x360 with 1 Axes>"
      ]
     },
     "metadata": {
      "needs_background": "light"
     },
     "output_type": "display_data"
    }
   ],
   "source": [
    "games_amount_actual.plot(kind='bar', y='name', figsize=(10, 5), legend=False).set(xlabel='Genre', ylabel='Amount of games')\n",
    "plt.show()"
   ]
  },
  {
   "cell_type": "markdown",
   "id": "a03e56a4",
   "metadata": {},
   "source": [
    "**Вывод**\n",
    "<br>\n",
    "Если смотреть за весь период, то экшен-игры всегда лидировали вреди остальных жанров. Что касается других жанров, то все же было больше разнообразия. Больше покупали спортивные игры, RPG, гонки или же misc игры.\n",
    "<br>\n",
    "В настоящее время action по прежнему лидирует по количеству игр и очень сильно отстают другие жанры. Мы можем видеть наглядно лидера и отстающих. Топ не популярных жанров с низкими продажами: Puzzle, Strategy, Simulation, Platform, Fighting"
   ]
  },
  {
   "cell_type": "markdown",
   "id": "e36d6fdc",
   "metadata": {},
   "source": [
    "## 4. Составьте портрет пользователя каждого региона"
   ]
  },
  {
   "cell_type": "code",
   "execution_count": 64,
   "id": "c8f4a58c",
   "metadata": {},
   "outputs": [
    {
     "data": {
      "text/html": [
       "<div>\n",
       "<style scoped>\n",
       "    .dataframe tbody tr th:only-of-type {\n",
       "        vertical-align: middle;\n",
       "    }\n",
       "\n",
       "    .dataframe tbody tr th {\n",
       "        vertical-align: top;\n",
       "    }\n",
       "\n",
       "    .dataframe thead th {\n",
       "        text-align: right;\n",
       "    }\n",
       "</style>\n",
       "<table border=\"1\" class=\"dataframe\">\n",
       "  <thead>\n",
       "    <tr style=\"text-align: right;\">\n",
       "      <th></th>\n",
       "      <th>na_sales</th>\n",
       "    </tr>\n",
       "    <tr>\n",
       "      <th>platform</th>\n",
       "      <th></th>\n",
       "    </tr>\n",
       "  </thead>\n",
       "  <tbody>\n",
       "    <tr>\n",
       "      <th>X360</th>\n",
       "      <td>140.05</td>\n",
       "    </tr>\n",
       "    <tr>\n",
       "      <th>PS4</th>\n",
       "      <td>108.74</td>\n",
       "    </tr>\n",
       "    <tr>\n",
       "      <th>PS3</th>\n",
       "      <td>103.38</td>\n",
       "    </tr>\n",
       "    <tr>\n",
       "      <th>XOne</th>\n",
       "      <td>93.12</td>\n",
       "    </tr>\n",
       "    <tr>\n",
       "      <th>3DS</th>\n",
       "      <td>55.31</td>\n",
       "    </tr>\n",
       "  </tbody>\n",
       "</table>\n",
       "</div>"
      ],
      "text/plain": [
       "          na_sales\n",
       "platform          \n",
       "X360        140.05\n",
       "PS4         108.74\n",
       "PS3         103.38\n",
       "XOne         93.12\n",
       "3DS          55.31"
      ]
     },
     "execution_count": 64,
     "metadata": {},
     "output_type": "execute_result"
    }
   ],
   "source": [
    "#топ консолей в Северной Америке\n",
    "top_platforms_na = df.query('year_of_release >= 2012').pivot_table(index='platform', values='na_sales', aggfunc='sum').nlargest(5, 'na_sales')\n",
    "top_platforms_na"
   ]
  },
  {
   "cell_type": "code",
   "execution_count": 65,
   "id": "7b596bd3",
   "metadata": {},
   "outputs": [
    {
     "data": {
      "image/png": "[encoded data removed]",
      "text/plain": [
       "<Figure size 720x360 with 1 Axes>"
      ]
     },
     "metadata": {},
     "output_type": "display_data"
    }
   ],
   "source": [
    "top_platforms_na.plot(kind='pie', y='na_sales', x='platform', autopct='%1.0f%%', figsize=(10, 5), legend=False).set(xlabel='North America')\n",
    "plt.show()"
   ]
  },
  {
   "cell_type": "code",
   "execution_count": 66,
   "id": "2fb58b57",
   "metadata": {},
   "outputs": [
    {
     "data": {
      "text/html": [
       "<div>\n",
       "<style scoped>\n",
       "    .dataframe tbody tr th:only-of-type {\n",
       "        vertical-align: middle;\n",
       "    }\n",
       "\n",
       "    .dataframe tbody tr th {\n",
       "        vertical-align: top;\n",
       "    }\n",
       "\n",
       "    .dataframe thead th {\n",
       "        text-align: right;\n",
       "    }\n",
       "</style>\n",
       "<table border=\"1\" class=\"dataframe\">\n",
       "  <thead>\n",
       "    <tr style=\"text-align: right;\">\n",
       "      <th></th>\n",
       "      <th>eu_sales</th>\n",
       "    </tr>\n",
       "    <tr>\n",
       "      <th>platform</th>\n",
       "      <th></th>\n",
       "    </tr>\n",
       "  </thead>\n",
       "  <tbody>\n",
       "    <tr>\n",
       "      <th>PS4</th>\n",
       "      <td>141.09</td>\n",
       "    </tr>\n",
       "    <tr>\n",
       "      <th>PS3</th>\n",
       "      <td>106.86</td>\n",
       "    </tr>\n",
       "    <tr>\n",
       "      <th>X360</th>\n",
       "      <td>74.52</td>\n",
       "    </tr>\n",
       "    <tr>\n",
       "      <th>XOne</th>\n",
       "      <td>51.59</td>\n",
       "    </tr>\n",
       "    <tr>\n",
       "      <th>3DS</th>\n",
       "      <td>42.64</td>\n",
       "    </tr>\n",
       "  </tbody>\n",
       "</table>\n",
       "</div>"
      ],
      "text/plain": [
       "          eu_sales\n",
       "platform          \n",
       "PS4         141.09\n",
       "PS3         106.86\n",
       "X360         74.52\n",
       "XOne         51.59\n",
       "3DS          42.64"
      ]
     },
     "execution_count": 66,
     "metadata": {},
     "output_type": "execute_result"
    }
   ],
   "source": [
    "#топ консолей в Европе\n",
    "top_platforms_eu = df.query('year_of_release >= 2012').pivot_table(index='platform', values='eu_sales', aggfunc='sum').nlargest(5, 'eu_sales')\n",
    "top_platforms_eu"
   ]
  },
  {
   "cell_type": "code",
   "execution_count": 67,
   "id": "95cf603d",
   "metadata": {},
   "outputs": [
    {
     "data": {
      "image/png": "[encoded data removed]",
      "text/plain": [
       "<Figure size 720x360 with 1 Axes>"
      ]
     },
     "metadata": {},
     "output_type": "display_data"
    }
   ],
   "source": [
    "top_platforms_eu.plot(kind='pie', y='eu_sales', x='platform', autopct='%1.0f%%', figsize=(10, 5), legend=False).set(xlabel='Europe')\n",
    "plt.show()"
   ]
  },
  {
   "cell_type": "code",
   "execution_count": 68,
   "id": "300047c2",
   "metadata": {},
   "outputs": [
    {
     "data": {
      "text/html": [
       "<div>\n",
       "<style scoped>\n",
       "    .dataframe tbody tr th:only-of-type {\n",
       "        vertical-align: middle;\n",
       "    }\n",
       "\n",
       "    .dataframe tbody tr th {\n",
       "        vertical-align: top;\n",
       "    }\n",
       "\n",
       "    .dataframe thead th {\n",
       "        text-align: right;\n",
       "    }\n",
       "</style>\n",
       "<table border=\"1\" class=\"dataframe\">\n",
       "  <thead>\n",
       "    <tr style=\"text-align: right;\">\n",
       "      <th></th>\n",
       "      <th>jp_sales</th>\n",
       "    </tr>\n",
       "    <tr>\n",
       "      <th>platform</th>\n",
       "      <th></th>\n",
       "    </tr>\n",
       "  </thead>\n",
       "  <tbody>\n",
       "    <tr>\n",
       "      <th>3DS</th>\n",
       "      <td>87.79</td>\n",
       "    </tr>\n",
       "    <tr>\n",
       "      <th>PS3</th>\n",
       "      <td>35.29</td>\n",
       "    </tr>\n",
       "    <tr>\n",
       "      <th>PSV</th>\n",
       "      <td>21.04</td>\n",
       "    </tr>\n",
       "    <tr>\n",
       "      <th>PS4</th>\n",
       "      <td>15.96</td>\n",
       "    </tr>\n",
       "    <tr>\n",
       "      <th>WiiU</th>\n",
       "      <td>13.01</td>\n",
       "    </tr>\n",
       "  </tbody>\n",
       "</table>\n",
       "</div>"
      ],
      "text/plain": [
       "          jp_sales\n",
       "platform          \n",
       "3DS          87.79\n",
       "PS3          35.29\n",
       "PSV          21.04\n",
       "PS4          15.96\n",
       "WiiU         13.01"
      ]
     },
     "execution_count": 68,
     "metadata": {},
     "output_type": "execute_result"
    }
   ],
   "source": [
    "#топ консолей в Японии \n",
    "top_platforms_jp = df.query('year_of_release >= 2012').pivot_table(index='platform', values='jp_sales', aggfunc='sum').nlargest(5, 'jp_sales')\n",
    "top_platforms_jp"
   ]
  },
  {
   "cell_type": "code",
   "execution_count": 69,
   "id": "069a6cc8",
   "metadata": {},
   "outputs": [
    {
     "data": {
      "image/png": "[encoded data removed]",
      "text/plain": [
       "<Figure size 720x360 with 1 Axes>"
      ]
     },
     "metadata": {},
     "output_type": "display_data"
    }
   ],
   "source": [
    "top_platforms_jp.plot(kind='pie', y='jp_sales', x='platform', autopct='%1.0f%%', figsize=(10, 5), legend=False).set(xlabel='Japan')\n",
    "plt.show()"
   ]
  },
  {
   "cell_type": "markdown",
   "id": "0423a560",
   "metadata": {},
   "source": [
    "**Вывод**\n",
    "<br>\n",
    "Топ консолей отличается. Если в Северной Америке на первом месте американский X360 от Майкрософт, а второе и третье место с небольшим отрывом делят PS4 и PS3\n",
    "<br>\n",
    "В Европе самые популярные консоли PS4 и PS3, а с большим отрывом на третьем месте X360.\n",
    "<br>\n",
    "Япония сильно отличается от Северной Америки и Европы по предпочтениям. Несмотря на то,что Sony Playstation так же является японским детищем, японцы все же предпочитают Nintendo 3DS. На втором месте PS3, на третьем PSV, а новая платформа PS4 (на тот момент) находится всего лишь на 4 месте с большим отрывом от лидера."
   ]
  },
  {
   "cell_type": "markdown",
   "id": "38d8d3be",
   "metadata": {},
   "source": [
    "### Самые популярные жанры (топ-5). "
   ]
  },
  {
   "cell_type": "code",
   "execution_count": 70,
   "id": "788ffdd4",
   "metadata": {},
   "outputs": [
    {
     "data": {
      "text/html": [
       "<div>\n",
       "<style scoped>\n",
       "    .dataframe tbody tr th:only-of-type {\n",
       "        vertical-align: middle;\n",
       "    }\n",
       "\n",
       "    .dataframe tbody tr th {\n",
       "        vertical-align: top;\n",
       "    }\n",
       "\n",
       "    .dataframe thead th {\n",
       "        text-align: right;\n",
       "    }\n",
       "</style>\n",
       "<table border=\"1\" class=\"dataframe\">\n",
       "  <thead>\n",
       "    <tr style=\"text-align: right;\">\n",
       "      <th></th>\n",
       "      <th>na_sales</th>\n",
       "    </tr>\n",
       "    <tr>\n",
       "      <th>genre</th>\n",
       "      <th></th>\n",
       "    </tr>\n",
       "  </thead>\n",
       "  <tbody>\n",
       "    <tr>\n",
       "      <th>Action</th>\n",
       "      <td>177.84</td>\n",
       "    </tr>\n",
       "    <tr>\n",
       "      <th>Shooter</th>\n",
       "      <td>144.77</td>\n",
       "    </tr>\n",
       "    <tr>\n",
       "      <th>Sports</th>\n",
       "      <td>81.53</td>\n",
       "    </tr>\n",
       "    <tr>\n",
       "      <th>Role-Playing</th>\n",
       "      <td>64.00</td>\n",
       "    </tr>\n",
       "    <tr>\n",
       "      <th>Misc</th>\n",
       "      <td>38.19</td>\n",
       "    </tr>\n",
       "  </tbody>\n",
       "</table>\n",
       "</div>"
      ],
      "text/plain": [
       "              na_sales\n",
       "genre                 \n",
       "Action          177.84\n",
       "Shooter         144.77\n",
       "Sports           81.53\n",
       "Role-Playing     64.00\n",
       "Misc             38.19"
      ]
     },
     "execution_count": 70,
     "metadata": {},
     "output_type": "execute_result"
    }
   ],
   "source": [
    "#Топ жанры в Северной Америке\n",
    "top_genres_na = df.query('year_of_release >= 2012').pivot_table(index='genre', values='na_sales', aggfunc='sum').nlargest(5, 'na_sales')\n",
    "top_genres_na"
   ]
  },
  {
   "cell_type": "code",
   "execution_count": 71,
   "id": "f5c92334",
   "metadata": {},
   "outputs": [
    {
     "data": {
      "image/png": "[encoded data removed]",
      "text/plain": [
       "<Figure size 720x360 with 1 Axes>"
      ]
     },
     "metadata": {},
     "output_type": "display_data"
    }
   ],
   "source": [
    "top_genres_na.plot(kind='pie', y='na_sales', x='platform', autopct='%1.0f%%', figsize=(10, 5), legend=False).set(xlabel='Genres in NA')\n",
    "plt.show()"
   ]
  },
  {
   "cell_type": "code",
   "execution_count": 72,
   "id": "c3d4940a",
   "metadata": {},
   "outputs": [
    {
     "data": {
      "text/html": [
       "<div>\n",
       "<style scoped>\n",
       "    .dataframe tbody tr th:only-of-type {\n",
       "        vertical-align: middle;\n",
       "    }\n",
       "\n",
       "    .dataframe tbody tr th {\n",
       "        vertical-align: top;\n",
       "    }\n",
       "\n",
       "    .dataframe thead th {\n",
       "        text-align: right;\n",
       "    }\n",
       "</style>\n",
       "<table border=\"1\" class=\"dataframe\">\n",
       "  <thead>\n",
       "    <tr style=\"text-align: right;\">\n",
       "      <th></th>\n",
       "      <th>eu_sales</th>\n",
       "    </tr>\n",
       "    <tr>\n",
       "      <th>genre</th>\n",
       "      <th></th>\n",
       "    </tr>\n",
       "  </thead>\n",
       "  <tbody>\n",
       "    <tr>\n",
       "      <th>Action</th>\n",
       "      <td>159.34</td>\n",
       "    </tr>\n",
       "    <tr>\n",
       "      <th>Shooter</th>\n",
       "      <td>113.47</td>\n",
       "    </tr>\n",
       "    <tr>\n",
       "      <th>Sports</th>\n",
       "      <td>69.09</td>\n",
       "    </tr>\n",
       "    <tr>\n",
       "      <th>Role-Playing</th>\n",
       "      <td>48.53</td>\n",
       "    </tr>\n",
       "    <tr>\n",
       "      <th>Racing</th>\n",
       "      <td>27.29</td>\n",
       "    </tr>\n",
       "  </tbody>\n",
       "</table>\n",
       "</div>"
      ],
      "text/plain": [
       "              eu_sales\n",
       "genre                 \n",
       "Action          159.34\n",
       "Shooter         113.47\n",
       "Sports           69.09\n",
       "Role-Playing     48.53\n",
       "Racing           27.29"
      ]
     },
     "execution_count": 72,
     "metadata": {},
     "output_type": "execute_result"
    }
   ],
   "source": [
    "#Топ жанры в Европе\n",
    "top_genres_eu = df.query('year_of_release >= 2012').pivot_table(index='genre', values='eu_sales', aggfunc='sum').nlargest(5, 'eu_sales')\n",
    "top_genres_eu"
   ]
  },
  {
   "cell_type": "code",
   "execution_count": 73,
   "id": "34d39926",
   "metadata": {
    "scrolled": true
   },
   "outputs": [
    {
     "data": {
      "image/png": "[encoded data removed]",
      "text/plain": [
       "<Figure size 720x360 with 1 Axes>"
      ]
     },
     "metadata": {},
     "output_type": "display_data"
    }
   ],
   "source": [
    "top_genres_eu.plot(kind='pie', y='eu_sales', x='platform', autopct='%1.0f%%', figsize=(10, 5), legend=False).set(xlabel='Genres in EU')\n",
    "plt.show()"
   ]
  },
  {
   "cell_type": "code",
   "execution_count": 74,
   "id": "42460b52",
   "metadata": {},
   "outputs": [
    {
     "data": {
      "text/html": [
       "<div>\n",
       "<style scoped>\n",
       "    .dataframe tbody tr th:only-of-type {\n",
       "        vertical-align: middle;\n",
       "    }\n",
       "\n",
       "    .dataframe tbody tr th {\n",
       "        vertical-align: top;\n",
       "    }\n",
       "\n",
       "    .dataframe thead th {\n",
       "        text-align: right;\n",
       "    }\n",
       "</style>\n",
       "<table border=\"1\" class=\"dataframe\">\n",
       "  <thead>\n",
       "    <tr style=\"text-align: right;\">\n",
       "      <th></th>\n",
       "      <th>jp_sales</th>\n",
       "    </tr>\n",
       "    <tr>\n",
       "      <th>genre</th>\n",
       "      <th></th>\n",
       "    </tr>\n",
       "  </thead>\n",
       "  <tbody>\n",
       "    <tr>\n",
       "      <th>Role-Playing</th>\n",
       "      <td>65.44</td>\n",
       "    </tr>\n",
       "    <tr>\n",
       "      <th>Action</th>\n",
       "      <td>52.80</td>\n",
       "    </tr>\n",
       "    <tr>\n",
       "      <th>Misc</th>\n",
       "      <td>12.86</td>\n",
       "    </tr>\n",
       "    <tr>\n",
       "      <th>Simulation</th>\n",
       "      <td>10.41</td>\n",
       "    </tr>\n",
       "    <tr>\n",
       "      <th>Fighting</th>\n",
       "      <td>9.44</td>\n",
       "    </tr>\n",
       "  </tbody>\n",
       "</table>\n",
       "</div>"
      ],
      "text/plain": [
       "              jp_sales\n",
       "genre                 \n",
       "Role-Playing     65.44\n",
       "Action           52.80\n",
       "Misc             12.86\n",
       "Simulation       10.41\n",
       "Fighting          9.44"
      ]
     },
     "execution_count": 74,
     "metadata": {},
     "output_type": "execute_result"
    }
   ],
   "source": [
    "#Топ жанры в Японии\n",
    "top_genres_jp = df.query('year_of_release >= 2012').pivot_table(index='genre', values='jp_sales', aggfunc='sum').nlargest(5, 'jp_sales')\n",
    "top_genres_jp"
   ]
  },
  {
   "cell_type": "code",
   "execution_count": 75,
   "id": "7766e02b",
   "metadata": {
    "scrolled": true
   },
   "outputs": [
    {
     "data": {
      "image/png": "[encoded data removed]",
      "text/plain": [
       "<Figure size 720x360 with 1 Axes>"
      ]
     },
     "metadata": {},
     "output_type": "display_data"
    }
   ],
   "source": [
    "top_genres_jp.plot(kind='pie', y='jp_sales', x='platform', autopct='%1.0f%%', figsize=(10, 5), legend=False).set(xlabel='Genres in JP')\n",
    "plt.show()"
   ]
  },
  {
   "cell_type": "markdown",
   "id": "2dc89979",
   "metadata": {},
   "source": [
    "**Вывод**\n",
    "<br>\n",
    "Четыре первых места делят Action, Shooter, Sports, Role-Playing. Этот список одинаковый в Северной Америке и Европе. Пятое место в Америке - многожанровые игры misc, в Европе предпочитают гонки.\n",
    "<br>\n",
    "Япония отличается и в предпочтениях по жанрам. Их предпочтения: Role-Playing, Action, Misc, Simulation, Fighting\n",
    "<br>"
   ]
  },
  {
   "cell_type": "markdown",
   "id": "1df598dc",
   "metadata": {},
   "source": [
    "### Влияет ли рейтинг ESRB на продажи в отдельном регионе?"
   ]
  },
  {
   "cell_type": "code",
   "execution_count": 76,
   "id": "cefdf8ee",
   "metadata": {},
   "outputs": [
    {
     "data": {
      "text/html": [
       "<div>\n",
       "<style scoped>\n",
       "    .dataframe tbody tr th:only-of-type {\n",
       "        vertical-align: middle;\n",
       "    }\n",
       "\n",
       "    .dataframe tbody tr th {\n",
       "        vertical-align: top;\n",
       "    }\n",
       "\n",
       "    .dataframe thead th {\n",
       "        text-align: right;\n",
       "    }\n",
       "</style>\n",
       "<table border=\"1\" class=\"dataframe\">\n",
       "  <thead>\n",
       "    <tr style=\"text-align: right;\">\n",
       "      <th></th>\n",
       "      <th>na_sales</th>\n",
       "    </tr>\n",
       "    <tr>\n",
       "      <th>rating</th>\n",
       "      <th></th>\n",
       "    </tr>\n",
       "  </thead>\n",
       "  <tbody>\n",
       "    <tr>\n",
       "      <th>E</th>\n",
       "      <td>114.37</td>\n",
       "    </tr>\n",
       "    <tr>\n",
       "      <th>E10+</th>\n",
       "      <td>75.70</td>\n",
       "    </tr>\n",
       "    <tr>\n",
       "      <th>M</th>\n",
       "      <td>231.57</td>\n",
       "    </tr>\n",
       "    <tr>\n",
       "      <th>T</th>\n",
       "      <td>66.02</td>\n",
       "    </tr>\n",
       "    <tr>\n",
       "      <th>unknown</th>\n",
       "      <td>103.31</td>\n",
       "    </tr>\n",
       "  </tbody>\n",
       "</table>\n",
       "</div>"
      ],
      "text/plain": [
       "         na_sales\n",
       "rating           \n",
       "E          114.37\n",
       "E10+        75.70\n",
       "M          231.57\n",
       "T           66.02\n",
       "unknown    103.31"
      ]
     },
     "execution_count": 76,
     "metadata": {},
     "output_type": "execute_result"
    }
   ],
   "source": [
    "#Распределение игр по рейтингу ESRB в США\n",
    "rating_esrb_na = df.loc[df['rating']!= -1].query('year_of_release >= 2012').pivot_table(index='rating', values='na_sales', aggfunc='sum')\n",
    "rating_esrb_na"
   ]
  },
  {
   "cell_type": "code",
   "execution_count": 77,
   "id": "38911419",
   "metadata": {},
   "outputs": [
    {
     "data": {
      "image/png": "[encoded data removed]",
      "text/plain": [
       "<Figure size 720x360 with 1 Axes>"
      ]
     },
     "metadata": {},
     "output_type": "display_data"
    }
   ],
   "source": [
    "rating_esrb_na.plot(kind='pie', y='na_sales', x='rating', autopct='%1.0f%%', figsize=(10, 5), legend=False).set(xlabel='ESRB in North America')\n",
    "plt.show()"
   ]
  },
  {
   "cell_type": "code",
   "execution_count": 78,
   "id": "ed11bd49",
   "metadata": {},
   "outputs": [
    {
     "data": {
      "text/html": [
       "<div>\n",
       "<style scoped>\n",
       "    .dataframe tbody tr th:only-of-type {\n",
       "        vertical-align: middle;\n",
       "    }\n",
       "\n",
       "    .dataframe tbody tr th {\n",
       "        vertical-align: top;\n",
       "    }\n",
       "\n",
       "    .dataframe thead th {\n",
       "        text-align: right;\n",
       "    }\n",
       "</style>\n",
       "<table border=\"1\" class=\"dataframe\">\n",
       "  <thead>\n",
       "    <tr style=\"text-align: right;\">\n",
       "      <th></th>\n",
       "      <th>eu_sales</th>\n",
       "    </tr>\n",
       "    <tr>\n",
       "      <th>rating</th>\n",
       "      <th></th>\n",
       "    </tr>\n",
       "  </thead>\n",
       "  <tbody>\n",
       "    <tr>\n",
       "      <th>E</th>\n",
       "      <td>113.03</td>\n",
       "    </tr>\n",
       "    <tr>\n",
       "      <th>E10+</th>\n",
       "      <td>55.37</td>\n",
       "    </tr>\n",
       "    <tr>\n",
       "      <th>M</th>\n",
       "      <td>193.96</td>\n",
       "    </tr>\n",
       "    <tr>\n",
       "      <th>T</th>\n",
       "      <td>52.96</td>\n",
       "    </tr>\n",
       "    <tr>\n",
       "      <th>unknown</th>\n",
       "      <td>91.50</td>\n",
       "    </tr>\n",
       "  </tbody>\n",
       "</table>\n",
       "</div>"
      ],
      "text/plain": [
       "         eu_sales\n",
       "rating           \n",
       "E          113.03\n",
       "E10+        55.37\n",
       "M          193.96\n",
       "T           52.96\n",
       "unknown     91.50"
      ]
     },
     "execution_count": 78,
     "metadata": {},
     "output_type": "execute_result"
    }
   ],
   "source": [
    "#Распределение игр по рейтингу ESRB в Европе\n",
    "rating_esrb_eu = df.loc[df['rating'] != -1].query('year_of_release >= 2012').pivot_table(index='rating', values='eu_sales', aggfunc='sum')\n",
    "rating_esrb_eu"
   ]
  },
  {
   "cell_type": "code",
   "execution_count": 79,
   "id": "cad427ae",
   "metadata": {},
   "outputs": [
    {
     "data": {
      "image/png": "[encoded data removed]",
      "text/plain": [
       "<Figure size 720x360 with 1 Axes>"
      ]
     },
     "metadata": {},
     "output_type": "display_data"
    }
   ],
   "source": [
    "rating_esrb_eu.plot(kind='pie', y='eu_sales', x='rating', autopct='%1.0f%%', figsize=(10, 5), legend=False).set(xlabel='ESRB in Europe')\n",
    "plt.show()"
   ]
  },
  {
   "cell_type": "code",
   "execution_count": 80,
   "id": "b42d372a",
   "metadata": {},
   "outputs": [
    {
     "data": {
      "text/html": [
       "<div>\n",
       "<style scoped>\n",
       "    .dataframe tbody tr th:only-of-type {\n",
       "        vertical-align: middle;\n",
       "    }\n",
       "\n",
       "    .dataframe tbody tr th {\n",
       "        vertical-align: top;\n",
       "    }\n",
       "\n",
       "    .dataframe thead th {\n",
       "        text-align: right;\n",
       "    }\n",
       "</style>\n",
       "<table border=\"1\" class=\"dataframe\">\n",
       "  <thead>\n",
       "    <tr style=\"text-align: right;\">\n",
       "      <th></th>\n",
       "      <th>jp_sales</th>\n",
       "    </tr>\n",
       "    <tr>\n",
       "      <th>rating</th>\n",
       "      <th></th>\n",
       "    </tr>\n",
       "  </thead>\n",
       "  <tbody>\n",
       "    <tr>\n",
       "      <th>E</th>\n",
       "      <td>28.33</td>\n",
       "    </tr>\n",
       "    <tr>\n",
       "      <th>E10+</th>\n",
       "      <td>8.19</td>\n",
       "    </tr>\n",
       "    <tr>\n",
       "      <th>M</th>\n",
       "      <td>21.20</td>\n",
       "    </tr>\n",
       "    <tr>\n",
       "      <th>T</th>\n",
       "      <td>26.02</td>\n",
       "    </tr>\n",
       "    <tr>\n",
       "      <th>unknown</th>\n",
       "      <td>108.84</td>\n",
       "    </tr>\n",
       "  </tbody>\n",
       "</table>\n",
       "</div>"
      ],
      "text/plain": [
       "         jp_sales\n",
       "rating           \n",
       "E           28.33\n",
       "E10+         8.19\n",
       "M           21.20\n",
       "T           26.02\n",
       "unknown    108.84"
      ]
     },
     "execution_count": 80,
     "metadata": {},
     "output_type": "execute_result"
    }
   ],
   "source": [
    "#Распределение игр по рейтингу ESRB в Японии\n",
    "rating_esrb_jp = df.loc[df['rating'] != -1].query('year_of_release >= 2012').pivot_table(index='rating', values='jp_sales', aggfunc='sum')\n",
    "rating_esrb_jp"
   ]
  },
  {
   "cell_type": "code",
   "execution_count": 81,
   "id": "65cd44cb",
   "metadata": {
    "scrolled": true
   },
   "outputs": [
    {
     "data": {
      "image/png": "[encoded data removed]",
      "text/plain": [
       "<Figure size 720x360 with 1 Axes>"
      ]
     },
     "metadata": {},
     "output_type": "display_data"
    }
   ],
   "source": [
    "rating_esrb_jp.plot(kind='pie', y='jp_sales', x='rating', autopct='%1.0f%%', figsize=(10, 5), legend=False).set(xlabel='ESRB in Japan')\n",
    "plt.show()"
   ]
  },
  {
   "cell_type": "markdown",
   "id": "f4a7a5f5",
   "metadata": {},
   "source": [
    "*Расшифровка рейтинга ESRB*\n",
    "<br>\n",
    "\"E\" (\"Everyone\") — \"Для всех\": Содержание подходит для детей от 6 лет. Такие игры могут понравиться и взрослым. Содержат минимальное насилие, в основном игры «мультяшного» характера.\n",
    "<br>\n",
    "\"E10+\" - \"Everyone 10 and older\" — «Для всех от 10 лет и старше»: Проекты с данным рейтингом могут содержать или немного больше мультипликационного или мягкого насилия, или несколько откровенные сцены, или минимальное количество крови.\n",
    "<br>\n",
    "\"T\" (\"Teen\") — \"Подросткам\": Игра подходит для лиц от 13 лет. Такие игры могут содержать насилие, непристойные сцены, грубый юмор, в меру откровенное сексуальное содержимое, кровь или нечастое использование ненормативной лексики.\n",
    "<br>\n",
    "\"M\"(\"Mature\") — \"Для взрослых\": Игры не подходят для подростков младше 17 лет. Игры с данным рейтингом могут содержать достаточно жестокое насилие, большое количество крови с расчленением, непристойные сексуальные сцены или грубую ненормативную лексику, нежелательную для младшей аудитории."
   ]
  },
  {
   "cell_type": "markdown",
   "id": "1ee44e6e",
   "metadata": {},
   "source": [
    "**Вывод**\n",
    "<br>\n",
    "Портрет пользователя в Северной Америке:\n",
    "в Северной Америке на первом месте американский X360 от Майкрософт, а второе и третье место с небольшим отрывом делят PS4 и PS3\n",
    "<br>\n",
    "Портрет пользователя в Европе:\n",
    "В Европе самые популярные консоли PS4 и PS3, а с большим отрывом на третьем месте X360.\n",
    "<br>\n",
    "Топ популярных жанров: Четыре первых места делят Action, Shooter, Sports, Role-Playing. Этот список одинаковый в Северной Америке и Европе. Пятое место в Америке - многожанровые игры misc, в Европе предпочитают гонки.\n",
    "Практически одинаковое количество всех игр в Северной Америке и Европе выпускается для взрослых, что составляет 38-39%. Также выпускается довольно много игр для детей с рейтингом Е 19-22%, С рейтингом Е10+ также примерно одинаковое количество - 11-13% и 10-11% от всех игр выпускается для подростков. 17-18% игр в данных без рейтинга.\n",
    "<br>\n",
    "Портет пользователя в Японии: Японцы предпочитают Nintendo 3DS. На втором месте PS3, на третьем PSV, а новая платформа PS4 (на тот момент) находится всего лишь на 4 месте с большим отрывом от лидера. Япония опять отличается от всего мира. В Японии 15% игр для всех, 14% для подростков, 11% для взрослых и 4% для детей старше 10. 57% данных по рейтингам, увы, недоступно. Япония отличается и в предпочтениях по жанрам. Их предпочтения: Role-Playing, Action, Misc, Simulation, Fighting\n",
    "<br>\n",
    "В принципе соотношение любимых жанров и рейтинга ESRB вполне объясним. Как мы видим, на первых местах популярные жанры в США и Европе - Action и Shooter, что явно не подходит для детей с рейтингом Е и Е10+. В Японии популярные жанры Role-Playing, Simulation, Misc,что вролне подходит для детей и подростков.\n",
    "<br>"
   ]
  },
  {
   "cell_type": "markdown",
   "id": "9ab496f3",
   "metadata": {},
   "source": [
    "## 6. Проверка гипотез"
   ]
  },
  {
   "cell_type": "markdown",
   "id": "4902b1ee",
   "metadata": {},
   "source": [
    "**Средние пользовательские рейтинги платформ Xbox One и PC одинаковые**"
   ]
  },
  {
   "cell_type": "markdown",
   "id": "c2932169",
   "metadata": {},
   "source": [
    "Проверим первую гипотезу:\n",
    "H0 — средние пользовательские рейтинги платформ Xbox One и PC одинаковые.\n",
    "H1 — средние пользовательские рейтинги платформ Xbox One и PC отличаются.\n",
    "<br>\n",
    "Пороговое значение alpha  0.05\n",
    "В данном анализе будем применим t-тест Стьюдента. Я сформировала гипотезу Н0 и альтернативную гипотезу Н1. Далее проводится анализ. Гипотеза отвергается, либо принимается."
   ]
  },
  {
   "cell_type": "code",
   "execution_count": 82,
   "id": "9f4d5b1a",
   "metadata": {},
   "outputs": [],
   "source": [
    "#Давайте сравним актуальные данные, которые могут повлиять на следующий год\n",
    "data_since_2012 = platforms_since_2012.query('(user_score != -1) and (critic_score != -1)')"
   ]
  },
  {
   "cell_type": "code",
   "execution_count": 83,
   "id": "4ccaad10",
   "metadata": {},
   "outputs": [
    {
     "name": "stdout",
     "output_type": "stream",
     "text": [
      "p-значение: 0.2524258657195588\n",
      "Не получилось отвергнуть нулевую гипотезу\n"
     ]
    }
   ],
   "source": [
    "xbox_one = data_since_2012[data_since_2012['platform'] == 'XOne']['user_score']\n",
    "pc = data_since_2012[data_since_2012['platform'] == 'PC']['user_score']\n",
    "\n",
    "alpha = 0.05\n",
    "\n",
    "results =  st.ttest_ind(\n",
    "    xbox_one, \n",
    "    pc)\n",
    "print('p-значение:', results.pvalue)\n",
    "\n",
    "if (results.pvalue < alpha):\n",
    "    print(\"Отвергаем нулевую гипотезу\")\n",
    "else:\n",
    "    print(\"Не получилось отвергнуть нулевую гипотезу\")"
   ]
  },
  {
   "cell_type": "markdown",
   "id": "d66f052e",
   "metadata": {},
   "source": [
    "**Вывод**\n",
    "<br>\n",
    "Можно сделать вывод, что средние рейтинги платформ Xbox и PC не сильно отличаются. Соответсвенно, у нас не получилось отвергнуть нулевую гипотезу"
   ]
  },
  {
   "cell_type": "markdown",
   "id": "d99f80aa",
   "metadata": {},
   "source": [
    "**Средние пользовательские рейтинги жанров Action (англ. «действие», экшен-игры) и Sports (англ. «спортивные соревнования») разные**"
   ]
  },
  {
   "cell_type": "markdown",
   "id": "c34cdb38",
   "metadata": {},
   "source": [
    "Проверим вторую гипотезу:\n",
    "H0 — средние пользовательские рейтинги жанров Action и Sports одинаковые.\n",
    "H1 — средние пользовательские рейтинги жанров Action и Sports разные."
   ]
  },
  {
   "cell_type": "code",
   "execution_count": 84,
   "id": "e1f9eee4",
   "metadata": {
    "scrolled": true
   },
   "outputs": [
    {
     "name": "stdout",
     "output_type": "stream",
     "text": [
      "p-значение: 6.70766861002191e-40\n",
      "Отвергаем нулевую гипотезу\n"
     ]
    }
   ],
   "source": [
    "action = data_since_2012[data_since_2012['genre'] == 'Action']['user_score']   \n",
    "sport = data_since_2012[data_since_2012['genre'] == 'Sports']['user_score']\n",
    "\n",
    "alpha = 0.05\n",
    "\n",
    "results =  st.ttest_ind(\n",
    "    action, \n",
    "    sport)\n",
    "print('p-значение:', results.pvalue)\n",
    "\n",
    "if (results.pvalue < alpha):\n",
    "    print(\"Отвергаем нулевую гипотезу\")\n",
    "else:\n",
    "    print(\"Не получилось отвергнуть нулевую гипотезу\")"
   ]
  },
  {
   "cell_type": "markdown",
   "id": "f84bb485",
   "metadata": {},
   "source": [
    "**Вывод**\n",
    "<br>\n",
    "Судя по цифрам, мы отвергаем нулевую гипотезу и рейтинги жанров action и sports отличаются. Как мы видели ранее, рейтинги жанра action выше."
   ]
  },
  {
   "cell_type": "markdown",
   "id": "6d91a42d",
   "metadata": {},
   "source": [
    "## 6. Общий вывод"
   ]
  },
  {
   "cell_type": "markdown",
   "id": "dafd0682",
   "metadata": {},
   "source": [
    "Была выполнена предобработка данных, заменены пропуски, переименованы столбцы и изменены типы данных. Пропуски были заменены. Дубликаты не найдены.\n",
    "Удалены строки с пропусками в названиях, так как такие строки не несут для нас нужной информации. Произведена частичная замена пропусков года релиза в тех случаях, когда игра была выпущена на других платформах.\n",
    "В столбце user score найдено значение tbd, что означает to be determined. Рейтинг еще не установлен, соответственно, значение было заменено на -1, но в дальнейшем было учтено при анализе данных. Создан столбец с общей суммой продаж.\n",
    "При анализе данных был выявлен актуальный период времени, который стоит учитывать в планировании следующего отчетного года.\n",
    "С 2002 года по 2011 был подъем в игровой индустрии, а далее все пошло на спад. Пиком можно считать 2008-2009 годы, когда было выпущено больше всего игр. В последние годы идет тренд на снижение. С 2012 года по 2016 год примерно выпуск игр был одинаковым, соответсвенно, можно предположить,что тенденция может сохраниться. Именно период с 2012 по 2016 будем считать актуальным периодом."
   ]
  },
  {
   "cell_type": "markdown",
   "id": "d71fb7df",
   "metadata": {},
   "source": [
    "**Рекомендации**\n",
    "<br>\n",
    "-При планировании кампании на 2017 год стоит учитывать актуальные данные с 2012 года по 2016 год.\n",
    "<br>\n",
    "-Не стоит ориентироваться при продаже игр на пользовательские оценки, так как они не особо влияют на продажу игр, оценки критиков стоит принимать во внимание, хотя они тоже не играют ключевую роль.\n",
    "<br>\n",
    "-Стоит учитывать выпуск новых консолей, устаревание предыдущих моделей,  соответственно будет спад на покупку новой игры. Диверсифицировать продажи игр по платформам. Но очень важно учитывать особенности предпочтений пользователей из различных регионов, т.к. они достаточно сильно различаются.  В Северной Америке на первом месте американский X360 от Майкрософт, а второе и третье место с небольшим отрывом делят PS4 и PS3\n",
    "В Европе самые популярные консоли PS4 и PS3, а с большим отрывом на третьем месте X360.\n",
    "Япония сильно отличается от Северной Америки и Европы предпочитает Nintendo 3DS. На втором месте PS3, на третьем PSV, а новая платформа PS4 (на тот момент) находится всего лишь на 4 месте с большим отрывом от лидера.\n",
    "<br>\n",
    "-Продажа игр регионам должна осуществляться следующим образом: В Америке и Европе предпочитают Action и Shooter. Такие жанры более характерны для рейтинга M (для взрослых). А в Японии стоит сделать упор на  Role-Playing в первую очередь а потом уже Action, Misc и Simulation. Больше всего популярны игры для детей с рейтингом Е и T для подростков. В Америке и Европе рекомендуется осуществлять также продажи игр с рейтингом E (для всех)"
   ]
  },
  {
   "cell_type": "markdown",
   "id": "d067b9df",
   "metadata": {},
   "source": [
    "- [x]  открыт файл\n",
    "- [x]  файлы изучены (выведены первые строки, метод info())\n",
    "- [x]  замените названия столбцов (приведите к нижнему регистру)\n",
    "- [x]  определены пропущенные значения\n",
    "- [x]  заполнены пропущенные значения\n",
    "- [x]  есть пояснение, какие пропущенные значения обнаружены\n",
    "- [x]  изменены типы данных\n",
    "- [x]  есть пояснение, в каких столбцах изменены типы и почему\n",
    "- [x]  опишите причины, которые могли привести к пропускам;\n",
    "- [x]  обратите внимание на аббревиатуру 'tbd' в столбцах с рейтингом. Отдельно разберите это значение и опишите, как его обработать;\n",
    "- [x]  посчитайте суммарные продажи во всех регионах и запишите их в отдельный столбец.\n",
    "- [x]  Посмотрите, сколько игр выпускалось в разные годы. Важны ли данные за все периоды?\n",
    "- [x]  Посмотрите, как менялись продажи по платформам. Выберите платформы с наибольшими суммарными продажами и постройте распределение по годам. За какой характерный срок появляются новые и исчезают старые платформы?\n",
    "- [x]  Возьмите данные за соответствующий актуальный период. Актуальный период определите самостоятельно в результате исследования предыдущих вопросов. Основной фактор — эти данные помогут построить прогноз на 2017 год.\n",
    "- [x]  Не учитывайте в работе данные за предыдущие годы.\n",
    "- [x]  Какие платформы лидируют по продажам, растут или падают? Выберите несколько потенциально прибыльных платформ.\n",
    "- [x]  Постройте график «ящик с усами» по глобальным продажам игр в разбивке по платформам. Опишите результат.\n",
    "- [x]  Посмотрите, как влияют на продажи внутри одной популярной платформы отзывы пользователей и критиков. Постройте диаграмму рассеяния и посчитайте корреляцию между отзывами и продажами. Сформулируйте выводы.\n",
    "- [x]  Соотнесите выводы с продажами игр на других платформах.\n",
    "- [x]  Посмотрите на общее распределение игр по жанрам. Что можно сказать о самых прибыльных жанрах? Выделяются ли жанры с высокими и низкими продажами?\n",
    "- [x] Определите для пользователя каждого региона (NA, EU, JP): Самые популярные платформы (топ-5). Самые популярные жанры (топ-5). Влияет ли рейтинг ESRB на продажи в отдельном регионе?\n",
    "- [x] Проверьте гипотезы: Средние пользовательские рейтинги платформ Xbox One и PC одинаковые; Средние пользовательские рейтинги жанров Action (англ. «действие», экшен-игры) и Sports (англ. «спортивные соревнования») разные.\n",
    "- [x] Написать общий вывод"
   ]
  }
 ],
 "metadata": {
  "ExecuteTimeLog": [
   {
    "duration": 1083,
    "start_time": "2022-02-13T20:01:32.603Z"
   },
   {
    "duration": 1348,
    "start_time": "2022-02-13T20:01:33.687Z"
   },
   {
    "duration": 10916,
    "start_time": "2022-02-13T20:01:24.125Z"
   },
   {
    "duration": 10481,
    "start_time": "2022-02-13T20:01:24.561Z"
   },
   {
    "duration": 10429,
    "start_time": "2022-02-13T20:01:24.614Z"
   },
   {
    "duration": 10392,
    "start_time": "2022-02-13T20:01:24.653Z"
   },
   {
    "duration": 10325,
    "start_time": "2022-02-13T20:01:24.721Z"
   },
   {
    "duration": 10293,
    "start_time": "2022-02-13T20:01:24.755Z"
   },
   {
    "duration": 10262,
    "start_time": "2022-02-13T20:01:24.787Z"
   },
   {
    "duration": 10195,
    "start_time": "2022-02-13T20:01:24.855Z"
   },
   {
    "duration": 10166,
    "start_time": "2022-02-13T20:01:24.886Z"
   },
   {
    "duration": 10138,
    "start_time": "2022-02-13T20:01:24.915Z"
   },
   {
    "duration": 10058,
    "start_time": "2022-02-13T20:01:24.996Z"
   },
   {
    "duration": 10028,
    "start_time": "2022-02-13T20:01:25.028Z"
   },
   {
    "duration": 9992,
    "start_time": "2022-02-13T20:01:25.065Z"
   },
   {
    "duration": 9918,
    "start_time": "2022-02-13T20:01:25.140Z"
   },
   {
    "duration": 9878,
    "start_time": "2022-02-13T20:01:25.182Z"
   },
   {
    "duration": 9842,
    "start_time": "2022-02-13T20:01:25.219Z"
   },
   {
    "duration": 9758,
    "start_time": "2022-02-13T20:01:25.304Z"
   },
   {
    "duration": 9713,
    "start_time": "2022-02-13T20:01:25.351Z"
   },
   {
    "duration": 9670,
    "start_time": "2022-02-13T20:01:25.395Z"
   },
   {
    "duration": 9600,
    "start_time": "2022-02-13T20:01:25.466Z"
   },
   {
    "duration": 9572,
    "start_time": "2022-02-13T20:01:25.496Z"
   },
   {
    "duration": 9546,
    "start_time": "2022-02-13T20:01:25.523Z"
   },
   {
    "duration": 9515,
    "start_time": "2022-02-13T20:01:25.555Z"
   },
   {
    "duration": 9459,
    "start_time": "2022-02-13T20:01:25.613Z"
   },
   {
    "duration": 9430,
    "start_time": "2022-02-13T20:01:25.643Z"
   },
   {
    "duration": 9404,
    "start_time": "2022-02-13T20:01:25.670Z"
   },
   {
    "duration": 9379,
    "start_time": "2022-02-13T20:01:25.697Z"
   },
   {
    "duration": 9322,
    "start_time": "2022-02-13T20:01:25.755Z"
   },
   {
    "duration": 9295,
    "start_time": "2022-02-13T20:01:25.783Z"
   },
   {
    "duration": 9267,
    "start_time": "2022-02-13T20:01:25.812Z"
   },
   {
    "duration": 9290,
    "start_time": "2022-02-13T20:01:25.840Z"
   },
   {
    "duration": 9234,
    "start_time": "2022-02-13T20:01:25.898Z"
   },
   {
    "duration": 9205,
    "start_time": "2022-02-13T20:01:25.928Z"
   },
   {
    "duration": 9180,
    "start_time": "2022-02-13T20:01:25.954Z"
   },
   {
    "duration": 9154,
    "start_time": "2022-02-13T20:01:25.981Z"
   },
   {
    "duration": 9095,
    "start_time": "2022-02-13T20:01:26.042Z"
   },
   {
    "duration": 9061,
    "start_time": "2022-02-13T20:01:26.077Z"
   },
   {
    "duration": 9034,
    "start_time": "2022-02-13T20:01:26.105Z"
   },
   {
    "duration": 8972,
    "start_time": "2022-02-13T20:01:26.169Z"
   },
   {
    "duration": 8945,
    "start_time": "2022-02-13T20:01:26.197Z"
   },
   {
    "duration": 8915,
    "start_time": "2022-02-13T20:01:26.229Z"
   },
   {
    "duration": 8890,
    "start_time": "2022-02-13T20:01:26.255Z"
   },
   {
    "duration": 8819,
    "start_time": "2022-02-13T20:01:26.327Z"
   },
   {
    "duration": 8792,
    "start_time": "2022-02-13T20:01:26.356Z"
   },
   {
    "duration": 8756,
    "start_time": "2022-02-13T20:01:26.393Z"
   },
   {
    "duration": 8690,
    "start_time": "2022-02-13T20:01:26.460Z"
   },
   {
    "duration": 8660,
    "start_time": "2022-02-13T20:01:26.492Z"
   },
   {
    "duration": 8620,
    "start_time": "2022-02-13T20:01:26.533Z"
   },
   {
    "duration": 8555,
    "start_time": "2022-02-13T20:01:26.599Z"
   },
   {
    "duration": 8528,
    "start_time": "2022-02-13T20:01:26.628Z"
   },
   {
    "duration": 8498,
    "start_time": "2022-02-13T20:01:26.659Z"
   },
   {
    "duration": 8473,
    "start_time": "2022-02-13T20:01:26.686Z"
   },
   {
    "duration": 8414,
    "start_time": "2022-02-13T20:01:26.746Z"
   },
   {
    "duration": 8388,
    "start_time": "2022-02-13T20:01:26.773Z"
   },
   {
    "duration": 8362,
    "start_time": "2022-02-13T20:01:26.801Z"
   },
   {
    "duration": 8335,
    "start_time": "2022-02-13T20:01:26.829Z"
   },
   {
    "duration": 8275,
    "start_time": "2022-02-13T20:01:26.890Z"
   },
   {
    "duration": 8252,
    "start_time": "2022-02-13T20:01:26.915Z"
   },
   {
    "duration": 8225,
    "start_time": "2022-02-13T20:01:26.943Z"
   },
   {
    "duration": 8201,
    "start_time": "2022-02-13T20:01:26.969Z"
   },
   {
    "duration": 8203,
    "start_time": "2022-02-13T20:01:27.028Z"
   },
   {
    "duration": 8178,
    "start_time": "2022-02-13T20:01:27.054Z"
   },
   {
    "duration": 8151,
    "start_time": "2022-02-13T20:01:27.082Z"
   },
   {
    "duration": 8127,
    "start_time": "2022-02-13T20:01:27.108Z"
   },
   {
    "duration": 8070,
    "start_time": "2022-02-13T20:01:27.166Z"
   },
   {
    "duration": 8045,
    "start_time": "2022-02-13T20:01:27.192Z"
   },
   {
    "duration": 8019,
    "start_time": "2022-02-13T20:01:27.220Z"
   },
   {
    "duration": 7995,
    "start_time": "2022-02-13T20:01:27.245Z"
   },
   {
    "duration": 7933,
    "start_time": "2022-02-13T20:01:27.308Z"
   },
   {
    "duration": 7910,
    "start_time": "2022-02-13T20:01:27.333Z"
   },
   {
    "duration": 7882,
    "start_time": "2022-02-13T20:01:27.362Z"
   },
   {
    "duration": 7854,
    "start_time": "2022-02-13T20:01:27.391Z"
   },
   {
    "duration": 7796,
    "start_time": "2022-02-13T20:01:27.451Z"
   },
   {
    "duration": 7771,
    "start_time": "2022-02-13T20:01:27.477Z"
   },
   {
    "duration": 7741,
    "start_time": "2022-02-13T20:01:27.508Z"
   },
   {
    "duration": 51,
    "start_time": "2022-02-13T20:05:38.183Z"
   },
   {
    "duration": 1134,
    "start_time": "2022-02-13T20:05:48.021Z"
   },
   {
    "duration": 43,
    "start_time": "2022-02-13T20:05:49.156Z"
   },
   {
    "duration": 9,
    "start_time": "2022-02-13T20:05:49.201Z"
   },
   {
    "duration": 21,
    "start_time": "2022-02-13T20:05:49.212Z"
   },
   {
    "duration": 17,
    "start_time": "2022-02-13T20:05:49.235Z"
   },
   {
    "duration": 4,
    "start_time": "2022-02-13T20:05:49.254Z"
   },
   {
    "duration": 6,
    "start_time": "2022-02-13T20:05:49.259Z"
   },
   {
    "duration": 11,
    "start_time": "2022-02-13T20:05:49.267Z"
   },
   {
    "duration": 11,
    "start_time": "2022-02-13T20:05:49.280Z"
   },
   {
    "duration": 46,
    "start_time": "2022-02-13T20:05:49.292Z"
   },
   {
    "duration": 4,
    "start_time": "2022-02-13T20:05:49.339Z"
   },
   {
    "duration": 356,
    "start_time": "2022-02-13T20:05:49.344Z"
   },
   {
    "duration": 3,
    "start_time": "2022-02-13T20:05:49.701Z"
   },
   {
    "duration": 10,
    "start_time": "2022-02-13T20:05:49.706Z"
   },
   {
    "duration": 17,
    "start_time": "2022-02-13T20:05:49.717Z"
   },
   {
    "duration": 9,
    "start_time": "2022-02-13T20:05:49.736Z"
   },
   {
    "duration": 12,
    "start_time": "2022-02-13T20:05:49.746Z"
   },
   {
    "duration": 8,
    "start_time": "2022-02-13T20:05:49.760Z"
   },
   {
    "duration": 7,
    "start_time": "2022-02-13T20:05:49.769Z"
   },
   {
    "duration": 14,
    "start_time": "2022-02-13T20:05:49.777Z"
   },
   {
    "duration": 413,
    "start_time": "2022-02-13T20:05:49.793Z"
   },
   {
    "duration": 289,
    "start_time": "2022-02-13T20:05:50.207Z"
   },
   {
    "duration": 10,
    "start_time": "2022-02-13T20:05:50.501Z"
   },
   {
    "duration": 47,
    "start_time": "2022-02-13T20:05:50.513Z"
   },
   {
    "duration": 13,
    "start_time": "2022-02-13T20:05:50.561Z"
   },
   {
    "duration": 225,
    "start_time": "2022-02-13T20:05:50.575Z"
   },
   {
    "duration": 217,
    "start_time": "2022-02-13T20:05:50.802Z"
   },
   {
    "duration": 203,
    "start_time": "2022-02-13T20:05:51.020Z"
   },
   {
    "duration": 269,
    "start_time": "2022-02-13T20:05:51.227Z"
   },
   {
    "duration": 274,
    "start_time": "2022-02-13T20:05:51.498Z"
   },
   {
    "duration": 152,
    "start_time": "2022-02-13T20:05:51.774Z"
   },
   {
    "duration": 10,
    "start_time": "2022-02-13T20:05:51.930Z"
   },
   {
    "duration": 333,
    "start_time": "2022-02-13T20:05:51.942Z"
   },
   {
    "duration": 2852,
    "start_time": "2022-02-13T20:05:49.425Z"
   },
   {
    "duration": 2826,
    "start_time": "2022-02-13T20:05:49.453Z"
   },
   {
    "duration": 2797,
    "start_time": "2022-02-13T20:05:49.483Z"
   },
   {
    "duration": 2743,
    "start_time": "2022-02-13T20:05:49.538Z"
   },
   {
    "duration": 2717,
    "start_time": "2022-02-13T20:05:49.565Z"
   },
   {
    "duration": 2690,
    "start_time": "2022-02-13T20:05:49.594Z"
   },
   {
    "duration": 2664,
    "start_time": "2022-02-13T20:05:49.621Z"
   },
   {
    "duration": 2604,
    "start_time": "2022-02-13T20:05:49.682Z"
   },
   {
    "duration": 2577,
    "start_time": "2022-02-13T20:05:49.711Z"
   },
   {
    "duration": 2551,
    "start_time": "2022-02-13T20:05:49.738Z"
   },
   {
    "duration": 2523,
    "start_time": "2022-02-13T20:05:49.767Z"
   },
   {
    "duration": 2463,
    "start_time": "2022-02-13T20:05:49.828Z"
   },
   {
    "duration": 2437,
    "start_time": "2022-02-13T20:05:49.856Z"
   },
   {
    "duration": 2409,
    "start_time": "2022-02-13T20:05:49.885Z"
   },
   {
    "duration": 2378,
    "start_time": "2022-02-13T20:05:49.917Z"
   },
   {
    "duration": 2316,
    "start_time": "2022-02-13T20:05:49.980Z"
   },
   {
    "duration": 2289,
    "start_time": "2022-02-13T20:05:50.008Z"
   },
   {
    "duration": 2262,
    "start_time": "2022-02-13T20:05:50.036Z"
   },
   {
    "duration": 2235,
    "start_time": "2022-02-13T20:05:50.065Z"
   },
   {
    "duration": 2181,
    "start_time": "2022-02-13T20:05:50.120Z"
   },
   {
    "duration": 2152,
    "start_time": "2022-02-13T20:05:50.150Z"
   },
   {
    "duration": 2127,
    "start_time": "2022-02-13T20:05:50.176Z"
   },
   {
    "duration": 2098,
    "start_time": "2022-02-13T20:05:50.206Z"
   },
   {
    "duration": 2044,
    "start_time": "2022-02-13T20:05:50.261Z"
   },
   {
    "duration": 2014,
    "start_time": "2022-02-13T20:05:50.292Z"
   },
   {
    "duration": 1988,
    "start_time": "2022-02-13T20:05:50.319Z"
   },
   {
    "duration": 1961,
    "start_time": "2022-02-13T20:05:50.348Z"
   },
   {
    "duration": 1894,
    "start_time": "2022-02-13T20:05:50.416Z"
   },
   {
    "duration": 1868,
    "start_time": "2022-02-13T20:05:50.443Z"
   },
   {
    "duration": 1843,
    "start_time": "2022-02-13T20:05:50.469Z"
   },
   {
    "duration": 1790,
    "start_time": "2022-02-13T20:05:50.524Z"
   },
   {
    "duration": 1764,
    "start_time": "2022-02-13T20:05:50.551Z"
   },
   {
    "duration": 1736,
    "start_time": "2022-02-13T20:05:50.579Z"
   },
   {
    "duration": 1711,
    "start_time": "2022-02-13T20:05:50.605Z"
   },
   {
    "duration": 1657,
    "start_time": "2022-02-13T20:05:50.672Z"
   },
   {
    "duration": 1632,
    "start_time": "2022-02-13T20:05:50.699Z"
   },
   {
    "duration": 1606,
    "start_time": "2022-02-13T20:05:50.726Z"
   },
   {
    "duration": 1579,
    "start_time": "2022-02-13T20:05:50.754Z"
   },
   {
    "duration": 1523,
    "start_time": "2022-02-13T20:05:50.811Z"
   },
   {
    "duration": 1496,
    "start_time": "2022-02-13T20:05:50.840Z"
   },
   {
    "duration": 1468,
    "start_time": "2022-02-13T20:05:50.869Z"
   },
   {
    "duration": 1444,
    "start_time": "2022-02-13T20:05:50.894Z"
   },
   {
    "duration": 1387,
    "start_time": "2022-02-13T20:05:50.952Z"
   },
   {
    "duration": 1362,
    "start_time": "2022-02-13T20:05:50.978Z"
   },
   {
    "duration": 59,
    "start_time": "2022-02-13T20:08:48.602Z"
   },
   {
    "duration": 165,
    "start_time": "2022-02-13T20:08:57.598Z"
   },
   {
    "duration": 41,
    "start_time": "2022-02-13T20:09:44.707Z"
   },
   {
    "duration": 1091,
    "start_time": "2022-02-13T20:09:57.519Z"
   },
   {
    "duration": 46,
    "start_time": "2022-02-13T20:09:58.612Z"
   },
   {
    "duration": 10,
    "start_time": "2022-02-13T20:09:58.660Z"
   },
   {
    "duration": 9,
    "start_time": "2022-02-13T20:09:58.671Z"
   },
   {
    "duration": 15,
    "start_time": "2022-02-13T20:09:58.681Z"
   },
   {
    "duration": 4,
    "start_time": "2022-02-13T20:09:58.698Z"
   },
   {
    "duration": 30,
    "start_time": "2022-02-13T20:09:58.704Z"
   },
   {
    "duration": 14,
    "start_time": "2022-02-13T20:09:58.737Z"
   },
   {
    "duration": 15,
    "start_time": "2022-02-13T20:09:58.754Z"
   },
   {
    "duration": 16,
    "start_time": "2022-02-13T20:09:58.771Z"
   },
   {
    "duration": 4,
    "start_time": "2022-02-13T20:09:58.789Z"
   },
   {
    "duration": 362,
    "start_time": "2022-02-13T20:09:58.831Z"
   },
   {
    "duration": 3,
    "start_time": "2022-02-13T20:09:59.195Z"
   },
   {
    "duration": 9,
    "start_time": "2022-02-13T20:09:59.199Z"
   },
   {
    "duration": 28,
    "start_time": "2022-02-13T20:09:59.209Z"
   },
   {
    "duration": 16,
    "start_time": "2022-02-13T20:09:59.239Z"
   },
   {
    "duration": 14,
    "start_time": "2022-02-13T20:09:59.256Z"
   },
   {
    "duration": 9,
    "start_time": "2022-02-13T20:09:59.272Z"
   },
   {
    "duration": 6,
    "start_time": "2022-02-13T20:09:59.283Z"
   },
   {
    "duration": 40,
    "start_time": "2022-02-13T20:09:59.290Z"
   },
   {
    "duration": 400,
    "start_time": "2022-02-13T20:09:59.332Z"
   },
   {
    "duration": 283,
    "start_time": "2022-02-13T20:09:59.734Z"
   },
   {
    "duration": 16,
    "start_time": "2022-02-13T20:10:00.021Z"
   },
   {
    "duration": 34,
    "start_time": "2022-02-13T20:10:00.039Z"
   },
   {
    "duration": 13,
    "start_time": "2022-02-13T20:10:00.075Z"
   },
   {
    "duration": 222,
    "start_time": "2022-02-13T20:10:00.089Z"
   },
   {
    "duration": 186,
    "start_time": "2022-02-13T20:10:00.313Z"
   },
   {
    "duration": 193,
    "start_time": "2022-02-13T20:10:00.500Z"
   },
   {
    "duration": 191,
    "start_time": "2022-02-13T20:10:00.695Z"
   },
   {
    "duration": 247,
    "start_time": "2022-02-13T20:10:00.888Z"
   },
   {
    "duration": 144,
    "start_time": "2022-02-13T20:10:01.137Z"
   },
   {
    "duration": 9,
    "start_time": "2022-02-13T20:10:01.283Z"
   },
   {
    "duration": 249,
    "start_time": "2022-02-13T20:10:01.293Z"
   },
   {
    "duration": 3244,
    "start_time": "2022-02-13T20:09:58.300Z"
   },
   {
    "duration": 3218,
    "start_time": "2022-02-13T20:09:58.327Z"
   },
   {
    "duration": 3131,
    "start_time": "2022-02-13T20:09:58.415Z"
   },
   {
    "duration": 3099,
    "start_time": "2022-02-13T20:09:58.448Z"
   },
   {
    "duration": 3070,
    "start_time": "2022-02-13T20:09:58.478Z"
   },
   {
    "duration": 3007,
    "start_time": "2022-02-13T20:09:58.542Z"
   },
   {
    "duration": 2835,
    "start_time": "2022-02-13T20:09:58.715Z"
   },
   {
    "duration": 2748,
    "start_time": "2022-02-13T20:09:58.803Z"
   },
   {
    "duration": 2720,
    "start_time": "2022-02-13T20:09:58.832Z"
   },
   {
    "duration": 2693,
    "start_time": "2022-02-13T20:09:58.860Z"
   },
   {
    "duration": 2607,
    "start_time": "2022-02-13T20:09:58.947Z"
   },
   {
    "duration": 2580,
    "start_time": "2022-02-13T20:09:58.975Z"
   },
   {
    "duration": 2552,
    "start_time": "2022-02-13T20:09:59.004Z"
   },
   {
    "duration": 2527,
    "start_time": "2022-02-13T20:09:59.030Z"
   },
   {
    "duration": 2362,
    "start_time": "2022-02-13T20:09:59.196Z"
   },
   {
    "duration": 2273,
    "start_time": "2022-02-13T20:09:59.286Z"
   },
   {
    "duration": 2117,
    "start_time": "2022-02-13T20:09:59.443Z"
   },
   {
    "duration": 2089,
    "start_time": "2022-02-13T20:09:59.472Z"
   },
   {
    "duration": 2059,
    "start_time": "2022-02-13T20:09:59.503Z"
   },
   {
    "duration": 1965,
    "start_time": "2022-02-13T20:09:59.598Z"
   },
   {
    "duration": 1930,
    "start_time": "2022-02-13T20:09:59.635Z"
   },
   {
    "duration": 1899,
    "start_time": "2022-02-13T20:09:59.667Z"
   },
   {
    "duration": 1808,
    "start_time": "2022-02-13T20:09:59.759Z"
   },
   {
    "duration": 1782,
    "start_time": "2022-02-13T20:09:59.785Z"
   },
   {
    "duration": 1752,
    "start_time": "2022-02-13T20:09:59.816Z"
   },
   {
    "duration": 1644,
    "start_time": "2022-02-13T20:09:59.925Z"
   },
   {
    "duration": 1540,
    "start_time": "2022-02-13T20:10:00.031Z"
   },
   {
    "duration": 347,
    "start_time": "2022-02-13T20:10:01.224Z"
   },
   {
    "duration": 319,
    "start_time": "2022-02-13T20:10:01.253Z"
   },
   {
    "duration": 293,
    "start_time": "2022-02-13T20:10:01.280Z"
   },
   {
    "duration": 203,
    "start_time": "2022-02-13T20:10:01.371Z"
   },
   {
    "duration": 178,
    "start_time": "2022-02-13T20:10:01.397Z"
   },
   {
    "duration": 148,
    "start_time": "2022-02-13T20:10:01.428Z"
   },
   {
    "duration": 63,
    "start_time": "2022-02-13T20:10:01.514Z"
   },
   {
    "duration": -37,
    "start_time": "2022-02-13T20:10:01.615Z"
   },
   {
    "duration": -66,
    "start_time": "2022-02-13T20:10:01.645Z"
   },
   {
    "duration": -96,
    "start_time": "2022-02-13T20:10:01.676Z"
   },
   {
    "duration": -76,
    "start_time": "2022-02-13T20:10:01.706Z"
   },
   {
    "duration": -141,
    "start_time": "2022-02-13T20:10:01.772Z"
   },
   {
    "duration": -167,
    "start_time": "2022-02-13T20:10:01.799Z"
   },
   {
    "duration": -193,
    "start_time": "2022-02-13T20:10:01.826Z"
   },
   {
    "duration": -218,
    "start_time": "2022-02-13T20:10:01.852Z"
   },
   {
    "duration": -283,
    "start_time": "2022-02-13T20:10:01.917Z"
   },
   {
    "duration": -308,
    "start_time": "2022-02-13T20:10:01.943Z"
   },
   {
    "duration": 590,
    "start_time": "2022-02-13T20:10:51.291Z"
   },
   {
    "duration": 550,
    "start_time": "2022-02-13T20:11:59.478Z"
   },
   {
    "duration": 1443,
    "start_time": "2022-02-13T20:14:02.761Z"
   },
   {
    "duration": 68,
    "start_time": "2022-02-13T20:14:04.206Z"
   },
   {
    "duration": 15,
    "start_time": "2022-02-13T20:14:04.276Z"
   },
   {
    "duration": 13,
    "start_time": "2022-02-13T20:14:04.293Z"
   },
   {
    "duration": 43,
    "start_time": "2022-02-13T20:14:04.308Z"
   },
   {
    "duration": 6,
    "start_time": "2022-02-13T20:14:04.353Z"
   },
   {
    "duration": 7,
    "start_time": "2022-02-13T20:14:04.361Z"
   },
   {
    "duration": 18,
    "start_time": "2022-02-13T20:14:04.372Z"
   },
   {
    "duration": 42,
    "start_time": "2022-02-13T20:14:04.393Z"
   },
   {
    "duration": 12,
    "start_time": "2022-02-13T20:14:04.437Z"
   },
   {
    "duration": 4,
    "start_time": "2022-02-13T20:14:04.451Z"
   },
   {
    "duration": 362,
    "start_time": "2022-02-13T20:14:04.456Z"
   },
   {
    "duration": 10,
    "start_time": "2022-02-13T20:14:04.820Z"
   },
   {
    "duration": 7,
    "start_time": "2022-02-13T20:14:04.832Z"
   },
   {
    "duration": 12,
    "start_time": "2022-02-13T20:14:04.840Z"
   },
   {
    "duration": 14,
    "start_time": "2022-02-13T20:14:04.853Z"
   },
   {
    "duration": 14,
    "start_time": "2022-02-13T20:14:04.868Z"
   },
   {
    "duration": 9,
    "start_time": "2022-02-13T20:14:04.883Z"
   },
   {
    "duration": 6,
    "start_time": "2022-02-13T20:14:04.894Z"
   },
   {
    "duration": 12,
    "start_time": "2022-02-13T20:14:04.931Z"
   },
   {
    "duration": 394,
    "start_time": "2022-02-13T20:14:04.945Z"
   },
   {
    "duration": 285,
    "start_time": "2022-02-13T20:14:05.340Z"
   },
   {
    "duration": 10,
    "start_time": "2022-02-13T20:14:05.630Z"
   },
   {
    "duration": 31,
    "start_time": "2022-02-13T20:14:05.643Z"
   },
   {
    "duration": 12,
    "start_time": "2022-02-13T20:14:05.676Z"
   },
   {
    "duration": 219,
    "start_time": "2022-02-13T20:14:05.689Z"
   },
   {
    "duration": 205,
    "start_time": "2022-02-13T20:14:05.910Z"
   },
   {
    "duration": 197,
    "start_time": "2022-02-13T20:14:06.117Z"
   },
   {
    "duration": 190,
    "start_time": "2022-02-13T20:14:06.315Z"
   },
   {
    "duration": 253,
    "start_time": "2022-02-13T20:14:06.507Z"
   },
   {
    "duration": 140,
    "start_time": "2022-02-13T20:14:06.762Z"
   },
   {
    "duration": 9,
    "start_time": "2022-02-13T20:14:06.903Z"
   },
   {
    "duration": 536,
    "start_time": "2022-02-13T20:14:06.914Z"
   },
   {
    "duration": 5,
    "start_time": "2022-02-13T20:14:07.451Z"
   },
   {
    "duration": 9,
    "start_time": "2022-02-13T20:14:07.458Z"
   },
   {
    "duration": 8,
    "start_time": "2022-02-13T20:14:07.468Z"
   },
   {
    "duration": 259,
    "start_time": "2022-02-13T20:14:07.477Z"
   },
   {
    "duration": 5,
    "start_time": "2022-02-13T20:14:07.738Z"
   },
   {
    "duration": 288,
    "start_time": "2022-02-13T20:14:07.744Z"
   },
   {
    "duration": 4,
    "start_time": "2022-02-13T20:14:08.034Z"
   },
   {
    "duration": 11,
    "start_time": "2022-02-13T20:14:08.039Z"
   },
   {
    "duration": 273,
    "start_time": "2022-02-13T20:14:08.051Z"
   },
   {
    "duration": 5,
    "start_time": "2022-02-13T20:14:08.329Z"
   },
   {
    "duration": 271,
    "start_time": "2022-02-13T20:14:08.335Z"
   },
   {
    "duration": 5,
    "start_time": "2022-02-13T20:14:08.608Z"
   },
   {
    "duration": 20,
    "start_time": "2022-02-13T20:14:08.615Z"
   },
   {
    "duration": 306,
    "start_time": "2022-02-13T20:14:08.637Z"
   },
   {
    "duration": 5,
    "start_time": "2022-02-13T20:14:08.945Z"
   },
   {
    "duration": 328,
    "start_time": "2022-02-13T20:14:08.952Z"
   },
   {
    "duration": 4,
    "start_time": "2022-02-13T20:14:09.281Z"
   },
   {
    "duration": 7,
    "start_time": "2022-02-13T20:14:09.287Z"
   },
   {
    "duration": 15,
    "start_time": "2022-02-13T20:14:09.296Z"
   },
   {
    "duration": 15,
    "start_time": "2022-02-13T20:14:09.331Z"
   },
   {
    "duration": 226,
    "start_time": "2022-02-13T20:14:09.348Z"
   },
   {
    "duration": 10,
    "start_time": "2022-02-13T20:14:09.575Z"
   },
   {
    "duration": 283,
    "start_time": "2022-02-13T20:14:09.587Z"
   },
   {
    "duration": 16,
    "start_time": "2022-02-13T20:14:09.872Z"
   },
   {
    "duration": 110,
    "start_time": "2022-02-13T20:14:09.890Z"
   },
   {
    "duration": 33,
    "start_time": "2022-02-13T20:14:10.002Z"
   },
   {
    "duration": 103,
    "start_time": "2022-02-13T20:14:10.036Z"
   },
   {
    "duration": 14,
    "start_time": "2022-02-13T20:14:10.141Z"
   },
   {
    "duration": 114,
    "start_time": "2022-02-13T20:14:10.156Z"
   },
   {
    "duration": 16,
    "start_time": "2022-02-13T20:14:10.271Z"
   },
   {
    "duration": 118,
    "start_time": "2022-02-13T20:14:10.288Z"
   },
   {
    "duration": 23,
    "start_time": "2022-02-13T20:14:10.408Z"
   },
   {
    "duration": 104,
    "start_time": "2022-02-13T20:14:10.433Z"
   },
   {
    "duration": 16,
    "start_time": "2022-02-13T20:14:10.539Z"
   },
   {
    "duration": 114,
    "start_time": "2022-02-13T20:14:10.559Z"
   },
   {
    "duration": 17,
    "start_time": "2022-02-13T20:14:10.675Z"
   },
   {
    "duration": 107,
    "start_time": "2022-02-13T20:14:10.693Z"
   },
   {
    "duration": 16,
    "start_time": "2022-02-13T20:14:10.801Z"
   },
   {
    "duration": 98,
    "start_time": "2022-02-13T20:14:10.819Z"
   },
   {
    "duration": 24,
    "start_time": "2022-02-13T20:14:10.919Z"
   },
   {
    "duration": 108,
    "start_time": "2022-02-13T20:14:10.945Z"
   },
   {
    "duration": 5,
    "start_time": "2022-02-13T20:14:11.055Z"
   },
   {
    "duration": 7,
    "start_time": "2022-02-13T20:14:11.062Z"
   },
   {
    "duration": 9,
    "start_time": "2022-02-13T20:14:11.071Z"
   },
   {
    "duration": 54,
    "start_time": "2022-02-13T20:29:42.552Z"
   },
   {
    "duration": 1508,
    "start_time": "2022-02-14T15:53:36.741Z"
   },
   {
    "duration": 65,
    "start_time": "2022-02-14T15:53:38.251Z"
   },
   {
    "duration": 14,
    "start_time": "2022-02-14T15:53:38.318Z"
   },
   {
    "duration": 36,
    "start_time": "2022-02-14T15:53:38.335Z"
   },
   {
    "duration": 24,
    "start_time": "2022-02-14T15:53:38.374Z"
   },
   {
    "duration": 7,
    "start_time": "2022-02-14T15:53:38.400Z"
   },
   {
    "duration": 7,
    "start_time": "2022-02-14T15:53:38.409Z"
   },
   {
    "duration": 57,
    "start_time": "2022-02-14T15:53:38.419Z"
   },
   {
    "duration": 19,
    "start_time": "2022-02-14T15:53:38.480Z"
   },
   {
    "duration": 18,
    "start_time": "2022-02-14T15:53:38.502Z"
   },
   {
    "duration": 5,
    "start_time": "2022-02-14T15:53:38.522Z"
   },
   {
    "duration": 614,
    "start_time": "2022-02-14T15:53:38.530Z"
   },
   {
    "duration": 4,
    "start_time": "2022-02-14T15:53:39.147Z"
   },
   {
    "duration": 8,
    "start_time": "2022-02-14T15:53:39.169Z"
   },
   {
    "duration": 18,
    "start_time": "2022-02-14T15:53:39.180Z"
   },
   {
    "duration": 16,
    "start_time": "2022-02-14T15:53:39.200Z"
   },
   {
    "duration": 53,
    "start_time": "2022-02-14T15:53:39.219Z"
   },
   {
    "duration": 14,
    "start_time": "2022-02-14T15:53:39.274Z"
   },
   {
    "duration": 8,
    "start_time": "2022-02-14T15:53:39.291Z"
   },
   {
    "duration": 25,
    "start_time": "2022-02-14T15:53:39.301Z"
   },
   {
    "duration": 726,
    "start_time": "2022-02-14T15:53:39.328Z"
   },
   {
    "duration": 508,
    "start_time": "2022-02-14T15:53:40.056Z"
   },
   {
    "duration": 15,
    "start_time": "2022-02-14T15:53:40.569Z"
   },
   {
    "duration": 52,
    "start_time": "2022-02-14T15:53:40.586Z"
   },
   {
    "duration": 43,
    "start_time": "2022-02-14T15:53:40.641Z"
   },
   {
    "duration": 384,
    "start_time": "2022-02-14T15:53:40.687Z"
   },
   {
    "duration": 349,
    "start_time": "2022-02-14T15:53:41.082Z"
   },
   {
    "duration": 344,
    "start_time": "2022-02-14T15:53:41.435Z"
   },
   {
    "duration": 348,
    "start_time": "2022-02-14T15:53:41.782Z"
   },
   {
    "duration": 418,
    "start_time": "2022-02-14T15:53:42.132Z"
   },
   {
    "duration": 253,
    "start_time": "2022-02-14T15:53:42.552Z"
   },
   {
    "duration": 14,
    "start_time": "2022-02-14T15:53:42.807Z"
   },
   {
    "duration": 852,
    "start_time": "2022-02-14T15:53:42.824Z"
   },
   {
    "duration": 9,
    "start_time": "2022-02-14T15:53:43.679Z"
   },
   {
    "duration": 10,
    "start_time": "2022-02-14T15:53:43.691Z"
   },
   {
    "duration": 10,
    "start_time": "2022-02-14T15:53:43.704Z"
   },
   {
    "duration": 473,
    "start_time": "2022-02-14T15:53:43.716Z"
   },
   {
    "duration": 7,
    "start_time": "2022-02-14T15:53:44.191Z"
   },
   {
    "duration": 409,
    "start_time": "2022-02-14T15:53:44.200Z"
   },
   {
    "duration": 7,
    "start_time": "2022-02-14T15:53:44.611Z"
   },
   {
    "duration": 11,
    "start_time": "2022-02-14T15:53:44.620Z"
   },
   {
    "duration": 457,
    "start_time": "2022-02-14T15:53:44.633Z"
   },
   {
    "duration": 8,
    "start_time": "2022-02-14T15:53:45.092Z"
   },
   {
    "duration": 377,
    "start_time": "2022-02-14T15:53:45.102Z"
   },
   {
    "duration": 6,
    "start_time": "2022-02-14T15:53:45.482Z"
   },
   {
    "duration": 30,
    "start_time": "2022-02-14T15:53:45.490Z"
   },
   {
    "duration": 579,
    "start_time": "2022-02-14T15:53:45.522Z"
   },
   {
    "duration": 6,
    "start_time": "2022-02-14T15:53:46.103Z"
   },
   {
    "duration": 461,
    "start_time": "2022-02-14T15:53:46.112Z"
   },
   {
    "duration": 7,
    "start_time": "2022-02-14T15:53:46.575Z"
   },
   {
    "duration": 12,
    "start_time": "2022-02-14T15:53:46.585Z"
   },
   {
    "duration": 15,
    "start_time": "2022-02-14T15:53:46.600Z"
   },
   {
    "duration": 63,
    "start_time": "2022-02-14T15:53:46.618Z"
   },
   {
    "duration": 385,
    "start_time": "2022-02-14T15:53:46.684Z"
   },
   {
    "duration": 15,
    "start_time": "2022-02-14T15:53:47.071Z"
   },
   {
    "duration": 431,
    "start_time": "2022-02-14T15:53:47.088Z"
   },
   {
    "duration": 26,
    "start_time": "2022-02-14T15:53:47.522Z"
   },
   {
    "duration": 177,
    "start_time": "2022-02-14T15:53:47.550Z"
   },
   {
    "duration": 24,
    "start_time": "2022-02-14T15:53:47.730Z"
   },
   {
    "duration": 178,
    "start_time": "2022-02-14T15:53:47.757Z"
   },
   {
    "duration": 34,
    "start_time": "2022-02-14T15:53:47.937Z"
   },
   {
    "duration": 171,
    "start_time": "2022-02-14T15:53:47.973Z"
   },
   {
    "duration": 27,
    "start_time": "2022-02-14T15:53:48.146Z"
   },
   {
    "duration": 171,
    "start_time": "2022-02-14T15:53:48.176Z"
   },
   {
    "duration": 24,
    "start_time": "2022-02-14T15:53:48.349Z"
   },
   {
    "duration": 180,
    "start_time": "2022-02-14T15:53:48.375Z"
   },
   {
    "duration": 26,
    "start_time": "2022-02-14T15:53:48.557Z"
   },
   {
    "duration": 190,
    "start_time": "2022-02-14T15:53:48.586Z"
   },
   {
    "duration": 89,
    "start_time": "2022-02-14T15:53:48.780Z"
   },
   {
    "duration": 423,
    "start_time": "2022-02-14T15:53:48.873Z"
   },
   {
    "duration": 84,
    "start_time": "2022-02-14T15:53:49.299Z"
   },
   {
    "duration": 304,
    "start_time": "2022-02-14T15:53:49.385Z"
   },
   {
    "duration": 80,
    "start_time": "2022-02-14T15:53:49.691Z"
   },
   {
    "duration": 258,
    "start_time": "2022-02-14T15:53:49.774Z"
   },
   {
    "duration": 9,
    "start_time": "2022-02-14T15:53:50.034Z"
   },
   {
    "duration": 32,
    "start_time": "2022-02-14T15:53:50.045Z"
   },
   {
    "duration": 11,
    "start_time": "2022-02-14T15:53:50.080Z"
   },
   {
    "duration": 1565,
    "start_time": "2022-02-17T11:36:27.559Z"
   },
   {
    "duration": 1223,
    "start_time": "2022-02-17T11:36:46.944Z"
   },
   {
    "duration": 53,
    "start_time": "2022-02-17T11:36:48.169Z"
   },
   {
    "duration": 10,
    "start_time": "2022-02-17T11:36:48.224Z"
   },
   {
    "duration": 24,
    "start_time": "2022-02-17T11:36:48.235Z"
   },
   {
    "duration": 18,
    "start_time": "2022-02-17T11:36:48.261Z"
   },
   {
    "duration": 9,
    "start_time": "2022-02-17T11:36:48.281Z"
   },
   {
    "duration": 14,
    "start_time": "2022-02-17T11:36:48.292Z"
   },
   {
    "duration": 24,
    "start_time": "2022-02-17T11:36:48.308Z"
   },
   {
    "duration": 29,
    "start_time": "2022-02-17T11:36:48.335Z"
   },
   {
    "duration": 20,
    "start_time": "2022-02-17T11:36:48.366Z"
   },
   {
    "duration": 9,
    "start_time": "2022-02-17T11:36:48.387Z"
   },
   {
    "duration": 17,
    "start_time": "2022-02-17T11:36:48.397Z"
   },
   {
    "duration": 10,
    "start_time": "2022-02-17T11:36:48.416Z"
   },
   {
    "duration": 391,
    "start_time": "2022-02-17T11:36:48.428Z"
   },
   {
    "duration": 3,
    "start_time": "2022-02-17T11:36:48.821Z"
   },
   {
    "duration": 17,
    "start_time": "2022-02-17T11:36:48.827Z"
   },
   {
    "duration": 23,
    "start_time": "2022-02-17T11:36:48.846Z"
   },
   {
    "duration": 12,
    "start_time": "2022-02-17T11:36:48.871Z"
   },
   {
    "duration": 14,
    "start_time": "2022-02-17T11:36:48.885Z"
   },
   {
    "duration": 10,
    "start_time": "2022-02-17T11:36:48.900Z"
   },
   {
    "duration": 6,
    "start_time": "2022-02-17T11:36:48.912Z"
   },
   {
    "duration": 16,
    "start_time": "2022-02-17T11:36:48.920Z"
   },
   {
    "duration": 484,
    "start_time": "2022-02-17T11:36:48.969Z"
   },
   {
    "duration": 368,
    "start_time": "2022-02-17T11:36:49.456Z"
   },
   {
    "duration": 12,
    "start_time": "2022-02-17T11:36:49.826Z"
   },
   {
    "duration": 51,
    "start_time": "2022-02-17T11:36:49.839Z"
   },
   {
    "duration": 12,
    "start_time": "2022-02-17T11:36:49.892Z"
   },
   {
    "duration": 250,
    "start_time": "2022-02-17T11:36:49.906Z"
   },
   {
    "duration": 242,
    "start_time": "2022-02-17T11:36:50.158Z"
   },
   {
    "duration": 270,
    "start_time": "2022-02-17T11:36:50.402Z"
   },
   {
    "duration": 452,
    "start_time": "2022-02-17T11:36:50.674Z"
   },
   {
    "duration": 309,
    "start_time": "2022-02-17T11:36:51.170Z"
   },
   {
    "duration": 184,
    "start_time": "2022-02-17T11:36:51.481Z"
   },
   {
    "duration": 10,
    "start_time": "2022-02-17T11:36:51.667Z"
   },
   {
    "duration": 627,
    "start_time": "2022-02-17T11:36:51.679Z"
   },
   {
    "duration": 6,
    "start_time": "2022-02-17T11:36:52.308Z"
   },
   {
    "duration": 10,
    "start_time": "2022-02-17T11:36:52.316Z"
   },
   {
    "duration": 12,
    "start_time": "2022-02-17T11:36:52.327Z"
   },
   {
    "duration": 357,
    "start_time": "2022-02-17T11:36:52.340Z"
   },
   {
    "duration": 5,
    "start_time": "2022-02-17T11:36:52.700Z"
   },
   {
    "duration": 331,
    "start_time": "2022-02-17T11:36:52.707Z"
   },
   {
    "duration": 4,
    "start_time": "2022-02-17T11:36:53.040Z"
   },
   {
    "duration": 8,
    "start_time": "2022-02-17T11:36:53.046Z"
   },
   {
    "duration": 335,
    "start_time": "2022-02-17T11:36:53.069Z"
   },
   {
    "duration": 4,
    "start_time": "2022-02-17T11:36:53.406Z"
   },
   {
    "duration": 284,
    "start_time": "2022-02-17T11:36:53.412Z"
   },
   {
    "duration": 4,
    "start_time": "2022-02-17T11:36:53.698Z"
   },
   {
    "duration": 9,
    "start_time": "2022-02-17T11:36:53.704Z"
   },
   {
    "duration": 322,
    "start_time": "2022-02-17T11:36:53.715Z"
   },
   {
    "duration": 5,
    "start_time": "2022-02-17T11:36:54.039Z"
   },
   {
    "duration": 379,
    "start_time": "2022-02-17T11:36:54.045Z"
   },
   {
    "duration": 4,
    "start_time": "2022-02-17T11:36:54.426Z"
   },
   {
    "duration": 10,
    "start_time": "2022-02-17T11:36:54.432Z"
   },
   {
    "duration": 27,
    "start_time": "2022-02-17T11:36:54.444Z"
   },
   {
    "duration": 13,
    "start_time": "2022-02-17T11:36:54.472Z"
   },
   {
    "duration": 289,
    "start_time": "2022-02-17T11:36:54.487Z"
   },
   {
    "duration": 12,
    "start_time": "2022-02-17T11:36:54.778Z"
   },
   {
    "duration": 349,
    "start_time": "2022-02-17T11:36:54.792Z"
   },
   {
    "duration": 27,
    "start_time": "2022-02-17T11:36:55.143Z"
   },
   {
    "duration": 121,
    "start_time": "2022-02-17T11:36:55.171Z"
   },
   {
    "duration": 17,
    "start_time": "2022-02-17T11:36:55.294Z"
   },
   {
    "duration": 137,
    "start_time": "2022-02-17T11:36:55.313Z"
   },
   {
    "duration": 27,
    "start_time": "2022-02-17T11:36:55.452Z"
   },
   {
    "duration": 121,
    "start_time": "2022-02-17T11:36:55.481Z"
   },
   {
    "duration": 17,
    "start_time": "2022-02-17T11:36:55.604Z"
   },
   {
    "duration": 144,
    "start_time": "2022-02-17T11:36:55.623Z"
   },
   {
    "duration": 17,
    "start_time": "2022-02-17T11:36:55.769Z"
   },
   {
    "duration": 137,
    "start_time": "2022-02-17T11:36:55.791Z"
   },
   {
    "duration": 17,
    "start_time": "2022-02-17T11:36:55.930Z"
   },
   {
    "duration": 148,
    "start_time": "2022-02-17T11:36:55.949Z"
   },
   {
    "duration": 22,
    "start_time": "2022-02-17T11:36:56.099Z"
   },
   {
    "duration": 141,
    "start_time": "2022-02-17T11:36:56.124Z"
   },
   {
    "duration": 22,
    "start_time": "2022-02-17T11:36:56.269Z"
   },
   {
    "duration": 148,
    "start_time": "2022-02-17T11:36:56.294Z"
   },
   {
    "duration": 32,
    "start_time": "2022-02-17T11:36:56.444Z"
   },
   {
    "duration": 136,
    "start_time": "2022-02-17T11:36:56.478Z"
   },
   {
    "duration": 6,
    "start_time": "2022-02-17T11:36:56.617Z"
   },
   {
    "duration": 10,
    "start_time": "2022-02-17T11:36:56.625Z"
   },
   {
    "duration": 8,
    "start_time": "2022-02-17T11:36:56.637Z"
   },
   {
    "duration": 6,
    "start_time": "2022-02-17T11:37:16.142Z"
   },
   {
    "duration": 5,
    "start_time": "2022-02-17T11:37:18.132Z"
   },
   {
    "duration": 1212,
    "start_time": "2022-02-18T16:42:46.920Z"
   },
   {
    "duration": 62,
    "start_time": "2022-02-18T16:42:48.134Z"
   },
   {
    "duration": 10,
    "start_time": "2022-02-18T16:42:48.199Z"
   },
   {
    "duration": 9,
    "start_time": "2022-02-18T16:42:48.211Z"
   },
   {
    "duration": 21,
    "start_time": "2022-02-18T16:42:48.222Z"
   },
   {
    "duration": 24,
    "start_time": "2022-02-18T16:42:48.245Z"
   },
   {
    "duration": 6,
    "start_time": "2022-02-18T16:42:48.271Z"
   },
   {
    "duration": 15,
    "start_time": "2022-02-18T16:42:48.281Z"
   },
   {
    "duration": 15,
    "start_time": "2022-02-18T16:42:48.299Z"
   },
   {
    "duration": 16,
    "start_time": "2022-02-18T16:42:48.316Z"
   },
   {
    "duration": 39,
    "start_time": "2022-02-18T16:42:48.333Z"
   },
   {
    "duration": 9,
    "start_time": "2022-02-18T16:42:48.373Z"
   },
   {
    "duration": 6,
    "start_time": "2022-02-18T16:42:48.384Z"
   },
   {
    "duration": 405,
    "start_time": "2022-02-18T16:42:48.392Z"
   },
   {
    "duration": 3,
    "start_time": "2022-02-18T16:42:48.799Z"
   },
   {
    "duration": 11,
    "start_time": "2022-02-18T16:42:48.805Z"
   },
   {
    "duration": 20,
    "start_time": "2022-02-18T16:42:48.818Z"
   },
   {
    "duration": 13,
    "start_time": "2022-02-18T16:42:48.839Z"
   },
   {
    "duration": 29,
    "start_time": "2022-02-18T16:42:48.854Z"
   },
   {
    "duration": 10,
    "start_time": "2022-02-18T16:42:48.885Z"
   },
   {
    "duration": 10,
    "start_time": "2022-02-18T16:42:48.897Z"
   },
   {
    "duration": 18,
    "start_time": "2022-02-18T16:42:48.908Z"
   },
   {
    "duration": 510,
    "start_time": "2022-02-18T16:42:48.930Z"
   },
   {
    "duration": 354,
    "start_time": "2022-02-18T16:42:49.443Z"
   },
   {
    "duration": 11,
    "start_time": "2022-02-18T16:42:49.798Z"
   },
   {
    "duration": 32,
    "start_time": "2022-02-18T16:42:49.811Z"
   },
   {
    "duration": 32,
    "start_time": "2022-02-18T16:42:49.845Z"
   },
   {
    "duration": 238,
    "start_time": "2022-02-18T16:42:49.879Z"
   },
   {
    "duration": 245,
    "start_time": "2022-02-18T16:42:50.120Z"
   },
   {
    "duration": 240,
    "start_time": "2022-02-18T16:42:50.370Z"
   },
   {
    "duration": 242,
    "start_time": "2022-02-18T16:42:50.612Z"
   },
   {
    "duration": 303,
    "start_time": "2022-02-18T16:42:50.856Z"
   },
   {
    "duration": 179,
    "start_time": "2022-02-18T16:42:51.162Z"
   },
   {
    "duration": 11,
    "start_time": "2022-02-18T16:42:51.343Z"
   },
   {
    "duration": 613,
    "start_time": "2022-02-18T16:42:51.356Z"
   },
   {
    "duration": 6,
    "start_time": "2022-02-18T16:42:51.970Z"
   },
   {
    "duration": 9,
    "start_time": "2022-02-18T16:42:51.978Z"
   },
   {
    "duration": 9,
    "start_time": "2022-02-18T16:42:51.988Z"
   },
   {
    "duration": 324,
    "start_time": "2022-02-18T16:42:51.998Z"
   },
   {
    "duration": 5,
    "start_time": "2022-02-18T16:42:52.325Z"
   },
   {
    "duration": 360,
    "start_time": "2022-02-18T16:42:52.332Z"
   },
   {
    "duration": 6,
    "start_time": "2022-02-18T16:42:52.694Z"
   },
   {
    "duration": 8,
    "start_time": "2022-02-18T16:42:52.702Z"
   },
   {
    "duration": 306,
    "start_time": "2022-02-18T16:42:52.712Z"
   },
   {
    "duration": 6,
    "start_time": "2022-02-18T16:42:53.021Z"
   },
   {
    "duration": 345,
    "start_time": "2022-02-18T16:42:53.029Z"
   },
   {
    "duration": 4,
    "start_time": "2022-02-18T16:42:53.376Z"
   },
   {
    "duration": 10,
    "start_time": "2022-02-18T16:42:53.382Z"
   },
   {
    "duration": 333,
    "start_time": "2022-02-18T16:42:53.394Z"
   },
   {
    "duration": 5,
    "start_time": "2022-02-18T16:42:53.729Z"
   },
   {
    "duration": 375,
    "start_time": "2022-02-18T16:42:53.736Z"
   },
   {
    "duration": 7,
    "start_time": "2022-02-18T16:42:54.113Z"
   },
   {
    "duration": 8,
    "start_time": "2022-02-18T16:42:54.122Z"
   },
   {
    "duration": 21,
    "start_time": "2022-02-18T16:42:54.132Z"
   },
   {
    "duration": 14,
    "start_time": "2022-02-18T16:42:54.170Z"
   },
   {
    "duration": 293,
    "start_time": "2022-02-18T16:42:54.185Z"
   },
   {
    "duration": 13,
    "start_time": "2022-02-18T16:42:54.480Z"
   },
   {
    "duration": 339,
    "start_time": "2022-02-18T16:42:54.496Z"
   },
   {
    "duration": 33,
    "start_time": "2022-02-18T16:42:54.837Z"
   },
   {
    "duration": 120,
    "start_time": "2022-02-18T16:42:54.872Z"
   },
   {
    "duration": 19,
    "start_time": "2022-02-18T16:42:54.994Z"
   },
   {
    "duration": 138,
    "start_time": "2022-02-18T16:42:55.016Z"
   },
   {
    "duration": 25,
    "start_time": "2022-02-18T16:42:55.157Z"
   },
   {
    "duration": 130,
    "start_time": "2022-02-18T16:42:55.185Z"
   },
   {
    "duration": 20,
    "start_time": "2022-02-18T16:42:55.318Z"
   },
   {
    "duration": 145,
    "start_time": "2022-02-18T16:42:55.340Z"
   },
   {
    "duration": 20,
    "start_time": "2022-02-18T16:42:55.487Z"
   },
   {
    "duration": 140,
    "start_time": "2022-02-18T16:42:55.513Z"
   },
   {
    "duration": 26,
    "start_time": "2022-02-18T16:42:55.656Z"
   },
   {
    "duration": 128,
    "start_time": "2022-02-18T16:42:55.684Z"
   },
   {
    "duration": 16,
    "start_time": "2022-02-18T16:42:55.814Z"
   },
   {
    "duration": 118,
    "start_time": "2022-02-18T16:42:55.832Z"
   },
   {
    "duration": 27,
    "start_time": "2022-02-18T16:42:55.952Z"
   },
   {
    "duration": 114,
    "start_time": "2022-02-18T16:42:55.981Z"
   },
   {
    "duration": 17,
    "start_time": "2022-02-18T16:42:56.097Z"
   },
   {
    "duration": 130,
    "start_time": "2022-02-18T16:42:56.116Z"
   },
   {
    "duration": 6,
    "start_time": "2022-02-18T16:42:56.248Z"
   },
   {
    "duration": 17,
    "start_time": "2022-02-18T16:42:56.256Z"
   },
   {
    "duration": 9,
    "start_time": "2022-02-18T16:42:56.275Z"
   },
   {
    "duration": 400,
    "start_time": "2022-02-18T16:44:17.594Z"
   },
   {
    "duration": 1318,
    "start_time": "2022-02-18T16:44:30.362Z"
   },
   {
    "duration": 98,
    "start_time": "2022-02-18T16:44:31.682Z"
   },
   {
    "duration": 11,
    "start_time": "2022-02-18T16:44:31.782Z"
   },
   {
    "duration": 18,
    "start_time": "2022-02-18T16:44:31.795Z"
   },
   {
    "duration": 66,
    "start_time": "2022-02-18T16:44:31.815Z"
   },
   {
    "duration": 5,
    "start_time": "2022-02-18T16:44:31.883Z"
   },
   {
    "duration": 9,
    "start_time": "2022-02-18T16:44:31.889Z"
   },
   {
    "duration": 70,
    "start_time": "2022-02-18T16:44:31.900Z"
   },
   {
    "duration": 18,
    "start_time": "2022-02-18T16:44:31.973Z"
   },
   {
    "duration": 19,
    "start_time": "2022-02-18T16:44:31.993Z"
   },
   {
    "duration": 5,
    "start_time": "2022-02-18T16:44:32.014Z"
   },
   {
    "duration": 373,
    "start_time": "2022-02-18T16:44:32.070Z"
   },
   {
    "duration": -351,
    "start_time": "2022-02-18T16:44:32.798Z"
   },
   {
    "duration": -355,
    "start_time": "2022-02-18T16:44:32.803Z"
   },
   {
    "duration": -358,
    "start_time": "2022-02-18T16:44:32.807Z"
   },
   {
    "duration": -359,
    "start_time": "2022-02-18T16:44:32.810Z"
   },
   {
    "duration": -362,
    "start_time": "2022-02-18T16:44:32.814Z"
   },
   {
    "duration": -365,
    "start_time": "2022-02-18T16:44:32.818Z"
   },
   {
    "duration": -368,
    "start_time": "2022-02-18T16:44:32.822Z"
   },
   {
    "duration": -370,
    "start_time": "2022-02-18T16:44:32.825Z"
   },
   {
    "duration": -373,
    "start_time": "2022-02-18T16:44:32.829Z"
   },
   {
    "duration": -377,
    "start_time": "2022-02-18T16:44:32.834Z"
   },
   {
    "duration": -379,
    "start_time": "2022-02-18T16:44:32.838Z"
   },
   {
    "duration": -382,
    "start_time": "2022-02-18T16:44:32.842Z"
   },
   {
    "duration": -386,
    "start_time": "2022-02-18T16:44:32.847Z"
   },
   {
    "duration": -389,
    "start_time": "2022-02-18T16:44:32.851Z"
   },
   {
    "duration": -393,
    "start_time": "2022-02-18T16:44:32.856Z"
   },
   {
    "duration": -396,
    "start_time": "2022-02-18T16:44:32.860Z"
   },
   {
    "duration": -399,
    "start_time": "2022-02-18T16:44:32.864Z"
   },
   {
    "duration": -422,
    "start_time": "2022-02-18T16:44:32.888Z"
   },
   {
    "duration": -425,
    "start_time": "2022-02-18T16:44:32.892Z"
   },
   {
    "duration": -427,
    "start_time": "2022-02-18T16:44:32.896Z"
   },
   {
    "duration": -430,
    "start_time": "2022-02-18T16:44:32.900Z"
   },
   {
    "duration": -441,
    "start_time": "2022-02-18T16:44:32.912Z"
   },
   {
    "duration": -445,
    "start_time": "2022-02-18T16:44:32.917Z"
   },
   {
    "duration": -455,
    "start_time": "2022-02-18T16:44:32.928Z"
   },
   {
    "duration": -459,
    "start_time": "2022-02-18T16:44:32.933Z"
   },
   {
    "duration": -469,
    "start_time": "2022-02-18T16:44:32.944Z"
   },
   {
    "duration": -472,
    "start_time": "2022-02-18T16:44:32.948Z"
   },
   {
    "duration": -474,
    "start_time": "2022-02-18T16:44:32.951Z"
   },
   {
    "duration": -485,
    "start_time": "2022-02-18T16:44:32.963Z"
   },
   {
    "duration": -488,
    "start_time": "2022-02-18T16:44:32.967Z"
   },
   {
    "duration": -499,
    "start_time": "2022-02-18T16:44:32.979Z"
   },
   {
    "duration": -510,
    "start_time": "2022-02-18T16:44:32.991Z"
   },
   {
    "duration": -514,
    "start_time": "2022-02-18T16:44:32.996Z"
   },
   {
    "duration": -516,
    "start_time": "2022-02-18T16:44:33.000Z"
   },
   {
    "duration": -528,
    "start_time": "2022-02-18T16:44:33.013Z"
   },
   {
    "duration": -532,
    "start_time": "2022-02-18T16:44:33.018Z"
   },
   {
    "duration": -544,
    "start_time": "2022-02-18T16:44:33.031Z"
   },
   {
    "duration": -547,
    "start_time": "2022-02-18T16:44:33.035Z"
   },
   {
    "duration": -558,
    "start_time": "2022-02-18T16:44:33.047Z"
   },
   {
    "duration": -562,
    "start_time": "2022-02-18T16:44:33.052Z"
   },
   {
    "duration": -574,
    "start_time": "2022-02-18T16:44:33.065Z"
   },
   {
    "duration": -585,
    "start_time": "2022-02-18T16:44:33.077Z"
   },
   {
    "duration": -588,
    "start_time": "2022-02-18T16:44:33.081Z"
   },
   {
    "duration": -599,
    "start_time": "2022-02-18T16:44:33.094Z"
   },
   {
    "duration": -602,
    "start_time": "2022-02-18T16:44:33.098Z"
   },
   {
    "duration": -606,
    "start_time": "2022-02-18T16:44:33.103Z"
   },
   {
    "duration": -608,
    "start_time": "2022-02-18T16:44:33.106Z"
   },
   {
    "duration": -611,
    "start_time": "2022-02-18T16:44:33.110Z"
   },
   {
    "duration": -615,
    "start_time": "2022-02-18T16:44:33.115Z"
   },
   {
    "duration": -619,
    "start_time": "2022-02-18T16:44:33.120Z"
   },
   {
    "duration": -622,
    "start_time": "2022-02-18T16:44:33.124Z"
   },
   {
    "duration": -625,
    "start_time": "2022-02-18T16:44:33.128Z"
   },
   {
    "duration": -627,
    "start_time": "2022-02-18T16:44:33.131Z"
   },
   {
    "duration": -630,
    "start_time": "2022-02-18T16:44:33.135Z"
   },
   {
    "duration": -633,
    "start_time": "2022-02-18T16:44:33.139Z"
   },
   {
    "duration": -636,
    "start_time": "2022-02-18T16:44:33.143Z"
   },
   {
    "duration": -638,
    "start_time": "2022-02-18T16:44:33.146Z"
   },
   {
    "duration": -641,
    "start_time": "2022-02-18T16:44:33.150Z"
   },
   {
    "duration": -644,
    "start_time": "2022-02-18T16:44:33.154Z"
   },
   {
    "duration": -646,
    "start_time": "2022-02-18T16:44:33.157Z"
   },
   {
    "duration": -649,
    "start_time": "2022-02-18T16:44:33.161Z"
   },
   {
    "duration": -595,
    "start_time": "2022-02-18T16:44:33.164Z"
   },
   {
    "duration": -598,
    "start_time": "2022-02-18T16:44:33.169Z"
   },
   {
    "duration": -600,
    "start_time": "2022-02-18T16:44:33.172Z"
   },
   {
    "duration": -604,
    "start_time": "2022-02-18T16:44:33.177Z"
   },
   {
    "duration": -607,
    "start_time": "2022-02-18T16:44:33.180Z"
   },
   {
    "duration": -610,
    "start_time": "2022-02-18T16:44:33.184Z"
   },
   {
    "duration": 264,
    "start_time": "2022-02-18T16:44:43.660Z"
   },
   {
    "duration": 4,
    "start_time": "2022-02-18T16:44:49.581Z"
   },
   {
    "duration": 5,
    "start_time": "2022-02-18T16:44:51.986Z"
   },
   {
    "duration": 1461,
    "start_time": "2022-02-18T16:45:00.039Z"
   },
   {
    "duration": 100,
    "start_time": "2022-02-18T16:45:01.502Z"
   },
   {
    "duration": 64,
    "start_time": "2022-02-18T16:45:01.605Z"
   },
   {
    "duration": 10,
    "start_time": "2022-02-18T16:45:01.672Z"
   },
   {
    "duration": 24,
    "start_time": "2022-02-18T16:45:01.684Z"
   },
   {
    "duration": 8,
    "start_time": "2022-02-18T16:45:01.710Z"
   },
   {
    "duration": 17,
    "start_time": "2022-02-18T16:45:01.721Z"
   },
   {
    "duration": 33,
    "start_time": "2022-02-18T16:45:01.741Z"
   },
   {
    "duration": 14,
    "start_time": "2022-02-18T16:45:01.776Z"
   },
   {
    "duration": 21,
    "start_time": "2022-02-18T16:45:01.792Z"
   },
   {
    "duration": 5,
    "start_time": "2022-02-18T16:45:01.815Z"
   },
   {
    "duration": 10,
    "start_time": "2022-02-18T16:45:01.821Z"
   },
   {
    "duration": 33,
    "start_time": "2022-02-18T16:45:01.833Z"
   },
   {
    "duration": 379,
    "start_time": "2022-02-18T16:45:01.868Z"
   },
   {
    "duration": -200,
    "start_time": "2022-02-18T16:45:02.451Z"
   },
   {
    "duration": -211,
    "start_time": "2022-02-18T16:45:02.463Z"
   },
   {
    "duration": -214,
    "start_time": "2022-02-18T16:45:02.467Z"
   },
   {
    "duration": -219,
    "start_time": "2022-02-18T16:45:02.473Z"
   },
   {
    "duration": -229,
    "start_time": "2022-02-18T16:45:02.484Z"
   },
   {
    "duration": -232,
    "start_time": "2022-02-18T16:45:02.489Z"
   },
   {
    "duration": -235,
    "start_time": "2022-02-18T16:45:02.493Z"
   },
   {
    "duration": -238,
    "start_time": "2022-02-18T16:45:02.497Z"
   },
   {
    "duration": -240,
    "start_time": "2022-02-18T16:45:02.500Z"
   },
   {
    "duration": -243,
    "start_time": "2022-02-18T16:45:02.504Z"
   },
   {
    "duration": -245,
    "start_time": "2022-02-18T16:45:02.508Z"
   },
   {
    "duration": -248,
    "start_time": "2022-02-18T16:45:02.512Z"
   },
   {
    "duration": -251,
    "start_time": "2022-02-18T16:45:02.516Z"
   },
   {
    "duration": -255,
    "start_time": "2022-02-18T16:45:02.521Z"
   },
   {
    "duration": -258,
    "start_time": "2022-02-18T16:45:02.525Z"
   },
   {
    "duration": -262,
    "start_time": "2022-02-18T16:45:02.530Z"
   },
   {
    "duration": -265,
    "start_time": "2022-02-18T16:45:02.534Z"
   },
   {
    "duration": -269,
    "start_time": "2022-02-18T16:45:02.539Z"
   },
   {
    "duration": -272,
    "start_time": "2022-02-18T16:45:02.543Z"
   },
   {
    "duration": -274,
    "start_time": "2022-02-18T16:45:02.547Z"
   },
   {
    "duration": -276,
    "start_time": "2022-02-18T16:45:02.550Z"
   },
   {
    "duration": -280,
    "start_time": "2022-02-18T16:45:02.555Z"
   },
   {
    "duration": -282,
    "start_time": "2022-02-18T16:45:02.558Z"
   },
   {
    "duration": -285,
    "start_time": "2022-02-18T16:45:02.562Z"
   },
   {
    "duration": -287,
    "start_time": "2022-02-18T16:45:02.565Z"
   },
   {
    "duration": -290,
    "start_time": "2022-02-18T16:45:02.569Z"
   },
   {
    "duration": -293,
    "start_time": "2022-02-18T16:45:02.573Z"
   },
   {
    "duration": -295,
    "start_time": "2022-02-18T16:45:02.577Z"
   },
   {
    "duration": -297,
    "start_time": "2022-02-18T16:45:02.580Z"
   },
   {
    "duration": -318,
    "start_time": "2022-02-18T16:45:02.602Z"
   },
   {
    "duration": -323,
    "start_time": "2022-02-18T16:45:02.608Z"
   },
   {
    "duration": -329,
    "start_time": "2022-02-18T16:45:02.615Z"
   },
   {
    "duration": -335,
    "start_time": "2022-02-18T16:45:02.622Z"
   },
   {
    "duration": -338,
    "start_time": "2022-02-18T16:45:02.627Z"
   },
   {
    "duration": -342,
    "start_time": "2022-02-18T16:45:02.632Z"
   },
   {
    "duration": -345,
    "start_time": "2022-02-18T16:45:02.636Z"
   },
   {
    "duration": -347,
    "start_time": "2022-02-18T16:45:02.640Z"
   },
   {
    "duration": -350,
    "start_time": "2022-02-18T16:45:02.644Z"
   },
   {
    "duration": -353,
    "start_time": "2022-02-18T16:45:02.648Z"
   },
   {
    "duration": -355,
    "start_time": "2022-02-18T16:45:02.651Z"
   },
   {
    "duration": -358,
    "start_time": "2022-02-18T16:45:02.655Z"
   },
   {
    "duration": -361,
    "start_time": "2022-02-18T16:45:02.659Z"
   },
   {
    "duration": -364,
    "start_time": "2022-02-18T16:45:02.663Z"
   },
   {
    "duration": -378,
    "start_time": "2022-02-18T16:45:02.678Z"
   },
   {
    "duration": -380,
    "start_time": "2022-02-18T16:45:02.682Z"
   },
   {
    "duration": -383,
    "start_time": "2022-02-18T16:45:02.686Z"
   },
   {
    "duration": -414,
    "start_time": "2022-02-18T16:45:02.718Z"
   },
   {
    "duration": -427,
    "start_time": "2022-02-18T16:45:02.732Z"
   },
   {
    "duration": -430,
    "start_time": "2022-02-18T16:45:02.736Z"
   },
   {
    "duration": -442,
    "start_time": "2022-02-18T16:45:02.749Z"
   },
   {
    "duration": -443,
    "start_time": "2022-02-18T16:45:02.752Z"
   },
   {
    "duration": -455,
    "start_time": "2022-02-18T16:45:02.765Z"
   },
   {
    "duration": -457,
    "start_time": "2022-02-18T16:45:02.768Z"
   },
   {
    "duration": -414,
    "start_time": "2022-02-18T16:45:02.783Z"
   },
   {
    "duration": -417,
    "start_time": "2022-02-18T16:45:02.787Z"
   },
   {
    "duration": -429,
    "start_time": "2022-02-18T16:45:02.801Z"
   },
   {
    "duration": -433,
    "start_time": "2022-02-18T16:45:02.806Z"
   },
   {
    "duration": -446,
    "start_time": "2022-02-18T16:45:02.820Z"
   },
   {
    "duration": -458,
    "start_time": "2022-02-18T16:45:02.833Z"
   },
   {
    "duration": -462,
    "start_time": "2022-02-18T16:45:02.838Z"
   },
   {
    "duration": -465,
    "start_time": "2022-02-18T16:45:02.842Z"
   },
   {
    "duration": -468,
    "start_time": "2022-02-18T16:45:02.846Z"
   },
   {
    "duration": -470,
    "start_time": "2022-02-18T16:45:02.849Z"
   },
   {
    "duration": -473,
    "start_time": "2022-02-18T16:45:02.853Z"
   },
   {
    "duration": -476,
    "start_time": "2022-02-18T16:45:02.857Z"
   },
   {
    "duration": 1503,
    "start_time": "2022-02-18T16:46:34.579Z"
   },
   {
    "duration": 56,
    "start_time": "2022-02-18T16:46:36.085Z"
   },
   {
    "duration": 29,
    "start_time": "2022-02-18T16:46:36.143Z"
   },
   {
    "duration": 10,
    "start_time": "2022-02-18T16:46:36.174Z"
   },
   {
    "duration": 24,
    "start_time": "2022-02-18T16:46:36.186Z"
   },
   {
    "duration": 6,
    "start_time": "2022-02-18T16:46:36.212Z"
   },
   {
    "duration": 10,
    "start_time": "2022-02-18T16:46:36.220Z"
   },
   {
    "duration": 39,
    "start_time": "2022-02-18T16:46:36.233Z"
   },
   {
    "duration": 14,
    "start_time": "2022-02-18T16:46:36.275Z"
   },
   {
    "duration": 15,
    "start_time": "2022-02-18T16:46:36.291Z"
   },
   {
    "duration": 5,
    "start_time": "2022-02-18T16:46:36.307Z"
   },
   {
    "duration": 5,
    "start_time": "2022-02-18T16:46:36.314Z"
   },
   {
    "duration": 6,
    "start_time": "2022-02-18T16:46:36.321Z"
   },
   {
    "duration": 392,
    "start_time": "2022-02-18T16:46:36.329Z"
   },
   {
    "duration": -215,
    "start_time": "2022-02-18T16:46:36.940Z"
   },
   {
    "duration": -217,
    "start_time": "2022-02-18T16:46:36.944Z"
   },
   {
    "duration": -221,
    "start_time": "2022-02-18T16:46:36.949Z"
   },
   {
    "duration": -225,
    "start_time": "2022-02-18T16:46:36.954Z"
   },
   {
    "duration": -228,
    "start_time": "2022-02-18T16:46:36.958Z"
   },
   {
    "duration": -231,
    "start_time": "2022-02-18T16:46:36.962Z"
   },
   {
    "duration": -235,
    "start_time": "2022-02-18T16:46:36.967Z"
   },
   {
    "duration": -238,
    "start_time": "2022-02-18T16:46:36.971Z"
   },
   {
    "duration": -242,
    "start_time": "2022-02-18T16:46:36.976Z"
   },
   {
    "duration": -245,
    "start_time": "2022-02-18T16:46:36.980Z"
   },
   {
    "duration": -247,
    "start_time": "2022-02-18T16:46:36.984Z"
   },
   {
    "duration": -251,
    "start_time": "2022-02-18T16:46:36.989Z"
   },
   {
    "duration": -253,
    "start_time": "2022-02-18T16:46:36.992Z"
   },
   {
    "duration": -256,
    "start_time": "2022-02-18T16:46:36.996Z"
   },
   {
    "duration": -259,
    "start_time": "2022-02-18T16:46:37.000Z"
   },
   {
    "duration": -262,
    "start_time": "2022-02-18T16:46:37.004Z"
   },
   {
    "duration": -264,
    "start_time": "2022-02-18T16:46:37.007Z"
   },
   {
    "duration": -267,
    "start_time": "2022-02-18T16:46:37.011Z"
   },
   {
    "duration": -270,
    "start_time": "2022-02-18T16:46:37.015Z"
   },
   {
    "duration": -273,
    "start_time": "2022-02-18T16:46:37.019Z"
   },
   {
    "duration": -275,
    "start_time": "2022-02-18T16:46:37.022Z"
   },
   {
    "duration": -278,
    "start_time": "2022-02-18T16:46:37.026Z"
   },
   {
    "duration": -280,
    "start_time": "2022-02-18T16:46:37.029Z"
   },
   {
    "duration": -310,
    "start_time": "2022-02-18T16:46:37.060Z"
   },
   {
    "duration": -313,
    "start_time": "2022-02-18T16:46:37.064Z"
   },
   {
    "duration": -316,
    "start_time": "2022-02-18T16:46:37.068Z"
   },
   {
    "duration": -319,
    "start_time": "2022-02-18T16:46:37.072Z"
   },
   {
    "duration": -321,
    "start_time": "2022-02-18T16:46:37.075Z"
   },
   {
    "duration": -324,
    "start_time": "2022-02-18T16:46:37.079Z"
   },
   {
    "duration": -327,
    "start_time": "2022-02-18T16:46:37.083Z"
   },
   {
    "duration": -329,
    "start_time": "2022-02-18T16:46:37.086Z"
   },
   {
    "duration": -332,
    "start_time": "2022-02-18T16:46:37.090Z"
   },
   {
    "duration": -334,
    "start_time": "2022-02-18T16:46:37.093Z"
   },
   {
    "duration": -337,
    "start_time": "2022-02-18T16:46:37.097Z"
   },
   {
    "duration": -339,
    "start_time": "2022-02-18T16:46:37.100Z"
   },
   {
    "duration": -343,
    "start_time": "2022-02-18T16:46:37.105Z"
   },
   {
    "duration": -339,
    "start_time": "2022-02-18T16:46:37.108Z"
   },
   {
    "duration": -341,
    "start_time": "2022-02-18T16:46:37.111Z"
   },
   {
    "duration": -343,
    "start_time": "2022-02-18T16:46:37.114Z"
   },
   {
    "duration": -346,
    "start_time": "2022-02-18T16:46:37.118Z"
   },
   {
    "duration": -348,
    "start_time": "2022-02-18T16:46:37.121Z"
   },
   {
    "duration": -352,
    "start_time": "2022-02-18T16:46:37.126Z"
   },
   {
    "duration": -353,
    "start_time": "2022-02-18T16:46:37.129Z"
   },
   {
    "duration": -355,
    "start_time": "2022-02-18T16:46:37.132Z"
   },
   {
    "duration": -358,
    "start_time": "2022-02-18T16:46:37.135Z"
   },
   {
    "duration": -360,
    "start_time": "2022-02-18T16:46:37.138Z"
   },
   {
    "duration": -362,
    "start_time": "2022-02-18T16:46:37.142Z"
   },
   {
    "duration": -365,
    "start_time": "2022-02-18T16:46:37.146Z"
   },
   {
    "duration": -382,
    "start_time": "2022-02-18T16:46:37.163Z"
   },
   {
    "duration": -391,
    "start_time": "2022-02-18T16:46:37.174Z"
   },
   {
    "duration": -394,
    "start_time": "2022-02-18T16:46:37.178Z"
   },
   {
    "duration": -397,
    "start_time": "2022-02-18T16:46:37.182Z"
   },
   {
    "duration": -409,
    "start_time": "2022-02-18T16:46:37.195Z"
   },
   {
    "duration": -414,
    "start_time": "2022-02-18T16:46:37.201Z"
   },
   {
    "duration": -425,
    "start_time": "2022-02-18T16:46:37.213Z"
   },
   {
    "duration": -437,
    "start_time": "2022-02-18T16:46:37.226Z"
   },
   {
    "duration": -440,
    "start_time": "2022-02-18T16:46:37.230Z"
   },
   {
    "duration": -454,
    "start_time": "2022-02-18T16:46:37.245Z"
   },
   {
    "duration": -458,
    "start_time": "2022-02-18T16:46:37.250Z"
   },
   {
    "duration": -471,
    "start_time": "2022-02-18T16:46:37.264Z"
   },
   {
    "duration": -474,
    "start_time": "2022-02-18T16:46:37.268Z"
   },
   {
    "duration": -477,
    "start_time": "2022-02-18T16:46:37.272Z"
   },
   {
    "duration": -479,
    "start_time": "2022-02-18T16:46:37.276Z"
   },
   {
    "duration": -481,
    "start_time": "2022-02-18T16:46:37.279Z"
   },
   {
    "duration": -485,
    "start_time": "2022-02-18T16:46:37.284Z"
   },
   {
    "duration": 19,
    "start_time": "2022-02-18T16:47:25.868Z"
   },
   {
    "duration": 1261,
    "start_time": "2022-02-18T16:48:43.157Z"
   },
   {
    "duration": 58,
    "start_time": "2022-02-18T16:48:44.419Z"
   },
   {
    "duration": 10,
    "start_time": "2022-02-18T16:48:44.480Z"
   },
   {
    "duration": 9,
    "start_time": "2022-02-18T16:48:44.492Z"
   },
   {
    "duration": 23,
    "start_time": "2022-02-18T16:48:44.503Z"
   },
   {
    "duration": 5,
    "start_time": "2022-02-18T16:48:44.528Z"
   },
   {
    "duration": 7,
    "start_time": "2022-02-18T16:48:44.535Z"
   },
   {
    "duration": 38,
    "start_time": "2022-02-18T16:48:44.544Z"
   },
   {
    "duration": 15,
    "start_time": "2022-02-18T16:48:44.584Z"
   },
   {
    "duration": 17,
    "start_time": "2022-02-18T16:48:44.601Z"
   },
   {
    "duration": 6,
    "start_time": "2022-02-18T16:48:44.620Z"
   },
   {
    "duration": 44,
    "start_time": "2022-02-18T16:48:44.628Z"
   },
   {
    "duration": 12,
    "start_time": "2022-02-18T16:48:44.674Z"
   },
   {
    "duration": 13,
    "start_time": "2022-02-18T16:48:44.688Z"
   },
   {
    "duration": 10,
    "start_time": "2022-02-18T16:48:44.703Z"
   },
   {
    "duration": 10,
    "start_time": "2022-02-18T16:48:44.715Z"
   },
   {
    "duration": 17,
    "start_time": "2022-02-18T16:48:44.726Z"
   },
   {
    "duration": 476,
    "start_time": "2022-02-18T16:48:44.770Z"
   },
   {
    "duration": 361,
    "start_time": "2022-02-18T16:48:45.248Z"
   },
   {
    "duration": 11,
    "start_time": "2022-02-18T16:48:45.611Z"
   },
   {
    "duration": 47,
    "start_time": "2022-02-18T16:48:45.624Z"
   },
   {
    "duration": 14,
    "start_time": "2022-02-18T16:48:45.672Z"
   },
   {
    "duration": 269,
    "start_time": "2022-02-18T16:48:45.688Z"
   },
   {
    "duration": 259,
    "start_time": "2022-02-18T16:48:45.959Z"
   },
   {
    "duration": 259,
    "start_time": "2022-02-18T16:48:46.219Z"
   },
   {
    "duration": 243,
    "start_time": "2022-02-18T16:48:46.480Z"
   },
   {
    "duration": 310,
    "start_time": "2022-02-18T16:48:46.728Z"
   },
   {
    "duration": 175,
    "start_time": "2022-02-18T16:48:47.041Z"
   },
   {
    "duration": 10,
    "start_time": "2022-02-18T16:48:47.217Z"
   },
   {
    "duration": 673,
    "start_time": "2022-02-18T16:48:47.229Z"
   },
   {
    "duration": 6,
    "start_time": "2022-02-18T16:48:47.905Z"
   },
   {
    "duration": 15,
    "start_time": "2022-02-18T16:48:47.912Z"
   },
   {
    "duration": 9,
    "start_time": "2022-02-18T16:48:47.928Z"
   },
   {
    "duration": 351,
    "start_time": "2022-02-18T16:48:47.939Z"
   },
   {
    "duration": 5,
    "start_time": "2022-02-18T16:48:48.292Z"
   },
   {
    "duration": 313,
    "start_time": "2022-02-18T16:48:48.299Z"
   },
   {
    "duration": 5,
    "start_time": "2022-02-18T16:48:48.614Z"
   },
   {
    "duration": 9,
    "start_time": "2022-02-18T16:48:48.621Z"
   },
   {
    "duration": 465,
    "start_time": "2022-02-18T16:48:48.632Z"
   },
   {
    "duration": 5,
    "start_time": "2022-02-18T16:48:49.098Z"
   },
   {
    "duration": 442,
    "start_time": "2022-02-18T16:48:49.104Z"
   },
   {
    "duration": 21,
    "start_time": "2022-02-18T16:48:49.548Z"
   },
   {
    "duration": 11,
    "start_time": "2022-02-18T16:48:49.571Z"
   },
   {
    "duration": 337,
    "start_time": "2022-02-18T16:48:49.584Z"
   },
   {
    "duration": 5,
    "start_time": "2022-02-18T16:48:49.923Z"
   },
   {
    "duration": 370,
    "start_time": "2022-02-18T16:48:49.929Z"
   },
   {
    "duration": 4,
    "start_time": "2022-02-18T16:48:50.301Z"
   },
   {
    "duration": 18,
    "start_time": "2022-02-18T16:48:50.307Z"
   },
   {
    "duration": 20,
    "start_time": "2022-02-18T16:48:50.326Z"
   },
   {
    "duration": 21,
    "start_time": "2022-02-18T16:48:50.349Z"
   },
   {
    "duration": 269,
    "start_time": "2022-02-18T16:48:50.372Z"
   },
   {
    "duration": 13,
    "start_time": "2022-02-18T16:48:50.643Z"
   },
   {
    "duration": 354,
    "start_time": "2022-02-18T16:48:50.658Z"
   },
   {
    "duration": 17,
    "start_time": "2022-02-18T16:48:51.014Z"
   },
   {
    "duration": 152,
    "start_time": "2022-02-18T16:48:51.033Z"
   },
   {
    "duration": 18,
    "start_time": "2022-02-18T16:48:51.187Z"
   },
   {
    "duration": 155,
    "start_time": "2022-02-18T16:48:51.207Z"
   },
   {
    "duration": 18,
    "start_time": "2022-02-18T16:48:51.364Z"
   },
   {
    "duration": 160,
    "start_time": "2022-02-18T16:48:51.384Z"
   },
   {
    "duration": 18,
    "start_time": "2022-02-18T16:48:51.545Z"
   },
   {
    "duration": 136,
    "start_time": "2022-02-18T16:48:51.565Z"
   },
   {
    "duration": 17,
    "start_time": "2022-02-18T16:48:51.704Z"
   },
   {
    "duration": 133,
    "start_time": "2022-02-18T16:48:51.723Z"
   },
   {
    "duration": 22,
    "start_time": "2022-02-18T16:48:51.858Z"
   },
   {
    "duration": 126,
    "start_time": "2022-02-18T16:48:51.881Z"
   },
   {
    "duration": 19,
    "start_time": "2022-02-18T16:48:52.009Z"
   },
   {
    "duration": 132,
    "start_time": "2022-02-18T16:48:52.030Z"
   },
   {
    "duration": 21,
    "start_time": "2022-02-18T16:48:52.163Z"
   },
   {
    "duration": 126,
    "start_time": "2022-02-18T16:48:52.186Z"
   },
   {
    "duration": 20,
    "start_time": "2022-02-18T16:48:52.314Z"
   },
   {
    "duration": 124,
    "start_time": "2022-02-18T16:48:52.335Z"
   },
   {
    "duration": 12,
    "start_time": "2022-02-18T16:48:52.461Z"
   },
   {
    "duration": 27,
    "start_time": "2022-02-18T16:48:52.475Z"
   },
   {
    "duration": 28,
    "start_time": "2022-02-18T16:48:52.504Z"
   },
   {
    "duration": 7,
    "start_time": "2022-02-18T16:50:42.695Z"
   },
   {
    "duration": 365,
    "start_time": "2022-02-18T16:53:41.422Z"
   },
   {
    "duration": 260,
    "start_time": "2022-02-18T16:53:54.964Z"
   },
   {
    "duration": 12,
    "start_time": "2022-02-18T16:57:03.126Z"
   },
   {
    "duration": 7,
    "start_time": "2022-02-18T16:57:05.730Z"
   },
   {
    "duration": 11,
    "start_time": "2022-02-18T16:57:19.463Z"
   },
   {
    "duration": 7,
    "start_time": "2022-02-18T16:57:21.859Z"
   },
   {
    "duration": 1256,
    "start_time": "2022-02-18T16:57:30.980Z"
   },
   {
    "duration": 56,
    "start_time": "2022-02-18T16:57:32.239Z"
   },
   {
    "duration": 11,
    "start_time": "2022-02-18T16:57:32.296Z"
   },
   {
    "duration": 10,
    "start_time": "2022-02-18T16:57:32.309Z"
   },
   {
    "duration": 23,
    "start_time": "2022-02-18T16:57:32.320Z"
   },
   {
    "duration": 27,
    "start_time": "2022-02-18T16:57:32.345Z"
   },
   {
    "duration": 12,
    "start_time": "2022-02-18T16:57:32.374Z"
   },
   {
    "duration": 27,
    "start_time": "2022-02-18T16:57:32.389Z"
   },
   {
    "duration": 16,
    "start_time": "2022-02-18T16:57:32.419Z"
   },
   {
    "duration": 40,
    "start_time": "2022-02-18T16:57:32.437Z"
   },
   {
    "duration": 7,
    "start_time": "2022-02-18T16:57:32.480Z"
   },
   {
    "duration": 13,
    "start_time": "2022-02-18T16:57:32.489Z"
   },
   {
    "duration": 14,
    "start_time": "2022-02-18T16:57:32.504Z"
   },
   {
    "duration": 16,
    "start_time": "2022-02-18T16:57:32.520Z"
   },
   {
    "duration": 37,
    "start_time": "2022-02-18T16:57:32.538Z"
   },
   {
    "duration": 7,
    "start_time": "2022-02-18T16:57:32.577Z"
   },
   {
    "duration": 15,
    "start_time": "2022-02-18T16:57:32.586Z"
   },
   {
    "duration": 8,
    "start_time": "2022-02-18T16:57:32.602Z"
   },
   {
    "duration": 19,
    "start_time": "2022-02-18T16:57:32.612Z"
   },
   {
    "duration": 537,
    "start_time": "2022-02-18T16:57:32.634Z"
   },
   {
    "duration": 369,
    "start_time": "2022-02-18T16:57:33.173Z"
   },
   {
    "duration": 11,
    "start_time": "2022-02-18T16:57:33.544Z"
   },
   {
    "duration": 44,
    "start_time": "2022-02-18T16:57:33.557Z"
   },
   {
    "duration": 13,
    "start_time": "2022-02-18T16:57:33.603Z"
   },
   {
    "duration": 268,
    "start_time": "2022-02-18T16:57:33.618Z"
   },
   {
    "duration": 257,
    "start_time": "2022-02-18T16:57:33.890Z"
   },
   {
    "duration": 255,
    "start_time": "2022-02-18T16:57:34.150Z"
   },
   {
    "duration": 252,
    "start_time": "2022-02-18T16:57:34.407Z"
   },
   {
    "duration": 305,
    "start_time": "2022-02-18T16:57:34.661Z"
   },
   {
    "duration": 182,
    "start_time": "2022-02-18T16:57:34.970Z"
   },
   {
    "duration": 16,
    "start_time": "2022-02-18T16:57:35.154Z"
   },
   {
    "duration": 641,
    "start_time": "2022-02-18T16:57:35.172Z"
   },
   {
    "duration": 6,
    "start_time": "2022-02-18T16:57:35.814Z"
   },
   {
    "duration": 10,
    "start_time": "2022-02-18T16:57:35.822Z"
   },
   {
    "duration": 7,
    "start_time": "2022-02-18T16:57:35.834Z"
   },
   {
    "duration": 362,
    "start_time": "2022-02-18T16:57:35.842Z"
   },
   {
    "duration": 6,
    "start_time": "2022-02-18T16:57:36.206Z"
   },
   {
    "duration": 317,
    "start_time": "2022-02-18T16:57:36.214Z"
   },
   {
    "duration": 5,
    "start_time": "2022-02-18T16:57:36.533Z"
   },
   {
    "duration": 9,
    "start_time": "2022-02-18T16:57:36.539Z"
   },
   {
    "duration": 350,
    "start_time": "2022-02-18T16:57:36.550Z"
   },
   {
    "duration": 5,
    "start_time": "2022-02-18T16:57:36.902Z"
   },
   {
    "duration": 298,
    "start_time": "2022-02-18T16:57:36.908Z"
   },
   {
    "duration": 6,
    "start_time": "2022-02-18T16:57:37.208Z"
   },
   {
    "duration": 22,
    "start_time": "2022-02-18T16:57:37.216Z"
   },
   {
    "duration": 364,
    "start_time": "2022-02-18T16:57:37.239Z"
   },
   {
    "duration": 4,
    "start_time": "2022-02-18T16:57:37.605Z"
   },
   {
    "duration": 341,
    "start_time": "2022-02-18T16:57:37.611Z"
   },
   {
    "duration": 5,
    "start_time": "2022-02-18T16:57:37.953Z"
   },
   {
    "duration": 14,
    "start_time": "2022-02-18T16:57:37.960Z"
   },
   {
    "duration": 15,
    "start_time": "2022-02-18T16:57:37.975Z"
   },
   {
    "duration": 12,
    "start_time": "2022-02-18T16:57:37.992Z"
   },
   {
    "duration": 290,
    "start_time": "2022-02-18T16:57:38.006Z"
   },
   {
    "duration": 13,
    "start_time": "2022-02-18T16:57:38.298Z"
   },
   {
    "duration": 351,
    "start_time": "2022-02-18T16:57:38.313Z"
   },
   {
    "duration": 20,
    "start_time": "2022-02-18T16:57:38.666Z"
   },
   {
    "duration": 134,
    "start_time": "2022-02-18T16:57:38.688Z"
   },
   {
    "duration": 19,
    "start_time": "2022-02-18T16:57:38.825Z"
   },
   {
    "duration": 141,
    "start_time": "2022-02-18T16:57:38.846Z"
   },
   {
    "duration": 17,
    "start_time": "2022-02-18T16:57:38.989Z"
   },
   {
    "duration": 130,
    "start_time": "2022-02-18T16:57:39.007Z"
   },
   {
    "duration": 18,
    "start_time": "2022-02-18T16:57:39.138Z"
   },
   {
    "duration": 129,
    "start_time": "2022-02-18T16:57:39.169Z"
   },
   {
    "duration": 16,
    "start_time": "2022-02-18T16:57:39.300Z"
   },
   {
    "duration": 142,
    "start_time": "2022-02-18T16:57:39.318Z"
   },
   {
    "duration": 19,
    "start_time": "2022-02-18T16:57:39.462Z"
   },
   {
    "duration": 137,
    "start_time": "2022-02-18T16:57:39.483Z"
   },
   {
    "duration": 20,
    "start_time": "2022-02-18T16:57:39.622Z"
   },
   {
    "duration": 128,
    "start_time": "2022-02-18T16:57:39.644Z"
   },
   {
    "duration": 20,
    "start_time": "2022-02-18T16:57:39.774Z"
   },
   {
    "duration": 123,
    "start_time": "2022-02-18T16:57:39.796Z"
   },
   {
    "duration": 18,
    "start_time": "2022-02-18T16:57:39.922Z"
   },
   {
    "duration": 137,
    "start_time": "2022-02-18T16:57:39.942Z"
   },
   {
    "duration": 8,
    "start_time": "2022-02-18T16:57:40.081Z"
   },
   {
    "duration": 13,
    "start_time": "2022-02-18T16:57:40.090Z"
   },
   {
    "duration": 10,
    "start_time": "2022-02-18T16:57:40.105Z"
   },
   {
    "duration": 8,
    "start_time": "2022-02-18T16:57:45.344Z"
   },
   {
    "duration": 39,
    "start_time": "2022-02-18T16:58:49.486Z"
   },
   {
    "duration": 8,
    "start_time": "2022-02-18T16:58:51.517Z"
   },
   {
    "duration": 1288,
    "start_time": "2022-02-18T17:00:11.260Z"
   },
   {
    "duration": 57,
    "start_time": "2022-02-18T17:00:12.550Z"
   },
   {
    "duration": 11,
    "start_time": "2022-02-18T17:00:12.609Z"
   },
   {
    "duration": 12,
    "start_time": "2022-02-18T17:00:12.622Z"
   },
   {
    "duration": 44,
    "start_time": "2022-02-18T17:00:12.636Z"
   },
   {
    "duration": 6,
    "start_time": "2022-02-18T17:00:12.682Z"
   },
   {
    "duration": 9,
    "start_time": "2022-02-18T17:00:12.690Z"
   },
   {
    "duration": 21,
    "start_time": "2022-02-18T17:00:12.702Z"
   },
   {
    "duration": 16,
    "start_time": "2022-02-18T17:00:12.725Z"
   },
   {
    "duration": 43,
    "start_time": "2022-02-18T17:00:12.743Z"
   },
   {
    "duration": 9,
    "start_time": "2022-02-18T17:00:12.788Z"
   },
   {
    "duration": 18,
    "start_time": "2022-02-18T17:00:12.800Z"
   },
   {
    "duration": 19,
    "start_time": "2022-02-18T17:00:12.821Z"
   },
   {
    "duration": 48,
    "start_time": "2022-02-18T17:00:12.842Z"
   },
   {
    "duration": 12,
    "start_time": "2022-02-18T17:00:12.893Z"
   },
   {
    "duration": 16,
    "start_time": "2022-02-18T17:00:12.906Z"
   },
   {
    "duration": 19,
    "start_time": "2022-02-18T17:00:12.923Z"
   },
   {
    "duration": 26,
    "start_time": "2022-02-18T17:00:12.944Z"
   },
   {
    "duration": 526,
    "start_time": "2022-02-18T17:00:12.972Z"
   },
   {
    "duration": 380,
    "start_time": "2022-02-18T17:00:13.501Z"
   },
   {
    "duration": 12,
    "start_time": "2022-02-18T17:00:13.883Z"
   },
   {
    "duration": 36,
    "start_time": "2022-02-18T17:00:13.898Z"
   },
   {
    "duration": 40,
    "start_time": "2022-02-18T17:00:13.940Z"
   },
   {
    "duration": 260,
    "start_time": "2022-02-18T17:00:13.983Z"
   },
   {
    "duration": 258,
    "start_time": "2022-02-18T17:00:14.246Z"
   },
   {
    "duration": 258,
    "start_time": "2022-02-18T17:00:14.506Z"
   },
   {
    "duration": 274,
    "start_time": "2022-02-18T17:00:14.766Z"
   },
   {
    "duration": 323,
    "start_time": "2022-02-18T17:00:15.042Z"
   },
   {
    "duration": 172,
    "start_time": "2022-02-18T17:00:15.369Z"
   },
   {
    "duration": 11,
    "start_time": "2022-02-18T17:00:15.543Z"
   },
   {
    "duration": 672,
    "start_time": "2022-02-18T17:00:15.556Z"
   },
   {
    "duration": 7,
    "start_time": "2022-02-18T17:00:16.230Z"
   },
   {
    "duration": 11,
    "start_time": "2022-02-18T17:00:16.238Z"
   },
   {
    "duration": 23,
    "start_time": "2022-02-18T17:00:16.251Z"
   },
   {
    "duration": 349,
    "start_time": "2022-02-18T17:00:16.276Z"
   },
   {
    "duration": 5,
    "start_time": "2022-02-18T17:00:16.627Z"
   },
   {
    "duration": 359,
    "start_time": "2022-02-18T17:00:16.634Z"
   },
   {
    "duration": 5,
    "start_time": "2022-02-18T17:00:16.995Z"
   },
   {
    "duration": 19,
    "start_time": "2022-02-18T17:00:17.002Z"
   },
   {
    "duration": 320,
    "start_time": "2022-02-18T17:00:17.022Z"
   },
   {
    "duration": 6,
    "start_time": "2022-02-18T17:00:17.344Z"
   },
   {
    "duration": 338,
    "start_time": "2022-02-18T17:00:17.352Z"
   },
   {
    "duration": 6,
    "start_time": "2022-02-18T17:00:17.692Z"
   },
   {
    "duration": 13,
    "start_time": "2022-02-18T17:00:17.700Z"
   },
   {
    "duration": 337,
    "start_time": "2022-02-18T17:00:17.715Z"
   },
   {
    "duration": 5,
    "start_time": "2022-02-18T17:00:18.054Z"
   },
   {
    "duration": 359,
    "start_time": "2022-02-18T17:00:18.069Z"
   },
   {
    "duration": 5,
    "start_time": "2022-02-18T17:00:18.430Z"
   },
   {
    "duration": 10,
    "start_time": "2022-02-18T17:00:18.436Z"
   },
   {
    "duration": 27,
    "start_time": "2022-02-18T17:00:18.448Z"
   },
   {
    "duration": 13,
    "start_time": "2022-02-18T17:00:18.477Z"
   },
   {
    "duration": 286,
    "start_time": "2022-02-18T17:00:18.492Z"
   },
   {
    "duration": 12,
    "start_time": "2022-02-18T17:00:18.779Z"
   },
   {
    "duration": 349,
    "start_time": "2022-02-18T17:00:18.793Z"
   },
   {
    "duration": 28,
    "start_time": "2022-02-18T17:00:19.144Z"
   },
   {
    "duration": 139,
    "start_time": "2022-02-18T17:00:19.174Z"
   },
   {
    "duration": 20,
    "start_time": "2022-02-18T17:00:19.315Z"
   },
   {
    "duration": 151,
    "start_time": "2022-02-18T17:00:19.337Z"
   },
   {
    "duration": 17,
    "start_time": "2022-02-18T17:00:19.490Z"
   },
   {
    "duration": 136,
    "start_time": "2022-02-18T17:00:19.509Z"
   },
   {
    "duration": 27,
    "start_time": "2022-02-18T17:00:19.647Z"
   },
   {
    "duration": 142,
    "start_time": "2022-02-18T17:00:19.676Z"
   },
   {
    "duration": 16,
    "start_time": "2022-02-18T17:00:19.820Z"
   },
   {
    "duration": 135,
    "start_time": "2022-02-18T17:00:19.838Z"
   },
   {
    "duration": 17,
    "start_time": "2022-02-18T17:00:19.975Z"
   },
   {
    "duration": 288,
    "start_time": "2022-02-18T17:00:19.994Z"
   },
   {
    "duration": 17,
    "start_time": "2022-02-18T17:00:20.283Z"
   },
   {
    "duration": 218,
    "start_time": "2022-02-18T17:00:20.305Z"
   },
   {
    "duration": 45,
    "start_time": "2022-02-18T17:00:20.525Z"
   },
   {
    "duration": 118,
    "start_time": "2022-02-18T17:00:20.572Z"
   },
   {
    "duration": 17,
    "start_time": "2022-02-18T17:00:20.692Z"
   },
   {
    "duration": 118,
    "start_time": "2022-02-18T17:00:20.711Z"
   },
   {
    "duration": 6,
    "start_time": "2022-02-18T17:00:20.831Z"
   },
   {
    "duration": 27,
    "start_time": "2022-02-18T17:00:20.839Z"
   },
   {
    "duration": 40,
    "start_time": "2022-02-18T17:00:20.868Z"
   },
   {
    "duration": 5365,
    "start_time": "2022-02-18T17:15:38.501Z"
   },
   {
    "duration": 7,
    "start_time": "2022-02-18T17:15:54.283Z"
   },
   {
    "duration": 7,
    "start_time": "2022-02-18T17:16:05.734Z"
   },
   {
    "duration": 13,
    "start_time": "2022-02-18T17:16:13.605Z"
   },
   {
    "duration": 1252,
    "start_time": "2022-02-18T17:16:22.396Z"
   },
   {
    "duration": 56,
    "start_time": "2022-02-18T17:16:23.650Z"
   },
   {
    "duration": 10,
    "start_time": "2022-02-18T17:16:23.708Z"
   },
   {
    "duration": 9,
    "start_time": "2022-02-18T17:16:23.721Z"
   },
   {
    "duration": 52,
    "start_time": "2022-02-18T17:16:23.732Z"
   },
   {
    "duration": 7,
    "start_time": "2022-02-18T17:16:23.787Z"
   },
   {
    "duration": 15,
    "start_time": "2022-02-18T17:16:23.797Z"
   },
   {
    "duration": 16,
    "start_time": "2022-02-18T17:16:23.816Z"
   },
   {
    "duration": 15,
    "start_time": "2022-02-18T17:16:23.835Z"
   },
   {
    "duration": 20,
    "start_time": "2022-02-18T17:16:23.869Z"
   },
   {
    "duration": 7,
    "start_time": "2022-02-18T17:16:23.891Z"
   },
   {
    "duration": 15,
    "start_time": "2022-02-18T17:16:23.900Z"
   },
   {
    "duration": 14,
    "start_time": "2022-02-18T17:16:23.916Z"
   },
   {
    "duration": 42,
    "start_time": "2022-02-18T17:16:23.932Z"
   },
   {
    "duration": 11,
    "start_time": "2022-02-18T17:16:23.976Z"
   },
   {
    "duration": 12,
    "start_time": "2022-02-18T17:16:23.989Z"
   },
   {
    "duration": 16,
    "start_time": "2022-02-18T17:16:24.004Z"
   },
   {
    "duration": 8,
    "start_time": "2022-02-18T17:16:24.023Z"
   },
   {
    "duration": 39,
    "start_time": "2022-02-18T17:16:24.033Z"
   },
   {
    "duration": 391,
    "start_time": "2022-02-18T17:16:24.074Z"
   },
   {
    "duration": 281,
    "start_time": "2022-02-18T17:16:24.466Z"
   },
   {
    "duration": 27,
    "start_time": "2022-02-18T17:16:24.749Z"
   },
   {
    "duration": 34,
    "start_time": "2022-02-18T17:16:24.780Z"
   },
   {
    "duration": 11,
    "start_time": "2022-02-18T17:16:24.817Z"
   },
   {
    "duration": 503,
    "start_time": "2022-02-18T17:16:24.870Z"
   },
   {
    "duration": 240,
    "start_time": "2022-02-18T17:16:25.375Z"
   },
   {
    "duration": 237,
    "start_time": "2022-02-18T17:16:25.617Z"
   },
   {
    "duration": 231,
    "start_time": "2022-02-18T17:16:25.856Z"
   },
   {
    "duration": 310,
    "start_time": "2022-02-18T17:16:26.089Z"
   },
   {
    "duration": 187,
    "start_time": "2022-02-18T17:16:26.401Z"
   },
   {
    "duration": 10,
    "start_time": "2022-02-18T17:16:26.590Z"
   },
   {
    "duration": 709,
    "start_time": "2022-02-18T17:16:26.602Z"
   },
   {
    "duration": 5,
    "start_time": "2022-02-18T17:16:27.313Z"
   },
   {
    "duration": 9,
    "start_time": "2022-02-18T17:16:27.321Z"
   },
   {
    "duration": 10,
    "start_time": "2022-02-18T17:16:27.332Z"
   },
   {
    "duration": 376,
    "start_time": "2022-02-18T17:16:27.344Z"
   },
   {
    "duration": 4,
    "start_time": "2022-02-18T17:16:27.722Z"
   },
   {
    "duration": 320,
    "start_time": "2022-02-18T17:16:27.728Z"
   },
   {
    "duration": 5,
    "start_time": "2022-02-18T17:16:28.049Z"
   },
   {
    "duration": 16,
    "start_time": "2022-02-18T17:16:28.056Z"
   },
   {
    "duration": 331,
    "start_time": "2022-02-18T17:16:28.074Z"
   },
   {
    "duration": 5,
    "start_time": "2022-02-18T17:16:28.407Z"
   },
   {
    "duration": 391,
    "start_time": "2022-02-18T17:16:28.413Z"
   },
   {
    "duration": 4,
    "start_time": "2022-02-18T17:16:28.806Z"
   },
   {
    "duration": 11,
    "start_time": "2022-02-18T17:16:28.812Z"
   },
   {
    "duration": 394,
    "start_time": "2022-02-18T17:16:28.825Z"
   },
   {
    "duration": 5,
    "start_time": "2022-02-18T17:16:29.221Z"
   },
   {
    "duration": 358,
    "start_time": "2022-02-18T17:16:29.228Z"
   },
   {
    "duration": 5,
    "start_time": "2022-02-18T17:16:29.588Z"
   },
   {
    "duration": 8,
    "start_time": "2022-02-18T17:16:29.595Z"
   },
   {
    "duration": 13,
    "start_time": "2022-02-18T17:16:29.605Z"
   },
   {
    "duration": 15,
    "start_time": "2022-02-18T17:16:29.620Z"
   },
   {
    "duration": 289,
    "start_time": "2022-02-18T17:16:29.637Z"
   },
   {
    "duration": 11,
    "start_time": "2022-02-18T17:16:29.928Z"
   },
   {
    "duration": 352,
    "start_time": "2022-02-18T17:16:29.941Z"
   },
   {
    "duration": 18,
    "start_time": "2022-02-18T17:16:30.295Z"
   },
   {
    "duration": 163,
    "start_time": "2022-02-18T17:16:30.315Z"
   },
   {
    "duration": 18,
    "start_time": "2022-02-18T17:16:30.480Z"
   },
   {
    "duration": 143,
    "start_time": "2022-02-18T17:16:30.501Z"
   },
   {
    "duration": 27,
    "start_time": "2022-02-18T17:16:30.646Z"
   },
   {
    "duration": 140,
    "start_time": "2022-02-18T17:16:30.675Z"
   },
   {
    "duration": 21,
    "start_time": "2022-02-18T17:16:30.818Z"
   },
   {
    "duration": 149,
    "start_time": "2022-02-18T17:16:30.841Z"
   },
   {
    "duration": 17,
    "start_time": "2022-02-18T17:16:30.992Z"
   },
   {
    "duration": 148,
    "start_time": "2022-02-18T17:16:31.011Z"
   },
   {
    "duration": 21,
    "start_time": "2022-02-18T17:16:31.162Z"
   },
   {
    "duration": 144,
    "start_time": "2022-02-18T17:16:31.186Z"
   },
   {
    "duration": 33,
    "start_time": "2022-02-18T17:16:31.337Z"
   },
   {
    "duration": 99,
    "start_time": "2022-02-18T17:16:31.373Z"
   },
   {
    "duration": 19,
    "start_time": "2022-02-18T17:16:31.474Z"
   },
   {
    "duration": 115,
    "start_time": "2022-02-18T17:16:31.495Z"
   },
   {
    "duration": 17,
    "start_time": "2022-02-18T17:16:31.612Z"
   },
   {
    "duration": 107,
    "start_time": "2022-02-18T17:16:31.631Z"
   },
   {
    "duration": 7,
    "start_time": "2022-02-18T17:16:31.740Z"
   },
   {
    "duration": 24,
    "start_time": "2022-02-18T17:16:31.749Z"
   },
   {
    "duration": 8,
    "start_time": "2022-02-18T17:16:31.775Z"
   },
   {
    "duration": 7,
    "start_time": "2022-02-18T17:17:04.358Z"
   },
   {
    "duration": 1284,
    "start_time": "2022-02-18T17:17:20.365Z"
   },
   {
    "duration": 58,
    "start_time": "2022-02-18T17:17:21.651Z"
   },
   {
    "duration": 11,
    "start_time": "2022-02-18T17:17:21.711Z"
   },
   {
    "duration": 24,
    "start_time": "2022-02-18T17:17:21.724Z"
   },
   {
    "duration": 22,
    "start_time": "2022-02-18T17:17:21.750Z"
   },
   {
    "duration": 5,
    "start_time": "2022-02-18T17:17:21.774Z"
   },
   {
    "duration": 16,
    "start_time": "2022-02-18T17:17:21.780Z"
   },
   {
    "duration": 17,
    "start_time": "2022-02-18T17:17:21.799Z"
   },
   {
    "duration": 16,
    "start_time": "2022-02-18T17:17:21.818Z"
   },
   {
    "duration": 47,
    "start_time": "2022-02-18T17:17:21.836Z"
   },
   {
    "duration": 8,
    "start_time": "2022-02-18T17:17:21.884Z"
   },
   {
    "duration": 16,
    "start_time": "2022-02-18T17:17:21.894Z"
   },
   {
    "duration": 17,
    "start_time": "2022-02-18T17:17:21.912Z"
   },
   {
    "duration": 22,
    "start_time": "2022-02-18T17:17:21.931Z"
   },
   {
    "duration": 21,
    "start_time": "2022-02-18T17:17:21.954Z"
   },
   {
    "duration": 11,
    "start_time": "2022-02-18T17:17:21.976Z"
   },
   {
    "duration": 18,
    "start_time": "2022-02-18T17:17:21.988Z"
   },
   {
    "duration": 8,
    "start_time": "2022-02-18T17:17:22.008Z"
   },
   {
    "duration": 511,
    "start_time": "2022-02-18T17:17:22.018Z"
   },
   {
    "duration": 372,
    "start_time": "2022-02-18T17:17:22.531Z"
   },
   {
    "duration": 12,
    "start_time": "2022-02-18T17:17:22.905Z"
   },
   {
    "duration": 52,
    "start_time": "2022-02-18T17:17:22.919Z"
   },
   {
    "duration": 13,
    "start_time": "2022-02-18T17:17:22.975Z"
   },
   {
    "duration": 259,
    "start_time": "2022-02-18T17:17:22.991Z"
   },
   {
    "duration": 259,
    "start_time": "2022-02-18T17:17:23.252Z"
   },
   {
    "duration": 248,
    "start_time": "2022-02-18T17:17:23.513Z"
   },
   {
    "duration": 244,
    "start_time": "2022-02-18T17:17:23.763Z"
   },
   {
    "duration": 310,
    "start_time": "2022-02-18T17:17:24.009Z"
   },
   {
    "duration": 193,
    "start_time": "2022-02-18T17:17:24.321Z"
   },
   {
    "duration": 10,
    "start_time": "2022-02-18T17:17:24.515Z"
   },
   {
    "duration": 718,
    "start_time": "2022-02-18T17:17:24.527Z"
   },
   {
    "duration": 6,
    "start_time": "2022-02-18T17:17:25.247Z"
   },
   {
    "duration": 15,
    "start_time": "2022-02-18T17:17:25.255Z"
   },
   {
    "duration": 19,
    "start_time": "2022-02-18T17:17:25.272Z"
   },
   {
    "duration": 337,
    "start_time": "2022-02-18T17:17:25.293Z"
   },
   {
    "duration": 5,
    "start_time": "2022-02-18T17:17:25.632Z"
   },
   {
    "duration": 354,
    "start_time": "2022-02-18T17:17:25.638Z"
   },
   {
    "duration": 5,
    "start_time": "2022-02-18T17:17:25.994Z"
   },
   {
    "duration": 13,
    "start_time": "2022-02-18T17:17:26.001Z"
   },
   {
    "duration": 309,
    "start_time": "2022-02-18T17:17:26.016Z"
   },
   {
    "duration": 5,
    "start_time": "2022-02-18T17:17:26.327Z"
   },
   {
    "duration": 362,
    "start_time": "2022-02-18T17:17:26.334Z"
   },
   {
    "duration": 6,
    "start_time": "2022-02-18T17:17:26.699Z"
   },
   {
    "duration": 12,
    "start_time": "2022-02-18T17:17:26.707Z"
   },
   {
    "duration": 333,
    "start_time": "2022-02-18T17:17:26.721Z"
   },
   {
    "duration": 15,
    "start_time": "2022-02-18T17:17:27.057Z"
   },
   {
    "duration": 351,
    "start_time": "2022-02-18T17:17:27.074Z"
   },
   {
    "duration": 6,
    "start_time": "2022-02-18T17:17:27.427Z"
   },
   {
    "duration": 11,
    "start_time": "2022-02-18T17:17:27.435Z"
   },
   {
    "duration": 31,
    "start_time": "2022-02-18T17:17:27.448Z"
   },
   {
    "duration": 13,
    "start_time": "2022-02-18T17:17:27.481Z"
   },
   {
    "duration": 274,
    "start_time": "2022-02-18T17:17:27.495Z"
   },
   {
    "duration": 12,
    "start_time": "2022-02-18T17:17:27.770Z"
   },
   {
    "duration": 352,
    "start_time": "2022-02-18T17:17:27.783Z"
   },
   {
    "duration": 17,
    "start_time": "2022-02-18T17:17:28.137Z"
   },
   {
    "duration": 132,
    "start_time": "2022-02-18T17:17:28.155Z"
   },
   {
    "duration": 17,
    "start_time": "2022-02-18T17:17:28.289Z"
   },
   {
    "duration": 142,
    "start_time": "2022-02-18T17:17:28.309Z"
   },
   {
    "duration": 31,
    "start_time": "2022-02-18T17:17:28.453Z"
   },
   {
    "duration": 131,
    "start_time": "2022-02-18T17:17:28.486Z"
   },
   {
    "duration": 18,
    "start_time": "2022-02-18T17:17:28.620Z"
   },
   {
    "duration": 151,
    "start_time": "2022-02-18T17:17:28.640Z"
   },
   {
    "duration": 18,
    "start_time": "2022-02-18T17:17:28.793Z"
   },
   {
    "duration": 134,
    "start_time": "2022-02-18T17:17:28.813Z"
   },
   {
    "duration": 35,
    "start_time": "2022-02-18T17:17:28.949Z"
   },
   {
    "duration": 143,
    "start_time": "2022-02-18T17:17:28.989Z"
   },
   {
    "duration": 18,
    "start_time": "2022-02-18T17:17:29.133Z"
   },
   {
    "duration": 124,
    "start_time": "2022-02-18T17:17:29.156Z"
   },
   {
    "duration": 19,
    "start_time": "2022-02-18T17:17:29.283Z"
   },
   {
    "duration": 132,
    "start_time": "2022-02-18T17:17:29.304Z"
   },
   {
    "duration": 18,
    "start_time": "2022-02-18T17:17:29.438Z"
   },
   {
    "duration": 130,
    "start_time": "2022-02-18T17:17:29.458Z"
   },
   {
    "duration": 7,
    "start_time": "2022-02-18T17:17:29.590Z"
   },
   {
    "duration": 21,
    "start_time": "2022-02-18T17:17:29.598Z"
   },
   {
    "duration": 17,
    "start_time": "2022-02-18T17:17:29.621Z"
   },
   {
    "duration": 323,
    "start_time": "2022-02-18T21:54:16.457Z"
   },
   {
    "duration": 1179,
    "start_time": "2022-02-18T21:55:36.762Z"
   },
   {
    "duration": 87,
    "start_time": "2022-02-18T21:55:37.943Z"
   },
   {
    "duration": 9,
    "start_time": "2022-02-18T21:55:38.032Z"
   },
   {
    "duration": 8,
    "start_time": "2022-02-18T21:55:38.043Z"
   },
   {
    "duration": 15,
    "start_time": "2022-02-18T21:55:38.052Z"
   },
   {
    "duration": 5,
    "start_time": "2022-02-18T21:55:38.068Z"
   },
   {
    "duration": 6,
    "start_time": "2022-02-18T21:55:38.074Z"
   },
   {
    "duration": 12,
    "start_time": "2022-02-18T21:55:38.082Z"
   },
   {
    "duration": 44,
    "start_time": "2022-02-18T21:55:38.096Z"
   },
   {
    "duration": 15,
    "start_time": "2022-02-18T21:55:38.142Z"
   },
   {
    "duration": 6,
    "start_time": "2022-02-18T21:55:38.159Z"
   },
   {
    "duration": 10,
    "start_time": "2022-02-18T21:55:38.167Z"
   },
   {
    "duration": 13,
    "start_time": "2022-02-18T21:55:38.178Z"
   },
   {
    "duration": 43,
    "start_time": "2022-02-18T21:55:38.193Z"
   },
   {
    "duration": 10,
    "start_time": "2022-02-18T21:55:38.237Z"
   },
   {
    "duration": 5,
    "start_time": "2022-02-18T21:55:38.249Z"
   },
   {
    "duration": 12,
    "start_time": "2022-02-18T21:55:38.256Z"
   },
   {
    "duration": 6,
    "start_time": "2022-02-18T21:55:38.270Z"
   },
   {
    "duration": 403,
    "start_time": "2022-02-18T21:55:38.278Z"
   },
   {
    "duration": 284,
    "start_time": "2022-02-18T21:55:38.682Z"
   },
   {
    "duration": 9,
    "start_time": "2022-02-18T21:55:38.968Z"
   },
   {
    "duration": 28,
    "start_time": "2022-02-18T21:55:38.979Z"
   },
   {
    "duration": 31,
    "start_time": "2022-02-18T21:55:39.010Z"
   },
   {
    "duration": 186,
    "start_time": "2022-02-18T21:55:39.043Z"
   },
   {
    "duration": 183,
    "start_time": "2022-02-18T21:55:39.232Z"
   },
   {
    "duration": 353,
    "start_time": "2022-02-18T21:55:39.417Z"
   },
   {
    "duration": 333,
    "start_time": "2022-02-18T21:55:39.772Z"
   },
   {
    "duration": 252,
    "start_time": "2022-02-18T21:55:40.106Z"
   },
   {
    "duration": 132,
    "start_time": "2022-02-18T21:55:40.360Z"
   },
   {
    "duration": 9,
    "start_time": "2022-02-18T21:55:40.493Z"
   },
   {
    "duration": 525,
    "start_time": "2022-02-18T21:55:40.503Z"
   },
   {
    "duration": 6,
    "start_time": "2022-02-18T21:55:41.029Z"
   },
   {
    "duration": 6,
    "start_time": "2022-02-18T21:55:41.036Z"
   },
   {
    "duration": 7,
    "start_time": "2022-02-18T21:55:41.043Z"
   },
   {
    "duration": 272,
    "start_time": "2022-02-18T21:55:41.052Z"
   },
   {
    "duration": 6,
    "start_time": "2022-02-18T21:55:41.331Z"
   },
   {
    "duration": 294,
    "start_time": "2022-02-18T21:55:41.338Z"
   },
   {
    "duration": 6,
    "start_time": "2022-02-18T21:55:41.634Z"
   },
   {
    "duration": 8,
    "start_time": "2022-02-18T21:55:41.641Z"
   },
   {
    "duration": 301,
    "start_time": "2022-02-18T21:55:41.650Z"
   },
   {
    "duration": 4,
    "start_time": "2022-02-18T21:55:41.953Z"
   },
   {
    "duration": 278,
    "start_time": "2022-02-18T21:55:41.959Z"
   },
   {
    "duration": 4,
    "start_time": "2022-02-18T21:55:42.239Z"
   },
   {
    "duration": 13,
    "start_time": "2022-02-18T21:55:42.244Z"
   },
   {
    "duration": 295,
    "start_time": "2022-02-18T21:55:42.258Z"
   },
   {
    "duration": 5,
    "start_time": "2022-02-18T21:55:42.554Z"
   },
   {
    "duration": 302,
    "start_time": "2022-02-18T21:55:42.560Z"
   },
   {
    "duration": 5,
    "start_time": "2022-02-18T21:55:42.863Z"
   },
   {
    "duration": 10,
    "start_time": "2022-02-18T21:55:42.869Z"
   },
   {
    "duration": 10,
    "start_time": "2022-02-18T21:55:42.880Z"
   },
   {
    "duration": 11,
    "start_time": "2022-02-18T21:55:42.891Z"
   },
   {
    "duration": 217,
    "start_time": "2022-02-18T21:55:42.904Z"
   },
   {
    "duration": 15,
    "start_time": "2022-02-18T21:55:43.122Z"
   },
   {
    "duration": 267,
    "start_time": "2022-02-18T21:55:43.138Z"
   },
   {
    "duration": 14,
    "start_time": "2022-02-18T21:55:43.407Z"
   },
   {
    "duration": 98,
    "start_time": "2022-02-18T21:55:43.423Z"
   },
   {
    "duration": 23,
    "start_time": "2022-02-18T21:55:43.523Z"
   },
   {
    "duration": 112,
    "start_time": "2022-02-18T21:55:43.548Z"
   },
   {
    "duration": 16,
    "start_time": "2022-02-18T21:55:43.662Z"
   },
   {
    "duration": 110,
    "start_time": "2022-02-18T21:55:43.680Z"
   },
   {
    "duration": 16,
    "start_time": "2022-02-18T21:55:43.792Z"
   },
   {
    "duration": 107,
    "start_time": "2022-02-18T21:55:43.809Z"
   },
   {
    "duration": 28,
    "start_time": "2022-02-18T21:55:43.918Z"
   },
   {
    "duration": 107,
    "start_time": "2022-02-18T21:55:43.947Z"
   },
   {
    "duration": 15,
    "start_time": "2022-02-18T21:55:44.056Z"
   },
   {
    "duration": 110,
    "start_time": "2022-02-18T21:55:44.072Z"
   },
   {
    "duration": 17,
    "start_time": "2022-02-18T21:55:44.183Z"
   },
   {
    "duration": 97,
    "start_time": "2022-02-18T21:55:44.205Z"
   },
   {
    "duration": 27,
    "start_time": "2022-02-18T21:55:44.305Z"
   },
   {
    "duration": 99,
    "start_time": "2022-02-18T21:55:44.334Z"
   },
   {
    "duration": 17,
    "start_time": "2022-02-18T21:55:44.435Z"
   },
   {
    "duration": 104,
    "start_time": "2022-02-18T21:55:44.454Z"
   },
   {
    "duration": 6,
    "start_time": "2022-02-18T21:55:44.560Z"
   },
   {
    "duration": 8,
    "start_time": "2022-02-18T21:55:44.568Z"
   },
   {
    "duration": 8,
    "start_time": "2022-02-18T21:55:44.577Z"
   },
   {
    "duration": 1222,
    "start_time": "2022-02-19T08:36:38.230Z"
   },
   {
    "duration": 52,
    "start_time": "2022-02-19T08:36:39.454Z"
   },
   {
    "duration": 10,
    "start_time": "2022-02-19T08:36:39.508Z"
   },
   {
    "duration": 19,
    "start_time": "2022-02-19T08:36:39.520Z"
   },
   {
    "duration": 59,
    "start_time": "2022-02-19T08:36:39.541Z"
   },
   {
    "duration": 16,
    "start_time": "2022-02-19T08:36:39.602Z"
   },
   {
    "duration": 21,
    "start_time": "2022-02-19T08:36:39.619Z"
   },
   {
    "duration": 35,
    "start_time": "2022-02-19T08:36:39.642Z"
   },
   {
    "duration": 14,
    "start_time": "2022-02-19T08:36:39.679Z"
   },
   {
    "duration": 38,
    "start_time": "2022-02-19T08:36:39.695Z"
   },
   {
    "duration": 7,
    "start_time": "2022-02-19T08:36:39.735Z"
   },
   {
    "duration": 17,
    "start_time": "2022-02-19T08:36:39.744Z"
   },
   {
    "duration": 24,
    "start_time": "2022-02-19T08:36:39.763Z"
   },
   {
    "duration": 34,
    "start_time": "2022-02-19T08:36:39.789Z"
   },
   {
    "duration": 10,
    "start_time": "2022-02-19T08:36:39.825Z"
   },
   {
    "duration": 17,
    "start_time": "2022-02-19T08:36:39.837Z"
   },
   {
    "duration": 26,
    "start_time": "2022-02-19T08:36:39.855Z"
   },
   {
    "duration": 6,
    "start_time": "2022-02-19T08:36:39.883Z"
   },
   {
    "duration": 448,
    "start_time": "2022-02-19T08:36:39.891Z"
   },
   {
    "duration": 366,
    "start_time": "2022-02-19T08:36:40.341Z"
   },
   {
    "duration": 16,
    "start_time": "2022-02-19T08:36:40.709Z"
   },
   {
    "duration": 45,
    "start_time": "2022-02-19T08:36:40.727Z"
   },
   {
    "duration": 17,
    "start_time": "2022-02-19T08:36:40.778Z"
   },
   {
    "duration": 224,
    "start_time": "2022-02-19T08:36:40.799Z"
   },
   {
    "duration": 217,
    "start_time": "2022-02-19T08:36:41.025Z"
   },
   {
    "duration": 227,
    "start_time": "2022-02-19T08:36:41.244Z"
   },
   {
    "duration": 226,
    "start_time": "2022-02-19T08:36:41.473Z"
   },
   {
    "duration": 319,
    "start_time": "2022-02-19T08:36:41.702Z"
   },
   {
    "duration": 159,
    "start_time": "2022-02-19T08:36:42.023Z"
   },
   {
    "duration": 10,
    "start_time": "2022-02-19T08:36:42.183Z"
   },
   {
    "duration": 773,
    "start_time": "2022-02-19T08:36:42.195Z"
   },
   {
    "duration": 6,
    "start_time": "2022-02-19T08:36:42.970Z"
   },
   {
    "duration": 12,
    "start_time": "2022-02-19T08:36:42.978Z"
   },
   {
    "duration": 31,
    "start_time": "2022-02-19T08:36:42.991Z"
   },
   {
    "duration": 310,
    "start_time": "2022-02-19T08:36:43.024Z"
   },
   {
    "duration": 4,
    "start_time": "2022-02-19T08:36:43.336Z"
   },
   {
    "duration": 323,
    "start_time": "2022-02-19T08:36:43.342Z"
   },
   {
    "duration": 6,
    "start_time": "2022-02-19T08:36:43.667Z"
   },
   {
    "duration": 11,
    "start_time": "2022-02-19T08:36:43.675Z"
   },
   {
    "duration": 318,
    "start_time": "2022-02-19T08:36:43.687Z"
   },
   {
    "duration": 5,
    "start_time": "2022-02-19T08:36:44.018Z"
   },
   {
    "duration": 295,
    "start_time": "2022-02-19T08:36:44.025Z"
   },
   {
    "duration": 5,
    "start_time": "2022-02-19T08:36:44.322Z"
   },
   {
    "duration": 8,
    "start_time": "2022-02-19T08:36:44.329Z"
   },
   {
    "duration": 303,
    "start_time": "2022-02-19T08:36:44.338Z"
   },
   {
    "duration": 5,
    "start_time": "2022-02-19T08:36:44.643Z"
   },
   {
    "duration": 302,
    "start_time": "2022-02-19T08:36:44.649Z"
   },
   {
    "duration": 5,
    "start_time": "2022-02-19T08:36:44.953Z"
   },
   {
    "duration": 9,
    "start_time": "2022-02-19T08:36:44.959Z"
   },
   {
    "duration": 15,
    "start_time": "2022-02-19T08:36:44.970Z"
   },
   {
    "duration": 34,
    "start_time": "2022-02-19T08:36:44.987Z"
   },
   {
    "duration": 249,
    "start_time": "2022-02-19T08:36:45.023Z"
   },
   {
    "duration": 17,
    "start_time": "2022-02-19T08:36:45.274Z"
   },
   {
    "duration": 326,
    "start_time": "2022-02-19T08:36:45.294Z"
   },
   {
    "duration": 17,
    "start_time": "2022-02-19T08:36:45.622Z"
   },
   {
    "duration": 128,
    "start_time": "2022-02-19T08:36:45.640Z"
   },
   {
    "duration": 18,
    "start_time": "2022-02-19T08:36:45.770Z"
   },
   {
    "duration": 131,
    "start_time": "2022-02-19T08:36:45.790Z"
   },
   {
    "duration": 17,
    "start_time": "2022-02-19T08:36:45.924Z"
   },
   {
    "duration": 123,
    "start_time": "2022-02-19T08:36:45.943Z"
   },
   {
    "duration": 25,
    "start_time": "2022-02-19T08:36:46.069Z"
   },
   {
    "duration": 171,
    "start_time": "2022-02-19T08:36:46.096Z"
   },
   {
    "duration": 17,
    "start_time": "2022-02-19T08:36:46.269Z"
   },
   {
    "duration": 124,
    "start_time": "2022-02-19T08:36:46.288Z"
   },
   {
    "duration": 18,
    "start_time": "2022-02-19T08:36:46.413Z"
   },
   {
    "duration": 141,
    "start_time": "2022-02-19T08:36:46.433Z"
   },
   {
    "duration": 16,
    "start_time": "2022-02-19T08:36:46.576Z"
   },
   {
    "duration": 110,
    "start_time": "2022-02-19T08:36:46.598Z"
   },
   {
    "duration": 23,
    "start_time": "2022-02-19T08:36:46.710Z"
   },
   {
    "duration": 116,
    "start_time": "2022-02-19T08:36:46.735Z"
   },
   {
    "duration": 18,
    "start_time": "2022-02-19T08:36:46.853Z"
   },
   {
    "duration": 174,
    "start_time": "2022-02-19T08:36:46.873Z"
   },
   {
    "duration": 9,
    "start_time": "2022-02-19T08:36:47.050Z"
   },
   {
    "duration": 21,
    "start_time": "2022-02-19T08:36:47.061Z"
   },
   {
    "duration": 74,
    "start_time": "2022-02-19T08:36:47.084Z"
   },
   {
    "duration": 68,
    "start_time": "2022-02-19T08:59:47.562Z"
   },
   {
    "duration": 1173,
    "start_time": "2022-02-19T08:59:54.103Z"
   },
   {
    "duration": 53,
    "start_time": "2022-02-19T08:59:55.278Z"
   },
   {
    "duration": 9,
    "start_time": "2022-02-19T08:59:55.333Z"
   },
   {
    "duration": 14,
    "start_time": "2022-02-19T08:59:55.344Z"
   },
   {
    "duration": 26,
    "start_time": "2022-02-19T08:59:55.360Z"
   },
   {
    "duration": 13,
    "start_time": "2022-02-19T08:59:55.388Z"
   },
   {
    "duration": 17,
    "start_time": "2022-02-19T08:59:55.403Z"
   },
   {
    "duration": 17,
    "start_time": "2022-02-19T08:59:55.422Z"
   },
   {
    "duration": 20,
    "start_time": "2022-02-19T08:59:55.443Z"
   },
   {
    "duration": 29,
    "start_time": "2022-02-19T08:59:55.466Z"
   },
   {
    "duration": 7,
    "start_time": "2022-02-19T08:59:55.497Z"
   },
   {
    "duration": 24,
    "start_time": "2022-02-19T08:59:55.506Z"
   },
   {
    "duration": 14,
    "start_time": "2022-02-19T08:59:55.532Z"
   },
   {
    "duration": 87,
    "start_time": "2022-02-19T08:59:55.548Z"
   },
   {
    "duration": 15,
    "start_time": "2022-02-19T08:59:55.637Z"
   },
   {
    "duration": 10,
    "start_time": "2022-02-19T08:59:55.654Z"
   },
   {
    "duration": 7,
    "start_time": "2022-02-19T08:59:55.666Z"
   },
   {
    "duration": 44,
    "start_time": "2022-02-19T08:59:55.675Z"
   },
   {
    "duration": 7,
    "start_time": "2022-02-19T08:59:55.722Z"
   },
   {
    "duration": 18,
    "start_time": "2022-02-19T08:59:55.730Z"
   },
   {
    "duration": 445,
    "start_time": "2022-02-19T08:59:55.750Z"
   },
   {
    "duration": 342,
    "start_time": "2022-02-19T08:59:56.198Z"
   },
   {
    "duration": 13,
    "start_time": "2022-02-19T08:59:56.542Z"
   },
   {
    "duration": 40,
    "start_time": "2022-02-19T08:59:56.556Z"
   },
   {
    "duration": 30,
    "start_time": "2022-02-19T08:59:56.598Z"
   },
   {
    "duration": 210,
    "start_time": "2022-02-19T08:59:56.630Z"
   },
   {
    "duration": 209,
    "start_time": "2022-02-19T08:59:56.846Z"
   },
   {
    "duration": 219,
    "start_time": "2022-02-19T08:59:57.059Z"
   },
   {
    "duration": 220,
    "start_time": "2022-02-19T08:59:57.280Z"
   },
   {
    "duration": 269,
    "start_time": "2022-02-19T08:59:57.503Z"
   },
   {
    "duration": 146,
    "start_time": "2022-02-19T08:59:57.774Z"
   },
   {
    "duration": 10,
    "start_time": "2022-02-19T08:59:57.922Z"
   },
   {
    "duration": 572,
    "start_time": "2022-02-19T08:59:57.933Z"
   },
   {
    "duration": 12,
    "start_time": "2022-02-19T08:59:58.507Z"
   },
   {
    "duration": 13,
    "start_time": "2022-02-19T08:59:58.521Z"
   },
   {
    "duration": 29,
    "start_time": "2022-02-19T08:59:58.536Z"
   },
   {
    "duration": 311,
    "start_time": "2022-02-19T08:59:58.567Z"
   },
   {
    "duration": 6,
    "start_time": "2022-02-19T08:59:58.880Z"
   },
   {
    "duration": 354,
    "start_time": "2022-02-19T08:59:58.887Z"
   },
   {
    "duration": 5,
    "start_time": "2022-02-19T08:59:59.242Z"
   },
   {
    "duration": 113,
    "start_time": "2022-02-19T08:59:59.249Z"
   },
   {
    "duration": 534,
    "start_time": "2022-02-19T08:59:59.365Z"
   },
   {
    "duration": 8,
    "start_time": "2022-02-19T08:59:59.901Z"
   },
   {
    "duration": 323,
    "start_time": "2022-02-19T08:59:59.919Z"
   },
   {
    "duration": 5,
    "start_time": "2022-02-19T09:00:00.245Z"
   },
   {
    "duration": 52,
    "start_time": "2022-02-19T09:00:00.252Z"
   },
   {
    "duration": 338,
    "start_time": "2022-02-19T09:00:00.306Z"
   },
   {
    "duration": 6,
    "start_time": "2022-02-19T09:00:00.646Z"
   },
   {
    "duration": 382,
    "start_time": "2022-02-19T09:00:00.654Z"
   },
   {
    "duration": 5,
    "start_time": "2022-02-19T09:00:01.038Z"
   },
   {
    "duration": 53,
    "start_time": "2022-02-19T09:00:01.045Z"
   },
   {
    "duration": 39,
    "start_time": "2022-02-19T09:00:01.100Z"
   },
   {
    "duration": 48,
    "start_time": "2022-02-19T09:00:01.140Z"
   },
   {
    "duration": 333,
    "start_time": "2022-02-19T09:00:01.190Z"
   },
   {
    "duration": 13,
    "start_time": "2022-02-19T09:00:01.525Z"
   },
   {
    "duration": 356,
    "start_time": "2022-02-19T09:00:01.540Z"
   },
   {
    "duration": 25,
    "start_time": "2022-02-19T09:00:01.898Z"
   },
   {
    "duration": 135,
    "start_time": "2022-02-19T09:00:01.925Z"
   },
   {
    "duration": 27,
    "start_time": "2022-02-19T09:00:02.062Z"
   },
   {
    "duration": 180,
    "start_time": "2022-02-19T09:00:02.091Z"
   },
   {
    "duration": 18,
    "start_time": "2022-02-19T09:00:02.273Z"
   },
   {
    "duration": 131,
    "start_time": "2022-02-19T09:00:02.292Z"
   },
   {
    "duration": 18,
    "start_time": "2022-02-19T09:00:02.426Z"
   },
   {
    "duration": 140,
    "start_time": "2022-02-19T09:00:02.446Z"
   },
   {
    "duration": 18,
    "start_time": "2022-02-19T09:00:02.588Z"
   },
   {
    "duration": 136,
    "start_time": "2022-02-19T09:00:02.619Z"
   },
   {
    "duration": 17,
    "start_time": "2022-02-19T09:00:02.757Z"
   },
   {
    "duration": 188,
    "start_time": "2022-02-19T09:00:02.777Z"
   },
   {
    "duration": 19,
    "start_time": "2022-02-19T09:00:02.968Z"
   },
   {
    "duration": 119,
    "start_time": "2022-02-19T09:00:02.990Z"
   },
   {
    "duration": 22,
    "start_time": "2022-02-19T09:00:03.111Z"
   },
   {
    "duration": 122,
    "start_time": "2022-02-19T09:00:03.135Z"
   },
   {
    "duration": 33,
    "start_time": "2022-02-19T09:00:03.259Z"
   },
   {
    "duration": 130,
    "start_time": "2022-02-19T09:00:03.294Z"
   },
   {
    "duration": 8,
    "start_time": "2022-02-19T09:00:03.426Z"
   },
   {
    "duration": 21,
    "start_time": "2022-02-19T09:00:03.435Z"
   },
   {
    "duration": 37,
    "start_time": "2022-02-19T09:00:03.458Z"
   },
   {
    "duration": 68,
    "start_time": "2022-02-19T09:01:31.407Z"
   },
   {
    "duration": 12,
    "start_time": "2022-02-19T09:01:48.747Z"
   },
   {
    "duration": 13,
    "start_time": "2022-02-19T09:02:03.624Z"
   },
   {
    "duration": 63,
    "start_time": "2022-02-19T09:03:17.962Z"
   },
   {
    "duration": 1196,
    "start_time": "2022-02-19T09:03:28.372Z"
   },
   {
    "duration": 55,
    "start_time": "2022-02-19T09:03:29.570Z"
   },
   {
    "duration": 10,
    "start_time": "2022-02-19T09:03:29.627Z"
   },
   {
    "duration": 12,
    "start_time": "2022-02-19T09:03:29.639Z"
   },
   {
    "duration": 19,
    "start_time": "2022-02-19T09:03:29.652Z"
   },
   {
    "duration": 6,
    "start_time": "2022-02-19T09:03:29.673Z"
   },
   {
    "duration": 39,
    "start_time": "2022-02-19T09:03:29.681Z"
   },
   {
    "duration": 14,
    "start_time": "2022-02-19T09:03:29.724Z"
   },
   {
    "duration": 14,
    "start_time": "2022-02-19T09:03:29.741Z"
   },
   {
    "duration": 18,
    "start_time": "2022-02-19T09:03:29.756Z"
   },
   {
    "duration": 7,
    "start_time": "2022-02-19T09:03:29.775Z"
   },
   {
    "duration": 40,
    "start_time": "2022-02-19T09:03:29.783Z"
   },
   {
    "duration": 9,
    "start_time": "2022-02-19T09:03:29.824Z"
   },
   {
    "duration": 95,
    "start_time": "2022-02-19T09:03:29.835Z"
   },
   {
    "duration": 58,
    "start_time": "2022-02-19T09:03:29.932Z"
   },
   {
    "duration": 41,
    "start_time": "2022-02-19T09:03:29.992Z"
   },
   {
    "duration": 10,
    "start_time": "2022-02-19T09:03:30.035Z"
   },
   {
    "duration": 20,
    "start_time": "2022-02-19T09:03:30.047Z"
   },
   {
    "duration": 33,
    "start_time": "2022-02-19T09:03:30.068Z"
   },
   {
    "duration": 7,
    "start_time": "2022-02-19T09:03:30.102Z"
   },
   {
    "duration": 21,
    "start_time": "2022-02-19T09:03:30.111Z"
   },
   {
    "duration": 430,
    "start_time": "2022-02-19T09:03:30.134Z"
   },
   {
    "duration": 321,
    "start_time": "2022-02-19T09:03:30.568Z"
   },
   {
    "duration": 11,
    "start_time": "2022-02-19T09:03:30.892Z"
   },
   {
    "duration": 62,
    "start_time": "2022-02-19T09:03:30.918Z"
   },
   {
    "duration": 18,
    "start_time": "2022-02-19T09:03:30.982Z"
   },
   {
    "duration": 329,
    "start_time": "2022-02-19T09:03:31.002Z"
   },
   {
    "duration": 335,
    "start_time": "2022-02-19T09:03:31.333Z"
   },
   {
    "duration": 342,
    "start_time": "2022-02-19T09:03:31.670Z"
   },
   {
    "duration": 294,
    "start_time": "2022-02-19T09:03:32.014Z"
   },
   {
    "duration": 196,
    "start_time": "2022-02-19T09:03:32.318Z"
   },
   {
    "duration": 156,
    "start_time": "2022-02-19T09:03:32.519Z"
   },
   {
    "duration": 11,
    "start_time": "2022-02-19T09:03:32.677Z"
   },
   {
    "duration": 855,
    "start_time": "2022-02-19T09:03:32.689Z"
   },
   {
    "duration": 5,
    "start_time": "2022-02-19T09:03:33.546Z"
   },
   {
    "duration": 12,
    "start_time": "2022-02-19T09:03:33.553Z"
   },
   {
    "duration": 54,
    "start_time": "2022-02-19T09:03:33.568Z"
   },
   {
    "duration": 302,
    "start_time": "2022-02-19T09:03:33.625Z"
   },
   {
    "duration": 5,
    "start_time": "2022-02-19T09:03:33.928Z"
   },
   {
    "duration": 303,
    "start_time": "2022-02-19T09:03:33.934Z"
   },
   {
    "duration": 5,
    "start_time": "2022-02-19T09:03:34.239Z"
   },
   {
    "duration": 19,
    "start_time": "2022-02-19T09:03:34.246Z"
   },
   {
    "duration": 281,
    "start_time": "2022-02-19T09:03:34.268Z"
   },
   {
    "duration": 5,
    "start_time": "2022-02-19T09:03:34.552Z"
   },
   {
    "duration": 268,
    "start_time": "2022-02-19T09:03:34.559Z"
   },
   {
    "duration": 5,
    "start_time": "2022-02-19T09:03:34.829Z"
   },
   {
    "duration": 14,
    "start_time": "2022-02-19T09:03:34.837Z"
   },
   {
    "duration": 282,
    "start_time": "2022-02-19T09:03:34.853Z"
   },
   {
    "duration": 6,
    "start_time": "2022-02-19T09:03:35.136Z"
   },
   {
    "duration": 302,
    "start_time": "2022-02-19T09:03:35.144Z"
   },
   {
    "duration": 5,
    "start_time": "2022-02-19T09:03:35.448Z"
   },
   {
    "duration": 10,
    "start_time": "2022-02-19T09:03:35.454Z"
   },
   {
    "duration": 14,
    "start_time": "2022-02-19T09:03:35.466Z"
   },
   {
    "duration": 12,
    "start_time": "2022-02-19T09:03:35.482Z"
   },
   {
    "duration": 333,
    "start_time": "2022-02-19T09:03:35.496Z"
   },
   {
    "duration": 12,
    "start_time": "2022-02-19T09:03:35.831Z"
   },
   {
    "duration": 245,
    "start_time": "2022-02-19T09:03:35.845Z"
   },
   {
    "duration": 27,
    "start_time": "2022-02-19T09:03:36.092Z"
   },
   {
    "duration": 116,
    "start_time": "2022-02-19T09:03:36.121Z"
   },
   {
    "duration": 18,
    "start_time": "2022-02-19T09:03:36.239Z"
   },
   {
    "duration": 122,
    "start_time": "2022-02-19T09:03:36.258Z"
   },
   {
    "duration": 16,
    "start_time": "2022-02-19T09:03:36.381Z"
   },
   {
    "duration": 127,
    "start_time": "2022-02-19T09:03:36.399Z"
   },
   {
    "duration": 18,
    "start_time": "2022-02-19T09:03:36.528Z"
   },
   {
    "duration": 136,
    "start_time": "2022-02-19T09:03:36.548Z"
   },
   {
    "duration": 18,
    "start_time": "2022-02-19T09:03:36.686Z"
   },
   {
    "duration": 132,
    "start_time": "2022-02-19T09:03:36.705Z"
   },
   {
    "duration": 17,
    "start_time": "2022-02-19T09:03:36.842Z"
   },
   {
    "duration": 125,
    "start_time": "2022-02-19T09:03:36.861Z"
   },
   {
    "duration": 31,
    "start_time": "2022-02-19T09:03:36.987Z"
   },
   {
    "duration": 112,
    "start_time": "2022-02-19T09:03:37.020Z"
   },
   {
    "duration": 19,
    "start_time": "2022-02-19T09:03:37.134Z"
   },
   {
    "duration": 125,
    "start_time": "2022-02-19T09:03:37.154Z"
   },
   {
    "duration": 17,
    "start_time": "2022-02-19T09:03:37.281Z"
   },
   {
    "duration": 127,
    "start_time": "2022-02-19T09:03:37.299Z"
   },
   {
    "duration": 6,
    "start_time": "2022-02-19T09:03:37.427Z"
   },
   {
    "duration": 14,
    "start_time": "2022-02-19T09:03:37.435Z"
   },
   {
    "duration": 15,
    "start_time": "2022-02-19T09:03:37.450Z"
   },
   {
    "duration": 21,
    "start_time": "2022-02-19T09:08:31.942Z"
   },
   {
    "duration": 14,
    "start_time": "2022-02-19T09:08:33.856Z"
   },
   {
    "duration": 1254,
    "start_time": "2022-02-19T09:08:45.992Z"
   },
   {
    "duration": 50,
    "start_time": "2022-02-19T09:08:47.248Z"
   },
   {
    "duration": 24,
    "start_time": "2022-02-19T09:08:47.301Z"
   },
   {
    "duration": 22,
    "start_time": "2022-02-19T09:08:47.329Z"
   },
   {
    "duration": 21,
    "start_time": "2022-02-19T09:08:47.353Z"
   },
   {
    "duration": 8,
    "start_time": "2022-02-19T09:08:47.376Z"
   },
   {
    "duration": 13,
    "start_time": "2022-02-19T09:08:47.386Z"
   },
   {
    "duration": 23,
    "start_time": "2022-02-19T09:08:47.401Z"
   },
   {
    "duration": 15,
    "start_time": "2022-02-19T09:08:47.427Z"
   },
   {
    "duration": 18,
    "start_time": "2022-02-19T09:08:47.444Z"
   },
   {
    "duration": 7,
    "start_time": "2022-02-19T09:08:47.464Z"
   },
   {
    "duration": 17,
    "start_time": "2022-02-19T09:08:47.473Z"
   },
   {
    "duration": 31,
    "start_time": "2022-02-19T09:08:47.491Z"
   },
   {
    "duration": 81,
    "start_time": "2022-02-19T09:08:47.524Z"
   },
   {
    "duration": 60,
    "start_time": "2022-02-19T09:08:47.619Z"
   },
   {
    "duration": 49,
    "start_time": "2022-02-19T09:08:47.682Z"
   },
   {
    "duration": 10,
    "start_time": "2022-02-19T09:08:47.733Z"
   },
   {
    "duration": 11,
    "start_time": "2022-02-19T09:08:47.745Z"
   },
   {
    "duration": 33,
    "start_time": "2022-02-19T09:08:47.758Z"
   },
   {
    "duration": 20,
    "start_time": "2022-02-19T09:08:47.792Z"
   },
   {
    "duration": 37,
    "start_time": "2022-02-19T09:08:47.814Z"
   },
   {
    "duration": 446,
    "start_time": "2022-02-19T09:08:47.853Z"
   },
   {
    "duration": 379,
    "start_time": "2022-02-19T09:08:48.303Z"
   },
   {
    "duration": 11,
    "start_time": "2022-02-19T09:08:48.685Z"
   },
   {
    "duration": 51,
    "start_time": "2022-02-19T09:08:48.698Z"
   },
   {
    "duration": 13,
    "start_time": "2022-02-19T09:08:48.751Z"
   },
   {
    "duration": 226,
    "start_time": "2022-02-19T09:08:48.766Z"
   },
   {
    "duration": 220,
    "start_time": "2022-02-19T09:08:48.993Z"
   },
   {
    "duration": 220,
    "start_time": "2022-02-19T09:08:49.218Z"
   },
   {
    "duration": 278,
    "start_time": "2022-02-19T09:08:49.440Z"
   },
   {
    "duration": 203,
    "start_time": "2022-02-19T09:08:49.721Z"
   },
   {
    "duration": 156,
    "start_time": "2022-02-19T09:08:49.925Z"
   },
   {
    "duration": 13,
    "start_time": "2022-02-19T09:08:50.083Z"
   },
   {
    "duration": 657,
    "start_time": "2022-02-19T09:08:50.098Z"
   },
   {
    "duration": 6,
    "start_time": "2022-02-19T09:08:50.756Z"
   },
   {
    "duration": 28,
    "start_time": "2022-02-19T09:08:50.764Z"
   },
   {
    "duration": 16,
    "start_time": "2022-02-19T09:08:50.794Z"
   },
   {
    "duration": 338,
    "start_time": "2022-02-19T09:08:50.812Z"
   },
   {
    "duration": 5,
    "start_time": "2022-02-19T09:08:51.151Z"
   },
   {
    "duration": 306,
    "start_time": "2022-02-19T09:08:51.158Z"
   },
   {
    "duration": 5,
    "start_time": "2022-02-19T09:08:51.466Z"
   },
   {
    "duration": 10,
    "start_time": "2022-02-19T09:08:51.473Z"
   },
   {
    "duration": 320,
    "start_time": "2022-02-19T09:08:51.484Z"
   },
   {
    "duration": 17,
    "start_time": "2022-02-19T09:08:51.805Z"
   },
   {
    "duration": 296,
    "start_time": "2022-02-19T09:08:51.824Z"
   },
   {
    "duration": 6,
    "start_time": "2022-02-19T09:08:52.122Z"
   },
   {
    "duration": 14,
    "start_time": "2022-02-19T09:08:52.130Z"
   },
   {
    "duration": 279,
    "start_time": "2022-02-19T09:08:52.146Z"
   },
   {
    "duration": 5,
    "start_time": "2022-02-19T09:08:52.426Z"
   },
   {
    "duration": 318,
    "start_time": "2022-02-19T09:08:52.432Z"
   },
   {
    "duration": 5,
    "start_time": "2022-02-19T09:08:52.752Z"
   },
   {
    "duration": 14,
    "start_time": "2022-02-19T09:08:52.759Z"
   },
   {
    "duration": 15,
    "start_time": "2022-02-19T09:08:52.775Z"
   },
   {
    "duration": 35,
    "start_time": "2022-02-19T09:08:52.792Z"
   },
   {
    "duration": 328,
    "start_time": "2022-02-19T09:08:52.829Z"
   },
   {
    "duration": 12,
    "start_time": "2022-02-19T09:08:53.158Z"
   },
   {
    "duration": 241,
    "start_time": "2022-02-19T09:08:53.171Z"
   },
   {
    "duration": 21,
    "start_time": "2022-02-19T09:08:53.413Z"
   },
   {
    "duration": 126,
    "start_time": "2022-02-19T09:08:53.436Z"
   },
   {
    "duration": 17,
    "start_time": "2022-02-19T09:08:53.564Z"
   },
   {
    "duration": 124,
    "start_time": "2022-02-19T09:08:53.583Z"
   },
   {
    "duration": 22,
    "start_time": "2022-02-19T09:08:53.709Z"
   },
   {
    "duration": 130,
    "start_time": "2022-02-19T09:08:53.732Z"
   },
   {
    "duration": 16,
    "start_time": "2022-02-19T09:08:53.863Z"
   },
   {
    "duration": 124,
    "start_time": "2022-02-19T09:08:53.881Z"
   },
   {
    "duration": 21,
    "start_time": "2022-02-19T09:08:54.007Z"
   },
   {
    "duration": 120,
    "start_time": "2022-02-19T09:08:54.029Z"
   },
   {
    "duration": 18,
    "start_time": "2022-02-19T09:08:54.154Z"
   },
   {
    "duration": 136,
    "start_time": "2022-02-19T09:08:54.174Z"
   },
   {
    "duration": 23,
    "start_time": "2022-02-19T09:08:54.313Z"
   },
   {
    "duration": 115,
    "start_time": "2022-02-19T09:08:54.337Z"
   },
   {
    "duration": 19,
    "start_time": "2022-02-19T09:08:54.454Z"
   },
   {
    "duration": 121,
    "start_time": "2022-02-19T09:08:54.474Z"
   },
   {
    "duration": 27,
    "start_time": "2022-02-19T09:08:54.596Z"
   },
   {
    "duration": 122,
    "start_time": "2022-02-19T09:08:54.625Z"
   },
   {
    "duration": 7,
    "start_time": "2022-02-19T09:08:54.749Z"
   },
   {
    "duration": 15,
    "start_time": "2022-02-19T09:08:54.757Z"
   },
   {
    "duration": 9,
    "start_time": "2022-02-19T09:08:54.774Z"
   },
   {
    "duration": 4,
    "start_time": "2022-02-19T09:09:46.421Z"
   },
   {
    "duration": 14,
    "start_time": "2022-02-19T09:09:48.277Z"
   },
   {
    "duration": 5,
    "start_time": "2022-02-19T09:12:01.166Z"
   },
   {
    "duration": 19,
    "start_time": "2022-02-19T09:12:03.945Z"
   },
   {
    "duration": 1137,
    "start_time": "2022-02-19T09:12:11.125Z"
   },
   {
    "duration": 52,
    "start_time": "2022-02-19T09:12:12.264Z"
   },
   {
    "duration": 9,
    "start_time": "2022-02-19T09:12:12.318Z"
   },
   {
    "duration": 8,
    "start_time": "2022-02-19T09:12:12.329Z"
   },
   {
    "duration": 22,
    "start_time": "2022-02-19T09:12:12.339Z"
   },
   {
    "duration": 5,
    "start_time": "2022-02-19T09:12:12.363Z"
   },
   {
    "duration": 7,
    "start_time": "2022-02-19T09:12:12.370Z"
   },
   {
    "duration": 38,
    "start_time": "2022-02-19T09:12:12.380Z"
   },
   {
    "duration": 13,
    "start_time": "2022-02-19T09:12:12.420Z"
   },
   {
    "duration": 21,
    "start_time": "2022-02-19T09:12:12.435Z"
   },
   {
    "duration": 6,
    "start_time": "2022-02-19T09:12:12.458Z"
   },
   {
    "duration": 17,
    "start_time": "2022-02-19T09:12:12.466Z"
   },
   {
    "duration": 7,
    "start_time": "2022-02-19T09:12:12.485Z"
   },
   {
    "duration": 91,
    "start_time": "2022-02-19T09:12:12.494Z"
   },
   {
    "duration": 71,
    "start_time": "2022-02-19T09:12:12.587Z"
   },
   {
    "duration": 4,
    "start_time": "2022-02-19T09:12:12.660Z"
   },
   {
    "duration": 18,
    "start_time": "2022-02-19T09:12:12.665Z"
   },
   {
    "duration": 10,
    "start_time": "2022-02-19T09:12:12.684Z"
   },
   {
    "duration": 23,
    "start_time": "2022-02-19T09:12:12.697Z"
   },
   {
    "duration": 16,
    "start_time": "2022-02-19T09:12:12.722Z"
   },
   {
    "duration": 9,
    "start_time": "2022-02-19T09:12:12.740Z"
   },
   {
    "duration": 562,
    "start_time": "2022-02-19T09:12:12.751Z"
   },
   {
    "duration": 324,
    "start_time": "2022-02-19T09:12:13.322Z"
   },
   {
    "duration": 12,
    "start_time": "2022-02-19T09:12:13.650Z"
   },
   {
    "duration": 54,
    "start_time": "2022-02-19T09:12:13.664Z"
   },
   {
    "duration": 13,
    "start_time": "2022-02-19T09:12:13.720Z"
   },
   {
    "duration": 212,
    "start_time": "2022-02-19T09:12:13.736Z"
   },
   {
    "duration": 231,
    "start_time": "2022-02-19T09:12:13.950Z"
   },
   {
    "duration": 370,
    "start_time": "2022-02-19T09:12:14.182Z"
   },
   {
    "duration": 391,
    "start_time": "2022-02-19T09:12:14.554Z"
   },
   {
    "duration": 225,
    "start_time": "2022-02-19T09:12:14.947Z"
   },
   {
    "duration": 166,
    "start_time": "2022-02-19T09:12:15.175Z"
   },
   {
    "duration": 12,
    "start_time": "2022-02-19T09:12:15.343Z"
   },
   {
    "duration": 671,
    "start_time": "2022-02-19T09:12:15.356Z"
   },
   {
    "duration": 6,
    "start_time": "2022-02-19T09:12:16.028Z"
   },
   {
    "duration": 10,
    "start_time": "2022-02-19T09:12:16.036Z"
   },
   {
    "duration": 9,
    "start_time": "2022-02-19T09:12:16.048Z"
   },
   {
    "duration": 310,
    "start_time": "2022-02-19T09:12:16.059Z"
   },
   {
    "duration": 5,
    "start_time": "2022-02-19T09:12:16.370Z"
   },
   {
    "duration": 313,
    "start_time": "2022-02-19T09:12:16.376Z"
   },
   {
    "duration": 4,
    "start_time": "2022-02-19T09:12:16.691Z"
   },
   {
    "duration": 14,
    "start_time": "2022-02-19T09:12:16.697Z"
   },
   {
    "duration": 299,
    "start_time": "2022-02-19T09:12:16.713Z"
   },
   {
    "duration": 5,
    "start_time": "2022-02-19T09:12:17.018Z"
   },
   {
    "duration": 300,
    "start_time": "2022-02-19T09:12:17.025Z"
   },
   {
    "duration": 4,
    "start_time": "2022-02-19T09:12:17.327Z"
   },
   {
    "duration": 25,
    "start_time": "2022-02-19T09:12:17.333Z"
   },
   {
    "duration": 298,
    "start_time": "2022-02-19T09:12:17.360Z"
   },
   {
    "duration": 4,
    "start_time": "2022-02-19T09:12:17.660Z"
   },
   {
    "duration": 307,
    "start_time": "2022-02-19T09:12:17.666Z"
   },
   {
    "duration": 5,
    "start_time": "2022-02-19T09:12:17.974Z"
   },
   {
    "duration": 13,
    "start_time": "2022-02-19T09:12:17.981Z"
   },
   {
    "duration": 23,
    "start_time": "2022-02-19T09:12:17.996Z"
   },
   {
    "duration": 11,
    "start_time": "2022-02-19T09:12:18.021Z"
   },
   {
    "duration": 317,
    "start_time": "2022-02-19T09:12:18.034Z"
   },
   {
    "duration": 19,
    "start_time": "2022-02-19T09:12:18.353Z"
   },
   {
    "duration": 230,
    "start_time": "2022-02-19T09:12:18.374Z"
   },
   {
    "duration": 26,
    "start_time": "2022-02-19T09:12:18.606Z"
   },
   {
    "duration": 119,
    "start_time": "2022-02-19T09:12:18.634Z"
   },
   {
    "duration": 16,
    "start_time": "2022-02-19T09:12:18.755Z"
   },
   {
    "duration": 125,
    "start_time": "2022-02-19T09:12:18.772Z"
   },
   {
    "duration": 30,
    "start_time": "2022-02-19T09:12:18.899Z"
   },
   {
    "duration": 109,
    "start_time": "2022-02-19T09:12:18.932Z"
   },
   {
    "duration": 16,
    "start_time": "2022-02-19T09:12:19.043Z"
   },
   {
    "duration": 126,
    "start_time": "2022-02-19T09:12:19.060Z"
   },
   {
    "duration": 17,
    "start_time": "2022-02-19T09:12:19.188Z"
   },
   {
    "duration": 122,
    "start_time": "2022-02-19T09:12:19.207Z"
   },
   {
    "duration": 16,
    "start_time": "2022-02-19T09:12:19.334Z"
   },
   {
    "duration": 124,
    "start_time": "2022-02-19T09:12:19.352Z"
   },
   {
    "duration": 19,
    "start_time": "2022-02-19T09:12:19.478Z"
   },
   {
    "duration": 125,
    "start_time": "2022-02-19T09:12:19.499Z"
   },
   {
    "duration": 18,
    "start_time": "2022-02-19T09:12:19.626Z"
   },
   {
    "duration": 120,
    "start_time": "2022-02-19T09:12:19.646Z"
   },
   {
    "duration": 17,
    "start_time": "2022-02-19T09:12:19.768Z"
   },
   {
    "duration": 117,
    "start_time": "2022-02-19T09:12:19.787Z"
   },
   {
    "duration": 14,
    "start_time": "2022-02-19T09:12:19.906Z"
   },
   {
    "duration": 10,
    "start_time": "2022-02-19T09:12:19.922Z"
   },
   {
    "duration": 8,
    "start_time": "2022-02-19T09:12:19.934Z"
   },
   {
    "duration": 5,
    "start_time": "2022-02-19T09:16:07.745Z"
   },
   {
    "duration": 8,
    "start_time": "2022-02-19T09:16:11.432Z"
   },
   {
    "duration": 6,
    "start_time": "2022-02-19T09:18:03.897Z"
   },
   {
    "duration": 8,
    "start_time": "2022-02-19T09:18:05.433Z"
   },
   {
    "duration": 7,
    "start_time": "2022-02-19T09:18:32.814Z"
   },
   {
    "duration": 7,
    "start_time": "2022-02-19T09:18:34.358Z"
   },
   {
    "duration": 8,
    "start_time": "2022-02-19T09:19:00.276Z"
   },
   {
    "duration": 7,
    "start_time": "2022-02-19T09:19:02.515Z"
   },
   {
    "duration": 1183,
    "start_time": "2022-02-19T09:25:17.168Z"
   },
   {
    "duration": 52,
    "start_time": "2022-02-19T09:25:18.354Z"
   },
   {
    "duration": 10,
    "start_time": "2022-02-19T09:25:18.408Z"
   },
   {
    "duration": 9,
    "start_time": "2022-02-19T09:25:18.420Z"
   },
   {
    "duration": 16,
    "start_time": "2022-02-19T09:25:18.431Z"
   },
   {
    "duration": 5,
    "start_time": "2022-02-19T09:25:18.449Z"
   },
   {
    "duration": 9,
    "start_time": "2022-02-19T09:25:18.455Z"
   },
   {
    "duration": 16,
    "start_time": "2022-02-19T09:25:18.466Z"
   },
   {
    "duration": 14,
    "start_time": "2022-02-19T09:25:18.520Z"
   },
   {
    "duration": 16,
    "start_time": "2022-02-19T09:25:18.536Z"
   },
   {
    "duration": 7,
    "start_time": "2022-02-19T09:25:18.553Z"
   },
   {
    "duration": 12,
    "start_time": "2022-02-19T09:25:18.561Z"
   },
   {
    "duration": 7,
    "start_time": "2022-02-19T09:25:18.574Z"
   },
   {
    "duration": 105,
    "start_time": "2022-02-19T09:25:18.583Z"
   },
   {
    "duration": 73,
    "start_time": "2022-02-19T09:25:18.690Z"
   },
   {
    "duration": 4,
    "start_time": "2022-02-19T09:25:18.764Z"
   },
   {
    "duration": 18,
    "start_time": "2022-02-19T09:25:18.770Z"
   },
   {
    "duration": 10,
    "start_time": "2022-02-19T09:25:18.789Z"
   },
   {
    "duration": 23,
    "start_time": "2022-02-19T09:25:18.801Z"
   },
   {
    "duration": 7,
    "start_time": "2022-02-19T09:25:18.826Z"
   },
   {
    "duration": 13,
    "start_time": "2022-02-19T09:25:18.835Z"
   },
   {
    "duration": 438,
    "start_time": "2022-02-19T09:25:18.850Z"
   },
   {
    "duration": 318,
    "start_time": "2022-02-19T09:25:19.289Z"
   },
   {
    "duration": 17,
    "start_time": "2022-02-19T09:25:19.609Z"
   },
   {
    "duration": 33,
    "start_time": "2022-02-19T09:25:19.628Z"
   },
   {
    "duration": 15,
    "start_time": "2022-02-19T09:25:19.663Z"
   },
   {
    "duration": 245,
    "start_time": "2022-02-19T09:25:19.683Z"
   },
   {
    "duration": 217,
    "start_time": "2022-02-19T09:25:19.930Z"
   },
   {
    "duration": 216,
    "start_time": "2022-02-19T09:25:20.149Z"
   },
   {
    "duration": 212,
    "start_time": "2022-02-19T09:25:20.367Z"
   },
   {
    "duration": 275,
    "start_time": "2022-02-19T09:25:20.581Z"
   },
   {
    "duration": 157,
    "start_time": "2022-02-19T09:25:20.858Z"
   },
   {
    "duration": 10,
    "start_time": "2022-02-19T09:25:21.016Z"
   },
   {
    "duration": 578,
    "start_time": "2022-02-19T09:25:21.028Z"
   },
   {
    "duration": 13,
    "start_time": "2022-02-19T09:25:21.608Z"
   },
   {
    "duration": 7,
    "start_time": "2022-02-19T09:25:21.623Z"
   },
   {
    "duration": 8,
    "start_time": "2022-02-19T09:25:21.632Z"
   },
   {
    "duration": 292,
    "start_time": "2022-02-19T09:25:21.642Z"
   },
   {
    "duration": 5,
    "start_time": "2022-02-19T09:25:21.936Z"
   },
   {
    "duration": 306,
    "start_time": "2022-02-19T09:25:21.943Z"
   },
   {
    "duration": 4,
    "start_time": "2022-02-19T09:25:22.251Z"
   },
   {
    "duration": 9,
    "start_time": "2022-02-19T09:25:22.257Z"
   },
   {
    "duration": 296,
    "start_time": "2022-02-19T09:25:22.268Z"
   },
   {
    "duration": 4,
    "start_time": "2022-02-19T09:25:22.566Z"
   },
   {
    "duration": 312,
    "start_time": "2022-02-19T09:25:22.572Z"
   },
   {
    "duration": 5,
    "start_time": "2022-02-19T09:25:22.886Z"
   },
   {
    "duration": 9,
    "start_time": "2022-02-19T09:25:22.893Z"
   },
   {
    "duration": 323,
    "start_time": "2022-02-19T09:25:22.903Z"
   },
   {
    "duration": 5,
    "start_time": "2022-02-19T09:25:23.228Z"
   },
   {
    "duration": 308,
    "start_time": "2022-02-19T09:25:23.235Z"
   },
   {
    "duration": 6,
    "start_time": "2022-02-19T09:25:23.544Z"
   },
   {
    "duration": 8,
    "start_time": "2022-02-19T09:25:23.552Z"
   },
   {
    "duration": 15,
    "start_time": "2022-02-19T09:25:23.562Z"
   },
   {
    "duration": 40,
    "start_time": "2022-02-19T09:25:23.579Z"
   },
   {
    "duration": 232,
    "start_time": "2022-02-19T09:25:23.622Z"
   },
   {
    "duration": 10,
    "start_time": "2022-02-19T09:25:23.856Z"
   },
   {
    "duration": 311,
    "start_time": "2022-02-19T09:25:23.868Z"
   },
   {
    "duration": 17,
    "start_time": "2022-02-19T09:25:24.181Z"
   },
   {
    "duration": 121,
    "start_time": "2022-02-19T09:25:24.200Z"
   },
   {
    "duration": 17,
    "start_time": "2022-02-19T09:25:24.323Z"
   },
   {
    "duration": 130,
    "start_time": "2022-02-19T09:25:24.341Z"
   },
   {
    "duration": 17,
    "start_time": "2022-02-19T09:25:24.473Z"
   },
   {
    "duration": 116,
    "start_time": "2022-02-19T09:25:24.492Z"
   },
   {
    "duration": 23,
    "start_time": "2022-02-19T09:25:24.609Z"
   },
   {
    "duration": 114,
    "start_time": "2022-02-19T09:25:24.633Z"
   },
   {
    "duration": 17,
    "start_time": "2022-02-19T09:25:24.749Z"
   },
   {
    "duration": 131,
    "start_time": "2022-02-19T09:25:24.768Z"
   },
   {
    "duration": 22,
    "start_time": "2022-02-19T09:25:24.901Z"
   },
   {
    "duration": 128,
    "start_time": "2022-02-19T09:25:24.925Z"
   },
   {
    "duration": 18,
    "start_time": "2022-02-19T09:25:25.055Z"
   },
   {
    "duration": 153,
    "start_time": "2022-02-19T09:25:25.075Z"
   },
   {
    "duration": 20,
    "start_time": "2022-02-19T09:25:25.230Z"
   },
   {
    "duration": 126,
    "start_time": "2022-02-19T09:25:25.252Z"
   },
   {
    "duration": 19,
    "start_time": "2022-02-19T09:25:25.380Z"
   },
   {
    "duration": 124,
    "start_time": "2022-02-19T09:25:25.401Z"
   },
   {
    "duration": 7,
    "start_time": "2022-02-19T09:25:25.528Z"
   },
   {
    "duration": 11,
    "start_time": "2022-02-19T09:25:25.536Z"
   },
   {
    "duration": 9,
    "start_time": "2022-02-19T09:25:25.549Z"
   },
   {
    "duration": 15,
    "start_time": "2022-02-19T09:28:42.978Z"
   },
   {
    "duration": 12,
    "start_time": "2022-02-19T09:31:28.952Z"
   },
   {
    "duration": 20,
    "start_time": "2022-02-19T09:41:01.540Z"
   },
   {
    "duration": 420,
    "start_time": "2022-02-19T09:41:40.862Z"
   },
   {
    "duration": 270,
    "start_time": "2022-02-19T09:41:55.185Z"
   },
   {
    "duration": 268,
    "start_time": "2022-02-19T09:42:04.373Z"
   },
   {
    "duration": 265,
    "start_time": "2022-02-19T09:42:53.888Z"
   },
   {
    "duration": 274,
    "start_time": "2022-02-19T09:43:03.447Z"
   },
   {
    "duration": 14,
    "start_time": "2022-02-19T09:56:40.001Z"
   },
   {
    "duration": 279,
    "start_time": "2022-02-19T09:56:58.870Z"
   },
   {
    "duration": 1004,
    "start_time": "2022-02-19T09:57:05.632Z"
   },
   {
    "duration": 922,
    "start_time": "2022-02-19T09:57:13.302Z"
   },
   {
    "duration": 985,
    "start_time": "2022-02-19T09:57:19.763Z"
   },
   {
    "duration": 906,
    "start_time": "2022-02-19T09:57:27.516Z"
   },
   {
    "duration": 1159,
    "start_time": "2022-02-19T09:58:35.921Z"
   },
   {
    "duration": 155,
    "start_time": "2022-02-19T09:59:12.025Z"
   },
   {
    "duration": 346,
    "start_time": "2022-02-19T10:18:38.356Z"
   },
   {
    "duration": 1232,
    "start_time": "2022-02-19T10:18:48.127Z"
   },
   {
    "duration": 47,
    "start_time": "2022-02-19T10:18:49.361Z"
   },
   {
    "duration": 15,
    "start_time": "2022-02-19T10:18:49.410Z"
   },
   {
    "duration": 15,
    "start_time": "2022-02-19T10:18:49.427Z"
   },
   {
    "duration": 17,
    "start_time": "2022-02-19T10:18:49.444Z"
   },
   {
    "duration": 5,
    "start_time": "2022-02-19T10:18:49.462Z"
   },
   {
    "duration": 7,
    "start_time": "2022-02-19T10:18:49.469Z"
   },
   {
    "duration": 14,
    "start_time": "2022-02-19T10:18:49.479Z"
   },
   {
    "duration": 36,
    "start_time": "2022-02-19T10:18:49.495Z"
   },
   {
    "duration": 18,
    "start_time": "2022-02-19T10:18:49.532Z"
   },
   {
    "duration": 6,
    "start_time": "2022-02-19T10:18:49.551Z"
   },
   {
    "duration": 16,
    "start_time": "2022-02-19T10:18:49.559Z"
   },
   {
    "duration": 2,
    "start_time": "2022-02-19T10:18:49.577Z"
   },
   {
    "duration": 103,
    "start_time": "2022-02-19T10:18:49.580Z"
   },
   {
    "duration": 76,
    "start_time": "2022-02-19T10:18:49.685Z"
   },
   {
    "duration": 5,
    "start_time": "2022-02-19T10:18:49.762Z"
   },
   {
    "duration": 17,
    "start_time": "2022-02-19T10:18:49.769Z"
   },
   {
    "duration": 10,
    "start_time": "2022-02-19T10:18:49.788Z"
   },
   {
    "duration": 8,
    "start_time": "2022-02-19T10:18:49.818Z"
   },
   {
    "duration": 15,
    "start_time": "2022-02-19T10:18:49.828Z"
   },
   {
    "duration": 13,
    "start_time": "2022-02-19T10:18:49.844Z"
   },
   {
    "duration": 534,
    "start_time": "2022-02-19T10:18:49.859Z"
   },
   {
    "duration": 365,
    "start_time": "2022-02-19T10:18:50.398Z"
   },
   {
    "duration": 389,
    "start_time": "2022-02-19T10:18:50.766Z"
   },
   {
    "duration": 386,
    "start_time": "2022-02-19T10:18:50.771Z"
   },
   {
    "duration": 374,
    "start_time": "2022-02-19T10:18:50.784Z"
   },
   {
    "duration": 362,
    "start_time": "2022-02-19T10:18:50.797Z"
   },
   {
    "duration": 352,
    "start_time": "2022-02-19T10:18:50.808Z"
   },
   {
    "duration": 341,
    "start_time": "2022-02-19T10:18:50.820Z"
   },
   {
    "duration": 335,
    "start_time": "2022-02-19T10:18:50.827Z"
   },
   {
    "duration": 331,
    "start_time": "2022-02-19T10:18:50.832Z"
   },
   {
    "duration": 328,
    "start_time": "2022-02-19T10:18:50.836Z"
   },
   {
    "duration": 324,
    "start_time": "2022-02-19T10:18:50.840Z"
   },
   {
    "duration": 321,
    "start_time": "2022-02-19T10:18:50.844Z"
   },
   {
    "duration": 318,
    "start_time": "2022-02-19T10:18:50.848Z"
   },
   {
    "duration": 315,
    "start_time": "2022-02-19T10:18:50.852Z"
   },
   {
    "duration": 287,
    "start_time": "2022-02-19T10:18:50.881Z"
   },
   {
    "duration": 280,
    "start_time": "2022-02-19T10:18:50.889Z"
   },
   {
    "duration": 277,
    "start_time": "2022-02-19T10:18:50.893Z"
   },
   {
    "duration": 261,
    "start_time": "2022-02-19T10:18:50.910Z"
   },
   {
    "duration": 258,
    "start_time": "2022-02-19T10:18:50.914Z"
   },
   {
    "duration": 254,
    "start_time": "2022-02-19T10:18:50.918Z"
   },
   {
    "duration": 250,
    "start_time": "2022-02-19T10:18:50.923Z"
   },
   {
    "duration": 240,
    "start_time": "2022-02-19T10:18:50.934Z"
   },
   {
    "duration": 236,
    "start_time": "2022-02-19T10:18:50.939Z"
   },
   {
    "duration": 227,
    "start_time": "2022-02-19T10:18:50.949Z"
   },
   {
    "duration": 224,
    "start_time": "2022-02-19T10:18:50.953Z"
   },
   {
    "duration": 215,
    "start_time": "2022-02-19T10:18:50.963Z"
   },
   {
    "duration": 210,
    "start_time": "2022-02-19T10:18:50.968Z"
   },
   {
    "duration": 207,
    "start_time": "2022-02-19T10:18:50.972Z"
   },
   {
    "duration": 197,
    "start_time": "2022-02-19T10:18:50.983Z"
   },
   {
    "duration": 193,
    "start_time": "2022-02-19T10:18:50.988Z"
   },
   {
    "duration": 180,
    "start_time": "2022-02-19T10:18:51.002Z"
   },
   {
    "duration": 176,
    "start_time": "2022-02-19T10:18:51.006Z"
   },
   {
    "duration": 173,
    "start_time": "2022-02-19T10:18:51.010Z"
   },
   {
    "duration": 170,
    "start_time": "2022-02-19T10:18:51.014Z"
   },
   {
    "duration": 167,
    "start_time": "2022-02-19T10:18:51.018Z"
   },
   {
    "duration": 163,
    "start_time": "2022-02-19T10:18:51.023Z"
   },
   {
    "duration": 160,
    "start_time": "2022-02-19T10:18:51.027Z"
   },
   {
    "duration": 157,
    "start_time": "2022-02-19T10:18:51.031Z"
   },
   {
    "duration": 154,
    "start_time": "2022-02-19T10:18:51.035Z"
   },
   {
    "duration": 151,
    "start_time": "2022-02-19T10:18:51.039Z"
   },
   {
    "duration": 146,
    "start_time": "2022-02-19T10:18:51.044Z"
   },
   {
    "duration": 143,
    "start_time": "2022-02-19T10:18:51.048Z"
   },
   {
    "duration": 139,
    "start_time": "2022-02-19T10:18:51.053Z"
   },
   {
    "duration": 136,
    "start_time": "2022-02-19T10:18:51.057Z"
   },
   {
    "duration": 132,
    "start_time": "2022-02-19T10:18:51.061Z"
   },
   {
    "duration": 128,
    "start_time": "2022-02-19T10:18:51.066Z"
   },
   {
    "duration": 150,
    "start_time": "2022-02-19T10:18:51.071Z"
   },
   {
    "duration": 147,
    "start_time": "2022-02-19T10:18:51.075Z"
   },
   {
    "duration": 144,
    "start_time": "2022-02-19T10:18:51.079Z"
   },
   {
    "duration": 140,
    "start_time": "2022-02-19T10:18:51.083Z"
   },
   {
    "duration": 136,
    "start_time": "2022-02-19T10:18:51.088Z"
   },
   {
    "duration": 133,
    "start_time": "2022-02-19T10:18:51.092Z"
   },
   {
    "duration": 130,
    "start_time": "2022-02-19T10:18:51.096Z"
   },
   {
    "duration": 112,
    "start_time": "2022-02-19T10:18:51.115Z"
   },
   {
    "duration": 108,
    "start_time": "2022-02-19T10:18:51.120Z"
   },
   {
    "duration": 105,
    "start_time": "2022-02-19T10:18:51.124Z"
   },
   {
    "duration": 102,
    "start_time": "2022-02-19T10:18:51.128Z"
   },
   {
    "duration": 99,
    "start_time": "2022-02-19T10:18:51.132Z"
   },
   {
    "duration": 95,
    "start_time": "2022-02-19T10:18:51.137Z"
   },
   {
    "duration": 34,
    "start_time": "2022-02-19T10:19:36.926Z"
   },
   {
    "duration": 1287,
    "start_time": "2022-02-19T10:19:46.383Z"
   },
   {
    "duration": 57,
    "start_time": "2022-02-19T10:19:47.672Z"
   },
   {
    "duration": 14,
    "start_time": "2022-02-19T10:19:47.732Z"
   },
   {
    "duration": 9,
    "start_time": "2022-02-19T10:19:47.748Z"
   },
   {
    "duration": 24,
    "start_time": "2022-02-19T10:19:47.759Z"
   },
   {
    "duration": 5,
    "start_time": "2022-02-19T10:19:47.785Z"
   },
   {
    "duration": 31,
    "start_time": "2022-02-19T10:19:47.791Z"
   },
   {
    "duration": 14,
    "start_time": "2022-02-19T10:19:47.825Z"
   },
   {
    "duration": 14,
    "start_time": "2022-02-19T10:19:47.841Z"
   },
   {
    "duration": 17,
    "start_time": "2022-02-19T10:19:47.856Z"
   },
   {
    "duration": 7,
    "start_time": "2022-02-19T10:19:47.875Z"
   },
   {
    "duration": 41,
    "start_time": "2022-02-19T10:19:47.883Z"
   },
   {
    "duration": 3,
    "start_time": "2022-02-19T10:19:47.926Z"
   },
   {
    "duration": 92,
    "start_time": "2022-02-19T10:19:47.931Z"
   },
   {
    "duration": 66,
    "start_time": "2022-02-19T10:19:48.024Z"
   },
   {
    "duration": 4,
    "start_time": "2022-02-19T10:19:48.091Z"
   },
   {
    "duration": 35,
    "start_time": "2022-02-19T10:19:48.097Z"
   },
   {
    "duration": 10,
    "start_time": "2022-02-19T10:19:48.134Z"
   },
   {
    "duration": 12,
    "start_time": "2022-02-19T10:19:48.147Z"
   },
   {
    "duration": 15,
    "start_time": "2022-02-19T10:19:48.161Z"
   },
   {
    "duration": 16,
    "start_time": "2022-02-19T10:19:48.178Z"
   },
   {
    "duration": 484,
    "start_time": "2022-02-19T10:19:48.219Z"
   },
   {
    "duration": 342,
    "start_time": "2022-02-19T10:19:48.708Z"
   },
   {
    "duration": 13,
    "start_time": "2022-02-19T10:19:49.053Z"
   },
   {
    "duration": 52,
    "start_time": "2022-02-19T10:19:49.068Z"
   },
   {
    "duration": 16,
    "start_time": "2022-02-19T10:19:49.122Z"
   },
   {
    "duration": 227,
    "start_time": "2022-02-19T10:19:49.140Z"
   },
   {
    "duration": 219,
    "start_time": "2022-02-19T10:19:49.369Z"
   },
   {
    "duration": 223,
    "start_time": "2022-02-19T10:19:49.590Z"
   },
   {
    "duration": 291,
    "start_time": "2022-02-19T10:19:49.818Z"
   },
   {
    "duration": 215,
    "start_time": "2022-02-19T10:19:50.110Z"
   },
   {
    "duration": 155,
    "start_time": "2022-02-19T10:19:50.327Z"
   },
   {
    "duration": 11,
    "start_time": "2022-02-19T10:19:50.484Z"
   },
   {
    "duration": 578,
    "start_time": "2022-02-19T10:19:50.496Z"
   },
   {
    "duration": 13,
    "start_time": "2022-02-19T10:19:51.075Z"
   },
   {
    "duration": 975,
    "start_time": "2022-02-19T10:19:51.090Z"
   },
   {
    "duration": 7,
    "start_time": "2022-02-19T10:19:52.067Z"
   },
   {
    "duration": 23,
    "start_time": "2022-02-19T10:19:52.076Z"
   },
   {
    "duration": 14,
    "start_time": "2022-02-19T10:19:52.101Z"
   },
   {
    "duration": 314,
    "start_time": "2022-02-19T10:19:52.117Z"
   },
   {
    "duration": 5,
    "start_time": "2022-02-19T10:19:52.433Z"
   },
   {
    "duration": 302,
    "start_time": "2022-02-19T10:19:52.440Z"
   },
   {
    "duration": 5,
    "start_time": "2022-02-19T10:19:52.744Z"
   },
   {
    "duration": 10,
    "start_time": "2022-02-19T10:19:52.750Z"
   },
   {
    "duration": 270,
    "start_time": "2022-02-19T10:19:52.761Z"
   },
   {
    "duration": 6,
    "start_time": "2022-02-19T10:19:53.034Z"
   },
   {
    "duration": 396,
    "start_time": "2022-02-19T10:19:53.041Z"
   },
   {
    "duration": 5,
    "start_time": "2022-02-19T10:19:53.439Z"
   },
   {
    "duration": 12,
    "start_time": "2022-02-19T10:19:53.446Z"
   },
   {
    "duration": 289,
    "start_time": "2022-02-19T10:19:53.459Z"
   },
   {
    "duration": 5,
    "start_time": "2022-02-19T10:19:53.750Z"
   },
   {
    "duration": 303,
    "start_time": "2022-02-19T10:19:53.757Z"
   },
   {
    "duration": 5,
    "start_time": "2022-02-19T10:19:54.062Z"
   },
   {
    "duration": 8,
    "start_time": "2022-02-19T10:19:54.069Z"
   },
   {
    "duration": 12,
    "start_time": "2022-02-19T10:19:54.079Z"
   },
   {
    "duration": 33,
    "start_time": "2022-02-19T10:19:54.093Z"
   },
   {
    "duration": 234,
    "start_time": "2022-02-19T10:19:54.128Z"
   },
   {
    "duration": 13,
    "start_time": "2022-02-19T10:19:54.365Z"
   },
   {
    "duration": 241,
    "start_time": "2022-02-19T10:19:54.380Z"
   },
   {
    "duration": 18,
    "start_time": "2022-02-19T10:19:54.622Z"
   },
   {
    "duration": 120,
    "start_time": "2022-02-19T10:19:54.641Z"
   },
   {
    "duration": 17,
    "start_time": "2022-02-19T10:19:54.763Z"
   },
   {
    "duration": 124,
    "start_time": "2022-02-19T10:19:54.781Z"
   },
   {
    "duration": 25,
    "start_time": "2022-02-19T10:19:54.907Z"
   },
   {
    "duration": 120,
    "start_time": "2022-02-19T10:19:54.933Z"
   },
   {
    "duration": 22,
    "start_time": "2022-02-19T10:19:55.055Z"
   },
   {
    "duration": 160,
    "start_time": "2022-02-19T10:19:55.080Z"
   },
   {
    "duration": 17,
    "start_time": "2022-02-19T10:19:55.246Z"
   },
   {
    "duration": 125,
    "start_time": "2022-02-19T10:19:55.265Z"
   },
   {
    "duration": 27,
    "start_time": "2022-02-19T10:19:55.392Z"
   },
   {
    "duration": 117,
    "start_time": "2022-02-19T10:19:55.421Z"
   },
   {
    "duration": 19,
    "start_time": "2022-02-19T10:19:55.540Z"
   },
   {
    "duration": 213,
    "start_time": "2022-02-19T10:19:55.560Z"
   },
   {
    "duration": 18,
    "start_time": "2022-02-19T10:19:55.775Z"
   },
   {
    "duration": 127,
    "start_time": "2022-02-19T10:19:55.794Z"
   },
   {
    "duration": 18,
    "start_time": "2022-02-19T10:19:55.923Z"
   },
   {
    "duration": 129,
    "start_time": "2022-02-19T10:19:55.942Z"
   },
   {
    "duration": 7,
    "start_time": "2022-02-19T10:19:56.073Z"
   },
   {
    "duration": 13,
    "start_time": "2022-02-19T10:19:56.082Z"
   },
   {
    "duration": 23,
    "start_time": "2022-02-19T10:19:56.097Z"
   },
   {
    "duration": 474,
    "start_time": "2022-02-19T10:24:02.433Z"
   },
   {
    "duration": 63,
    "start_time": "2022-02-19T10:24:12.952Z"
   },
   {
    "duration": 174,
    "start_time": "2022-02-19T10:24:33.906Z"
   },
   {
    "duration": 141,
    "start_time": "2022-02-19T10:25:20.956Z"
   },
   {
    "duration": 157,
    "start_time": "2022-02-19T10:25:26.035Z"
   },
   {
    "duration": 141,
    "start_time": "2022-02-19T10:25:32.679Z"
   },
   {
    "duration": 155,
    "start_time": "2022-02-19T10:25:45.937Z"
   },
   {
    "duration": 161,
    "start_time": "2022-02-19T10:26:00.683Z"
   },
   {
    "duration": 162,
    "start_time": "2022-02-19T10:26:09.121Z"
   },
   {
    "duration": 164,
    "start_time": "2022-02-19T10:26:18.226Z"
   },
   {
    "duration": 175,
    "start_time": "2022-02-19T10:26:30.141Z"
   },
   {
    "duration": 245,
    "start_time": "2022-02-19T10:26:36.659Z"
   },
   {
    "duration": 158,
    "start_time": "2022-02-19T10:26:44.402Z"
   },
   {
    "duration": 165,
    "start_time": "2022-02-19T10:26:49.635Z"
   },
   {
    "duration": 154,
    "start_time": "2022-02-19T10:26:56.551Z"
   },
   {
    "duration": 159,
    "start_time": "2022-02-19T10:27:03.810Z"
   },
   {
    "duration": 137,
    "start_time": "2022-02-19T10:27:14.168Z"
   },
   {
    "duration": 150,
    "start_time": "2022-02-19T10:27:22.207Z"
   },
   {
    "duration": 159,
    "start_time": "2022-02-19T10:27:28.914Z"
   },
   {
    "duration": 136,
    "start_time": "2022-02-19T10:27:34.257Z"
   },
   {
    "duration": 152,
    "start_time": "2022-02-19T10:27:49.603Z"
   },
   {
    "duration": 55,
    "start_time": "2022-02-19T10:29:09.043Z"
   },
   {
    "duration": 138,
    "start_time": "2022-02-19T10:29:11.296Z"
   },
   {
    "duration": 152,
    "start_time": "2022-02-19T10:29:14.370Z"
   },
   {
    "duration": 248,
    "start_time": "2022-02-19T10:29:45.435Z"
   },
   {
    "duration": 59,
    "start_time": "2022-02-19T10:33:32.211Z"
   },
   {
    "duration": 154,
    "start_time": "2022-02-19T10:33:34.178Z"
   },
   {
    "duration": 58,
    "start_time": "2022-02-19T10:33:42.785Z"
   },
   {
    "duration": 152,
    "start_time": "2022-02-19T10:33:44.259Z"
   },
   {
    "duration": 350,
    "start_time": "2022-02-19T10:34:06.330Z"
   },
   {
    "duration": 57,
    "start_time": "2022-02-19T10:34:14.352Z"
   },
   {
    "duration": 148,
    "start_time": "2022-02-19T10:34:16.401Z"
   },
   {
    "duration": 149,
    "start_time": "2022-02-19T10:34:20.534Z"
   },
   {
    "duration": 268,
    "start_time": "2022-02-19T10:36:24.439Z"
   },
   {
    "duration": 26,
    "start_time": "2022-02-19T10:36:40.367Z"
   },
   {
    "duration": 1274,
    "start_time": "2022-02-19T10:44:23.204Z"
   },
   {
    "duration": 48,
    "start_time": "2022-02-19T10:44:24.481Z"
   },
   {
    "duration": 11,
    "start_time": "2022-02-19T10:44:24.532Z"
   },
   {
    "duration": 15,
    "start_time": "2022-02-19T10:44:24.545Z"
   },
   {
    "duration": 24,
    "start_time": "2022-02-19T10:44:24.562Z"
   },
   {
    "duration": 5,
    "start_time": "2022-02-19T10:44:24.588Z"
   },
   {
    "duration": 19,
    "start_time": "2022-02-19T10:44:24.594Z"
   },
   {
    "duration": 25,
    "start_time": "2022-02-19T10:44:24.616Z"
   },
   {
    "duration": 21,
    "start_time": "2022-02-19T10:44:24.644Z"
   },
   {
    "duration": 26,
    "start_time": "2022-02-19T10:44:24.667Z"
   },
   {
    "duration": 24,
    "start_time": "2022-02-19T10:44:24.695Z"
   },
   {
    "duration": 17,
    "start_time": "2022-02-19T10:44:24.721Z"
   },
   {
    "duration": 16,
    "start_time": "2022-02-19T10:44:24.740Z"
   },
   {
    "duration": 88,
    "start_time": "2022-02-19T10:44:24.758Z"
   },
   {
    "duration": 70,
    "start_time": "2022-02-19T10:44:24.848Z"
   },
   {
    "duration": 5,
    "start_time": "2022-02-19T10:44:24.920Z"
   },
   {
    "duration": 79,
    "start_time": "2022-02-19T10:44:24.927Z"
   },
   {
    "duration": 19,
    "start_time": "2022-02-19T10:44:25.008Z"
   },
   {
    "duration": 35,
    "start_time": "2022-02-19T10:44:25.029Z"
   },
   {
    "duration": 35,
    "start_time": "2022-02-19T10:44:25.066Z"
   },
   {
    "duration": 40,
    "start_time": "2022-02-19T10:44:25.103Z"
   },
   {
    "duration": 421,
    "start_time": "2022-02-19T10:44:25.145Z"
   },
   {
    "duration": 313,
    "start_time": "2022-02-19T10:44:25.571Z"
   },
   {
    "duration": 10,
    "start_time": "2022-02-19T10:44:25.887Z"
   },
   {
    "duration": 78,
    "start_time": "2022-02-19T10:44:25.899Z"
   },
   {
    "duration": 14,
    "start_time": "2022-02-19T10:44:25.979Z"
   },
   {
    "duration": 257,
    "start_time": "2022-02-19T10:44:25.995Z"
   },
   {
    "duration": 215,
    "start_time": "2022-02-19T10:44:26.254Z"
   },
   {
    "duration": 211,
    "start_time": "2022-02-19T10:44:26.471Z"
   },
   {
    "duration": 289,
    "start_time": "2022-02-19T10:44:26.684Z"
   },
   {
    "duration": 197,
    "start_time": "2022-02-19T10:44:26.975Z"
   },
   {
    "duration": 147,
    "start_time": "2022-02-19T10:44:27.174Z"
   },
   {
    "duration": 10,
    "start_time": "2022-02-19T10:44:27.322Z"
   },
   {
    "duration": 805,
    "start_time": "2022-02-19T10:44:27.334Z"
   },
   {
    "duration": 15,
    "start_time": "2022-02-19T10:44:28.141Z"
   },
   {
    "duration": 998,
    "start_time": "2022-02-19T10:44:28.158Z"
   },
   {
    "duration": 6,
    "start_time": "2022-02-19T10:44:29.158Z"
   },
   {
    "duration": 8,
    "start_time": "2022-02-19T10:44:29.166Z"
   },
   {
    "duration": 8,
    "start_time": "2022-02-19T10:44:29.176Z"
   },
   {
    "duration": 368,
    "start_time": "2022-02-19T10:44:29.186Z"
   },
   {
    "duration": 5,
    "start_time": "2022-02-19T10:44:29.556Z"
   },
   {
    "duration": 325,
    "start_time": "2022-02-19T10:44:29.563Z"
   },
   {
    "duration": 5,
    "start_time": "2022-02-19T10:44:29.890Z"
   },
   {
    "duration": 22,
    "start_time": "2022-02-19T10:44:29.897Z"
   },
   {
    "duration": 288,
    "start_time": "2022-02-19T10:44:29.921Z"
   },
   {
    "duration": 5,
    "start_time": "2022-02-19T10:44:30.218Z"
   },
   {
    "duration": 381,
    "start_time": "2022-02-19T10:44:30.225Z"
   },
   {
    "duration": 13,
    "start_time": "2022-02-19T10:44:30.608Z"
   },
   {
    "duration": 11,
    "start_time": "2022-02-19T10:44:30.623Z"
   },
   {
    "duration": 282,
    "start_time": "2022-02-19T10:44:30.636Z"
   },
   {
    "duration": 5,
    "start_time": "2022-02-19T10:44:30.920Z"
   },
   {
    "duration": 319,
    "start_time": "2022-02-19T10:44:30.927Z"
   },
   {
    "duration": 5,
    "start_time": "2022-02-19T10:44:31.248Z"
   },
   {
    "duration": 9,
    "start_time": "2022-02-19T10:44:31.255Z"
   },
   {
    "duration": 14,
    "start_time": "2022-02-19T10:44:31.266Z"
   },
   {
    "duration": 82,
    "start_time": "2022-02-19T10:44:31.281Z"
   },
   {
    "duration": 590,
    "start_time": "2022-02-19T10:44:31.364Z"
   },
   {
    "duration": 124,
    "start_time": "2022-02-19T10:44:31.832Z"
   },
   {
    "duration": 120,
    "start_time": "2022-02-19T10:44:31.837Z"
   },
   {
    "duration": 117,
    "start_time": "2022-02-19T10:44:31.841Z"
   },
   {
    "duration": 113,
    "start_time": "2022-02-19T10:44:31.846Z"
   },
   {
    "duration": 110,
    "start_time": "2022-02-19T10:44:31.850Z"
   },
   {
    "duration": 107,
    "start_time": "2022-02-19T10:44:31.854Z"
   },
   {
    "duration": 104,
    "start_time": "2022-02-19T10:44:31.858Z"
   },
   {
    "duration": 101,
    "start_time": "2022-02-19T10:44:31.862Z"
   },
   {
    "duration": 88,
    "start_time": "2022-02-19T10:44:31.875Z"
   },
   {
    "duration": 84,
    "start_time": "2022-02-19T10:44:31.880Z"
   },
   {
    "duration": 81,
    "start_time": "2022-02-19T10:44:31.884Z"
   },
   {
    "duration": 76,
    "start_time": "2022-02-19T10:44:31.890Z"
   },
   {
    "duration": 72,
    "start_time": "2022-02-19T10:44:31.895Z"
   },
   {
    "duration": 67,
    "start_time": "2022-02-19T10:44:31.900Z"
   },
   {
    "duration": 64,
    "start_time": "2022-02-19T10:44:31.904Z"
   },
   {
    "duration": 61,
    "start_time": "2022-02-19T10:44:31.908Z"
   },
   {
    "duration": 57,
    "start_time": "2022-02-19T10:44:31.912Z"
   },
   {
    "duration": 53,
    "start_time": "2022-02-19T10:44:31.917Z"
   },
   {
    "duration": 50,
    "start_time": "2022-02-19T10:44:31.921Z"
   },
   {
    "duration": 45,
    "start_time": "2022-02-19T10:44:31.926Z"
   },
   {
    "duration": 42,
    "start_time": "2022-02-19T10:44:31.930Z"
   },
   {
    "duration": 39,
    "start_time": "2022-02-19T10:44:31.934Z"
   },
   {
    "duration": 35,
    "start_time": "2022-02-19T10:44:31.938Z"
   },
   {
    "duration": 31,
    "start_time": "2022-02-19T10:44:31.943Z"
   },
   {
    "duration": 28,
    "start_time": "2022-02-19T10:44:31.947Z"
   },
   {
    "duration": 10,
    "start_time": "2022-02-19T10:44:31.966Z"
   },
   {
    "duration": 1266,
    "start_time": "2022-02-19T10:45:14.174Z"
   },
   {
    "duration": 75,
    "start_time": "2022-02-19T10:45:15.443Z"
   },
   {
    "duration": 16,
    "start_time": "2022-02-19T10:45:15.522Z"
   },
   {
    "duration": 42,
    "start_time": "2022-02-19T10:45:15.540Z"
   },
   {
    "duration": 53,
    "start_time": "2022-02-19T10:45:15.585Z"
   },
   {
    "duration": 24,
    "start_time": "2022-02-19T10:45:15.641Z"
   },
   {
    "duration": 29,
    "start_time": "2022-02-19T10:45:15.667Z"
   },
   {
    "duration": 80,
    "start_time": "2022-02-19T10:45:15.699Z"
   },
   {
    "duration": 46,
    "start_time": "2022-02-19T10:45:15.782Z"
   },
   {
    "duration": 87,
    "start_time": "2022-02-19T10:45:15.831Z"
   },
   {
    "duration": 23,
    "start_time": "2022-02-19T10:45:15.920Z"
   },
   {
    "duration": 40,
    "start_time": "2022-02-19T10:45:15.946Z"
   },
   {
    "duration": 19,
    "start_time": "2022-02-19T10:45:15.988Z"
   },
   {
    "duration": 107,
    "start_time": "2022-02-19T10:45:16.009Z"
   },
   {
    "duration": 65,
    "start_time": "2022-02-19T10:45:16.118Z"
   },
   {
    "duration": 6,
    "start_time": "2022-02-19T10:45:16.185Z"
   },
   {
    "duration": 65,
    "start_time": "2022-02-19T10:45:16.193Z"
   },
   {
    "duration": 20,
    "start_time": "2022-02-19T10:45:16.260Z"
   },
   {
    "duration": 37,
    "start_time": "2022-02-19T10:45:16.282Z"
   },
   {
    "duration": 42,
    "start_time": "2022-02-19T10:45:16.321Z"
   },
   {
    "duration": 33,
    "start_time": "2022-02-19T10:45:16.365Z"
   },
   {
    "duration": 441,
    "start_time": "2022-02-19T10:45:16.400Z"
   },
   {
    "duration": 342,
    "start_time": "2022-02-19T10:45:16.845Z"
   },
   {
    "duration": 11,
    "start_time": "2022-02-19T10:45:17.190Z"
   },
   {
    "duration": 46,
    "start_time": "2022-02-19T10:45:17.203Z"
   },
   {
    "duration": 12,
    "start_time": "2022-02-19T10:45:17.251Z"
   },
   {
    "duration": 217,
    "start_time": "2022-02-19T10:45:17.265Z"
   },
   {
    "duration": 209,
    "start_time": "2022-02-19T10:45:17.484Z"
   },
   {
    "duration": 226,
    "start_time": "2022-02-19T10:45:17.695Z"
   },
   {
    "duration": 290,
    "start_time": "2022-02-19T10:45:17.922Z"
   },
   {
    "duration": 218,
    "start_time": "2022-02-19T10:45:18.214Z"
   },
   {
    "duration": 160,
    "start_time": "2022-02-19T10:45:18.435Z"
   },
   {
    "duration": 24,
    "start_time": "2022-02-19T10:45:18.598Z"
   },
   {
    "duration": 548,
    "start_time": "2022-02-19T10:45:18.624Z"
   },
   {
    "duration": 12,
    "start_time": "2022-02-19T10:45:19.174Z"
   },
   {
    "duration": 993,
    "start_time": "2022-02-19T10:45:19.188Z"
   },
   {
    "duration": 7,
    "start_time": "2022-02-19T10:45:20.182Z"
   },
   {
    "duration": 58,
    "start_time": "2022-02-19T10:45:20.190Z"
   },
   {
    "duration": 21,
    "start_time": "2022-02-19T10:45:20.250Z"
   },
   {
    "duration": 336,
    "start_time": "2022-02-19T10:45:20.272Z"
   },
   {
    "duration": 9,
    "start_time": "2022-02-19T10:45:20.610Z"
   },
   {
    "duration": 318,
    "start_time": "2022-02-19T10:45:20.620Z"
   },
   {
    "duration": 5,
    "start_time": "2022-02-19T10:45:20.940Z"
   },
   {
    "duration": 15,
    "start_time": "2022-02-19T10:45:20.947Z"
   },
   {
    "duration": 332,
    "start_time": "2022-02-19T10:45:20.964Z"
   },
   {
    "duration": 20,
    "start_time": "2022-02-19T10:45:21.298Z"
   },
   {
    "duration": 391,
    "start_time": "2022-02-19T10:45:21.320Z"
   },
   {
    "duration": 5,
    "start_time": "2022-02-19T10:45:21.718Z"
   },
   {
    "duration": 32,
    "start_time": "2022-02-19T10:45:21.725Z"
   },
   {
    "duration": 338,
    "start_time": "2022-02-19T10:45:21.758Z"
   },
   {
    "duration": 5,
    "start_time": "2022-02-19T10:45:22.098Z"
   },
   {
    "duration": 333,
    "start_time": "2022-02-19T10:45:22.105Z"
   },
   {
    "duration": 5,
    "start_time": "2022-02-19T10:45:22.440Z"
   },
   {
    "duration": 20,
    "start_time": "2022-02-19T10:45:22.447Z"
   },
   {
    "duration": 16,
    "start_time": "2022-02-19T10:45:22.469Z"
   },
   {
    "duration": 75,
    "start_time": "2022-02-19T10:45:22.487Z"
   },
   {
    "duration": 172,
    "start_time": "2022-02-19T10:45:22.564Z"
   },
   {
    "duration": 159,
    "start_time": "2022-02-19T10:45:22.738Z"
   },
   {
    "duration": 22,
    "start_time": "2022-02-19T10:45:22.899Z"
   },
   {
    "duration": 246,
    "start_time": "2022-02-19T10:45:22.923Z"
   },
   {
    "duration": 12,
    "start_time": "2022-02-19T10:45:23.171Z"
   },
   {
    "duration": 255,
    "start_time": "2022-02-19T10:45:23.185Z"
   },
   {
    "duration": 17,
    "start_time": "2022-02-19T10:45:23.441Z"
   },
   {
    "duration": 151,
    "start_time": "2022-02-19T10:45:23.460Z"
   },
   {
    "duration": 18,
    "start_time": "2022-02-19T10:45:23.614Z"
   },
   {
    "duration": 121,
    "start_time": "2022-02-19T10:45:23.633Z"
   },
   {
    "duration": 17,
    "start_time": "2022-02-19T10:45:23.756Z"
   },
   {
    "duration": 126,
    "start_time": "2022-02-19T10:45:23.778Z"
   },
   {
    "duration": 24,
    "start_time": "2022-02-19T10:45:23.906Z"
   },
   {
    "duration": 122,
    "start_time": "2022-02-19T10:45:23.932Z"
   },
   {
    "duration": 18,
    "start_time": "2022-02-19T10:45:24.056Z"
   },
   {
    "duration": 214,
    "start_time": "2022-02-19T10:45:24.076Z"
   },
   {
    "duration": 28,
    "start_time": "2022-02-19T10:45:24.291Z"
   },
   {
    "duration": 120,
    "start_time": "2022-02-19T10:45:24.321Z"
   },
   {
    "duration": 19,
    "start_time": "2022-02-19T10:45:24.442Z"
   },
   {
    "duration": 134,
    "start_time": "2022-02-19T10:45:24.463Z"
   },
   {
    "duration": 23,
    "start_time": "2022-02-19T10:45:24.599Z"
   },
   {
    "duration": 118,
    "start_time": "2022-02-19T10:45:24.624Z"
   },
   {
    "duration": 20,
    "start_time": "2022-02-19T10:45:24.743Z"
   },
   {
    "duration": 118,
    "start_time": "2022-02-19T10:45:24.765Z"
   },
   {
    "duration": 6,
    "start_time": "2022-02-19T10:45:24.885Z"
   },
   {
    "duration": 25,
    "start_time": "2022-02-19T10:45:24.893Z"
   },
   {
    "duration": 24,
    "start_time": "2022-02-19T10:45:24.920Z"
   },
   {
    "duration": 9596,
    "start_time": "2022-07-28T10:44:02.929Z"
   },
   {
    "duration": 621,
    "start_time": "2022-07-28T10:44:47.590Z"
   },
   {
    "duration": 1155,
    "start_time": "2022-09-02T13:48:08.168Z"
   },
   {
    "duration": 112,
    "start_time": "2022-09-02T13:48:09.325Z"
   },
   {
    "duration": 2,
    "start_time": "2022-09-02T13:48:09.438Z"
   },
   {
    "duration": 19,
    "start_time": "2022-09-02T13:48:09.442Z"
   },
   {
    "duration": 8,
    "start_time": "2022-09-02T13:48:09.463Z"
   },
   {
    "duration": 18,
    "start_time": "2022-09-02T13:48:09.473Z"
   },
   {
    "duration": 5,
    "start_time": "2022-09-02T13:48:09.492Z"
   },
   {
    "duration": 9,
    "start_time": "2022-09-02T13:48:09.498Z"
   },
   {
    "duration": 17,
    "start_time": "2022-09-02T13:48:09.509Z"
   },
   {
    "duration": 15,
    "start_time": "2022-09-02T13:48:09.529Z"
   },
   {
    "duration": 40,
    "start_time": "2022-09-02T13:48:09.546Z"
   },
   {
    "duration": 7,
    "start_time": "2022-09-02T13:48:09.587Z"
   },
   {
    "duration": 17,
    "start_time": "2022-09-02T13:48:09.595Z"
   },
   {
    "duration": 3,
    "start_time": "2022-09-02T13:48:09.614Z"
   },
   {
    "duration": 83,
    "start_time": "2022-09-02T13:48:09.619Z"
   },
   {
    "duration": 44,
    "start_time": "2022-09-02T13:48:09.704Z"
   },
   {
    "duration": 5,
    "start_time": "2022-09-02T13:48:09.749Z"
   },
   {
    "duration": 41,
    "start_time": "2022-09-02T13:48:09.756Z"
   },
   {
    "duration": 10,
    "start_time": "2022-09-02T13:48:09.799Z"
   },
   {
    "duration": 10,
    "start_time": "2022-09-02T13:48:09.811Z"
   },
   {
    "duration": 17,
    "start_time": "2022-09-02T13:48:09.823Z"
   },
   {
    "duration": 14,
    "start_time": "2022-09-02T13:48:09.842Z"
   },
   {
    "duration": 362,
    "start_time": "2022-09-02T13:48:09.858Z"
   },
   {
    "duration": 305,
    "start_time": "2022-09-02T13:48:10.222Z"
   },
   {
    "duration": 12,
    "start_time": "2022-09-02T13:48:10.529Z"
   },
   {
    "duration": 52,
    "start_time": "2022-09-02T13:48:10.543Z"
   },
   {
    "duration": 15,
    "start_time": "2022-09-02T13:48:10.596Z"
   },
   {
    "duration": 170,
    "start_time": "2022-09-02T13:48:10.615Z"
   },
   {
    "duration": 160,
    "start_time": "2022-09-02T13:48:10.786Z"
   },
   {
    "duration": 151,
    "start_time": "2022-09-02T13:48:10.948Z"
   },
   {
    "duration": 153,
    "start_time": "2022-09-02T13:48:11.100Z"
   },
   {
    "duration": 137,
    "start_time": "2022-09-02T13:48:11.255Z"
   },
   {
    "duration": 201,
    "start_time": "2022-09-02T13:48:11.394Z"
   },
   {
    "duration": 10,
    "start_time": "2022-09-02T13:48:11.597Z"
   },
   {
    "duration": 413,
    "start_time": "2022-09-02T13:48:11.609Z"
   },
   {
    "duration": 13,
    "start_time": "2022-09-02T13:48:12.024Z"
   },
   {
    "duration": 708,
    "start_time": "2022-09-02T13:48:12.039Z"
   },
   {
    "duration": 7,
    "start_time": "2022-09-02T13:48:12.749Z"
   },
   {
    "duration": 11,
    "start_time": "2022-09-02T13:48:12.757Z"
   },
   {
    "duration": 19,
    "start_time": "2022-09-02T13:48:12.770Z"
   },
   {
    "duration": 178,
    "start_time": "2022-09-02T13:48:12.792Z"
   },
   {
    "duration": 4,
    "start_time": "2022-09-02T13:48:12.972Z"
   },
   {
    "duration": 167,
    "start_time": "2022-09-02T13:48:12.986Z"
   },
   {
    "duration": 6,
    "start_time": "2022-09-02T13:48:13.155Z"
   },
   {
    "duration": 26,
    "start_time": "2022-09-02T13:48:13.163Z"
   },
   {
    "duration": 142,
    "start_time": "2022-09-02T13:48:13.191Z"
   },
   {
    "duration": 5,
    "start_time": "2022-09-02T13:48:13.335Z"
   },
   {
    "duration": 142,
    "start_time": "2022-09-02T13:48:13.341Z"
   },
   {
    "duration": 6,
    "start_time": "2022-09-02T13:48:13.485Z"
   },
   {
    "duration": 23,
    "start_time": "2022-09-02T13:48:13.493Z"
   },
   {
    "duration": 144,
    "start_time": "2022-09-02T13:48:13.518Z"
   },
   {
    "duration": 6,
    "start_time": "2022-09-02T13:48:13.664Z"
   },
   {
    "duration": 255,
    "start_time": "2022-09-02T13:48:13.672Z"
   },
   {
    "duration": 5,
    "start_time": "2022-09-02T13:48:13.929Z"
   },
   {
    "duration": 24,
    "start_time": "2022-09-02T13:48:13.935Z"
   },
   {
    "duration": 26,
    "start_time": "2022-09-02T13:48:13.961Z"
   },
   {
    "duration": 77,
    "start_time": "2022-09-02T13:48:13.988Z"
   },
   {
    "duration": 127,
    "start_time": "2022-09-02T13:48:14.067Z"
   },
   {
    "duration": 116,
    "start_time": "2022-09-02T13:48:14.196Z"
   },
   {
    "duration": 11,
    "start_time": "2022-09-02T13:48:14.314Z"
   },
   {
    "duration": 207,
    "start_time": "2022-09-02T13:48:14.327Z"
   },
   {
    "duration": 13,
    "start_time": "2022-09-02T13:48:14.536Z"
   },
   {
    "duration": 194,
    "start_time": "2022-09-02T13:48:14.551Z"
   },
   {
    "duration": 16,
    "start_time": "2022-09-02T13:48:14.747Z"
   },
   {
    "duration": 104,
    "start_time": "2022-09-02T13:48:14.764Z"
   },
   {
    "duration": 26,
    "start_time": "2022-09-02T13:48:14.869Z"
   },
   {
    "duration": 104,
    "start_time": "2022-09-02T13:48:14.896Z"
   },
   {
    "duration": 16,
    "start_time": "2022-09-02T13:48:15.001Z"
   },
   {
    "duration": 119,
    "start_time": "2022-09-02T13:48:15.019Z"
   },
   {
    "duration": 17,
    "start_time": "2022-09-02T13:48:15.141Z"
   },
   {
    "duration": 117,
    "start_time": "2022-09-02T13:48:15.160Z"
   },
   {
    "duration": 15,
    "start_time": "2022-09-02T13:48:15.285Z"
   },
   {
    "duration": 119,
    "start_time": "2022-09-02T13:48:15.302Z"
   },
   {
    "duration": 17,
    "start_time": "2022-09-02T13:48:15.422Z"
   },
   {
    "duration": 119,
    "start_time": "2022-09-02T13:48:15.441Z"
   },
   {
    "duration": 26,
    "start_time": "2022-09-02T13:48:15.562Z"
   },
   {
    "duration": 199,
    "start_time": "2022-09-02T13:48:15.590Z"
   },
   {
    "duration": 22,
    "start_time": "2022-09-02T13:48:15.791Z"
   },
   {
    "duration": 111,
    "start_time": "2022-09-02T13:48:15.814Z"
   },
   {
    "duration": 18,
    "start_time": "2022-09-02T13:48:15.927Z"
   },
   {
    "duration": 115,
    "start_time": "2022-09-02T13:48:15.946Z"
   },
   {
    "duration": 6,
    "start_time": "2022-09-02T13:48:16.066Z"
   },
   {
    "duration": 19,
    "start_time": "2022-09-02T13:48:16.073Z"
   },
   {
    "duration": 17,
    "start_time": "2022-09-02T13:48:16.094Z"
   }
  ],
  "kernelspec": {
   "display_name": "Python 3 (ipykernel)",
   "language": "python",
   "name": "python3"
  },
  "language_info": {
   "codemirror_mode": {
    "name": "ipython",
    "version": 3
   },
   "file_extension": ".py",
   "mimetype": "text/x-python",
   "name": "python",
   "nbconvert_exporter": "python",
   "pygments_lexer": "ipython3",
   "version": "3.9.5"
  },
  "toc": {
   "base_numbering": 1,
   "nav_menu": {},
   "number_sections": true,
   "sideBar": true,
   "skip_h1_title": true,
   "title_cell": "Table of Contents",
   "title_sidebar": "Contents",
   "toc_cell": false,
   "toc_position": {},
   "toc_section_display": true,
   "toc_window_display": false
  }
 },
 "nbformat": 4,
 "nbformat_minor": 5
}
