{
 "cells": [
  {
   "cell_type": "markdown",
   "metadata": {},
   "source": [
    "# Описание проекта\n",
    "<br/>\n",
    "<br/>Провести анализ для крупного интернет-магазинаи подготовить список гипотез для увеличения выручки."
   ]
  },
  {
   "cell_type": "markdown",
   "metadata": {},
   "source": [
    "**Выполненные шаги:**\n",
    "<br>[1. Открытие данных](#section_id_0)\n",
    "<br>[1.1. Предобработка](#section_id_1)\n",
    "<br>[Шаг 2. Приоритизация гипотез](#section_id_2)\n",
    "<br>[Шаг 3. A/B тест](#section_id_3)\n",
    "<br>[Шаг 4. Вывод](#section_id_4)"
   ]
  },
  {
   "cell_type": "markdown",
   "metadata": {},
   "source": [
    "# Шаг 1. Загрузите данные и подготовьте их к анализу <a id='section_id_0'></a>"
   ]
  },
  {
   "cell_type": "markdown",
   "metadata": {},
   "source": [
    "**Импортируем библиотеки**"
   ]
  },
  {
   "cell_type": "code",
   "execution_count": 1,
   "metadata": {},
   "outputs": [],
   "source": [
    "import pandas as pd\n",
    "import seaborn as sns\n",
    "import numpy as np\n",
    "import scipy.stats as st\n",
    "import math\n",
    "\n",
    "from matplotlib import pyplot as plt\n",
    "%matplotlib inline\n",
    "from datetime import datetime, timedelta\n",
    "\n",
    "import warnings\n",
    "warnings.filterwarnings('ignore')\n",
    "pd.set_option('display.float_format', '{:,.3f}'.format)"
   ]
  },
  {
   "cell_type": "markdown",
   "metadata": {},
   "source": [
    "**Создаем датафреймы**"
   ]
  },
  {
   "cell_type": "code",
   "execution_count": 2,
   "metadata": {},
   "outputs": [],
   "source": [
    "hypothesis = pd.read_csv('/datasets/hypothesis.csv')\n",
    "orders = pd.read_csv('/datasets/orders.csv')\n",
    "visitors = pd.read_csv('/datasets/visitors.csv')"
   ]
  },
  {
   "cell_type": "markdown",
   "metadata": {},
   "source": [
    "**Проверим каждый датафрейм**"
   ]
  },
  {
   "cell_type": "code",
   "execution_count": 3,
   "metadata": {},
   "outputs": [
    {
     "data": {
      "text/html": [
       "<div>\n",
       "<style scoped>\n",
       "    .dataframe tbody tr th:only-of-type {\n",
       "        vertical-align: middle;\n",
       "    }\n",
       "\n",
       "    .dataframe tbody tr th {\n",
       "        vertical-align: top;\n",
       "    }\n",
       "\n",
       "    .dataframe thead th {\n",
       "        text-align: right;\n",
       "    }\n",
       "</style>\n",
       "<table border=\"1\" class=\"dataframe\">\n",
       "  <thead>\n",
       "    <tr style=\"text-align: right;\">\n",
       "      <th></th>\n",
       "      <th>Hypothesis</th>\n",
       "      <th>Reach</th>\n",
       "      <th>Impact</th>\n",
       "      <th>Confidence</th>\n",
       "      <th>Efforts</th>\n",
       "    </tr>\n",
       "  </thead>\n",
       "  <tbody>\n",
       "    <tr>\n",
       "      <th>0</th>\n",
       "      <td>Добавить два новых канала привлечения трафика,...</td>\n",
       "      <td>3</td>\n",
       "      <td>10</td>\n",
       "      <td>8</td>\n",
       "      <td>6</td>\n",
       "    </tr>\n",
       "    <tr>\n",
       "      <th>1</th>\n",
       "      <td>Запустить собственную службу доставки, что сок...</td>\n",
       "      <td>2</td>\n",
       "      <td>5</td>\n",
       "      <td>4</td>\n",
       "      <td>10</td>\n",
       "    </tr>\n",
       "    <tr>\n",
       "      <th>2</th>\n",
       "      <td>Добавить блоки рекомендаций товаров на сайт ин...</td>\n",
       "      <td>8</td>\n",
       "      <td>3</td>\n",
       "      <td>7</td>\n",
       "      <td>3</td>\n",
       "    </tr>\n",
       "    <tr>\n",
       "      <th>3</th>\n",
       "      <td>Изменить структура категорий, что увеличит кон...</td>\n",
       "      <td>8</td>\n",
       "      <td>3</td>\n",
       "      <td>3</td>\n",
       "      <td>8</td>\n",
       "    </tr>\n",
       "    <tr>\n",
       "      <th>4</th>\n",
       "      <td>Изменить цвет фона главной страницы, чтобы уве...</td>\n",
       "      <td>3</td>\n",
       "      <td>1</td>\n",
       "      <td>1</td>\n",
       "      <td>1</td>\n",
       "    </tr>\n",
       "  </tbody>\n",
       "</table>\n",
       "</div>"
      ],
      "text/plain": [
       "                                          Hypothesis  Reach  Impact  \\\n",
       "0  Добавить два новых канала привлечения трафика,...      3      10   \n",
       "1  Запустить собственную службу доставки, что сок...      2       5   \n",
       "2  Добавить блоки рекомендаций товаров на сайт ин...      8       3   \n",
       "3  Изменить структура категорий, что увеличит кон...      8       3   \n",
       "4  Изменить цвет фона главной страницы, чтобы уве...      3       1   \n",
       "\n",
       "   Confidence  Efforts  \n",
       "0           8        6  \n",
       "1           4       10  \n",
       "2           7        3  \n",
       "3           3        8  \n",
       "4           1        1  "
      ]
     },
     "metadata": {},
     "output_type": "display_data"
    }
   ],
   "source": [
    "display(hypothesis.head(5))"
   ]
  },
  {
   "cell_type": "code",
   "execution_count": 4,
   "metadata": {
    "scrolled": true
   },
   "outputs": [],
   "source": [
    "#hypothesis.info()"
   ]
  },
  {
   "cell_type": "code",
   "execution_count": 5,
   "metadata": {},
   "outputs": [
    {
     "data": {
      "text/html": [
       "<div>\n",
       "<style scoped>\n",
       "    .dataframe tbody tr th:only-of-type {\n",
       "        vertical-align: middle;\n",
       "    }\n",
       "\n",
       "    .dataframe tbody tr th {\n",
       "        vertical-align: top;\n",
       "    }\n",
       "\n",
       "    .dataframe thead th {\n",
       "        text-align: right;\n",
       "    }\n",
       "</style>\n",
       "<table border=\"1\" class=\"dataframe\">\n",
       "  <thead>\n",
       "    <tr style=\"text-align: right;\">\n",
       "      <th></th>\n",
       "      <th>transactionId</th>\n",
       "      <th>visitorId</th>\n",
       "      <th>date</th>\n",
       "      <th>revenue</th>\n",
       "      <th>group</th>\n",
       "    </tr>\n",
       "  </thead>\n",
       "  <tbody>\n",
       "    <tr>\n",
       "      <th>0</th>\n",
       "      <td>3667963787</td>\n",
       "      <td>3312258926</td>\n",
       "      <td>2019-08-15</td>\n",
       "      <td>1650</td>\n",
       "      <td>B</td>\n",
       "    </tr>\n",
       "    <tr>\n",
       "      <th>1</th>\n",
       "      <td>2804400009</td>\n",
       "      <td>3642806036</td>\n",
       "      <td>2019-08-15</td>\n",
       "      <td>730</td>\n",
       "      <td>B</td>\n",
       "    </tr>\n",
       "    <tr>\n",
       "      <th>2</th>\n",
       "      <td>2961555356</td>\n",
       "      <td>4069496402</td>\n",
       "      <td>2019-08-15</td>\n",
       "      <td>400</td>\n",
       "      <td>A</td>\n",
       "    </tr>\n",
       "    <tr>\n",
       "      <th>3</th>\n",
       "      <td>3797467345</td>\n",
       "      <td>1196621759</td>\n",
       "      <td>2019-08-15</td>\n",
       "      <td>9759</td>\n",
       "      <td>B</td>\n",
       "    </tr>\n",
       "    <tr>\n",
       "      <th>4</th>\n",
       "      <td>2282983706</td>\n",
       "      <td>2322279887</td>\n",
       "      <td>2019-08-15</td>\n",
       "      <td>2308</td>\n",
       "      <td>B</td>\n",
       "    </tr>\n",
       "  </tbody>\n",
       "</table>\n",
       "</div>"
      ],
      "text/plain": [
       "   transactionId   visitorId        date  revenue group\n",
       "0     3667963787  3312258926  2019-08-15     1650     B\n",
       "1     2804400009  3642806036  2019-08-15      730     B\n",
       "2     2961555356  4069496402  2019-08-15      400     A\n",
       "3     3797467345  1196621759  2019-08-15     9759     B\n",
       "4     2282983706  2322279887  2019-08-15     2308     B"
      ]
     },
     "metadata": {},
     "output_type": "display_data"
    }
   ],
   "source": [
    "display(orders.head(5))"
   ]
  },
  {
   "cell_type": "code",
   "execution_count": 6,
   "metadata": {},
   "outputs": [],
   "source": [
    "#orders.info()"
   ]
  },
  {
   "cell_type": "code",
   "execution_count": 7,
   "metadata": {},
   "outputs": [
    {
     "data": {
      "text/html": [
       "<div>\n",
       "<style scoped>\n",
       "    .dataframe tbody tr th:only-of-type {\n",
       "        vertical-align: middle;\n",
       "    }\n",
       "\n",
       "    .dataframe tbody tr th {\n",
       "        vertical-align: top;\n",
       "    }\n",
       "\n",
       "    .dataframe thead th {\n",
       "        text-align: right;\n",
       "    }\n",
       "</style>\n",
       "<table border=\"1\" class=\"dataframe\">\n",
       "  <thead>\n",
       "    <tr style=\"text-align: right;\">\n",
       "      <th></th>\n",
       "      <th>date</th>\n",
       "      <th>group</th>\n",
       "      <th>visitors</th>\n",
       "    </tr>\n",
       "  </thead>\n",
       "  <tbody>\n",
       "    <tr>\n",
       "      <th>0</th>\n",
       "      <td>2019-08-01</td>\n",
       "      <td>A</td>\n",
       "      <td>719</td>\n",
       "    </tr>\n",
       "    <tr>\n",
       "      <th>1</th>\n",
       "      <td>2019-08-02</td>\n",
       "      <td>A</td>\n",
       "      <td>619</td>\n",
       "    </tr>\n",
       "    <tr>\n",
       "      <th>2</th>\n",
       "      <td>2019-08-03</td>\n",
       "      <td>A</td>\n",
       "      <td>507</td>\n",
       "    </tr>\n",
       "    <tr>\n",
       "      <th>3</th>\n",
       "      <td>2019-08-04</td>\n",
       "      <td>A</td>\n",
       "      <td>717</td>\n",
       "    </tr>\n",
       "    <tr>\n",
       "      <th>4</th>\n",
       "      <td>2019-08-05</td>\n",
       "      <td>A</td>\n",
       "      <td>756</td>\n",
       "    </tr>\n",
       "  </tbody>\n",
       "</table>\n",
       "</div>"
      ],
      "text/plain": [
       "         date group  visitors\n",
       "0  2019-08-01     A       719\n",
       "1  2019-08-02     A       619\n",
       "2  2019-08-03     A       507\n",
       "3  2019-08-04     A       717\n",
       "4  2019-08-05     A       756"
      ]
     },
     "metadata": {},
     "output_type": "display_data"
    }
   ],
   "source": [
    "display(visitors.head(5))"
   ]
  },
  {
   "cell_type": "code",
   "execution_count": 8,
   "metadata": {},
   "outputs": [],
   "source": [
    "#visitors.info()"
   ]
  },
  {
   "cell_type": "markdown",
   "metadata": {},
   "source": [
    "**Вывод**\n",
    "</br>\n",
    "1)Файл hypothesis - Поменять регистр\n",
    "</br>\n",
    "2)Файл orders - transactionId, visitorId - поменять регистр, добавить нижнее подчеркивание, date меняем object на datetime\n",
    "</br>\n",
    "3)Файл visitors - date меняем object на datetime"
   ]
  },
  {
   "cell_type": "markdown",
   "metadata": {},
   "source": [
    "**Проверяем пропуски**"
   ]
  },
  {
   "cell_type": "code",
   "execution_count": 9,
   "metadata": {},
   "outputs": [
    {
     "data": {
      "text/plain": [
       "Hypothesis    0\n",
       "Reach         0\n",
       "Impact        0\n",
       "Confidence    0\n",
       "Efforts       0\n",
       "dtype: int64"
      ]
     },
     "execution_count": 9,
     "metadata": {},
     "output_type": "execute_result"
    }
   ],
   "source": [
    "hypothesis.isna().sum().sort_values(ascending = False)"
   ]
  },
  {
   "cell_type": "code",
   "execution_count": 10,
   "metadata": {},
   "outputs": [
    {
     "data": {
      "text/plain": [
       "transactionId    0\n",
       "visitorId        0\n",
       "date             0\n",
       "revenue          0\n",
       "group            0\n",
       "dtype: int64"
      ]
     },
     "execution_count": 10,
     "metadata": {},
     "output_type": "execute_result"
    }
   ],
   "source": [
    "orders.isna().sum().sort_values(ascending = False)"
   ]
  },
  {
   "cell_type": "code",
   "execution_count": 11,
   "metadata": {},
   "outputs": [
    {
     "data": {
      "text/plain": [
       "date        0\n",
       "group       0\n",
       "visitors    0\n",
       "dtype: int64"
      ]
     },
     "execution_count": 11,
     "metadata": {},
     "output_type": "execute_result"
    }
   ],
   "source": [
    "visitors.isna().sum().sort_values(ascending = False)"
   ]
  },
  {
   "cell_type": "markdown",
   "metadata": {},
   "source": [
    "**Проверяем дубликаты**"
   ]
  },
  {
   "cell_type": "code",
   "execution_count": 12,
   "metadata": {},
   "outputs": [
    {
     "data": {
      "text/plain": [
       "'Дубликаты в таблице hypothesis:'"
      ]
     },
     "metadata": {},
     "output_type": "display_data"
    },
    {
     "data": {
      "text/plain": [
       "0"
      ]
     },
     "metadata": {},
     "output_type": "display_data"
    },
    {
     "data": {
      "text/plain": [
       "'Дубликаты в таблице orders:'"
      ]
     },
     "metadata": {},
     "output_type": "display_data"
    },
    {
     "data": {
      "text/plain": [
       "0"
      ]
     },
     "metadata": {},
     "output_type": "display_data"
    },
    {
     "data": {
      "text/plain": [
       "'Дубликаты в таблице visitors:'"
      ]
     },
     "metadata": {},
     "output_type": "display_data"
    },
    {
     "data": {
      "text/plain": [
       "0"
      ]
     },
     "metadata": {},
     "output_type": "display_data"
    }
   ],
   "source": [
    "display('Дубликаты в таблице hypothesis:', hypothesis.duplicated().sum())\n",
    "display('Дубликаты в таблице orders:', orders.duplicated().sum())\n",
    "display('Дубликаты в таблице visitors:', visitors.duplicated().sum())"
   ]
  },
  {
   "cell_type": "markdown",
   "metadata": {},
   "source": [
    "**Вывод**\n",
    "</br>\n",
    "Пропусков и дубликатов нет"
   ]
  },
  {
   "cell_type": "markdown",
   "metadata": {},
   "source": [
    "# Предобработка данных <a id='section_id_1'></a>"
   ]
  },
  {
   "cell_type": "markdown",
   "metadata": {},
   "source": [
    "**Меняем тип данных в столбцах**"
   ]
  },
  {
   "cell_type": "code",
   "execution_count": 13,
   "metadata": {},
   "outputs": [],
   "source": [
    "orders['date'] = pd.to_datetime(orders['date'], format='%Y-%m-%d %H:%M:%S')\n",
    "visitors['date'] = pd.to_datetime(visitors['date'], format='%Y-%m-%d %H:%M:%S')"
   ]
  },
  {
   "cell_type": "markdown",
   "metadata": {},
   "source": [
    "**Приводим названия столбцов к нижнему регистру с нижним подчеркиванием**"
   ]
  },
  {
   "cell_type": "code",
   "execution_count": 14,
   "metadata": {},
   "outputs": [],
   "source": [
    "hypothesis.columns = map(str.lower, hypothesis.columns)\n",
    "orders.columns = map(str.lower, orders.columns) \n",
    "visitors.columns = map(str.lower, visitors.columns) "
   ]
  },
  {
   "cell_type": "markdown",
   "metadata": {},
   "source": [
    "**Добавим нижнее подчеркивание**"
   ]
  },
  {
   "cell_type": "code",
   "execution_count": 15,
   "metadata": {},
   "outputs": [],
   "source": [
    "orders.columns = orders.columns.str.replace(\"transactionid\", \"transaction_id\")\n",
    "orders.columns = orders.columns.str.replace(\"visitorid\", \"visitor_id\")"
   ]
  },
  {
   "cell_type": "markdown",
   "metadata": {},
   "source": [
    "**Вывод**\n",
    "Предобработка завершена. Названия столбцов приведены к нижнему регистру. Названия столбцов заменены на названия с нижним подчеркиванием. Изменены типы данных."
   ]
  },
  {
   "cell_type": "markdown",
   "metadata": {},
   "source": [
    "# Шаг 2. Приоритизация гипотез <a id='section_id_2'></a>"
   ]
  },
  {
   "cell_type": "markdown",
   "metadata": {},
   "source": [
    "**Фреймворк ICE для приоритизации гипотез**"
   ]
  },
  {
   "cell_type": "code",
   "execution_count": 16,
   "metadata": {},
   "outputs": [],
   "source": [
    "hypothesis['ICE'] = hypothesis['impact'] * hypothesis['confidence'] / hypothesis['efforts']"
   ]
  },
  {
   "cell_type": "code",
   "execution_count": 17,
   "metadata": {
    "scrolled": true
   },
   "outputs": [
    {
     "data": {
      "text/html": [
       "<div>\n",
       "<style scoped>\n",
       "    .dataframe tbody tr th:only-of-type {\n",
       "        vertical-align: middle;\n",
       "    }\n",
       "\n",
       "    .dataframe tbody tr th {\n",
       "        vertical-align: top;\n",
       "    }\n",
       "\n",
       "    .dataframe thead th {\n",
       "        text-align: right;\n",
       "    }\n",
       "</style>\n",
       "<table border=\"1\" class=\"dataframe\">\n",
       "  <thead>\n",
       "    <tr style=\"text-align: right;\">\n",
       "      <th></th>\n",
       "      <th>hypothesis</th>\n",
       "      <th>reach</th>\n",
       "      <th>impact</th>\n",
       "      <th>confidence</th>\n",
       "      <th>efforts</th>\n",
       "      <th>ICE</th>\n",
       "    </tr>\n",
       "  </thead>\n",
       "  <tbody>\n",
       "    <tr>\n",
       "      <th>8</th>\n",
       "      <td>Запустить акцию, дающую скидку на товар в день...</td>\n",
       "      <td>1</td>\n",
       "      <td>9</td>\n",
       "      <td>9</td>\n",
       "      <td>5</td>\n",
       "      <td>16.200</td>\n",
       "    </tr>\n",
       "    <tr>\n",
       "      <th>0</th>\n",
       "      <td>Добавить два новых канала привлечения трафика,...</td>\n",
       "      <td>3</td>\n",
       "      <td>10</td>\n",
       "      <td>8</td>\n",
       "      <td>6</td>\n",
       "      <td>13.333</td>\n",
       "    </tr>\n",
       "    <tr>\n",
       "      <th>7</th>\n",
       "      <td>Добавить форму подписки на все основные страни...</td>\n",
       "      <td>10</td>\n",
       "      <td>7</td>\n",
       "      <td>8</td>\n",
       "      <td>5</td>\n",
       "      <td>11.200</td>\n",
       "    </tr>\n",
       "    <tr>\n",
       "      <th>6</th>\n",
       "      <td>Показать на главной странице баннеры с актуаль...</td>\n",
       "      <td>5</td>\n",
       "      <td>3</td>\n",
       "      <td>8</td>\n",
       "      <td>3</td>\n",
       "      <td>8.000</td>\n",
       "    </tr>\n",
       "    <tr>\n",
       "      <th>2</th>\n",
       "      <td>Добавить блоки рекомендаций товаров на сайт ин...</td>\n",
       "      <td>8</td>\n",
       "      <td>3</td>\n",
       "      <td>7</td>\n",
       "      <td>3</td>\n",
       "      <td>7.000</td>\n",
       "    </tr>\n",
       "  </tbody>\n",
       "</table>\n",
       "</div>"
      ],
      "text/plain": [
       "                                          hypothesis  reach  impact  \\\n",
       "8  Запустить акцию, дающую скидку на товар в день...      1       9   \n",
       "0  Добавить два новых канала привлечения трафика,...      3      10   \n",
       "7  Добавить форму подписки на все основные страни...     10       7   \n",
       "6  Показать на главной странице баннеры с актуаль...      5       3   \n",
       "2  Добавить блоки рекомендаций товаров на сайт ин...      8       3   \n",
       "\n",
       "   confidence  efforts    ICE  \n",
       "8           9        5 16.200  \n",
       "0           8        6 13.333  \n",
       "7           8        5 11.200  \n",
       "6           8        3  8.000  \n",
       "2           7        3  7.000  "
      ]
     },
     "execution_count": 17,
     "metadata": {},
     "output_type": "execute_result"
    }
   ],
   "source": [
    "hypothesis.sort_values('ICE', ascending=False).head()"
   ]
  },
  {
   "cell_type": "code",
   "execution_count": 18,
   "metadata": {
    "scrolled": true
   },
   "outputs": [
    {
     "data": {
      "image/png": "[encoded data removed]",
      "text/plain": [
       "<Figure size 432x288 with 1 Axes>"
      ]
     },
     "metadata": {
      "needs_background": "light"
     },
     "output_type": "display_data"
    }
   ],
   "source": [
    "hyp = hypothesis[['hypothesis', 'ICE']].set_index('hypothesis').sort_values('ICE', ascending=True).plot(kind='barh')\n",
    "hyp.set_xlabel('Приоритет')\n",
    "hyp.set_ylabel('Гипотеза')\n",
    "hyp.set_title('ICE')\n",
    "plt.show()"
   ]
  },
  {
   "cell_type": "markdown",
   "metadata": {},
   "source": [
    "**Фреймворк RICE для приоритизации гипотез.**"
   ]
  },
  {
   "cell_type": "code",
   "execution_count": 19,
   "metadata": {},
   "outputs": [],
   "source": [
    "hypothesis['RICE'] = hypothesis['reach'] * hypothesis['impact'] * hypothesis['confidence'] / hypothesis['efforts']"
   ]
  },
  {
   "cell_type": "code",
   "execution_count": 20,
   "metadata": {
    "scrolled": true
   },
   "outputs": [
    {
     "data": {
      "text/html": [
       "<div>\n",
       "<style scoped>\n",
       "    .dataframe tbody tr th:only-of-type {\n",
       "        vertical-align: middle;\n",
       "    }\n",
       "\n",
       "    .dataframe tbody tr th {\n",
       "        vertical-align: top;\n",
       "    }\n",
       "\n",
       "    .dataframe thead th {\n",
       "        text-align: right;\n",
       "    }\n",
       "</style>\n",
       "<table border=\"1\" class=\"dataframe\">\n",
       "  <thead>\n",
       "    <tr style=\"text-align: right;\">\n",
       "      <th></th>\n",
       "      <th>hypothesis</th>\n",
       "      <th>reach</th>\n",
       "      <th>impact</th>\n",
       "      <th>confidence</th>\n",
       "      <th>efforts</th>\n",
       "      <th>ICE</th>\n",
       "      <th>RICE</th>\n",
       "    </tr>\n",
       "  </thead>\n",
       "  <tbody>\n",
       "    <tr>\n",
       "      <th>7</th>\n",
       "      <td>Добавить форму подписки на все основные страни...</td>\n",
       "      <td>10</td>\n",
       "      <td>7</td>\n",
       "      <td>8</td>\n",
       "      <td>5</td>\n",
       "      <td>11.200</td>\n",
       "      <td>112.000</td>\n",
       "    </tr>\n",
       "    <tr>\n",
       "      <th>2</th>\n",
       "      <td>Добавить блоки рекомендаций товаров на сайт ин...</td>\n",
       "      <td>8</td>\n",
       "      <td>3</td>\n",
       "      <td>7</td>\n",
       "      <td>3</td>\n",
       "      <td>7.000</td>\n",
       "      <td>56.000</td>\n",
       "    </tr>\n",
       "    <tr>\n",
       "      <th>0</th>\n",
       "      <td>Добавить два новых канала привлечения трафика,...</td>\n",
       "      <td>3</td>\n",
       "      <td>10</td>\n",
       "      <td>8</td>\n",
       "      <td>6</td>\n",
       "      <td>13.333</td>\n",
       "      <td>40.000</td>\n",
       "    </tr>\n",
       "    <tr>\n",
       "      <th>6</th>\n",
       "      <td>Показать на главной странице баннеры с актуаль...</td>\n",
       "      <td>5</td>\n",
       "      <td>3</td>\n",
       "      <td>8</td>\n",
       "      <td>3</td>\n",
       "      <td>8.000</td>\n",
       "      <td>40.000</td>\n",
       "    </tr>\n",
       "    <tr>\n",
       "      <th>8</th>\n",
       "      <td>Запустить акцию, дающую скидку на товар в день...</td>\n",
       "      <td>1</td>\n",
       "      <td>9</td>\n",
       "      <td>9</td>\n",
       "      <td>5</td>\n",
       "      <td>16.200</td>\n",
       "      <td>16.200</td>\n",
       "    </tr>\n",
       "  </tbody>\n",
       "</table>\n",
       "</div>"
      ],
      "text/plain": [
       "                                          hypothesis  reach  impact  \\\n",
       "7  Добавить форму подписки на все основные страни...     10       7   \n",
       "2  Добавить блоки рекомендаций товаров на сайт ин...      8       3   \n",
       "0  Добавить два новых канала привлечения трафика,...      3      10   \n",
       "6  Показать на главной странице баннеры с актуаль...      5       3   \n",
       "8  Запустить акцию, дающую скидку на товар в день...      1       9   \n",
       "\n",
       "   confidence  efforts    ICE    RICE  \n",
       "7           8        5 11.200 112.000  \n",
       "2           7        3  7.000  56.000  \n",
       "0           8        6 13.333  40.000  \n",
       "6           8        3  8.000  40.000  \n",
       "8           9        5 16.200  16.200  "
      ]
     },
     "execution_count": 20,
     "metadata": {},
     "output_type": "execute_result"
    }
   ],
   "source": [
    "hypothesis.sort_values('RICE', ascending=False).head()"
   ]
  },
  {
   "cell_type": "code",
   "execution_count": 21,
   "metadata": {
    "scrolled": false
   },
   "outputs": [
    {
     "data": {
      "image/png": "[encoded data removed]",
      "text/plain": [
       "<Figure size 432x288 with 1 Axes>"
      ]
     },
     "metadata": {
      "needs_background": "light"
     },
     "output_type": "display_data"
    }
   ],
   "source": [
    "hyp_r = hypothesis[['hypothesis', 'RICE']].set_index('hypothesis').sort_values('RICE', ascending=True).plot(kind='barh')\n",
    "hyp_r.set_xlabel('Приоритет')\n",
    "hyp_r.set_ylabel('Гипотеза')\n",
    "hyp_r.set_title('RICE')\n",
    "plt.show()"
   ]
  },
  {
   "cell_type": "markdown",
   "metadata": {},
   "source": [
    "**Вывод** \n",
    "</br>\n",
    "*Почему изменилась приоритизация гипотез?*\n",
    "</br>\n",
    "Перспективные гипотезы ICE - 8, 0, 7\n",
    "</br>\n",
    "Перспективные гипотезы RICE - 7, 0, 2\n",
    "</br>\n",
    "Как видим, разница в одной гипотезе и в их перспективности. В первом случае 7 гипотеза занимает 3-е место, во втором случае 7 гитопеза является самой перспективной. 0 гипотеза стабильно на втором месте.\n",
    "Также разница в том,что в RICE формуле учитывается охват, в ICE формуле - нет. 7 гипотеза затронет большинство количества пользователей. В ICE мы не учитываем количество пользователей, которое затронет изменение, поэтому 7 гипотеза занимает последнее место.В то время как 8 гипотеза имеет высокую оценку параметров impact и confidence, следовательно, данная гипотеза сильно повлияет на пользователей.\n",
    "</br>\n",
    "Выбор гипотез зависит от того, какой конечный результат мы преследуем. Если нужен большой охват - используем гипотезы RICE, если интересует влияние на пользователя, его удовлетворенность, то используем гипотезы ICE."
   ]
  },
  {
   "cell_type": "code",
   "execution_count": 22,
   "metadata": {},
   "outputs": [
    {
     "data": {
      "image/png": "[encoded data removed]",
      "text/plain": [
       "<Figure size 720x720 with 1 Axes>"
      ]
     },
     "metadata": {
      "needs_background": "light"
     },
     "output_type": "display_data"
    }
   ],
   "source": [
    "y = hypothesis['ICE'] \n",
    "z = hypothesis['RICE'] \n",
    "n = hypothesis.index \n",
    "\n",
    "fig, ax = plt.subplots()\n",
    "ax.scatter(z, y)\n",
    "\n",
    "for i, txt in enumerate(n):\n",
    "    ax.annotate(txt, (z[i], y[i]))\n",
    "\n",
    "plt.title(\"ICE and RICE гипотезы\") \n",
    "plt.xlabel(\"RICE\") \n",
    "plt.ylabel(\"ICE\")\n",
    "\n",
    "fig.set_figheight(10)\n",
    "fig.set_figwidth(10) \n",
    "plt.show()"
   ]
  },
  {
   "cell_type": "markdown",
   "metadata": {},
   "source": [
    "# Шаг 3. А/B тест <a id='section_id_3'></a>"
   ]
  },
  {
   "cell_type": "markdown",
   "metadata": {},
   "source": [
    "Проверим начало и окончание теста"
   ]
  },
  {
   "cell_type": "code",
   "execution_count": 23,
   "metadata": {},
   "outputs": [
    {
     "data": {
      "text/plain": [
       "'Начало теста:'"
      ]
     },
     "metadata": {},
     "output_type": "display_data"
    },
    {
     "data": {
      "text/plain": [
       "Timestamp('2019-08-01 00:00:00')"
      ]
     },
     "metadata": {},
     "output_type": "display_data"
    }
   ],
   "source": [
    "display('Начало теста:', visitors['date'].min())\n"
   ]
  },
  {
   "cell_type": "code",
   "execution_count": 24,
   "metadata": {},
   "outputs": [
    {
     "data": {
      "text/plain": [
       "'Конец теста:'"
      ]
     },
     "metadata": {},
     "output_type": "display_data"
    },
    {
     "data": {
      "text/plain": [
       "Timestamp('2019-08-31 00:00:00')"
      ]
     },
     "metadata": {},
     "output_type": "display_data"
    }
   ],
   "source": [
    "display('Конец теста:', visitors['date'].max())"
   ]
  },
  {
   "cell_type": "markdown",
   "metadata": {},
   "source": [
    "Проверим пользователей, состоящих в 2 группах"
   ]
  },
  {
   "cell_type": "code",
   "execution_count": 25,
   "metadata": {
    "scrolled": false
   },
   "outputs": [
    {
     "data": {
      "text/html": [
       "<div>\n",
       "<style scoped>\n",
       "    .dataframe tbody tr th:only-of-type {\n",
       "        vertical-align: middle;\n",
       "    }\n",
       "\n",
       "    .dataframe tbody tr th {\n",
       "        vertical-align: top;\n",
       "    }\n",
       "\n",
       "    .dataframe thead th {\n",
       "        text-align: right;\n",
       "    }\n",
       "</style>\n",
       "<table border=\"1\" class=\"dataframe\">\n",
       "  <thead>\n",
       "    <tr style=\"text-align: right;\">\n",
       "      <th></th>\n",
       "      <th>groups</th>\n",
       "      <th>group_names</th>\n",
       "    </tr>\n",
       "    <tr>\n",
       "      <th>visitor_id</th>\n",
       "      <th></th>\n",
       "      <th></th>\n",
       "    </tr>\n",
       "  </thead>\n",
       "  <tbody>\n",
       "    <tr>\n",
       "      <th>8300375</th>\n",
       "      <td>2</td>\n",
       "      <td>[B, A]</td>\n",
       "    </tr>\n",
       "    <tr>\n",
       "      <th>199603092</th>\n",
       "      <td>2</td>\n",
       "      <td>[A, B]</td>\n",
       "    </tr>\n",
       "    <tr>\n",
       "      <th>232979603</th>\n",
       "      <td>2</td>\n",
       "      <td>[B, A]</td>\n",
       "    </tr>\n",
       "    <tr>\n",
       "      <th>237748145</th>\n",
       "      <td>2</td>\n",
       "      <td>[B, A]</td>\n",
       "    </tr>\n",
       "    <tr>\n",
       "      <th>276558944</th>\n",
       "      <td>2</td>\n",
       "      <td>[B, A]</td>\n",
       "    </tr>\n",
       "  </tbody>\n",
       "</table>\n",
       "</div>"
      ],
      "text/plain": [
       "            groups group_names\n",
       "visitor_id                    \n",
       "8300375          2      [B, A]\n",
       "199603092        2      [A, B]\n",
       "232979603        2      [B, A]\n",
       "237748145        2      [B, A]\n",
       "276558944        2      [B, A]"
      ]
     },
     "metadata": {},
     "output_type": "display_data"
    }
   ],
   "source": [
    "duplicated_users = orders.groupby('visitor_id').agg({'group':['nunique','unique']})\n",
    "duplicated_users.columns = ['groups', 'group_names']\n",
    "duplicated_users = duplicated_users.query('groups>1')\n",
    "display(duplicated_users.head())"
   ]
  },
  {
   "cell_type": "code",
   "execution_count": 26,
   "metadata": {},
   "outputs": [
    {
     "data": {
      "text/plain": [
       "groups         58\n",
       "group_names    58\n",
       "dtype: int64"
      ]
     },
     "metadata": {},
     "output_type": "display_data"
    }
   ],
   "source": [
    "display(duplicated_users.count())"
   ]
  },
  {
   "cell_type": "markdown",
   "metadata": {},
   "source": [
    "**Вывод**\n",
    "</br>\n",
    "58 дубликатов, которые состоят в 2 группах одновременно. Это может испортить результат теста. Удалим этих пользователей и проверим дубликаты."
   ]
  },
  {
   "cell_type": "code",
   "execution_count": 27,
   "metadata": {
    "scrolled": false
   },
   "outputs": [
    {
     "data": {
      "text/html": [
       "<div>\n",
       "<style scoped>\n",
       "    .dataframe tbody tr th:only-of-type {\n",
       "        vertical-align: middle;\n",
       "    }\n",
       "\n",
       "    .dataframe tbody tr th {\n",
       "        vertical-align: top;\n",
       "    }\n",
       "\n",
       "    .dataframe thead th {\n",
       "        text-align: right;\n",
       "    }\n",
       "</style>\n",
       "<table border=\"1\" class=\"dataframe\">\n",
       "  <thead>\n",
       "    <tr style=\"text-align: right;\">\n",
       "      <th></th>\n",
       "      <th>transaction_id</th>\n",
       "      <th>visitor_id</th>\n",
       "      <th>date</th>\n",
       "      <th>revenue</th>\n",
       "      <th>group</th>\n",
       "    </tr>\n",
       "  </thead>\n",
       "  <tbody>\n",
       "    <tr>\n",
       "      <th>0</th>\n",
       "      <td>3667963787</td>\n",
       "      <td>3312258926</td>\n",
       "      <td>2019-08-15</td>\n",
       "      <td>1650</td>\n",
       "      <td>B</td>\n",
       "    </tr>\n",
       "    <tr>\n",
       "      <th>1</th>\n",
       "      <td>2804400009</td>\n",
       "      <td>3642806036</td>\n",
       "      <td>2019-08-15</td>\n",
       "      <td>730</td>\n",
       "      <td>B</td>\n",
       "    </tr>\n",
       "    <tr>\n",
       "      <th>3</th>\n",
       "      <td>3797467345</td>\n",
       "      <td>1196621759</td>\n",
       "      <td>2019-08-15</td>\n",
       "      <td>9759</td>\n",
       "      <td>B</td>\n",
       "    </tr>\n",
       "    <tr>\n",
       "      <th>4</th>\n",
       "      <td>2282983706</td>\n",
       "      <td>2322279887</td>\n",
       "      <td>2019-08-15</td>\n",
       "      <td>2308</td>\n",
       "      <td>B</td>\n",
       "    </tr>\n",
       "    <tr>\n",
       "      <th>5</th>\n",
       "      <td>182168103</td>\n",
       "      <td>935554773</td>\n",
       "      <td>2019-08-15</td>\n",
       "      <td>2210</td>\n",
       "      <td>B</td>\n",
       "    </tr>\n",
       "    <tr>\n",
       "      <th>...</th>\n",
       "      <td>...</td>\n",
       "      <td>...</td>\n",
       "      <td>...</td>\n",
       "      <td>...</td>\n",
       "      <td>...</td>\n",
       "    </tr>\n",
       "    <tr>\n",
       "      <th>1191</th>\n",
       "      <td>3592955527</td>\n",
       "      <td>608641596</td>\n",
       "      <td>2019-08-14</td>\n",
       "      <td>16490</td>\n",
       "      <td>B</td>\n",
       "    </tr>\n",
       "    <tr>\n",
       "      <th>1192</th>\n",
       "      <td>2662137336</td>\n",
       "      <td>3733762160</td>\n",
       "      <td>2019-08-14</td>\n",
       "      <td>6490</td>\n",
       "      <td>B</td>\n",
       "    </tr>\n",
       "    <tr>\n",
       "      <th>1193</th>\n",
       "      <td>2203539145</td>\n",
       "      <td>370388673</td>\n",
       "      <td>2019-08-14</td>\n",
       "      <td>3190</td>\n",
       "      <td>A</td>\n",
       "    </tr>\n",
       "    <tr>\n",
       "      <th>1194</th>\n",
       "      <td>1807773912</td>\n",
       "      <td>573423106</td>\n",
       "      <td>2019-08-14</td>\n",
       "      <td>10550</td>\n",
       "      <td>A</td>\n",
       "    </tr>\n",
       "    <tr>\n",
       "      <th>1196</th>\n",
       "      <td>3936777065</td>\n",
       "      <td>2108080724</td>\n",
       "      <td>2019-08-15</td>\n",
       "      <td>202740</td>\n",
       "      <td>B</td>\n",
       "    </tr>\n",
       "  </tbody>\n",
       "</table>\n",
       "<p>1016 rows × 5 columns</p>\n",
       "</div>"
      ],
      "text/plain": [
       "      transaction_id  visitor_id       date  revenue group\n",
       "0         3667963787  3312258926 2019-08-15     1650     B\n",
       "1         2804400009  3642806036 2019-08-15      730     B\n",
       "3         3797467345  1196621759 2019-08-15     9759     B\n",
       "4         2282983706  2322279887 2019-08-15     2308     B\n",
       "5          182168103   935554773 2019-08-15     2210     B\n",
       "...              ...         ...        ...      ...   ...\n",
       "1191      3592955527   608641596 2019-08-14    16490     B\n",
       "1192      2662137336  3733762160 2019-08-14     6490     B\n",
       "1193      2203539145   370388673 2019-08-14     3190     A\n",
       "1194      1807773912   573423106 2019-08-14    10550     A\n",
       "1196      3936777065  2108080724 2019-08-15   202740     B\n",
       "\n",
       "[1016 rows x 5 columns]"
      ]
     },
     "metadata": {},
     "output_type": "display_data"
    }
   ],
   "source": [
    "clear_orders = orders.query('visitor_id not in @duplicated_users.index')\n",
    "display(clear_orders)"
   ]
  },
  {
   "cell_type": "code",
   "execution_count": 28,
   "metadata": {
    "scrolled": true
   },
   "outputs": [
    {
     "data": {
      "text/plain": [
       "groups         0\n",
       "group_names    0\n",
       "dtype: int64"
      ]
     },
     "metadata": {},
     "output_type": "display_data"
    }
   ],
   "source": [
    "u_users = clear_orders.groupby('visitor_id').agg({'group':['nunique','unique']})\n",
    "u_users.columns = ['groups', 'group_names']\n",
    "u_users = u_users.query('groups>1')\n",
    "display(u_users.count())"
   ]
  },
  {
   "cell_type": "code",
   "execution_count": 29,
   "metadata": {},
   "outputs": [
    {
     "data": {
      "text/plain": [
       "'Удаленных покупателей 5.63%'"
      ]
     },
     "metadata": {},
     "output_type": "display_data"
    }
   ],
   "source": [
    "display(f'Удаленных покупателей {len(duplicated_users)/len(orders[\"visitor_id\"].unique()):.2%}')"
   ]
  },
  {
   "cell_type": "markdown",
   "metadata": {},
   "source": [
    "**Вывод**\n",
    "</br> Дуликаты удалены"
   ]
  },
  {
   "cell_type": "code",
   "execution_count": 30,
   "metadata": {},
   "outputs": [],
   "source": [
    "orders_grouped = (orders.groupby(['date','group'], as_index=False)\n",
    "                        .agg({'transaction_id':'nunique','visitor_id':'nunique','revenue':'sum'}))\\\n",
    "                        .rename(columns={'transaction_id':'orders','visitor_id':'buyers'})\n",
    "orders_grouped['group_copy'] = orders_grouped['group']\n",
    "orders_grouped = orders_grouped.set_index(['date','group'])\n",
    "orders_cumsum = orders_grouped.sort_values(['date','group']).groupby('group_copy').cumsum().reset_index()"
   ]
  },
  {
   "cell_type": "markdown",
   "metadata": {},
   "source": [
    "Посчитаем сумму визитов по дням в каждой группе"
   ]
  },
  {
   "cell_type": "code",
   "execution_count": 31,
   "metadata": {},
   "outputs": [],
   "source": [
    "visitors_cumsum = visitors.groupby(['date','group'], as_index=False).agg({'visitors':'sum'}).sort_values(['date','group'])\n",
    "visitors_cumsum['group_copy'] = visitors_cumsum['group']\n",
    "visitors_cumsum = visitors_cumsum.set_index(['date','group']).groupby('group_copy').cumsum().reset_index()"
   ]
  },
  {
   "cell_type": "code",
   "execution_count": 32,
   "metadata": {},
   "outputs": [],
   "source": [
    "cummulative = orders_cumsum.join(visitors_cumsum[['visitors']])\n",
    "cummulative['avg_check'] = cummulative['revenue'] / cummulative['orders']\n",
    "cummulative['conversion'] = cummulative['orders'] / cummulative['visitors']"
   ]
  },
  {
   "cell_type": "code",
   "execution_count": 33,
   "metadata": {},
   "outputs": [
    {
     "data": {
      "text/html": [
       "<div>\n",
       "<style scoped>\n",
       "    .dataframe tbody tr th:only-of-type {\n",
       "        vertical-align: middle;\n",
       "    }\n",
       "\n",
       "    .dataframe tbody tr th {\n",
       "        vertical-align: top;\n",
       "    }\n",
       "\n",
       "    .dataframe thead th {\n",
       "        text-align: right;\n",
       "    }\n",
       "</style>\n",
       "<table border=\"1\" class=\"dataframe\">\n",
       "  <thead>\n",
       "    <tr style=\"text-align: right;\">\n",
       "      <th></th>\n",
       "      <th>date</th>\n",
       "      <th>group</th>\n",
       "      <th>orders</th>\n",
       "      <th>buyers</th>\n",
       "      <th>revenue</th>\n",
       "      <th>visitors</th>\n",
       "      <th>avg_check</th>\n",
       "      <th>conversion</th>\n",
       "    </tr>\n",
       "  </thead>\n",
       "  <tbody>\n",
       "    <tr>\n",
       "      <th>0</th>\n",
       "      <td>2019-08-01</td>\n",
       "      <td>A</td>\n",
       "      <td>24</td>\n",
       "      <td>20</td>\n",
       "      <td>148579</td>\n",
       "      <td>719</td>\n",
       "      <td>6,190.792</td>\n",
       "      <td>0.033</td>\n",
       "    </tr>\n",
       "    <tr>\n",
       "      <th>1</th>\n",
       "      <td>2019-08-01</td>\n",
       "      <td>B</td>\n",
       "      <td>21</td>\n",
       "      <td>20</td>\n",
       "      <td>101217</td>\n",
       "      <td>713</td>\n",
       "      <td>4,819.857</td>\n",
       "      <td>0.029</td>\n",
       "    </tr>\n",
       "    <tr>\n",
       "      <th>2</th>\n",
       "      <td>2019-08-02</td>\n",
       "      <td>A</td>\n",
       "      <td>44</td>\n",
       "      <td>39</td>\n",
       "      <td>242401</td>\n",
       "      <td>1338</td>\n",
       "      <td>5,509.114</td>\n",
       "      <td>0.033</td>\n",
       "    </tr>\n",
       "    <tr>\n",
       "      <th>3</th>\n",
       "      <td>2019-08-02</td>\n",
       "      <td>B</td>\n",
       "      <td>45</td>\n",
       "      <td>43</td>\n",
       "      <td>266748</td>\n",
       "      <td>1294</td>\n",
       "      <td>5,927.733</td>\n",
       "      <td>0.035</td>\n",
       "    </tr>\n",
       "    <tr>\n",
       "      <th>4</th>\n",
       "      <td>2019-08-03</td>\n",
       "      <td>A</td>\n",
       "      <td>68</td>\n",
       "      <td>63</td>\n",
       "      <td>354874</td>\n",
       "      <td>1845</td>\n",
       "      <td>5,218.735</td>\n",
       "      <td>0.037</td>\n",
       "    </tr>\n",
       "  </tbody>\n",
       "</table>\n",
       "</div>"
      ],
      "text/plain": [
       "        date group  orders  buyers  revenue  visitors  avg_check  conversion\n",
       "0 2019-08-01     A      24      20   148579       719  6,190.792       0.033\n",
       "1 2019-08-01     B      21      20   101217       713  4,819.857       0.029\n",
       "2 2019-08-02     A      44      39   242401      1338  5,509.114       0.033\n",
       "3 2019-08-02     B      45      43   266748      1294  5,927.733       0.035\n",
       "4 2019-08-03     A      68      63   354874      1845  5,218.735       0.037"
      ]
     },
     "execution_count": 33,
     "metadata": {},
     "output_type": "execute_result"
    }
   ],
   "source": [
    "cummulative.head()"
   ]
  },
  {
   "cell_type": "markdown",
   "metadata": {},
   "source": [
    "Проверим совпадают ли минимальная и максимальная даты в этом датафрейме с минимальной и максимальной датой в исходных данных. В исходных данных начало 2019-08-01, конец 2019-08-31"
   ]
  },
  {
   "cell_type": "code",
   "execution_count": 34,
   "metadata": {},
   "outputs": [
    {
     "data": {
      "text/plain": [
       "Timestamp('2019-08-01 00:00:00')"
      ]
     },
     "execution_count": 34,
     "metadata": {},
     "output_type": "execute_result"
    }
   ],
   "source": [
    "cummulative['date'].min()"
   ]
  },
  {
   "cell_type": "code",
   "execution_count": 35,
   "metadata": {
    "scrolled": true
   },
   "outputs": [
    {
     "data": {
      "text/plain": [
       "Timestamp('2019-08-31 00:00:00')"
      ]
     },
     "execution_count": 35,
     "metadata": {},
     "output_type": "execute_result"
    }
   ],
   "source": [
    "cummulative['date'].max()"
   ]
  },
  {
   "cell_type": "markdown",
   "metadata": {},
   "source": [
    "**Вывод**\n",
    "<br/>Даты совпадают"
   ]
  },
  {
   "cell_type": "markdown",
   "metadata": {},
   "source": [
    "### График кумулятивной выручки"
   ]
  },
  {
   "cell_type": "code",
   "execution_count": 36,
   "metadata": {},
   "outputs": [
    {
     "data": {
      "image/png": "[encoded data removed]",
      "text/plain": [
       "<Figure size 432x288 with 1 Axes>"
      ]
     },
     "metadata": {
      "needs_background": "light"
     },
     "output_type": "display_data"
    }
   ],
   "source": [
    "cummulativeA = cummulative[cummulative['group']=='A'][['date', 'revenue']]\n",
    "cummulativeB = cummulative[cummulative['group']=='B'][['date', 'revenue']]\n",
    "plt.plot(cummulativeA.iloc[:,0].to_frame(), cummulativeA.iloc[:,1].to_frame(), label='A' )\n",
    "plt.plot(cummulativeB.iloc[:,0].to_frame(), cummulativeB.iloc[:,1].to_frame(), label='B')\n",
    "plt.title('График кумулятивной выручки по группам')\n",
    "plt.ylabel(\"Выручка\")\n",
    "plt.xticks(rotation=45)\n",
    "plt.legend()\n",
    "plt.show()"
   ]
  },
  {
   "cell_type": "markdown",
   "metadata": {},
   "source": [
    "**Вывод**\n",
    "</br>\n",
    "У группы А выручка равномерно росла в течении всего теста, у группы B был резкий скачок в середине месяца, после которого выручка опять стабильно увеличивалась, но на более высоком уровне.\n",
    "Есть два варианта: либо попали дорогие заказы в выборку, либо выбросы.\n"
   ]
  },
  {
   "cell_type": "markdown",
   "metadata": {},
   "source": [
    "### График кумулятивного среднего чека по группам."
   ]
  },
  {
   "cell_type": "code",
   "execution_count": 37,
   "metadata": {},
   "outputs": [
    {
     "data": {
      "image/png": "[encoded data removed]",
      "text/plain": [
       "<Figure size 432x288 with 1 Axes>"
      ]
     },
     "metadata": {
      "needs_background": "light"
     },
     "output_type": "display_data"
    }
   ],
   "source": [
    "cummulativeA = cummulative[cummulative['group']=='A'][['date', 'avg_check']]\n",
    "cummulativeB = cummulative[cummulative['group']=='B'][['date', 'avg_check']]\n",
    "plt.plot(cummulativeA.iloc[:,0].to_frame(), cummulativeA.iloc[:,1].to_frame(), label='A' )\n",
    "plt.plot(cummulativeB.iloc[:,0].to_frame(), cummulativeB.iloc[:,1].to_frame(), label='B')\n",
    "plt.title('Кумулятивный средний чек по группам')\n",
    "plt.ylabel(\"Выручка\")\n",
    "plt.xticks(rotation=45)\n",
    "plt.legend()\n",
    "plt.show()"
   ]
  },
  {
   "cell_type": "markdown",
   "metadata": {},
   "source": [
    "**Вывод**\n",
    "</br>\n",
    "Та же картина наблюдается и на этом графике. Впрочем у группы А тоже есть рост, хотя, по сранению с группой В, он кажется более равномерным"
   ]
  },
  {
   "cell_type": "markdown",
   "metadata": {},
   "source": [
    "### График относительного изменения кумулятивного среднего чека группы B к группе A"
   ]
  },
  {
   "cell_type": "code",
   "execution_count": 38,
   "metadata": {},
   "outputs": [
    {
     "data": {
      "image/png": "[encoded data removed]",
      "text/plain": [
       "<Figure size 432x288 with 1 Axes>"
      ]
     },
     "metadata": {
      "needs_background": "light"
     },
     "output_type": "display_data"
    }
   ],
   "source": [
    "temp = (cummulativeA[['date','avg_check']].merge(cummulativeB[['date', 'avg_check']], \n",
    "                                            left_on='date', right_on='date', how='left', suffixes=['_A', '_B']))\n",
    "plt.plot(temp['date'], temp['avg_check_B'] / temp['avg_check_A']-1)\n",
    "plt.title('Относительное изменение кумулятивного среднего чека группы B к группе A')\n",
    "plt.axhline(y=0, color='red', linestyle='-')\n",
    "plt.xticks(rotation=45)\n",
    "plt.show()"
   ]
  },
  {
   "cell_type": "markdown",
   "metadata": {},
   "source": [
    "**Вывод**\n",
    "</br>\n",
    "Все три графика подтверждают уже ранее сделанные выводы. В нескольких точках график различия между средним чеком по группам резко возрастает, а значит были либо дорогие заказы, либо выбросы. Будем искать"
   ]
  },
  {
   "cell_type": "markdown",
   "metadata": {},
   "source": [
    "### График кумулятивной конверсии по группам"
   ]
  },
  {
   "cell_type": "code",
   "execution_count": 39,
   "metadata": {},
   "outputs": [
    {
     "data": {
      "image/png": "[encoded data removed]",
      "text/plain": [
       "<Figure size 432x288 with 1 Axes>"
      ]
     },
     "metadata": {
      "needs_background": "light"
     },
     "output_type": "display_data"
    }
   ],
   "source": [
    "cummulativeA = cummulative[cummulative['group']=='A'][['date', 'conversion']]\n",
    "cummulativeB = cummulative[cummulative['group']=='B'][['date', 'conversion']]\n",
    "plt.plot(cummulativeA.iloc[:,0].to_frame(), cummulativeA.iloc[:,1].to_frame(), label='A' )\n",
    "plt.plot(cummulativeB.iloc[:,0].to_frame(), cummulativeB.iloc[:,1].to_frame(), label='B')\n",
    "plt.title('Кумулятивная конверсия по группам')\n",
    "plt.ylabel(\"Выручка\")\n",
    "plt.xticks(rotation=45)\n",
    "plt.legend()\n",
    "plt.show()"
   ]
  },
  {
   "cell_type": "markdown",
   "metadata": {},
   "source": [
    "**Вывод**\n",
    "</br>\n",
    "Группа В показывает конверсию выше, чем группа А. А-конверсия находится в среднем на уровне от 0,029 до 0,031, а В-конверсия на уровне от 0,036 и до 0,033."
   ]
  },
  {
   "cell_type": "markdown",
   "metadata": {},
   "source": [
    "### График относительного изменения кумулятивной конверсии группы B к группе A"
   ]
  },
  {
   "cell_type": "code",
   "execution_count": 40,
   "metadata": {},
   "outputs": [
    {
     "data": {
      "image/png": "[encoded data removed]",
      "text/plain": [
       "<Figure size 432x288 with 1 Axes>"
      ]
     },
     "metadata": {
      "needs_background": "light"
     },
     "output_type": "display_data"
    }
   ],
   "source": [
    "temp = (cummulativeA[['date', 'conversion']].merge(cummulativeB[['date', 'conversion']], \n",
    "                                            left_on='date', right_on='date', how='left', suffixes=['_A', '_B']))\n",
    "plt.plot(temp['date'], temp['conversion_B'] / temp['conversion_A']-1)\n",
    "plt.title('Относительное изменение кумулятивной конверсии группы B к группе A')\n",
    "plt.ylabel('Отношение конверсии группы В к А')\n",
    "plt.axhline(y=0, color='red', linestyle='--')\n",
    "plt.axhline(y=0.1, color='grey', linestyle='--')\n",
    "plt.xticks(rotation=45)\n",
    "plt.show()"
   ]
  },
  {
   "cell_type": "markdown",
   "metadata": {},
   "source": [
    "**Вывод**\n",
    "</br>\n",
    "Несмотря на провал вначале, конверсия В стабильно выше 10%\n"
   ]
  },
  {
   "cell_type": "markdown",
   "metadata": {},
   "source": [
    "### Точечный график количества заказов по пользователям"
   ]
  },
  {
   "cell_type": "code",
   "execution_count": 41,
   "metadata": {},
   "outputs": [
    {
     "data": {
      "image/png": "[encoded data removed]",
      "text/plain": [
       "<Figure size 432x288 with 1 Axes>"
      ]
     },
     "metadata": {
      "needs_background": "light"
     },
     "output_type": "display_data"
    }
   ],
   "source": [
    "orders_user = orders.groupby('visitor_id', as_index=False).agg({'transaction_id':'nunique'})\\\n",
    "                         .rename(columns={'transaction_id':'orders'})\n",
    "x_values = pd.Series(range(0,len(orders_user['orders'])))\n",
    "plt.scatter(x_values, orders_user['orders'], color='navy')\n",
    "plt.show()"
   ]
  },
  {
   "cell_type": "markdown",
   "metadata": {},
   "source": [
    "**Вывод**\n",
    "</br>\n",
    "Как мы видим, подавляющее большинство делает максимум до 3 покупок. В основном все же 1-2 покупки стабильно. Есть либо выбросы, либо некоторые люди делают до 11 покупок в нашем магазине. Проверим по перцентилям"
   ]
  },
  {
   "cell_type": "markdown",
   "metadata": {},
   "source": [
    "### 95-й и 99-й перцентили количества заказов на пользователя"
   ]
  },
  {
   "cell_type": "code",
   "execution_count": 42,
   "metadata": {},
   "outputs": [
    {
     "data": {
      "text/plain": [
       "'90 перцентиль: 1.00'"
      ]
     },
     "metadata": {},
     "output_type": "display_data"
    },
    {
     "data": {
      "text/plain": [
       "'95 перцентиль: 2.00'"
      ]
     },
     "metadata": {},
     "output_type": "display_data"
    },
    {
     "data": {
      "text/plain": [
       "'99 перцентиль: 4.00'"
      ]
     },
     "metadata": {},
     "output_type": "display_data"
    }
   ],
   "source": [
    "display('90 перцентиль: %.2f' % (np.percentile(orders_user['orders'], [90])))\n",
    "display('95 перцентиль: %.2f' % (np.percentile(orders_user['orders'], [95])))\n",
    "display('99 перцентиль: %.2f' % (np.percentile(orders_user['orders'], [99])))"
   ]
  },
  {
   "cell_type": "markdown",
   "metadata": {},
   "source": [
    "**Вывод**\n",
    "</br>\n",
    "В основном все делают 1 заказ. Не более 5% пользователей оформляли 2 заказа. И 10% пользователей оформляли больше 1 заказа. Предлагаю считать более 4 заказов аномальными (99 перцентиль)"
   ]
  },
  {
   "cell_type": "markdown",
   "metadata": {},
   "source": [
    "### Распределения сумм заказов на одного пользователя"
   ]
  },
  {
   "cell_type": "code",
   "execution_count": 43,
   "metadata": {},
   "outputs": [
    {
     "data": {
      "image/png": "[encoded data removed]",
      "text/plain": [
       "<Figure size 720x288 with 1 Axes>"
      ]
     },
     "metadata": {
      "needs_background": "light"
     },
     "output_type": "display_data"
    }
   ],
   "source": [
    "plt.figure(figsize=(10,4))\n",
    "plt.hist(orders['revenue'], range=(0,100000), bins = 100)\n",
    "plt.title('Гистрограмма распределения сумм заказов на одного пользователя')\n",
    "plt.show()\n",
    "x_values = pd.Series(range(0, len(orders)))"
   ]
  },
  {
   "cell_type": "code",
   "execution_count": 44,
   "metadata": {},
   "outputs": [
    {
     "data": {
      "image/png": "[encoded data removed]",
      "text/plain": [
       "<Figure size 720x288 with 1 Axes>"
      ]
     },
     "metadata": {
      "needs_background": "light"
     },
     "output_type": "display_data"
    }
   ],
   "source": [
    "plt.figure(figsize=(10,4))\n",
    "plt.scatter(x_values, orders['revenue'], alpha=.3)\n",
    "plt.title('Точечная диаграмма сумм заказов на одного пользователя')\n",
    "plt.axis([0, 1200, 0, 100000])\n",
    "plt.axhline(y=10000, color='grey', linestyle='--')\n",
    "plt.axhline(y=20000, color='green', linestyle='--')\n",
    "plt.show()"
   ]
  },
  {
   "cell_type": "markdown",
   "metadata": {},
   "source": [
    "**Вывод**\n",
    "</br>\n",
    "БОльшая часть заказов не дороже 10 тысяч, но все же много заказов до 20 тысяч. Более дорогие заказы случаются намного реже."
   ]
  },
  {
   "cell_type": "markdown",
   "metadata": {},
   "source": [
    "### 95-й и 99-й перцентили стоимости заказов"
   ]
  },
  {
   "cell_type": "code",
   "execution_count": 45,
   "metadata": {},
   "outputs": [
    {
     "data": {
      "text/plain": [
       "'90 перцентиль: 18168'"
      ]
     },
     "metadata": {},
     "output_type": "display_data"
    },
    {
     "data": {
      "text/plain": [
       "'95 перцентиль: 28000'"
      ]
     },
     "metadata": {},
     "output_type": "display_data"
    },
    {
     "data": {
      "text/plain": [
       "'99 перцентиль: 58233'"
      ]
     },
     "metadata": {},
     "output_type": "display_data"
    }
   ],
   "source": [
    "display('90 перцентиль: %.0f' % (np.percentile(orders['revenue'], [90])))\n",
    "display('95 перцентиль: %.0f' % (np.percentile(orders['revenue'], [95])))\n",
    "display('99 перцентиль: %.0f' % (np.percentile(orders['revenue'], [99])))"
   ]
  },
  {
   "cell_type": "markdown",
   "metadata": {},
   "source": [
    "Посмотрим, какие самые дорогие заказы случались в магазине"
   ]
  },
  {
   "cell_type": "code",
   "execution_count": 46,
   "metadata": {},
   "outputs": [
    {
     "data": {
      "text/plain": [
       "1294500"
      ]
     },
     "execution_count": 46,
     "metadata": {},
     "output_type": "execute_result"
    }
   ],
   "source": [
    "orders['revenue'].max()"
   ]
  },
  {
   "cell_type": "markdown",
   "metadata": {},
   "source": [
    "**Вывод**\n",
    "</br>\n",
    "Как я и предполагала, бОльшая часть заказов до 20 тысяч. 5% делает заказы до 30 тыся, 1% до 60 тысяч. Соответсвенно, все заказы свыше 60 тысяч редкие. Будем считать их аномальными. Самый дорогой заказ за 1294500 явно аномальный."
   ]
  },
  {
   "cell_type": "markdown",
   "metadata": {},
   "source": [
    "### Статистическая значимость различий в конверсии между группами по «сырым» данным"
   ]
  },
  {
   "cell_type": "code",
   "execution_count": 47,
   "metadata": {},
   "outputs": [
    {
     "data": {
      "text/plain": [
       "'Кол-во покупателей в группе A: 503'"
      ]
     },
     "metadata": {},
     "output_type": "display_data"
    },
    {
     "data": {
      "text/plain": [
       "'Кол-во покупок в группе А: 557'"
      ]
     },
     "metadata": {},
     "output_type": "display_data"
    },
    {
     "data": {
      "text/plain": [
       "'Кол-во посетителей в группе A: 18736'"
      ]
     },
     "metadata": {},
     "output_type": "display_data"
    },
    {
     "data": {
      "text/plain": [
       "'Кол-во покупателей в группе B: 586'"
      ]
     },
     "metadata": {},
     "output_type": "display_data"
    },
    {
     "data": {
      "text/plain": [
       "'Кол-во покупок в группе B: 640'"
      ]
     },
     "metadata": {},
     "output_type": "display_data"
    },
    {
     "data": {
      "text/plain": [
       "'Кол-во посетителей в группе B: 18916'"
      ]
     },
     "metadata": {},
     "output_type": "display_data"
    }
   ],
   "source": [
    "orders_a = orders[orders['group']=='A'].groupby('visitor_id', as_index=False).agg({'transaction_id':'nunique'})\n",
    "orders_a.columns = ['visitorId', 'orders']\n",
    "orders_b = orders[orders['group']=='B'].groupby('visitor_id', as_index=False).agg({'transaction_id':'nunique'})\n",
    "orders_b.columns = ['visitor_id', 'orders']\n",
    "display('Кол-во покупателей в группе A: {}'.format(len(orders_a)))\n",
    "display('Кол-во покупок в группе А: {}'.format(orders_a['orders'].sum()))\n",
    "display('Кол-во посетителей в группе A: {}'.format(visitors[visitors['group']=='A']['visitors'].sum()))\n",
    "display('Кол-во покупателей в группе B: {}'.format(len(orders_b)))\n",
    "display('Кол-во покупок в группе B: {}'.format(orders_b['orders'].sum()))\n",
    "display('Кол-во посетителей в группе B: {}'.format(visitors[visitors['group']=='B']['visitors'].sum()))"
   ]
  },
  {
   "cell_type": "markdown",
   "metadata": {},
   "source": [
    "Разделим пользователей по группам и проверим гипотезы:\n",
    "<br/> H0: По неочищенным данным в конверсии групп A и B нет статистически значимых различий\n",
    "<br/> H1: По неочищенным данным в конверсии групп A и B есть статистически значимые различия"
   ]
  },
  {
   "cell_type": "code",
   "execution_count": 48,
   "metadata": {},
   "outputs": [
    {
     "name": "stdout",
     "output_type": "stream",
     "text": [
      "Относительный прирост конверсии группы B по отношению к группе A: 0.138\n",
      "P-value: 0.016792355056752608\n",
      "Отвергаем нулевую гипотезу\n"
     ]
    }
   ],
   "source": [
    "list_1 =[]\n",
    "for i in range(0,(visitors[visitors['group']=='A']['visitors'].sum()-len(orders_a))):\n",
    "    list_1.append(0)\n",
    "orders_by_non_purchased_users_A = pd.Series(data = list_1, name = 'orders')\n",
    "\n",
    "list_2 =[]\n",
    "for i in range(0,(visitors[visitors['group']=='B']['visitors'].sum()-len(orders_b))):\n",
    "    list_2.append(0)\n",
    "orders_by_non_purchased_users_B = pd.Series(data = list_2, name = 'orders')\n",
    "\n",
    "sampleA = pd.concat([orders_a['orders'], orders_by_non_purchased_users_A], axis=0)\n",
    "sampleB = pd.concat([orders_b['orders'], orders_by_non_purchased_users_B], axis=0)\n",
    "print('Относительный прирост конверсии группы B по отношению к группе A: {:.3f}'.format(sampleB.mean()/sampleA.mean()-1))\n",
    "alpha = 0.05\n",
    "results = st.mannwhitneyu(sampleA, sampleB)\n",
    "print('P-value: {}'.format(results.pvalue))\n",
    "if results.pvalue < alpha:\n",
    "    print('Отвергаем нулевую гипотезу')\n",
    "else:\n",
    "    print('Не получилось отвергнуть нулевую гипотезу')"
   ]
  },
  {
   "cell_type": "markdown",
   "metadata": {},
   "source": [
    "**Вывод**\n",
    "<br/>\n",
    "По неочищенным данным в конверсии групп A и B разница статистически значима"
   ]
  },
  {
   "cell_type": "code",
   "execution_count": 49,
   "metadata": {
    "scrolled": false
   },
   "outputs": [
    {
     "data": {
      "text/html": [
       "<div>\n",
       "<style scoped>\n",
       "    .dataframe tbody tr th:only-of-type {\n",
       "        vertical-align: middle;\n",
       "    }\n",
       "\n",
       "    .dataframe tbody tr th {\n",
       "        vertical-align: top;\n",
       "    }\n",
       "\n",
       "    .dataframe thead th {\n",
       "        text-align: right;\n",
       "    }\n",
       "</style>\n",
       "<table border=\"1\" class=\"dataframe\">\n",
       "  <thead>\n",
       "    <tr style=\"text-align: right;\">\n",
       "      <th></th>\n",
       "      <th>group</th>\n",
       "      <th>orders</th>\n",
       "      <th>visitors</th>\n",
       "      <th>conversion</th>\n",
       "    </tr>\n",
       "  </thead>\n",
       "  <tbody>\n",
       "    <tr>\n",
       "      <th>0</th>\n",
       "      <td>A</td>\n",
       "      <td>557</td>\n",
       "      <td>18736</td>\n",
       "      <td>0.030</td>\n",
       "    </tr>\n",
       "    <tr>\n",
       "      <th>1</th>\n",
       "      <td>B</td>\n",
       "      <td>640</td>\n",
       "      <td>18916</td>\n",
       "      <td>0.034</td>\n",
       "    </tr>\n",
       "  </tbody>\n",
       "</table>\n",
       "</div>"
      ],
      "text/plain": [
       "  group  orders  visitors  conversion\n",
       "0     A     557     18736       0.030\n",
       "1     B     640     18916       0.034"
      ]
     },
     "metadata": {},
     "output_type": "display_data"
    }
   ],
   "source": [
    "conversion = (orders.groupby('group').agg({'transaction_id':'count'}).rename(columns={'transaction_id':'orders'}))\\\n",
    "                                     .join((visitors.groupby('group').agg({'visitors':'sum'}))).reset_index()\n",
    "conversion['conversion'] = conversion['orders'] / conversion['visitors']\n",
    "display(conversion)"
   ]
  },
  {
   "cell_type": "markdown",
   "metadata": {},
   "source": [
    "### Статистическая значимость различий в среднем чеке заказа между группами по «сырым» данным"
   ]
  },
  {
   "cell_type": "markdown",
   "metadata": {},
   "source": [
    "Воспользуемся критерием Манна-Уитни<br/> \n",
    "</br> H0: Средний чек A не превоскходит средний чек группы B<br/>\n",
    "</br> H1: Средний чек A превосходит средний чек группы B"
   ]
  },
  {
   "cell_type": "code",
   "execution_count": 50,
   "metadata": {},
   "outputs": [
    {
     "name": "stdout",
     "output_type": "stream",
     "text": [
      "p-значение:  0.7292909855432458\n",
      "Не получилось отвергнуть первую гипотезу\n"
     ]
    }
   ],
   "source": [
    "alpha = 0.05\n",
    "results = st.mannwhitneyu(orders[orders['group']=='A']['revenue'], orders[orders['group']=='B']['revenue'])\n",
    "pvalue = results.pvalue\n",
    "print('p-значение: ', pvalue)\n",
    "if (pvalue < alpha):\n",
    "    print(\"Отвергаем первую гипотезу\")\n",
    "else:\n",
    "    print(\"Не получилось отвергнуть первую гипотезу\")"
   ]
  },
  {
   "cell_type": "code",
   "execution_count": 51,
   "metadata": {},
   "outputs": [
    {
     "data": {
      "text/plain": [
       "7333.578096947936"
      ]
     },
     "execution_count": 51,
     "metadata": {},
     "output_type": "execute_result"
    }
   ],
   "source": [
    "check_a = orders[orders['group']=='A']['revenue'].mean()\n",
    "check_a"
   ]
  },
  {
   "cell_type": "code",
   "execution_count": 52,
   "metadata": {},
   "outputs": [
    {
     "data": {
      "text/plain": [
       "9230.875"
      ]
     },
     "execution_count": 52,
     "metadata": {},
     "output_type": "execute_result"
    }
   ],
   "source": [
    "check_b = orders[orders['group']=='B']['revenue'].mean()\n",
    "check_b"
   ]
  },
  {
   "cell_type": "markdown",
   "metadata": {},
   "source": [
    "Относительная разница чеков:"
   ]
  },
  {
   "cell_type": "code",
   "execution_count": 53,
   "metadata": {},
   "outputs": [
    {
     "data": {
      "text/plain": [
       "'Относительная разница в чеках: 1.26'"
      ]
     },
     "metadata": {},
     "output_type": "display_data"
    }
   ],
   "source": [
    "display('Относительная разница в чеках: %.2f' % (check_b/check_a), )"
   ]
  },
  {
   "cell_type": "markdown",
   "metadata": {},
   "source": [
    "**Вывод**\n",
    "</br>\n",
    "Как видим, средний чек группы В превосходит средний чек группы, разница 1.26"
   ]
  },
  {
   "cell_type": "markdown",
   "metadata": {},
   "source": [
    "### Статистическая значимость различий в среднем чеке заказа между группами по «очищенным» данным"
   ]
  },
  {
   "cell_type": "markdown",
   "metadata": {},
   "source": [
    "Обозначим границы. Я предполагаю,что все, что выше 4 заказов и 58 тысяч являются аномальными, соответсвенно, эти данные возьмем за отправные точки"
   ]
  },
  {
   "cell_type": "code",
   "execution_count": 54,
   "metadata": {},
   "outputs": [
    {
     "data": {
      "text/plain": [
       "58233.19999999999"
      ]
     },
     "execution_count": 54,
     "metadata": {},
     "output_type": "execute_result"
    }
   ],
   "source": [
    "#код ревьюера\n",
    "(np.percentile(orders['revenue'], [99]))[0]"
   ]
  },
  {
   "cell_type": "code",
   "execution_count": 55,
   "metadata": {},
   "outputs": [
    {
     "data": {
      "text/plain": [
       "4.0"
      ]
     },
     "execution_count": 55,
     "metadata": {},
     "output_type": "execute_result"
    }
   ],
   "source": [
    "#код ревьюера\n",
    "np.percentile(orders_user['orders'], [99])[0]"
   ]
  },
  {
   "cell_type": "code",
   "execution_count": 56,
   "metadata": {},
   "outputs": [],
   "source": [
    "#код ревьюера\n",
    "limit_orders = np.percentile(orders_user['orders'], [99])[0]  #4\n",
    "limit_revenue = (np.percentile(orders['revenue'], [99]))[0]     #58233"
   ]
  },
  {
   "cell_type": "code",
   "execution_count": 57,
   "metadata": {
    "scrolled": true
   },
   "outputs": [],
   "source": [
    "orders_a = (\n",
    "    orders[orders['group'] == 'A']\n",
    "    .groupby('visitor_id', as_index=False)\n",
    "    .agg({'transaction_id': pd.Series.nunique})\n",
    ")\n",
    "orders_a.columns = ['visitor_id', 'orders']\n",
    "\n",
    "orders_b = (\n",
    "    orders[orders['group'] == 'B']\n",
    "    .groupby('visitor_id', as_index=False)\n",
    "    .agg({'transaction_id': pd.Series.nunique})\n",
    ")\n",
    "orders_b.columns = ['visitor_id', 'orders']\n"
   ]
  },
  {
   "cell_type": "code",
   "execution_count": 58,
   "metadata": {
    "scrolled": true
   },
   "outputs": [
    {
     "data": {
      "text/plain": [
       "'Кол-во аномальных пользователей: 5'"
      ]
     },
     "metadata": {},
     "output_type": "display_data"
    }
   ],
   "source": [
    "orders_a[orders_a['orders'] > limit_orders]['visitor_id']\n",
    "\n",
    "users_with_many_orders = pd.concat(\n",
    "    [\n",
    "        orders_a[orders_a['orders'] > limit_orders]['visitor_id'],\n",
    "        orders_b[orders_b['orders'] > limit_orders]['visitor_id'],\n",
    "    ],\n",
    "    axis=0,\n",
    ")\n",
    "display('Кол-во аномальных пользователей: {}'.format(len(users_with_many_orders)))"
   ]
  },
  {
   "cell_type": "code",
   "execution_count": 59,
   "metadata": {
    "scrolled": true
   },
   "outputs": [
    {
     "data": {
      "text/plain": [
       "'Кол-во аномальных пользователей: 15'"
      ]
     },
     "metadata": {},
     "output_type": "display_data"
    }
   ],
   "source": [
    "users_exp_orders = orders[orders['revenue'] > limit_revenue]['visitor_id']\n",
    "abnormal_users = (\n",
    "    pd.concat([users_with_many_orders, users_exp_orders], axis=0)\n",
    "    .drop_duplicates()\n",
    "    .sort_values()\n",
    ")\n",
    "display('Кол-во аномальных пользователей: {}'.format(len(abnormal_users)))"
   ]
  },
  {
   "cell_type": "markdown",
   "metadata": {},
   "source": [
    "**Вывод**<br/>\n",
    "</br>\n",
    "Количество аномальных пользователей с большим количеством заказов - 5, а с самыми дорогими заказами 15."
   ]
  },
  {
   "cell_type": "markdown",
   "metadata": {},
   "source": [
    "Воспользуемся критерием Манна-Уитни\n",
    "<br/>\n",
    "H0: По очищенным данным в конверсии групп A и B нет статистически значимых различий\n",
    "<br/>\n",
    "H1:По очищенным данным есть различия в конверсии групп A и B"
   ]
  },
  {
   "cell_type": "code",
   "execution_count": 60,
   "metadata": {},
   "outputs": [
    {
     "name": "stdout",
     "output_type": "stream",
     "text": [
      "относительный прирост конверсии группы B по отношению к группе A после очистки данных: -0.005\n",
      "P-value: 0.9404328972003564\n",
      "Не получилось отвергнуть нулевую гипотезу\n"
     ]
    }
   ],
   "source": [
    "a_filtered = pd.concat([\n",
    "    orders_a[np.logical_not(orders_a['visitor_id'].isin(abnormal_users))]['orders']], axis = 0)\n",
    "b_filtered = pd.concat([\n",
    "    orders_b[np.logical_not(orders_b['visitor_id'].isin(abnormal_users))]['orders']], axis = 0)\n",
    "print('относительный прирост конверсии группы B по отношению к группе A после очистки данных: {:.3f}'.format(b_filtered.mean()/a_filtered.mean()-1))\n",
    "results = st.mannwhitneyu(a_filtered, b_filtered)\n",
    "print('P-value: {}'.format(results.pvalue))\n",
    "if results.pvalue < alpha:\n",
    "    print('Отвергаем нулевую гипотезу')\n",
    "else:\n",
    "    print('Не получилось отвергнуть нулевую гипотезу')"
   ]
  },
  {
   "cell_type": "markdown",
   "metadata": {},
   "source": [
    "# Принятие решения"
   ]
  },
  {
   "cell_type": "markdown",
   "metadata": {},
   "source": [
    "Выборка данных имеет корректный размер. Данные получены и полагаю,что тест можно остановить.\n",
    "Кумулятивные метрики по выручке, среднему чеку и конверсии почти все время были лучше у группы В. \n",
    "До очистки данных от аномальных пользователей была разница между группами А и В, но после очистки она стала минимальна. В целом считаю тест успешно проведенным. До и после очистки данных все равно лучше результаты показывает группа В. \n",
    "Соответственно предлагаю зафиксировать победу группы В"
   ]
  },
  {
   "cell_type": "markdown",
   "metadata": {},
   "source": [
    "# Вывод <a id='section_id_4'></a>"
   ]
  },
  {
   "cell_type": "markdown",
   "metadata": {},
   "source": [
    "Мной была проведена предобработка данных, изменены типы данных. Данные прошли проверку на наличие явных дубликатов и пропуски.\n",
    "Во второй части работы была проведена приоритизация гипотез. Я сделала вывод, что выбор гипотез будет зависеть от того, какой конечный результат мы преследуем. Либо нам нужно, чтобы изменение затронуло большее количество наших пользователей, то надо опираться на перспективные гипотезы RICE. Если мы больше заинтересованы в удовлетворенности пользователей от изменений, то опираемся на результаты фреймворка ICE.\n",
    "В третьей части был проведен тест А/В. \n",
    "Во многих аспектах у нас лидировала группа В. Несмотря на резкие \"взлеты\", которые, как оказалось, были аномальными. \n",
    "После удаления аномальных значений, различия между группами по конверсии незначительным.\n",
    "По графику различия конверсии можно увидеть, что группа В выигрывает у группы А значительно, несмотря на то, что под конец значение конверсии стало ниже.\n",
    "Вывод по тесту: группа В выигрывает. Тест можно приостановить и признать его успешным."
   ]
  }
 ],
 "metadata": {
  "ExecuteTimeLog": [
   {
    "duration": 10,
    "start_time": "2022-06-02T08:00:59.087Z"
   },
   {
    "duration": 1657,
    "start_time": "2022-06-02T08:05:15.178Z"
   },
   {
    "duration": 60,
    "start_time": "2022-06-02T08:06:59.949Z"
   },
   {
    "duration": 41,
    "start_time": "2022-06-02T08:07:23.400Z"
   },
   {
    "duration": 148,
    "start_time": "2022-06-02T08:08:15.546Z"
   },
   {
    "duration": 11,
    "start_time": "2022-06-02T08:09:42.707Z"
   },
   {
    "duration": 10,
    "start_time": "2022-06-02T08:10:09.758Z"
   },
   {
    "duration": 8,
    "start_time": "2022-06-02T08:11:42.857Z"
   },
   {
    "duration": 10,
    "start_time": "2022-06-02T08:11:45.742Z"
   },
   {
    "duration": 7,
    "start_time": "2022-06-02T08:11:49.180Z"
   },
   {
    "duration": 9,
    "start_time": "2022-06-02T08:11:51.508Z"
   },
   {
    "duration": 2,
    "start_time": "2022-06-02T08:27:55.081Z"
   },
   {
    "duration": 2,
    "start_time": "2022-06-02T08:28:00.472Z"
   },
   {
    "duration": 2,
    "start_time": "2022-06-02T08:28:09.567Z"
   },
   {
    "duration": 2,
    "start_time": "2022-06-02T08:28:14.103Z"
   },
   {
    "duration": 3,
    "start_time": "2022-06-02T08:28:18.275Z"
   },
   {
    "duration": 3,
    "start_time": "2022-06-02T08:28:53.579Z"
   },
   {
    "duration": 6,
    "start_time": "2022-06-02T08:30:13.652Z"
   },
   {
    "duration": 5,
    "start_time": "2022-06-02T08:30:27.539Z"
   },
   {
    "duration": 6,
    "start_time": "2022-06-02T08:30:35.426Z"
   },
   {
    "duration": 2,
    "start_time": "2022-06-02T08:31:08.962Z"
   },
   {
    "duration": 2,
    "start_time": "2022-06-02T08:31:11.229Z"
   },
   {
    "duration": 2,
    "start_time": "2022-06-02T08:31:13.004Z"
   },
   {
    "duration": 11,
    "start_time": "2022-06-02T08:32:14.375Z"
   },
   {
    "duration": 7,
    "start_time": "2022-06-02T08:45:27.262Z"
   },
   {
    "duration": 11,
    "start_time": "2022-06-02T08:45:40.159Z"
   },
   {
    "duration": 6,
    "start_time": "2022-06-02T08:46:14.086Z"
   },
   {
    "duration": 3,
    "start_time": "2022-06-02T08:53:11.741Z"
   },
   {
    "duration": 3,
    "start_time": "2022-06-02T08:54:13.152Z"
   },
   {
    "duration": 7,
    "start_time": "2022-06-02T08:54:42.106Z"
   },
   {
    "duration": 8,
    "start_time": "2022-06-02T08:54:56.039Z"
   },
   {
    "duration": 7,
    "start_time": "2022-06-02T08:55:02.471Z"
   },
   {
    "duration": 8,
    "start_time": "2022-06-02T08:55:08.530Z"
   },
   {
    "duration": 4,
    "start_time": "2022-06-02T08:58:51.747Z"
   },
   {
    "duration": 8,
    "start_time": "2022-06-02T08:58:53.614Z"
   },
   {
    "duration": 4,
    "start_time": "2022-06-02T08:59:23.071Z"
   },
   {
    "duration": 9,
    "start_time": "2022-06-02T08:59:25.508Z"
   },
   {
    "duration": 7,
    "start_time": "2022-06-02T09:00:05.467Z"
   },
   {
    "duration": 4,
    "start_time": "2022-06-02T09:00:13.600Z"
   },
   {
    "duration": 8,
    "start_time": "2022-06-02T09:00:27.918Z"
   },
   {
    "duration": 7,
    "start_time": "2022-06-02T09:01:59.533Z"
   },
   {
    "duration": 8,
    "start_time": "2022-06-02T09:02:03.463Z"
   },
   {
    "duration": 8,
    "start_time": "2022-06-02T09:02:07.715Z"
   },
   {
    "duration": 1077,
    "start_time": "2022-06-02T09:02:29.060Z"
   },
   {
    "duration": 72,
    "start_time": "2022-06-02T09:02:30.139Z"
   },
   {
    "duration": 3,
    "start_time": "2022-06-02T09:02:30.213Z"
   },
   {
    "duration": 22,
    "start_time": "2022-06-02T09:02:30.218Z"
   },
   {
    "duration": 14,
    "start_time": "2022-06-02T09:02:30.242Z"
   },
   {
    "duration": 8,
    "start_time": "2022-06-02T09:02:30.258Z"
   },
   {
    "duration": 8,
    "start_time": "2022-06-02T09:02:30.268Z"
   },
   {
    "duration": 11,
    "start_time": "2022-06-02T09:02:30.278Z"
   },
   {
    "duration": 28,
    "start_time": "2022-06-02T09:02:30.291Z"
   },
   {
    "duration": 6,
    "start_time": "2022-06-02T09:02:30.322Z"
   },
   {
    "duration": 13,
    "start_time": "2022-06-02T09:02:30.330Z"
   },
   {
    "duration": 30,
    "start_time": "2022-06-02T09:02:30.345Z"
   },
   {
    "duration": 27,
    "start_time": "2022-06-02T09:02:30.377Z"
   },
   {
    "duration": 18,
    "start_time": "2022-06-02T09:02:30.406Z"
   },
   {
    "duration": 22,
    "start_time": "2022-06-02T09:02:30.426Z"
   },
   {
    "duration": 28,
    "start_time": "2022-06-02T09:02:30.450Z"
   },
   {
    "duration": 855,
    "start_time": "2022-06-02T09:10:39.103Z"
   },
   {
    "duration": 475,
    "start_time": "2022-06-02T09:10:55.125Z"
   },
   {
    "duration": 10,
    "start_time": "2022-06-02T09:11:16.114Z"
   },
   {
    "duration": 13,
    "start_time": "2022-06-02T09:11:38.829Z"
   },
   {
    "duration": 351,
    "start_time": "2022-06-02T09:11:53.746Z"
   },
   {
    "duration": 285,
    "start_time": "2022-06-02T09:12:14.245Z"
   },
   {
    "duration": 252,
    "start_time": "2022-06-02T09:12:21.439Z"
   },
   {
    "duration": 256,
    "start_time": "2022-06-02T09:15:22.327Z"
   },
   {
    "duration": 252,
    "start_time": "2022-06-02T09:16:00.001Z"
   },
   {
    "duration": 245,
    "start_time": "2022-06-02T09:16:15.369Z"
   },
   {
    "duration": 5,
    "start_time": "2022-06-02T09:17:59.142Z"
   },
   {
    "duration": 5,
    "start_time": "2022-06-02T09:18:04.488Z"
   },
   {
    "duration": 11,
    "start_time": "2022-06-02T09:18:24.280Z"
   },
   {
    "duration": 236,
    "start_time": "2022-06-02T09:19:10.073Z"
   },
   {
    "duration": 1117,
    "start_time": "2022-06-02T09:19:22.627Z"
   },
   {
    "duration": 73,
    "start_time": "2022-06-02T09:19:23.745Z"
   },
   {
    "duration": 2,
    "start_time": "2022-06-02T09:19:23.820Z"
   },
   {
    "duration": 5,
    "start_time": "2022-06-02T09:19:23.824Z"
   },
   {
    "duration": 11,
    "start_time": "2022-06-02T09:19:23.831Z"
   },
   {
    "duration": 8,
    "start_time": "2022-06-02T09:19:23.844Z"
   },
   {
    "duration": 12,
    "start_time": "2022-06-02T09:19:23.853Z"
   },
   {
    "duration": 11,
    "start_time": "2022-06-02T09:19:23.867Z"
   },
   {
    "duration": 12,
    "start_time": "2022-06-02T09:19:23.879Z"
   },
   {
    "duration": 4,
    "start_time": "2022-06-02T09:19:23.893Z"
   },
   {
    "duration": 11,
    "start_time": "2022-06-02T09:19:23.898Z"
   },
   {
    "duration": 27,
    "start_time": "2022-06-02T09:19:23.910Z"
   },
   {
    "duration": 12,
    "start_time": "2022-06-02T09:19:23.938Z"
   },
   {
    "duration": 20,
    "start_time": "2022-06-02T09:19:23.951Z"
   },
   {
    "duration": 42,
    "start_time": "2022-06-02T09:19:23.972Z"
   },
   {
    "duration": 19,
    "start_time": "2022-06-02T09:19:24.015Z"
   },
   {
    "duration": 18,
    "start_time": "2022-06-02T09:19:24.036Z"
   },
   {
    "duration": 325,
    "start_time": "2022-06-02T09:19:24.056Z"
   },
   {
    "duration": 4,
    "start_time": "2022-06-02T09:19:24.383Z"
   },
   {
    "duration": 14,
    "start_time": "2022-06-02T09:19:24.388Z"
   },
   {
    "duration": 249,
    "start_time": "2022-06-02T09:19:24.404Z"
   },
   {
    "duration": 53,
    "start_time": "2022-06-04T08:16:50.934Z"
   },
   {
    "duration": 1337,
    "start_time": "2022-06-04T08:17:00.012Z"
   },
   {
    "duration": 268,
    "start_time": "2022-06-04T08:17:01.352Z"
   },
   {
    "duration": 3,
    "start_time": "2022-06-04T08:17:01.622Z"
   },
   {
    "duration": 19,
    "start_time": "2022-06-04T08:17:01.626Z"
   },
   {
    "duration": 8,
    "start_time": "2022-06-04T08:17:01.647Z"
   },
   {
    "duration": 12,
    "start_time": "2022-06-04T08:17:01.656Z"
   },
   {
    "duration": 17,
    "start_time": "2022-06-04T08:17:01.670Z"
   },
   {
    "duration": 16,
    "start_time": "2022-06-04T08:17:01.688Z"
   },
   {
    "duration": 16,
    "start_time": "2022-06-04T08:17:01.705Z"
   },
   {
    "duration": 12,
    "start_time": "2022-06-04T08:17:01.723Z"
   },
   {
    "duration": 10,
    "start_time": "2022-06-04T08:17:01.736Z"
   },
   {
    "duration": 23,
    "start_time": "2022-06-04T08:17:01.747Z"
   },
   {
    "duration": 12,
    "start_time": "2022-06-04T08:17:01.772Z"
   },
   {
    "duration": 13,
    "start_time": "2022-06-04T08:17:01.787Z"
   },
   {
    "duration": 23,
    "start_time": "2022-06-04T08:17:01.802Z"
   },
   {
    "duration": 144,
    "start_time": "2022-06-04T08:17:01.827Z"
   },
   {
    "duration": 0,
    "start_time": "2022-06-04T08:17:01.972Z"
   },
   {
    "duration": 0,
    "start_time": "2022-06-04T08:17:01.974Z"
   },
   {
    "duration": 0,
    "start_time": "2022-06-04T08:17:01.975Z"
   },
   {
    "duration": 0,
    "start_time": "2022-06-04T08:17:01.977Z"
   },
   {
    "duration": 0,
    "start_time": "2022-06-04T08:17:01.978Z"
   },
   {
    "duration": 4,
    "start_time": "2022-06-04T08:17:22.847Z"
   },
   {
    "duration": 1057,
    "start_time": "2022-06-04T08:17:28.003Z"
   },
   {
    "duration": 77,
    "start_time": "2022-06-04T08:17:29.062Z"
   },
   {
    "duration": 2,
    "start_time": "2022-06-04T08:17:29.141Z"
   },
   {
    "duration": 5,
    "start_time": "2022-06-04T08:17:29.145Z"
   },
   {
    "duration": 9,
    "start_time": "2022-06-04T08:17:29.151Z"
   },
   {
    "duration": 5,
    "start_time": "2022-06-04T08:17:29.162Z"
   },
   {
    "duration": 6,
    "start_time": "2022-06-04T08:17:29.168Z"
   },
   {
    "duration": 9,
    "start_time": "2022-06-04T08:17:29.175Z"
   },
   {
    "duration": 10,
    "start_time": "2022-06-04T08:17:29.186Z"
   },
   {
    "duration": 6,
    "start_time": "2022-06-04T08:17:29.198Z"
   },
   {
    "duration": 10,
    "start_time": "2022-06-04T08:17:29.206Z"
   },
   {
    "duration": 17,
    "start_time": "2022-06-04T08:17:29.217Z"
   },
   {
    "duration": 6,
    "start_time": "2022-06-04T08:17:29.236Z"
   },
   {
    "duration": 9,
    "start_time": "2022-06-04T08:17:29.244Z"
   },
   {
    "duration": 9,
    "start_time": "2022-06-04T08:17:29.255Z"
   },
   {
    "duration": 15,
    "start_time": "2022-06-04T08:17:29.265Z"
   },
   {
    "duration": 13,
    "start_time": "2022-06-04T08:17:29.281Z"
   },
   {
    "duration": 338,
    "start_time": "2022-06-04T08:17:29.296Z"
   },
   {
    "duration": 4,
    "start_time": "2022-06-04T08:17:29.636Z"
   },
   {
    "duration": 11,
    "start_time": "2022-06-04T08:17:29.651Z"
   },
   {
    "duration": 256,
    "start_time": "2022-06-04T08:17:29.663Z"
   },
   {
    "duration": 4,
    "start_time": "2022-06-04T08:22:06.917Z"
   },
   {
    "duration": 570,
    "start_time": "2022-06-04T08:22:27.360Z"
   },
   {
    "duration": 464,
    "start_time": "2022-06-04T08:22:35.113Z"
   },
   {
    "duration": 390,
    "start_time": "2022-06-04T08:22:49.598Z"
   },
   {
    "duration": 13,
    "start_time": "2022-06-04T08:23:10.860Z"
   },
   {
    "duration": 10,
    "start_time": "2022-06-04T08:23:33.417Z"
   },
   {
    "duration": 1167,
    "start_time": "2022-06-04T08:23:55.845Z"
   },
   {
    "duration": 77,
    "start_time": "2022-06-04T08:23:57.014Z"
   },
   {
    "duration": 3,
    "start_time": "2022-06-04T08:23:57.093Z"
   },
   {
    "duration": 8,
    "start_time": "2022-06-04T08:23:57.097Z"
   },
   {
    "duration": 8,
    "start_time": "2022-06-04T08:23:57.107Z"
   },
   {
    "duration": 7,
    "start_time": "2022-06-04T08:23:57.116Z"
   },
   {
    "duration": 6,
    "start_time": "2022-06-04T08:23:57.125Z"
   },
   {
    "duration": 6,
    "start_time": "2022-06-04T08:23:57.133Z"
   },
   {
    "duration": 6,
    "start_time": "2022-06-04T08:23:57.140Z"
   },
   {
    "duration": 7,
    "start_time": "2022-06-04T08:23:57.147Z"
   },
   {
    "duration": 5,
    "start_time": "2022-06-04T08:23:57.156Z"
   },
   {
    "duration": 17,
    "start_time": "2022-06-04T08:23:57.163Z"
   },
   {
    "duration": 12,
    "start_time": "2022-06-04T08:23:57.181Z"
   },
   {
    "duration": 8,
    "start_time": "2022-06-04T08:23:57.195Z"
   },
   {
    "duration": 9,
    "start_time": "2022-06-04T08:23:57.205Z"
   },
   {
    "duration": 9,
    "start_time": "2022-06-04T08:23:57.215Z"
   },
   {
    "duration": 14,
    "start_time": "2022-06-04T08:23:57.225Z"
   },
   {
    "duration": 349,
    "start_time": "2022-06-04T08:23:57.240Z"
   },
   {
    "duration": 5,
    "start_time": "2022-06-04T08:23:57.590Z"
   },
   {
    "duration": 17,
    "start_time": "2022-06-04T08:23:57.596Z"
   },
   {
    "duration": 255,
    "start_time": "2022-06-04T08:23:57.614Z"
   },
   {
    "duration": 1126,
    "start_time": "2022-06-04T08:36:04.661Z"
   },
   {
    "duration": 78,
    "start_time": "2022-06-04T08:36:05.790Z"
   },
   {
    "duration": 3,
    "start_time": "2022-06-04T08:36:05.869Z"
   },
   {
    "duration": 13,
    "start_time": "2022-06-04T08:36:05.874Z"
   },
   {
    "duration": 12,
    "start_time": "2022-06-04T08:36:05.889Z"
   },
   {
    "duration": 7,
    "start_time": "2022-06-04T08:36:05.903Z"
   },
   {
    "duration": 13,
    "start_time": "2022-06-04T08:36:05.911Z"
   },
   {
    "duration": 6,
    "start_time": "2022-06-04T08:36:05.925Z"
   },
   {
    "duration": 22,
    "start_time": "2022-06-04T08:36:05.932Z"
   },
   {
    "duration": 15,
    "start_time": "2022-06-04T08:36:05.956Z"
   },
   {
    "duration": 5,
    "start_time": "2022-06-04T08:36:05.973Z"
   },
   {
    "duration": 18,
    "start_time": "2022-06-04T08:36:05.979Z"
   },
   {
    "duration": 13,
    "start_time": "2022-06-04T08:36:05.998Z"
   },
   {
    "duration": 10,
    "start_time": "2022-06-04T08:36:06.013Z"
   },
   {
    "duration": 11,
    "start_time": "2022-06-04T08:36:06.025Z"
   },
   {
    "duration": 12,
    "start_time": "2022-06-04T08:36:06.037Z"
   },
   {
    "duration": 16,
    "start_time": "2022-06-04T08:36:06.051Z"
   },
   {
    "duration": 350,
    "start_time": "2022-06-04T08:36:06.068Z"
   },
   {
    "duration": 4,
    "start_time": "2022-06-04T08:36:06.419Z"
   },
   {
    "duration": 15,
    "start_time": "2022-06-04T08:36:06.425Z"
   },
   {
    "duration": 277,
    "start_time": "2022-06-04T08:36:06.441Z"
   },
   {
    "duration": 107,
    "start_time": "2022-06-04T08:45:44.756Z"
   },
   {
    "duration": 14,
    "start_time": "2022-06-04T08:45:59.811Z"
   },
   {
    "duration": 22,
    "start_time": "2022-06-04T08:46:08.200Z"
   },
   {
    "duration": 10,
    "start_time": "2022-06-04T08:46:19.942Z"
   },
   {
    "duration": 16,
    "start_time": "2022-06-04T08:46:34.487Z"
   },
   {
    "duration": 12,
    "start_time": "2022-06-04T08:46:37.838Z"
   },
   {
    "duration": 4,
    "start_time": "2022-06-04T08:46:42.417Z"
   },
   {
    "duration": 11,
    "start_time": "2022-06-04T08:47:05.635Z"
   },
   {
    "duration": 10,
    "start_time": "2022-06-04T08:47:44.107Z"
   },
   {
    "duration": 9,
    "start_time": "2022-06-04T08:48:13.199Z"
   },
   {
    "duration": 8,
    "start_time": "2022-06-04T08:48:18.957Z"
   },
   {
    "duration": 21,
    "start_time": "2022-06-04T08:48:31.732Z"
   },
   {
    "duration": 406,
    "start_time": "2022-06-04T08:50:38.604Z"
   },
   {
    "duration": 13,
    "start_time": "2022-06-04T08:51:12.791Z"
   },
   {
    "duration": 6,
    "start_time": "2022-06-04T08:52:28.464Z"
   },
   {
    "duration": 10,
    "start_time": "2022-06-04T08:52:31.417Z"
   },
   {
    "duration": 12,
    "start_time": "2022-06-04T08:53:01.123Z"
   },
   {
    "duration": 13,
    "start_time": "2022-06-04T08:53:54.646Z"
   },
   {
    "duration": 11,
    "start_time": "2022-06-04T08:54:07.952Z"
   },
   {
    "duration": 23,
    "start_time": "2022-06-04T08:54:20.895Z"
   },
   {
    "duration": 13,
    "start_time": "2022-06-04T08:54:27.615Z"
   },
   {
    "duration": 70,
    "start_time": "2022-06-04T09:01:33.041Z"
   },
   {
    "duration": 7,
    "start_time": "2022-06-04T09:02:15.644Z"
   },
   {
    "duration": 1074,
    "start_time": "2022-06-04T09:03:05.405Z"
   },
   {
    "duration": 85,
    "start_time": "2022-06-04T09:03:06.481Z"
   },
   {
    "duration": 3,
    "start_time": "2022-06-04T09:03:06.567Z"
   },
   {
    "duration": 7,
    "start_time": "2022-06-04T09:03:06.571Z"
   },
   {
    "duration": 3,
    "start_time": "2022-06-04T09:03:06.581Z"
   },
   {
    "duration": 5,
    "start_time": "2022-06-04T09:03:06.585Z"
   },
   {
    "duration": 12,
    "start_time": "2022-06-04T09:03:06.592Z"
   },
   {
    "duration": 3,
    "start_time": "2022-06-04T09:03:06.605Z"
   },
   {
    "duration": 7,
    "start_time": "2022-06-04T09:03:06.609Z"
   },
   {
    "duration": 9,
    "start_time": "2022-06-04T09:03:06.617Z"
   },
   {
    "duration": 5,
    "start_time": "2022-06-04T09:03:06.627Z"
   },
   {
    "duration": 29,
    "start_time": "2022-06-04T09:03:06.633Z"
   },
   {
    "duration": 5,
    "start_time": "2022-06-04T09:03:06.666Z"
   },
   {
    "duration": 9,
    "start_time": "2022-06-04T09:03:06.674Z"
   },
   {
    "duration": 8,
    "start_time": "2022-06-04T09:03:06.684Z"
   },
   {
    "duration": 17,
    "start_time": "2022-06-04T09:03:06.693Z"
   },
   {
    "duration": 19,
    "start_time": "2022-06-04T09:03:06.712Z"
   },
   {
    "duration": 360,
    "start_time": "2022-06-04T09:03:06.733Z"
   },
   {
    "duration": 5,
    "start_time": "2022-06-04T09:03:07.094Z"
   },
   {
    "duration": 14,
    "start_time": "2022-06-04T09:03:07.100Z"
   },
   {
    "duration": 272,
    "start_time": "2022-06-04T09:03:07.116Z"
   },
   {
    "duration": 98,
    "start_time": "2022-06-04T09:03:07.390Z"
   },
   {
    "duration": 9,
    "start_time": "2022-06-04T09:03:07.490Z"
   },
   {
    "duration": 17,
    "start_time": "2022-06-04T09:03:07.500Z"
   },
   {
    "duration": 5,
    "start_time": "2022-06-04T09:03:07.519Z"
   },
   {
    "duration": 7,
    "start_time": "2022-06-04T09:03:20.899Z"
   },
   {
    "duration": 6,
    "start_time": "2022-06-04T09:05:58.452Z"
   },
   {
    "duration": 13,
    "start_time": "2022-06-04T09:06:11.295Z"
   },
   {
    "duration": 9,
    "start_time": "2022-06-04T09:07:05.208Z"
   },
   {
    "duration": 75,
    "start_time": "2022-06-04T09:08:07.818Z"
   },
   {
    "duration": 70,
    "start_time": "2022-06-04T09:08:16.158Z"
   },
   {
    "duration": 1086,
    "start_time": "2022-06-04T09:08:28.792Z"
   },
   {
    "duration": 78,
    "start_time": "2022-06-04T09:08:29.880Z"
   },
   {
    "duration": 2,
    "start_time": "2022-06-04T09:08:29.960Z"
   },
   {
    "duration": 6,
    "start_time": "2022-06-04T09:08:29.964Z"
   },
   {
    "duration": 8,
    "start_time": "2022-06-04T09:08:29.971Z"
   },
   {
    "duration": 8,
    "start_time": "2022-06-04T09:08:29.981Z"
   },
   {
    "duration": 17,
    "start_time": "2022-06-04T09:08:29.990Z"
   },
   {
    "duration": 20,
    "start_time": "2022-06-04T09:08:30.008Z"
   },
   {
    "duration": 23,
    "start_time": "2022-06-04T09:08:30.029Z"
   },
   {
    "duration": 8,
    "start_time": "2022-06-04T09:08:30.054Z"
   },
   {
    "duration": 17,
    "start_time": "2022-06-04T09:08:30.063Z"
   },
   {
    "duration": 37,
    "start_time": "2022-06-04T09:08:30.081Z"
   },
   {
    "duration": 7,
    "start_time": "2022-06-04T09:08:30.119Z"
   },
   {
    "duration": 17,
    "start_time": "2022-06-04T09:08:30.127Z"
   },
   {
    "duration": 12,
    "start_time": "2022-06-04T09:08:30.145Z"
   },
   {
    "duration": 17,
    "start_time": "2022-06-04T09:08:30.159Z"
   },
   {
    "duration": 23,
    "start_time": "2022-06-04T09:08:30.178Z"
   },
   {
    "duration": 329,
    "start_time": "2022-06-04T09:08:30.203Z"
   },
   {
    "duration": 5,
    "start_time": "2022-06-04T09:08:30.533Z"
   },
   {
    "duration": 28,
    "start_time": "2022-06-04T09:08:30.539Z"
   },
   {
    "duration": 242,
    "start_time": "2022-06-04T09:08:30.569Z"
   },
   {
    "duration": 73,
    "start_time": "2022-06-04T09:08:30.812Z"
   },
   {
    "duration": 6,
    "start_time": "2022-06-04T09:08:30.886Z"
   },
   {
    "duration": 43,
    "start_time": "2022-06-04T09:08:30.894Z"
   },
   {
    "duration": 91,
    "start_time": "2022-06-04T09:08:30.939Z"
   },
   {
    "duration": 189,
    "start_time": "2022-06-04T09:08:52.116Z"
   },
   {
    "duration": 78,
    "start_time": "2022-06-04T09:09:38.442Z"
   },
   {
    "duration": 83,
    "start_time": "2022-06-04T09:09:43.328Z"
   },
   {
    "duration": 60,
    "start_time": "2022-06-04T09:10:40.200Z"
   },
   {
    "duration": 60,
    "start_time": "2022-06-04T09:10:48.701Z"
   },
   {
    "duration": 63,
    "start_time": "2022-06-04T09:11:00.737Z"
   },
   {
    "duration": 69,
    "start_time": "2022-06-04T09:11:15.649Z"
   },
   {
    "duration": 76,
    "start_time": "2022-06-04T09:11:25.325Z"
   },
   {
    "duration": 18,
    "start_time": "2022-06-04T09:27:01.341Z"
   },
   {
    "duration": 112,
    "start_time": "2022-06-04T09:27:20.445Z"
   },
   {
    "duration": 9,
    "start_time": "2022-06-04T09:28:01.402Z"
   },
   {
    "duration": 14,
    "start_time": "2022-06-04T09:28:03.652Z"
   },
   {
    "duration": 11,
    "start_time": "2022-06-04T09:28:19.730Z"
   },
   {
    "duration": 17,
    "start_time": "2022-06-04T09:31:08.752Z"
   },
   {
    "duration": 14,
    "start_time": "2022-06-04T09:31:23.319Z"
   },
   {
    "duration": 9,
    "start_time": "2022-06-04T09:31:49.098Z"
   },
   {
    "duration": 16,
    "start_time": "2022-06-04T09:32:48.398Z"
   },
   {
    "duration": 7,
    "start_time": "2022-06-04T09:32:50.342Z"
   },
   {
    "duration": 20,
    "start_time": "2022-06-04T09:32:52.598Z"
   },
   {
    "duration": 10,
    "start_time": "2022-06-04T09:33:12.824Z"
   },
   {
    "duration": 8,
    "start_time": "2022-06-04T09:44:33.484Z"
   },
   {
    "duration": 12,
    "start_time": "2022-06-04T09:44:36.134Z"
   },
   {
    "duration": 1108,
    "start_time": "2022-06-04T09:44:47.614Z"
   },
   {
    "duration": 78,
    "start_time": "2022-06-04T09:44:48.724Z"
   },
   {
    "duration": 3,
    "start_time": "2022-06-04T09:44:48.803Z"
   },
   {
    "duration": 5,
    "start_time": "2022-06-04T09:44:48.808Z"
   },
   {
    "duration": 5,
    "start_time": "2022-06-04T09:44:48.815Z"
   },
   {
    "duration": 6,
    "start_time": "2022-06-04T09:44:48.821Z"
   },
   {
    "duration": 14,
    "start_time": "2022-06-04T09:44:48.828Z"
   },
   {
    "duration": 3,
    "start_time": "2022-06-04T09:44:48.844Z"
   },
   {
    "duration": 7,
    "start_time": "2022-06-04T09:44:48.848Z"
   },
   {
    "duration": 6,
    "start_time": "2022-06-04T09:44:48.857Z"
   },
   {
    "duration": 8,
    "start_time": "2022-06-04T09:44:48.864Z"
   },
   {
    "duration": 16,
    "start_time": "2022-06-04T09:44:48.873Z"
   },
   {
    "duration": 5,
    "start_time": "2022-06-04T09:44:48.890Z"
   },
   {
    "duration": 6,
    "start_time": "2022-06-04T09:44:48.897Z"
   },
   {
    "duration": 6,
    "start_time": "2022-06-04T09:44:48.905Z"
   },
   {
    "duration": 7,
    "start_time": "2022-06-04T09:44:48.913Z"
   },
   {
    "duration": 20,
    "start_time": "2022-06-04T09:44:48.921Z"
   },
   {
    "duration": 349,
    "start_time": "2022-06-04T09:44:48.943Z"
   },
   {
    "duration": 4,
    "start_time": "2022-06-04T09:44:49.294Z"
   },
   {
    "duration": 13,
    "start_time": "2022-06-04T09:44:49.300Z"
   },
   {
    "duration": 250,
    "start_time": "2022-06-04T09:44:49.314Z"
   },
   {
    "duration": 69,
    "start_time": "2022-06-04T09:44:49.566Z"
   },
   {
    "duration": 19,
    "start_time": "2022-06-04T09:44:49.637Z"
   },
   {
    "duration": 15,
    "start_time": "2022-06-04T09:44:49.658Z"
   },
   {
    "duration": 59,
    "start_time": "2022-06-04T09:44:49.675Z"
   },
   {
    "duration": 17,
    "start_time": "2022-06-04T09:44:49.752Z"
   },
   {
    "duration": 15,
    "start_time": "2022-06-04T09:44:49.770Z"
   },
   {
    "duration": 7,
    "start_time": "2022-06-04T09:44:49.788Z"
   },
   {
    "duration": 21,
    "start_time": "2022-06-04T09:44:49.797Z"
   },
   {
    "duration": 289,
    "start_time": "2022-06-04T09:45:28.926Z"
   },
   {
    "duration": 16,
    "start_time": "2022-06-04T09:48:49.990Z"
   },
   {
    "duration": 193,
    "start_time": "2022-06-04T09:50:31.109Z"
   },
   {
    "duration": 183,
    "start_time": "2022-06-04T09:51:07.599Z"
   },
   {
    "duration": 124,
    "start_time": "2022-06-04T09:55:05.319Z"
   },
   {
    "duration": 14,
    "start_time": "2022-06-04T09:56:09.167Z"
   },
   {
    "duration": 277,
    "start_time": "2022-06-04T09:56:31.675Z"
   },
   {
    "duration": 305,
    "start_time": "2022-06-04T09:56:56.675Z"
   },
   {
    "duration": 200,
    "start_time": "2022-06-04T10:02:27.638Z"
   },
   {
    "duration": 57,
    "start_time": "2022-06-07T07:20:46.308Z"
   },
   {
    "duration": 1299,
    "start_time": "2022-06-07T07:20:54.391Z"
   },
   {
    "duration": 179,
    "start_time": "2022-06-07T07:20:55.692Z"
   },
   {
    "duration": 3,
    "start_time": "2022-06-07T07:20:55.873Z"
   },
   {
    "duration": 32,
    "start_time": "2022-06-07T07:20:55.877Z"
   },
   {
    "duration": 17,
    "start_time": "2022-06-07T07:20:55.911Z"
   },
   {
    "duration": 28,
    "start_time": "2022-06-07T07:20:55.929Z"
   },
   {
    "duration": 24,
    "start_time": "2022-06-07T07:20:55.959Z"
   },
   {
    "duration": 29,
    "start_time": "2022-06-07T07:20:55.985Z"
   },
   {
    "duration": 23,
    "start_time": "2022-06-07T07:20:56.016Z"
   },
   {
    "duration": 24,
    "start_time": "2022-06-07T07:20:56.040Z"
   },
   {
    "duration": 27,
    "start_time": "2022-06-07T07:20:56.066Z"
   },
   {
    "duration": 21,
    "start_time": "2022-06-07T07:20:56.095Z"
   },
   {
    "duration": 12,
    "start_time": "2022-06-07T07:20:56.117Z"
   },
   {
    "duration": 13,
    "start_time": "2022-06-07T07:20:56.132Z"
   },
   {
    "duration": 34,
    "start_time": "2022-06-07T07:20:56.147Z"
   },
   {
    "duration": 19,
    "start_time": "2022-06-07T07:20:56.183Z"
   },
   {
    "duration": 33,
    "start_time": "2022-06-07T07:20:56.204Z"
   },
   {
    "duration": 351,
    "start_time": "2022-06-07T07:20:56.239Z"
   },
   {
    "duration": 5,
    "start_time": "2022-06-07T07:20:56.592Z"
   },
   {
    "duration": 44,
    "start_time": "2022-06-07T07:20:56.599Z"
   },
   {
    "duration": 252,
    "start_time": "2022-06-07T07:20:56.644Z"
   },
   {
    "duration": 76,
    "start_time": "2022-06-07T07:20:56.898Z"
   },
   {
    "duration": 5,
    "start_time": "2022-06-07T07:20:56.976Z"
   },
   {
    "duration": 20,
    "start_time": "2022-06-07T07:20:56.983Z"
   },
   {
    "duration": 76,
    "start_time": "2022-06-07T07:20:57.005Z"
   },
   {
    "duration": 24,
    "start_time": "2022-06-07T07:20:57.083Z"
   },
   {
    "duration": 17,
    "start_time": "2022-06-07T07:20:57.108Z"
   },
   {
    "duration": 25,
    "start_time": "2022-06-07T07:20:57.127Z"
   },
   {
    "duration": 9,
    "start_time": "2022-06-07T07:20:57.154Z"
   },
   {
    "duration": 313,
    "start_time": "2022-06-07T07:20:57.165Z"
   },
   {
    "duration": 193,
    "start_time": "2022-06-07T07:20:57.480Z"
   },
   {
    "duration": 320,
    "start_time": "2022-06-07T07:20:57.675Z"
   },
   {
    "duration": 204,
    "start_time": "2022-06-07T07:20:57.997Z"
   },
   {
    "duration": 102,
    "start_time": "2022-06-07T07:46:54.795Z"
   },
   {
    "duration": 9,
    "start_time": "2022-06-07T07:48:38.521Z"
   },
   {
    "duration": 334,
    "start_time": "2022-06-07T07:49:29.606Z"
   },
   {
    "duration": 25,
    "start_time": "2022-06-07T07:50:00.707Z"
   },
   {
    "duration": 263,
    "start_time": "2022-06-07T07:50:12.876Z"
   },
   {
    "duration": 276,
    "start_time": "2022-06-07T07:50:19.362Z"
   },
   {
    "duration": 9,
    "start_time": "2022-06-07T07:50:36.520Z"
   },
   {
    "duration": 1380,
    "start_time": "2022-06-08T06:33:38.170Z"
   },
   {
    "duration": 205,
    "start_time": "2022-06-08T06:33:39.552Z"
   },
   {
    "duration": 3,
    "start_time": "2022-06-08T06:33:39.759Z"
   },
   {
    "duration": 17,
    "start_time": "2022-06-08T06:33:39.764Z"
   },
   {
    "duration": 17,
    "start_time": "2022-06-08T06:33:39.784Z"
   },
   {
    "duration": 20,
    "start_time": "2022-06-08T06:33:39.802Z"
   },
   {
    "duration": 41,
    "start_time": "2022-06-08T06:33:39.824Z"
   },
   {
    "duration": 11,
    "start_time": "2022-06-08T06:33:39.868Z"
   },
   {
    "duration": 17,
    "start_time": "2022-06-08T06:33:39.881Z"
   },
   {
    "duration": 18,
    "start_time": "2022-06-08T06:33:39.899Z"
   },
   {
    "duration": 23,
    "start_time": "2022-06-08T06:33:39.918Z"
   },
   {
    "duration": 33,
    "start_time": "2022-06-08T06:33:39.942Z"
   },
   {
    "duration": 25,
    "start_time": "2022-06-08T06:33:39.977Z"
   },
   {
    "duration": 60,
    "start_time": "2022-06-08T06:33:40.004Z"
   },
   {
    "duration": 29,
    "start_time": "2022-06-08T06:33:40.066Z"
   },
   {
    "duration": 22,
    "start_time": "2022-06-08T06:33:40.097Z"
   },
   {
    "duration": 38,
    "start_time": "2022-06-08T06:33:40.121Z"
   },
   {
    "duration": 380,
    "start_time": "2022-06-08T06:33:40.161Z"
   },
   {
    "duration": 5,
    "start_time": "2022-06-08T06:33:40.543Z"
   },
   {
    "duration": 25,
    "start_time": "2022-06-08T06:33:40.550Z"
   },
   {
    "duration": 266,
    "start_time": "2022-06-08T06:33:40.577Z"
   },
   {
    "duration": 94,
    "start_time": "2022-06-08T06:33:40.845Z"
   },
   {
    "duration": 7,
    "start_time": "2022-06-08T06:33:40.941Z"
   },
   {
    "duration": 15,
    "start_time": "2022-06-08T06:33:40.950Z"
   },
   {
    "duration": 74,
    "start_time": "2022-06-08T06:33:40.966Z"
   },
   {
    "duration": 22,
    "start_time": "2022-06-08T06:33:41.041Z"
   },
   {
    "duration": 17,
    "start_time": "2022-06-08T06:33:41.065Z"
   },
   {
    "duration": 30,
    "start_time": "2022-06-08T06:33:41.084Z"
   },
   {
    "duration": 42,
    "start_time": "2022-06-08T06:33:41.116Z"
   },
   {
    "duration": 330,
    "start_time": "2022-06-08T06:33:41.160Z"
   },
   {
    "duration": 208,
    "start_time": "2022-06-08T06:33:41.492Z"
   },
   {
    "duration": 362,
    "start_time": "2022-06-08T06:33:41.702Z"
   },
   {
    "duration": 218,
    "start_time": "2022-06-08T06:33:42.066Z"
   },
   {
    "duration": 309,
    "start_time": "2022-06-08T06:33:42.286Z"
   },
   {
    "duration": 115,
    "start_time": "2022-06-08T07:16:39.250Z"
   },
   {
    "duration": 116,
    "start_time": "2022-06-08T07:21:38.930Z"
   },
   {
    "duration": 109,
    "start_time": "2022-06-08T07:21:46.809Z"
   },
   {
    "duration": 245,
    "start_time": "2022-06-08T07:21:52.381Z"
   },
   {
    "duration": 210,
    "start_time": "2022-06-08T07:22:01.048Z"
   },
   {
    "duration": 103,
    "start_time": "2022-06-08T07:22:07.053Z"
   },
   {
    "duration": 103,
    "start_time": "2022-06-08T07:22:13.563Z"
   },
   {
    "duration": 242,
    "start_time": "2022-06-08T07:22:28.261Z"
   },
   {
    "duration": 106,
    "start_time": "2022-06-08T07:23:30.342Z"
   },
   {
    "duration": 119,
    "start_time": "2022-06-08T07:23:39.118Z"
   },
   {
    "duration": 326,
    "start_time": "2022-06-08T07:23:51.405Z"
   },
   {
    "duration": 379,
    "start_time": "2022-06-08T07:24:35.987Z"
   },
   {
    "duration": 257,
    "start_time": "2022-06-08T07:25:08.454Z"
   },
   {
    "duration": 244,
    "start_time": "2022-06-08T07:25:16.868Z"
   },
   {
    "duration": 270,
    "start_time": "2022-06-08T07:26:00.468Z"
   },
   {
    "duration": 296,
    "start_time": "2022-06-08T07:26:11.110Z"
   },
   {
    "duration": 293,
    "start_time": "2022-06-08T07:26:17.509Z"
   },
   {
    "duration": 9,
    "start_time": "2022-06-08T07:40:04.961Z"
   },
   {
    "duration": 9,
    "start_time": "2022-06-08T07:40:15.572Z"
   },
   {
    "duration": 4,
    "start_time": "2022-06-08T07:40:25.285Z"
   },
   {
    "duration": 5,
    "start_time": "2022-06-08T07:40:34.660Z"
   },
   {
    "duration": 10,
    "start_time": "2022-06-08T07:40:54.492Z"
   },
   {
    "duration": 6,
    "start_time": "2022-06-08T07:41:04.239Z"
   },
   {
    "duration": 12,
    "start_time": "2022-06-08T07:41:42.644Z"
   },
   {
    "duration": 499,
    "start_time": "2022-06-08T08:00:49.492Z"
   },
   {
    "duration": 266,
    "start_time": "2022-06-08T08:01:29.942Z"
   },
   {
    "duration": 144,
    "start_time": "2022-06-08T08:01:35.480Z"
   },
   {
    "duration": 243,
    "start_time": "2022-06-08T08:01:51.981Z"
   },
   {
    "duration": 181,
    "start_time": "2022-06-08T08:01:58.879Z"
   },
   {
    "duration": 172,
    "start_time": "2022-06-08T08:02:06.767Z"
   },
   {
    "duration": 13,
    "start_time": "2022-06-08T08:02:43.747Z"
   },
   {
    "duration": 190,
    "start_time": "2022-06-08T08:02:48.865Z"
   },
   {
    "duration": 147,
    "start_time": "2022-06-08T08:11:39.993Z"
   },
   {
    "duration": 273,
    "start_time": "2022-06-08T08:14:00.907Z"
   },
   {
    "duration": 150,
    "start_time": "2022-06-08T08:14:09.610Z"
   },
   {
    "duration": 137,
    "start_time": "2022-06-08T08:14:13.370Z"
   },
   {
    "duration": 156,
    "start_time": "2022-06-08T08:14:18.567Z"
   },
   {
    "duration": 145,
    "start_time": "2022-06-08T08:14:26.091Z"
   },
   {
    "duration": 149,
    "start_time": "2022-06-08T08:14:32.114Z"
   },
   {
    "duration": 147,
    "start_time": "2022-06-08T08:15:01.963Z"
   },
   {
    "duration": 240,
    "start_time": "2022-06-08T08:15:45.763Z"
   },
   {
    "duration": 304,
    "start_time": "2022-06-08T08:15:52.535Z"
   },
   {
    "duration": 228,
    "start_time": "2022-06-08T08:15:59.958Z"
   },
   {
    "duration": 255,
    "start_time": "2022-06-08T08:16:14.812Z"
   },
   {
    "duration": 226,
    "start_time": "2022-06-08T08:16:38.145Z"
   },
   {
    "duration": 237,
    "start_time": "2022-06-08T08:16:48.236Z"
   },
   {
    "duration": 249,
    "start_time": "2022-06-08T08:16:54.345Z"
   },
   {
    "duration": 231,
    "start_time": "2022-06-08T08:17:03.045Z"
   },
   {
    "duration": 375,
    "start_time": "2022-06-08T08:17:09.100Z"
   },
   {
    "duration": 117,
    "start_time": "2022-06-08T08:17:36.928Z"
   },
   {
    "duration": 201,
    "start_time": "2022-06-08T08:17:42.785Z"
   },
   {
    "duration": 235,
    "start_time": "2022-06-08T08:17:48.546Z"
   },
   {
    "duration": 267,
    "start_time": "2022-06-08T08:17:58.223Z"
   },
   {
    "duration": 5,
    "start_time": "2022-06-08T08:22:43.961Z"
   },
   {
    "duration": 7,
    "start_time": "2022-06-08T08:22:46.928Z"
   },
   {
    "duration": 273,
    "start_time": "2022-06-08T08:23:13.095Z"
   },
   {
    "duration": 117,
    "start_time": "2022-06-08T08:23:26.580Z"
   },
   {
    "duration": 7,
    "start_time": "2022-06-08T08:23:58.254Z"
   },
   {
    "duration": 9,
    "start_time": "2022-06-08T08:24:50.284Z"
   },
   {
    "duration": 11,
    "start_time": "2022-06-08T08:25:08.947Z"
   },
   {
    "duration": 4,
    "start_time": "2022-06-08T08:28:26.488Z"
   },
   {
    "duration": 15,
    "start_time": "2022-06-08T08:29:07.583Z"
   },
   {
    "duration": 4,
    "start_time": "2022-06-08T08:29:12.402Z"
   },
   {
    "duration": 4,
    "start_time": "2022-06-08T08:29:20.604Z"
   },
   {
    "duration": 1181,
    "start_time": "2022-06-08T08:34:32.405Z"
   },
   {
    "duration": 75,
    "start_time": "2022-06-08T08:34:33.588Z"
   },
   {
    "duration": 2,
    "start_time": "2022-06-08T08:34:33.665Z"
   },
   {
    "duration": 6,
    "start_time": "2022-06-08T08:34:33.669Z"
   },
   {
    "duration": 5,
    "start_time": "2022-06-08T08:34:33.676Z"
   },
   {
    "duration": 6,
    "start_time": "2022-06-08T08:34:33.683Z"
   },
   {
    "duration": 13,
    "start_time": "2022-06-08T08:34:33.690Z"
   },
   {
    "duration": 2,
    "start_time": "2022-06-08T08:34:33.704Z"
   },
   {
    "duration": 9,
    "start_time": "2022-06-08T08:34:33.708Z"
   },
   {
    "duration": 7,
    "start_time": "2022-06-08T08:34:33.719Z"
   },
   {
    "duration": 6,
    "start_time": "2022-06-08T08:34:33.728Z"
   },
   {
    "duration": 18,
    "start_time": "2022-06-08T08:34:33.735Z"
   },
   {
    "duration": 6,
    "start_time": "2022-06-08T08:34:33.754Z"
   },
   {
    "duration": 6,
    "start_time": "2022-06-08T08:34:33.761Z"
   },
   {
    "duration": 17,
    "start_time": "2022-06-08T08:34:33.768Z"
   },
   {
    "duration": 7,
    "start_time": "2022-06-08T08:34:33.786Z"
   },
   {
    "duration": 30,
    "start_time": "2022-06-08T08:34:33.794Z"
   },
   {
    "duration": 361,
    "start_time": "2022-06-08T08:34:33.827Z"
   },
   {
    "duration": 4,
    "start_time": "2022-06-08T08:34:34.190Z"
   },
   {
    "duration": 14,
    "start_time": "2022-06-08T08:34:34.195Z"
   },
   {
    "duration": 278,
    "start_time": "2022-06-08T08:34:34.210Z"
   },
   {
    "duration": 79,
    "start_time": "2022-06-08T08:34:34.490Z"
   },
   {
    "duration": 6,
    "start_time": "2022-06-08T08:34:34.570Z"
   },
   {
    "duration": 15,
    "start_time": "2022-06-08T08:34:34.578Z"
   },
   {
    "duration": 90,
    "start_time": "2022-06-08T08:34:34.594Z"
   },
   {
    "duration": 18,
    "start_time": "2022-06-08T08:34:34.685Z"
   },
   {
    "duration": 26,
    "start_time": "2022-06-08T08:34:34.705Z"
   },
   {
    "duration": 8,
    "start_time": "2022-06-08T08:34:34.735Z"
   },
   {
    "duration": 11,
    "start_time": "2022-06-08T08:34:34.745Z"
   },
   {
    "duration": 330,
    "start_time": "2022-06-08T08:34:34.757Z"
   },
   {
    "duration": 195,
    "start_time": "2022-06-08T08:34:35.089Z"
   },
   {
    "duration": 314,
    "start_time": "2022-06-08T08:34:35.285Z"
   },
   {
    "duration": 208,
    "start_time": "2022-06-08T08:34:35.601Z"
   },
   {
    "duration": 361,
    "start_time": "2022-06-08T08:34:35.812Z"
   },
   {
    "duration": 109,
    "start_time": "2022-06-08T08:34:36.175Z"
   },
   {
    "duration": 9,
    "start_time": "2022-06-08T08:34:36.286Z"
   },
   {
    "duration": 252,
    "start_time": "2022-06-08T08:34:36.297Z"
   },
   {
    "duration": 394,
    "start_time": "2022-06-08T08:34:36.552Z"
   },
   {
    "duration": 15,
    "start_time": "2022-06-08T08:34:36.949Z"
   },
   {
    "duration": 14,
    "start_time": "2022-06-08T08:34:36.966Z"
   },
   {
    "duration": 15,
    "start_time": "2022-06-08T08:36:22.314Z"
   },
   {
    "duration": 11,
    "start_time": "2022-06-08T08:39:43.042Z"
   },
   {
    "duration": 125,
    "start_time": "2022-06-08T08:40:22.172Z"
   },
   {
    "duration": 20,
    "start_time": "2022-06-08T08:40:59.280Z"
   },
   {
    "duration": 1227,
    "start_time": "2022-06-08T08:41:11.595Z"
   },
   {
    "duration": 73,
    "start_time": "2022-06-08T08:41:12.824Z"
   },
   {
    "duration": 2,
    "start_time": "2022-06-08T08:41:12.899Z"
   },
   {
    "duration": 7,
    "start_time": "2022-06-08T08:41:12.902Z"
   },
   {
    "duration": 4,
    "start_time": "2022-06-08T08:41:12.911Z"
   },
   {
    "duration": 7,
    "start_time": "2022-06-08T08:41:12.917Z"
   },
   {
    "duration": 16,
    "start_time": "2022-06-08T08:41:12.925Z"
   },
   {
    "duration": 2,
    "start_time": "2022-06-08T08:41:12.942Z"
   },
   {
    "duration": 13,
    "start_time": "2022-06-08T08:41:12.945Z"
   },
   {
    "duration": 14,
    "start_time": "2022-06-08T08:41:12.960Z"
   },
   {
    "duration": 6,
    "start_time": "2022-06-08T08:41:12.976Z"
   },
   {
    "duration": 20,
    "start_time": "2022-06-08T08:41:12.984Z"
   },
   {
    "duration": 6,
    "start_time": "2022-06-08T08:41:13.006Z"
   },
   {
    "duration": 8,
    "start_time": "2022-06-08T08:41:13.016Z"
   },
   {
    "duration": 12,
    "start_time": "2022-06-08T08:41:13.026Z"
   },
   {
    "duration": 10,
    "start_time": "2022-06-08T08:41:13.040Z"
   },
   {
    "duration": 14,
    "start_time": "2022-06-08T08:41:13.052Z"
   },
   {
    "duration": 355,
    "start_time": "2022-06-08T08:41:13.068Z"
   },
   {
    "duration": 6,
    "start_time": "2022-06-08T08:41:13.425Z"
   },
   {
    "duration": 19,
    "start_time": "2022-06-08T08:41:13.432Z"
   },
   {
    "duration": 242,
    "start_time": "2022-06-08T08:41:13.453Z"
   },
   {
    "duration": 81,
    "start_time": "2022-06-08T08:41:13.697Z"
   },
   {
    "duration": 6,
    "start_time": "2022-06-08T08:41:13.780Z"
   },
   {
    "duration": 16,
    "start_time": "2022-06-08T08:41:13.788Z"
   },
   {
    "duration": 79,
    "start_time": "2022-06-08T08:41:13.805Z"
   },
   {
    "duration": 17,
    "start_time": "2022-06-08T08:41:13.886Z"
   },
   {
    "duration": 19,
    "start_time": "2022-06-08T08:41:13.922Z"
   },
   {
    "duration": 12,
    "start_time": "2022-06-08T08:41:13.943Z"
   },
   {
    "duration": 15,
    "start_time": "2022-06-08T08:41:13.957Z"
   },
   {
    "duration": 346,
    "start_time": "2022-06-08T08:41:13.974Z"
   },
   {
    "duration": 189,
    "start_time": "2022-06-08T08:41:14.324Z"
   },
   {
    "duration": 297,
    "start_time": "2022-06-08T08:41:14.515Z"
   },
   {
    "duration": 209,
    "start_time": "2022-06-08T08:41:14.814Z"
   },
   {
    "duration": 291,
    "start_time": "2022-06-08T08:41:15.025Z"
   },
   {
    "duration": 118,
    "start_time": "2022-06-08T08:41:15.317Z"
   },
   {
    "duration": 9,
    "start_time": "2022-06-08T08:41:15.437Z"
   },
   {
    "duration": 262,
    "start_time": "2022-06-08T08:41:15.448Z"
   },
   {
    "duration": 382,
    "start_time": "2022-06-08T08:41:15.712Z"
   },
   {
    "duration": 27,
    "start_time": "2022-06-08T08:41:16.096Z"
   },
   {
    "duration": 5,
    "start_time": "2022-06-08T08:41:16.124Z"
   },
   {
    "duration": 14,
    "start_time": "2022-06-08T08:41:16.132Z"
   },
   {
    "duration": 128,
    "start_time": "2022-06-08T08:41:16.148Z"
   },
   {
    "duration": 13,
    "start_time": "2022-06-08T08:41:50.002Z"
   },
   {
    "duration": 13,
    "start_time": "2022-06-08T08:42:27.828Z"
   },
   {
    "duration": 7,
    "start_time": "2022-06-08T08:44:08.830Z"
   },
   {
    "duration": 58,
    "start_time": "2022-06-08T08:48:07.258Z"
   },
   {
    "duration": 24,
    "start_time": "2022-06-08T08:48:12.677Z"
   },
   {
    "duration": 17,
    "start_time": "2022-06-08T08:48:25.357Z"
   },
   {
    "duration": 19,
    "start_time": "2022-06-08T08:52:44.501Z"
   },
   {
    "duration": 24,
    "start_time": "2022-06-08T08:52:55.955Z"
   },
   {
    "duration": 10,
    "start_time": "2022-06-08T08:58:34.631Z"
   },
   {
    "duration": 12,
    "start_time": "2022-06-08T08:58:42.384Z"
   },
   {
    "duration": 4,
    "start_time": "2022-06-08T08:58:53.073Z"
   },
   {
    "duration": 13,
    "start_time": "2022-06-08T08:59:49.061Z"
   },
   {
    "duration": 18,
    "start_time": "2022-06-08T09:00:17.943Z"
   },
   {
    "duration": 50,
    "start_time": "2022-06-09T08:59:36.102Z"
   },
   {
    "duration": 1422,
    "start_time": "2022-06-09T08:59:41.501Z"
   },
   {
    "duration": 191,
    "start_time": "2022-06-09T08:59:42.925Z"
   },
   {
    "duration": 2,
    "start_time": "2022-06-09T08:59:43.118Z"
   },
   {
    "duration": 6,
    "start_time": "2022-06-09T08:59:43.122Z"
   },
   {
    "duration": 9,
    "start_time": "2022-06-09T08:59:43.129Z"
   },
   {
    "duration": 7,
    "start_time": "2022-06-09T08:59:43.139Z"
   },
   {
    "duration": 18,
    "start_time": "2022-06-09T08:59:43.148Z"
   },
   {
    "duration": 3,
    "start_time": "2022-06-09T08:59:43.167Z"
   },
   {
    "duration": 5,
    "start_time": "2022-06-09T08:59:43.171Z"
   },
   {
    "duration": 6,
    "start_time": "2022-06-09T08:59:43.178Z"
   },
   {
    "duration": 23,
    "start_time": "2022-06-09T08:59:43.185Z"
   },
   {
    "duration": 24,
    "start_time": "2022-06-09T08:59:43.209Z"
   },
   {
    "duration": 6,
    "start_time": "2022-06-09T08:59:43.235Z"
   },
   {
    "duration": 17,
    "start_time": "2022-06-09T08:59:43.243Z"
   },
   {
    "duration": 17,
    "start_time": "2022-06-09T08:59:43.263Z"
   },
   {
    "duration": 8,
    "start_time": "2022-06-09T08:59:43.282Z"
   },
   {
    "duration": 34,
    "start_time": "2022-06-09T08:59:43.292Z"
   },
   {
    "duration": 274,
    "start_time": "2022-06-09T08:59:43.328Z"
   },
   {
    "duration": 4,
    "start_time": "2022-06-09T08:59:43.604Z"
   },
   {
    "duration": 27,
    "start_time": "2022-06-09T08:59:43.610Z"
   },
   {
    "duration": 250,
    "start_time": "2022-06-09T08:59:43.639Z"
   },
   {
    "duration": 77,
    "start_time": "2022-06-09T08:59:43.891Z"
   },
   {
    "duration": 7,
    "start_time": "2022-06-09T08:59:43.970Z"
   },
   {
    "duration": 23,
    "start_time": "2022-06-09T08:59:43.979Z"
   },
   {
    "duration": 74,
    "start_time": "2022-06-09T08:59:44.004Z"
   },
   {
    "duration": 21,
    "start_time": "2022-06-09T08:59:44.079Z"
   },
   {
    "duration": 34,
    "start_time": "2022-06-09T08:59:44.102Z"
   },
   {
    "duration": 11,
    "start_time": "2022-06-09T08:59:44.139Z"
   },
   {
    "duration": 19,
    "start_time": "2022-06-09T08:59:44.152Z"
   },
   {
    "duration": 266,
    "start_time": "2022-06-09T08:59:44.173Z"
   },
   {
    "duration": 196,
    "start_time": "2022-06-09T08:59:44.440Z"
   },
   {
    "duration": 331,
    "start_time": "2022-06-09T08:59:44.638Z"
   },
   {
    "duration": 206,
    "start_time": "2022-06-09T08:59:44.970Z"
   },
   {
    "duration": 277,
    "start_time": "2022-06-09T08:59:45.178Z"
   },
   {
    "duration": 197,
    "start_time": "2022-06-09T08:59:45.456Z"
   },
   {
    "duration": 9,
    "start_time": "2022-06-09T08:59:45.655Z"
   },
   {
    "duration": 255,
    "start_time": "2022-06-09T08:59:45.665Z"
   },
   {
    "duration": 265,
    "start_time": "2022-06-09T08:59:45.923Z"
   },
   {
    "duration": 7,
    "start_time": "2022-06-09T08:59:46.190Z"
   },
   {
    "duration": 25,
    "start_time": "2022-06-09T08:59:46.199Z"
   },
   {
    "duration": 109,
    "start_time": "2022-06-09T08:59:46.225Z"
   },
   {
    "duration": 0,
    "start_time": "2022-06-09T08:59:46.335Z"
   },
   {
    "duration": 0,
    "start_time": "2022-06-09T08:59:46.336Z"
   },
   {
    "duration": 0,
    "start_time": "2022-06-09T08:59:46.337Z"
   },
   {
    "duration": 8,
    "start_time": "2022-06-09T09:01:46.046Z"
   },
   {
    "duration": 7,
    "start_time": "2022-06-09T09:01:48.714Z"
   },
   {
    "duration": 7,
    "start_time": "2022-06-09T09:01:52.797Z"
   },
   {
    "duration": 13,
    "start_time": "2022-06-09T09:02:10.362Z"
   },
   {
    "duration": 12,
    "start_time": "2022-06-09T09:02:17.648Z"
   },
   {
    "duration": 8,
    "start_time": "2022-06-09T09:02:20.410Z"
   },
   {
    "duration": 10,
    "start_time": "2022-06-09T09:08:28.194Z"
   },
   {
    "duration": 11,
    "start_time": "2022-06-09T09:08:36.173Z"
   },
   {
    "duration": 16,
    "start_time": "2022-06-09T09:08:41.423Z"
   },
   {
    "duration": 15,
    "start_time": "2022-06-09T09:09:19.165Z"
   },
   {
    "duration": 7,
    "start_time": "2022-06-09T09:09:21.288Z"
   },
   {
    "duration": 1141,
    "start_time": "2022-06-09T09:09:41.665Z"
   },
   {
    "duration": 86,
    "start_time": "2022-06-09T09:09:42.807Z"
   },
   {
    "duration": 13,
    "start_time": "2022-06-09T09:09:42.894Z"
   },
   {
    "duration": 7,
    "start_time": "2022-06-09T09:09:42.909Z"
   },
   {
    "duration": 16,
    "start_time": "2022-06-09T09:09:42.917Z"
   },
   {
    "duration": 7,
    "start_time": "2022-06-09T09:09:42.934Z"
   },
   {
    "duration": 11,
    "start_time": "2022-06-09T09:09:42.942Z"
   },
   {
    "duration": 5,
    "start_time": "2022-06-09T09:09:42.955Z"
   },
   {
    "duration": 10,
    "start_time": "2022-06-09T09:09:42.961Z"
   },
   {
    "duration": 10,
    "start_time": "2022-06-09T09:09:42.973Z"
   },
   {
    "duration": 8,
    "start_time": "2022-06-09T09:09:42.984Z"
   },
   {
    "duration": 34,
    "start_time": "2022-06-09T09:09:42.994Z"
   },
   {
    "duration": 6,
    "start_time": "2022-06-09T09:09:43.029Z"
   },
   {
    "duration": 7,
    "start_time": "2022-06-09T09:09:43.036Z"
   },
   {
    "duration": 6,
    "start_time": "2022-06-09T09:09:43.045Z"
   },
   {
    "duration": 6,
    "start_time": "2022-06-09T09:09:43.053Z"
   },
   {
    "duration": 11,
    "start_time": "2022-06-09T09:09:43.061Z"
   },
   {
    "duration": 309,
    "start_time": "2022-06-09T09:09:43.074Z"
   },
   {
    "duration": 5,
    "start_time": "2022-06-09T09:09:43.384Z"
   },
   {
    "duration": 15,
    "start_time": "2022-06-09T09:09:43.390Z"
   },
   {
    "duration": 252,
    "start_time": "2022-06-09T09:09:43.407Z"
   },
   {
    "duration": 74,
    "start_time": "2022-06-09T09:09:43.661Z"
   },
   {
    "duration": 7,
    "start_time": "2022-06-09T09:09:43.737Z"
   },
   {
    "duration": 16,
    "start_time": "2022-06-09T09:09:43.745Z"
   },
   {
    "duration": 82,
    "start_time": "2022-06-09T09:09:43.763Z"
   },
   {
    "duration": 18,
    "start_time": "2022-06-09T09:09:43.847Z"
   },
   {
    "duration": 16,
    "start_time": "2022-06-09T09:09:43.867Z"
   },
   {
    "duration": 10,
    "start_time": "2022-06-09T09:09:43.887Z"
   },
   {
    "duration": 11,
    "start_time": "2022-06-09T09:09:43.923Z"
   },
   {
    "duration": 276,
    "start_time": "2022-06-09T09:09:43.936Z"
   },
   {
    "duration": 202,
    "start_time": "2022-06-09T09:09:44.214Z"
   },
   {
    "duration": 318,
    "start_time": "2022-06-09T09:09:44.418Z"
   },
   {
    "duration": 209,
    "start_time": "2022-06-09T09:09:44.738Z"
   },
   {
    "duration": 283,
    "start_time": "2022-06-09T09:09:44.949Z"
   },
   {
    "duration": 199,
    "start_time": "2022-06-09T09:09:45.234Z"
   },
   {
    "duration": 10,
    "start_time": "2022-06-09T09:09:45.434Z"
   },
   {
    "duration": 269,
    "start_time": "2022-06-09T09:09:45.446Z"
   },
   {
    "duration": 287,
    "start_time": "2022-06-09T09:09:45.717Z"
   },
   {
    "duration": 23,
    "start_time": "2022-06-09T09:09:46.006Z"
   },
   {
    "duration": 8,
    "start_time": "2022-06-09T09:09:46.032Z"
   },
   {
    "duration": 24,
    "start_time": "2022-06-09T09:09:46.042Z"
   },
   {
    "duration": 7,
    "start_time": "2022-06-09T09:09:46.069Z"
   },
   {
    "duration": 18,
    "start_time": "2022-06-09T09:09:46.078Z"
   },
   {
    "duration": 2,
    "start_time": "2022-06-09T09:09:46.123Z"
   },
   {
    "duration": 10,
    "start_time": "2022-06-09T09:09:59.276Z"
   },
   {
    "duration": 1096,
    "start_time": "2022-06-09T09:11:26.047Z"
   },
   {
    "duration": 76,
    "start_time": "2022-06-09T09:11:27.146Z"
   },
   {
    "duration": 11,
    "start_time": "2022-06-09T09:11:27.224Z"
   },
   {
    "duration": 4,
    "start_time": "2022-06-09T09:11:27.237Z"
   },
   {
    "duration": 14,
    "start_time": "2022-06-09T09:11:27.243Z"
   },
   {
    "duration": 7,
    "start_time": "2022-06-09T09:11:27.259Z"
   },
   {
    "duration": 10,
    "start_time": "2022-06-09T09:11:27.268Z"
   },
   {
    "duration": 5,
    "start_time": "2022-06-09T09:11:27.281Z"
   },
   {
    "duration": 10,
    "start_time": "2022-06-09T09:11:27.287Z"
   },
   {
    "duration": 27,
    "start_time": "2022-06-09T09:11:27.300Z"
   },
   {
    "duration": 8,
    "start_time": "2022-06-09T09:11:27.329Z"
   },
   {
    "duration": 17,
    "start_time": "2022-06-09T09:11:27.338Z"
   },
   {
    "duration": 6,
    "start_time": "2022-06-09T09:11:27.356Z"
   },
   {
    "duration": 7,
    "start_time": "2022-06-09T09:11:27.363Z"
   },
   {
    "duration": 7,
    "start_time": "2022-06-09T09:11:27.371Z"
   },
   {
    "duration": 12,
    "start_time": "2022-06-09T09:11:27.379Z"
   },
   {
    "duration": 35,
    "start_time": "2022-06-09T09:11:27.393Z"
   },
   {
    "duration": 296,
    "start_time": "2022-06-09T09:11:27.430Z"
   },
   {
    "duration": 5,
    "start_time": "2022-06-09T09:11:27.728Z"
   },
   {
    "duration": 19,
    "start_time": "2022-06-09T09:11:27.735Z"
   },
   {
    "duration": 271,
    "start_time": "2022-06-09T09:11:27.755Z"
   },
   {
    "duration": 66,
    "start_time": "2022-06-09T09:11:28.027Z"
   },
   {
    "duration": 6,
    "start_time": "2022-06-09T09:11:28.095Z"
   },
   {
    "duration": 40,
    "start_time": "2022-06-09T09:11:28.102Z"
   },
   {
    "duration": 58,
    "start_time": "2022-06-09T09:11:28.144Z"
   },
   {
    "duration": 29,
    "start_time": "2022-06-09T09:11:28.203Z"
   },
   {
    "duration": 15,
    "start_time": "2022-06-09T09:11:28.234Z"
   },
   {
    "duration": 10,
    "start_time": "2022-06-09T09:11:28.252Z"
   },
   {
    "duration": 12,
    "start_time": "2022-06-09T09:11:28.263Z"
   },
   {
    "duration": 261,
    "start_time": "2022-06-09T09:11:28.277Z"
   },
   {
    "duration": 191,
    "start_time": "2022-06-09T09:11:28.539Z"
   },
   {
    "duration": 330,
    "start_time": "2022-06-09T09:11:28.732Z"
   },
   {
    "duration": 216,
    "start_time": "2022-06-09T09:11:29.064Z"
   },
   {
    "duration": 309,
    "start_time": "2022-06-09T09:11:29.283Z"
   },
   {
    "duration": 192,
    "start_time": "2022-06-09T09:11:29.594Z"
   },
   {
    "duration": 9,
    "start_time": "2022-06-09T09:11:29.788Z"
   },
   {
    "duration": 259,
    "start_time": "2022-06-09T09:11:29.799Z"
   },
   {
    "duration": 256,
    "start_time": "2022-06-09T09:11:30.060Z"
   },
   {
    "duration": 9,
    "start_time": "2022-06-09T09:11:30.322Z"
   },
   {
    "duration": 13,
    "start_time": "2022-06-09T09:11:30.332Z"
   },
   {
    "duration": 19,
    "start_time": "2022-06-09T09:11:30.347Z"
   },
   {
    "duration": 10,
    "start_time": "2022-06-09T09:11:30.367Z"
   },
   {
    "duration": 16,
    "start_time": "2022-06-09T09:11:30.379Z"
   },
   {
    "duration": 26,
    "start_time": "2022-06-09T09:11:30.397Z"
   },
   {
    "duration": 8,
    "start_time": "2022-06-09T09:13:09.372Z"
   },
   {
    "duration": 9,
    "start_time": "2022-06-09T09:13:11.710Z"
   },
   {
    "duration": 14,
    "start_time": "2022-06-09T09:14:05.300Z"
   },
   {
    "duration": 21,
    "start_time": "2022-06-09T09:14:55.087Z"
   },
   {
    "duration": 13,
    "start_time": "2022-06-09T09:16:26.239Z"
   },
   {
    "duration": 96,
    "start_time": "2022-06-09T09:17:17.232Z"
   },
   {
    "duration": 16,
    "start_time": "2022-06-09T09:18:19.682Z"
   },
   {
    "duration": 15,
    "start_time": "2022-06-09T09:18:28.871Z"
   },
   {
    "duration": 12,
    "start_time": "2022-06-09T09:19:55.745Z"
   },
   {
    "duration": 17,
    "start_time": "2022-06-09T09:25:56.916Z"
   },
   {
    "duration": 16,
    "start_time": "2022-06-09T09:26:51.859Z"
   },
   {
    "duration": 13,
    "start_time": "2022-06-09T09:27:09.400Z"
   },
   {
    "duration": 469,
    "start_time": "2022-06-09T09:29:27.395Z"
   },
   {
    "duration": 10,
    "start_time": "2022-06-09T09:32:11.180Z"
   },
   {
    "duration": 9,
    "start_time": "2022-06-09T09:34:51.079Z"
   },
   {
    "duration": 352,
    "start_time": "2022-06-09T09:35:52.717Z"
   },
   {
    "duration": 414,
    "start_time": "2022-06-09T09:37:39.749Z"
   },
   {
    "duration": 412,
    "start_time": "2022-06-09T09:38:43.976Z"
   },
   {
    "duration": 16,
    "start_time": "2022-06-09T09:40:59.345Z"
   },
   {
    "duration": 159,
    "start_time": "2022-06-09T09:41:31.901Z"
   },
   {
    "duration": 150,
    "start_time": "2022-06-09T09:41:40.611Z"
   },
   {
    "duration": 142,
    "start_time": "2022-06-09T09:41:53.394Z"
   },
   {
    "duration": 24,
    "start_time": "2022-06-09T09:43:32.949Z"
   },
   {
    "duration": 24,
    "start_time": "2022-06-09T09:43:46.307Z"
   },
   {
    "duration": 51,
    "start_time": "2022-06-09T09:43:52.078Z"
   },
   {
    "duration": 75,
    "start_time": "2022-06-09T09:44:02.349Z"
   },
   {
    "duration": 8,
    "start_time": "2022-06-09T09:44:15.576Z"
   },
   {
    "duration": 9,
    "start_time": "2022-06-09T09:44:35.859Z"
   },
   {
    "duration": 8,
    "start_time": "2022-06-09T09:44:56.364Z"
   },
   {
    "duration": 8,
    "start_time": "2022-06-09T09:45:31.413Z"
   },
   {
    "duration": 8,
    "start_time": "2022-06-09T09:46:03.097Z"
   },
   {
    "duration": 1134,
    "start_time": "2022-06-09T09:46:08.387Z"
   },
   {
    "duration": 76,
    "start_time": "2022-06-09T09:46:09.524Z"
   },
   {
    "duration": 14,
    "start_time": "2022-06-09T09:46:09.602Z"
   },
   {
    "duration": 25,
    "start_time": "2022-06-09T09:46:09.618Z"
   },
   {
    "duration": 24,
    "start_time": "2022-06-09T09:46:09.645Z"
   },
   {
    "duration": 26,
    "start_time": "2022-06-09T09:46:09.671Z"
   },
   {
    "duration": 22,
    "start_time": "2022-06-09T09:46:09.699Z"
   },
   {
    "duration": 15,
    "start_time": "2022-06-09T09:46:09.723Z"
   },
   {
    "duration": 14,
    "start_time": "2022-06-09T09:46:09.740Z"
   },
   {
    "duration": 11,
    "start_time": "2022-06-09T09:46:09.756Z"
   },
   {
    "duration": 22,
    "start_time": "2022-06-09T09:46:09.768Z"
   },
   {
    "duration": 25,
    "start_time": "2022-06-09T09:46:09.793Z"
   },
   {
    "duration": 6,
    "start_time": "2022-06-09T09:46:09.820Z"
   },
   {
    "duration": 18,
    "start_time": "2022-06-09T09:46:09.828Z"
   },
   {
    "duration": 19,
    "start_time": "2022-06-09T09:46:09.848Z"
   },
   {
    "duration": 22,
    "start_time": "2022-06-09T09:46:09.868Z"
   },
   {
    "duration": 20,
    "start_time": "2022-06-09T09:46:09.892Z"
   },
   {
    "duration": 273,
    "start_time": "2022-06-09T09:46:09.914Z"
   },
   {
    "duration": 4,
    "start_time": "2022-06-09T09:46:10.189Z"
   },
   {
    "duration": 30,
    "start_time": "2022-06-09T09:46:10.194Z"
   },
   {
    "duration": 239,
    "start_time": "2022-06-09T09:46:10.226Z"
   },
   {
    "duration": 81,
    "start_time": "2022-06-09T09:46:10.466Z"
   },
   {
    "duration": 6,
    "start_time": "2022-06-09T09:46:10.549Z"
   },
   {
    "duration": 17,
    "start_time": "2022-06-09T09:46:10.557Z"
   },
   {
    "duration": 85,
    "start_time": "2022-06-09T09:46:10.575Z"
   },
   {
    "duration": 16,
    "start_time": "2022-06-09T09:46:10.661Z"
   },
   {
    "duration": 17,
    "start_time": "2022-06-09T09:46:10.679Z"
   },
   {
    "duration": 28,
    "start_time": "2022-06-09T09:46:10.700Z"
   },
   {
    "duration": 33,
    "start_time": "2022-06-09T09:46:10.730Z"
   },
   {
    "duration": 267,
    "start_time": "2022-06-09T09:46:10.765Z"
   },
   {
    "duration": 197,
    "start_time": "2022-06-09T09:46:11.033Z"
   },
   {
    "duration": 281,
    "start_time": "2022-06-09T09:46:11.231Z"
   },
   {
    "duration": 221,
    "start_time": "2022-06-09T09:46:11.514Z"
   },
   {
    "duration": 293,
    "start_time": "2022-06-09T09:46:11.737Z"
   },
   {
    "duration": 181,
    "start_time": "2022-06-09T09:46:12.031Z"
   },
   {
    "duration": 14,
    "start_time": "2022-06-09T09:46:12.214Z"
   },
   {
    "duration": 249,
    "start_time": "2022-06-09T09:46:12.229Z"
   },
   {
    "duration": 288,
    "start_time": "2022-06-09T09:46:12.480Z"
   },
   {
    "duration": 11,
    "start_time": "2022-06-09T09:46:12.770Z"
   },
   {
    "duration": 24,
    "start_time": "2022-06-09T09:46:12.784Z"
   },
   {
    "duration": 55,
    "start_time": "2022-06-09T09:46:12.811Z"
   },
   {
    "duration": 37,
    "start_time": "2022-06-09T09:46:12.868Z"
   },
   {
    "duration": 124,
    "start_time": "2022-06-09T09:46:12.906Z"
   },
   {
    "duration": 0,
    "start_time": "2022-06-09T09:46:13.032Z"
   },
   {
    "duration": 0,
    "start_time": "2022-06-09T09:46:13.033Z"
   },
   {
    "duration": 0,
    "start_time": "2022-06-09T09:46:13.034Z"
   },
   {
    "duration": 0,
    "start_time": "2022-06-09T09:46:13.036Z"
   },
   {
    "duration": 0,
    "start_time": "2022-06-09T09:46:13.036Z"
   },
   {
    "duration": 0,
    "start_time": "2022-06-09T09:46:13.038Z"
   },
   {
    "duration": 0,
    "start_time": "2022-06-09T09:46:13.039Z"
   },
   {
    "duration": 0,
    "start_time": "2022-06-09T09:46:13.040Z"
   },
   {
    "duration": 0,
    "start_time": "2022-06-09T09:46:13.040Z"
   },
   {
    "duration": 0,
    "start_time": "2022-06-09T09:46:13.042Z"
   },
   {
    "duration": 167,
    "start_time": "2022-06-09T09:46:44.067Z"
   },
   {
    "duration": 10,
    "start_time": "2022-06-09T09:46:46.500Z"
   },
   {
    "duration": 40,
    "start_time": "2022-06-09T09:47:26.392Z"
   },
   {
    "duration": 24,
    "start_time": "2022-06-09T09:47:33.478Z"
   },
   {
    "duration": 10,
    "start_time": "2022-06-09T09:48:23.120Z"
   },
   {
    "duration": 10,
    "start_time": "2022-06-09T09:50:21.787Z"
   },
   {
    "duration": 6,
    "start_time": "2022-06-09T09:50:34.528Z"
   },
   {
    "duration": 9,
    "start_time": "2022-06-09T09:50:36.668Z"
   },
   {
    "duration": 9,
    "start_time": "2022-06-09T09:50:51.158Z"
   },
   {
    "duration": 9,
    "start_time": "2022-06-09T09:51:08.478Z"
   },
   {
    "duration": 1153,
    "start_time": "2022-06-09T09:52:35.294Z"
   },
   {
    "duration": 76,
    "start_time": "2022-06-09T09:52:36.449Z"
   },
   {
    "duration": 12,
    "start_time": "2022-06-09T09:52:36.526Z"
   },
   {
    "duration": 2,
    "start_time": "2022-06-09T09:52:36.540Z"
   },
   {
    "duration": 11,
    "start_time": "2022-06-09T09:52:36.544Z"
   },
   {
    "duration": 9,
    "start_time": "2022-06-09T09:52:36.556Z"
   },
   {
    "duration": 12,
    "start_time": "2022-06-09T09:52:36.567Z"
   },
   {
    "duration": 5,
    "start_time": "2022-06-09T09:52:36.580Z"
   },
   {
    "duration": 10,
    "start_time": "2022-06-09T09:52:36.587Z"
   },
   {
    "duration": 8,
    "start_time": "2022-06-09T09:52:36.625Z"
   },
   {
    "duration": 11,
    "start_time": "2022-06-09T09:52:36.634Z"
   },
   {
    "duration": 21,
    "start_time": "2022-06-09T09:52:36.647Z"
   },
   {
    "duration": 8,
    "start_time": "2022-06-09T09:52:36.670Z"
   },
   {
    "duration": 6,
    "start_time": "2022-06-09T09:52:36.679Z"
   },
   {
    "duration": 5,
    "start_time": "2022-06-09T09:52:36.722Z"
   },
   {
    "duration": 11,
    "start_time": "2022-06-09T09:52:36.729Z"
   },
   {
    "duration": 11,
    "start_time": "2022-06-09T09:52:36.742Z"
   },
   {
    "duration": 303,
    "start_time": "2022-06-09T09:52:36.755Z"
   },
   {
    "duration": 5,
    "start_time": "2022-06-09T09:52:37.060Z"
   },
   {
    "duration": 18,
    "start_time": "2022-06-09T09:52:37.067Z"
   },
   {
    "duration": 261,
    "start_time": "2022-06-09T09:52:37.087Z"
   },
   {
    "duration": 77,
    "start_time": "2022-06-09T09:52:37.350Z"
   },
   {
    "duration": 7,
    "start_time": "2022-06-09T09:52:37.428Z"
   },
   {
    "duration": 20,
    "start_time": "2022-06-09T09:52:37.437Z"
   },
   {
    "duration": 82,
    "start_time": "2022-06-09T09:52:37.459Z"
   },
   {
    "duration": 19,
    "start_time": "2022-06-09T09:52:37.543Z"
   },
   {
    "duration": 18,
    "start_time": "2022-06-09T09:52:37.564Z"
   },
   {
    "duration": 9,
    "start_time": "2022-06-09T09:52:37.586Z"
   },
   {
    "duration": 38,
    "start_time": "2022-06-09T09:52:37.597Z"
   },
   {
    "duration": 290,
    "start_time": "2022-06-09T09:52:37.637Z"
   },
   {
    "duration": 226,
    "start_time": "2022-06-09T09:52:37.929Z"
   },
   {
    "duration": 284,
    "start_time": "2022-06-09T09:52:38.158Z"
   },
   {
    "duration": 215,
    "start_time": "2022-06-09T09:52:38.444Z"
   },
   {
    "duration": 292,
    "start_time": "2022-06-09T09:52:38.661Z"
   },
   {
    "duration": 233,
    "start_time": "2022-06-09T09:52:38.956Z"
   },
   {
    "duration": 12,
    "start_time": "2022-06-09T09:52:39.191Z"
   },
   {
    "duration": 298,
    "start_time": "2022-06-09T09:52:39.206Z"
   },
   {
    "duration": 321,
    "start_time": "2022-06-09T09:52:39.506Z"
   },
   {
    "duration": 10,
    "start_time": "2022-06-09T09:52:39.829Z"
   },
   {
    "duration": 10,
    "start_time": "2022-06-09T09:52:39.841Z"
   },
   {
    "duration": 22,
    "start_time": "2022-06-09T09:52:39.854Z"
   },
   {
    "duration": 48,
    "start_time": "2022-06-09T09:52:39.878Z"
   },
   {
    "duration": 13,
    "start_time": "2022-06-09T09:52:39.927Z"
   },
   {
    "duration": 6,
    "start_time": "2022-06-09T09:52:39.942Z"
   },
   {
    "duration": 26,
    "start_time": "2022-06-09T09:52:39.950Z"
   },
   {
    "duration": 14,
    "start_time": "2022-06-09T09:52:39.983Z"
   },
   {
    "duration": 15,
    "start_time": "2022-06-09T09:52:40.000Z"
   },
   {
    "duration": 22,
    "start_time": "2022-06-09T09:52:40.017Z"
   },
   {
    "duration": 15,
    "start_time": "2022-06-09T09:52:40.041Z"
   },
   {
    "duration": 149,
    "start_time": "2022-06-09T09:52:40.058Z"
   },
   {
    "duration": 20,
    "start_time": "2022-06-09T09:52:40.209Z"
   },
   {
    "duration": 7,
    "start_time": "2022-06-09T09:52:40.231Z"
   },
   {
    "duration": 0,
    "start_time": "2022-06-09T09:52:40.240Z"
   },
   {
    "duration": 519,
    "start_time": "2022-06-09T09:56:38.515Z"
   },
   {
    "duration": 12,
    "start_time": "2022-06-09T09:57:04.812Z"
   },
   {
    "duration": 9,
    "start_time": "2022-06-09T09:57:16.882Z"
   },
   {
    "duration": 24,
    "start_time": "2022-06-09T09:57:21.482Z"
   },
   {
    "duration": 27,
    "start_time": "2022-06-09T09:57:53.362Z"
   },
   {
    "duration": 21,
    "start_time": "2022-06-09T09:57:57.894Z"
   },
   {
    "duration": 9,
    "start_time": "2022-06-09T09:58:32.645Z"
   },
   {
    "duration": 10,
    "start_time": "2022-06-09T09:58:48.609Z"
   },
   {
    "duration": 9,
    "start_time": "2022-06-09T09:59:07.048Z"
   },
   {
    "duration": 9,
    "start_time": "2022-06-09T09:59:15.186Z"
   },
   {
    "duration": 1123,
    "start_time": "2022-06-09T09:59:59.061Z"
   },
   {
    "duration": 75,
    "start_time": "2022-06-09T10:00:00.186Z"
   },
   {
    "duration": 12,
    "start_time": "2022-06-09T10:00:00.263Z"
   },
   {
    "duration": 9,
    "start_time": "2022-06-09T10:00:00.277Z"
   },
   {
    "duration": 11,
    "start_time": "2022-06-09T10:00:00.288Z"
   },
   {
    "duration": 17,
    "start_time": "2022-06-09T10:00:00.301Z"
   },
   {
    "duration": 15,
    "start_time": "2022-06-09T10:00:00.320Z"
   },
   {
    "duration": 9,
    "start_time": "2022-06-09T10:00:00.337Z"
   },
   {
    "duration": 14,
    "start_time": "2022-06-09T10:00:00.347Z"
   },
   {
    "duration": 21,
    "start_time": "2022-06-09T10:00:00.364Z"
   },
   {
    "duration": 9,
    "start_time": "2022-06-09T10:00:00.387Z"
   },
   {
    "duration": 23,
    "start_time": "2022-06-09T10:00:00.398Z"
   },
   {
    "duration": 9,
    "start_time": "2022-06-09T10:00:00.423Z"
   },
   {
    "duration": 25,
    "start_time": "2022-06-09T10:00:00.433Z"
   },
   {
    "duration": 8,
    "start_time": "2022-06-09T10:00:00.460Z"
   },
   {
    "duration": 14,
    "start_time": "2022-06-09T10:00:00.469Z"
   },
   {
    "duration": 17,
    "start_time": "2022-06-09T10:00:00.484Z"
   },
   {
    "duration": 291,
    "start_time": "2022-06-09T10:00:00.502Z"
   },
   {
    "duration": 5,
    "start_time": "2022-06-09T10:00:00.795Z"
   },
   {
    "duration": 44,
    "start_time": "2022-06-09T10:00:00.801Z"
   },
   {
    "duration": 286,
    "start_time": "2022-06-09T10:00:00.847Z"
   },
   {
    "duration": 73,
    "start_time": "2022-06-09T10:00:01.135Z"
   },
   {
    "duration": 19,
    "start_time": "2022-06-09T10:00:01.209Z"
   },
   {
    "duration": 98,
    "start_time": "2022-06-09T10:00:01.230Z"
   },
   {
    "duration": 88,
    "start_time": "2022-06-09T10:00:01.330Z"
   },
   {
    "duration": 19,
    "start_time": "2022-06-09T10:00:01.420Z"
   },
   {
    "duration": 57,
    "start_time": "2022-06-09T10:00:01.442Z"
   },
   {
    "duration": 41,
    "start_time": "2022-06-09T10:00:01.503Z"
   },
   {
    "duration": 46,
    "start_time": "2022-06-09T10:00:01.546Z"
   },
   {
    "duration": 346,
    "start_time": "2022-06-09T10:00:01.594Z"
   },
   {
    "duration": 226,
    "start_time": "2022-06-09T10:00:01.943Z"
   },
   {
    "duration": 299,
    "start_time": "2022-06-09T10:00:02.171Z"
   },
   {
    "duration": 263,
    "start_time": "2022-06-09T10:00:02.473Z"
   },
   {
    "duration": 327,
    "start_time": "2022-06-09T10:00:02.738Z"
   },
   {
    "duration": 204,
    "start_time": "2022-06-09T10:00:03.067Z"
   },
   {
    "duration": 9,
    "start_time": "2022-06-09T10:00:03.273Z"
   },
   {
    "duration": 261,
    "start_time": "2022-06-09T10:00:03.284Z"
   },
   {
    "duration": 254,
    "start_time": "2022-06-09T10:00:03.547Z"
   },
   {
    "duration": 21,
    "start_time": "2022-06-09T10:00:03.802Z"
   },
   {
    "duration": 9,
    "start_time": "2022-06-09T10:00:03.825Z"
   },
   {
    "duration": 21,
    "start_time": "2022-06-09T10:00:03.836Z"
   },
   {
    "duration": 11,
    "start_time": "2022-06-09T10:00:03.858Z"
   },
   {
    "duration": 16,
    "start_time": "2022-06-09T10:00:03.870Z"
   },
   {
    "duration": 6,
    "start_time": "2022-06-09T10:00:03.888Z"
   },
   {
    "duration": 31,
    "start_time": "2022-06-09T10:00:03.896Z"
   },
   {
    "duration": 171,
    "start_time": "2022-06-09T10:00:03.928Z"
   },
   {
    "duration": 23,
    "start_time": "2022-06-09T10:00:04.100Z"
   },
   {
    "duration": 8,
    "start_time": "2022-06-09T10:00:04.125Z"
   },
   {
    "duration": 107,
    "start_time": "2022-06-09T10:08:53.969Z"
   },
   {
    "duration": 11,
    "start_time": "2022-06-09T10:09:25.077Z"
   },
   {
    "duration": 13,
    "start_time": "2022-06-09T10:09:56.068Z"
   },
   {
    "duration": 14,
    "start_time": "2022-06-09T10:09:58.967Z"
   },
   {
    "duration": 14,
    "start_time": "2022-06-09T10:14:10.943Z"
   },
   {
    "duration": 201,
    "start_time": "2022-06-09T10:27:41.661Z"
   },
   {
    "duration": 217,
    "start_time": "2022-06-09T10:28:03.052Z"
   },
   {
    "duration": 1201,
    "start_time": "2022-06-09T10:28:15.516Z"
   },
   {
    "duration": 88,
    "start_time": "2022-06-09T10:28:16.719Z"
   },
   {
    "duration": 13,
    "start_time": "2022-06-09T10:28:16.809Z"
   },
   {
    "duration": 2,
    "start_time": "2022-06-09T10:28:16.836Z"
   },
   {
    "duration": 14,
    "start_time": "2022-06-09T10:28:16.841Z"
   },
   {
    "duration": 8,
    "start_time": "2022-06-09T10:28:16.857Z"
   },
   {
    "duration": 13,
    "start_time": "2022-06-09T10:28:16.867Z"
   },
   {
    "duration": 12,
    "start_time": "2022-06-09T10:28:16.882Z"
   },
   {
    "duration": 10,
    "start_time": "2022-06-09T10:28:16.896Z"
   },
   {
    "duration": 17,
    "start_time": "2022-06-09T10:28:16.908Z"
   },
   {
    "duration": 10,
    "start_time": "2022-06-09T10:28:16.934Z"
   },
   {
    "duration": 20,
    "start_time": "2022-06-09T10:28:16.946Z"
   },
   {
    "duration": 7,
    "start_time": "2022-06-09T10:28:16.967Z"
   },
   {
    "duration": 10,
    "start_time": "2022-06-09T10:28:16.977Z"
   },
   {
    "duration": 12,
    "start_time": "2022-06-09T10:28:16.989Z"
   },
   {
    "duration": 35,
    "start_time": "2022-06-09T10:28:17.003Z"
   },
   {
    "duration": 19,
    "start_time": "2022-06-09T10:28:17.042Z"
   },
   {
    "duration": 305,
    "start_time": "2022-06-09T10:28:17.063Z"
   },
   {
    "duration": 5,
    "start_time": "2022-06-09T10:28:17.370Z"
   },
   {
    "duration": 14,
    "start_time": "2022-06-09T10:28:17.377Z"
   },
   {
    "duration": 274,
    "start_time": "2022-06-09T10:28:17.394Z"
   },
   {
    "duration": 81,
    "start_time": "2022-06-09T10:28:17.669Z"
   },
   {
    "duration": 6,
    "start_time": "2022-06-09T10:28:17.752Z"
   },
   {
    "duration": 17,
    "start_time": "2022-06-09T10:28:17.760Z"
   },
   {
    "duration": 80,
    "start_time": "2022-06-09T10:28:17.779Z"
   },
   {
    "duration": 18,
    "start_time": "2022-06-09T10:28:17.861Z"
   },
   {
    "duration": 17,
    "start_time": "2022-06-09T10:28:17.881Z"
   },
   {
    "duration": 34,
    "start_time": "2022-06-09T10:28:17.900Z"
   },
   {
    "duration": 15,
    "start_time": "2022-06-09T10:28:17.936Z"
   },
   {
    "duration": 313,
    "start_time": "2022-06-09T10:28:17.953Z"
   },
   {
    "duration": 226,
    "start_time": "2022-06-09T10:28:18.269Z"
   },
   {
    "duration": 338,
    "start_time": "2022-06-09T10:28:18.496Z"
   },
   {
    "duration": 233,
    "start_time": "2022-06-09T10:28:18.839Z"
   },
   {
    "duration": 306,
    "start_time": "2022-06-09T10:28:19.074Z"
   },
   {
    "duration": 210,
    "start_time": "2022-06-09T10:28:19.382Z"
   },
   {
    "duration": 8,
    "start_time": "2022-06-09T10:28:19.594Z"
   },
   {
    "duration": 264,
    "start_time": "2022-06-09T10:28:19.604Z"
   },
   {
    "duration": 263,
    "start_time": "2022-06-09T10:28:19.870Z"
   },
   {
    "duration": 9,
    "start_time": "2022-06-09T10:28:20.135Z"
   },
   {
    "duration": 5,
    "start_time": "2022-06-09T10:28:20.146Z"
   },
   {
    "duration": 16,
    "start_time": "2022-06-09T10:28:20.155Z"
   },
   {
    "duration": 8,
    "start_time": "2022-06-09T10:28:20.173Z"
   },
   {
    "duration": 51,
    "start_time": "2022-06-09T10:28:20.183Z"
   },
   {
    "duration": 11,
    "start_time": "2022-06-09T10:28:20.235Z"
   },
   {
    "duration": 27,
    "start_time": "2022-06-09T10:28:20.248Z"
   },
   {
    "duration": 140,
    "start_time": "2022-06-09T10:28:20.277Z"
   },
   {
    "duration": 21,
    "start_time": "2022-06-09T10:28:20.418Z"
   },
   {
    "duration": 11,
    "start_time": "2022-06-09T10:28:20.441Z"
   },
   {
    "duration": 110,
    "start_time": "2022-06-09T10:28:20.454Z"
   },
   {
    "duration": 0,
    "start_time": "2022-06-09T10:28:20.566Z"
   },
   {
    "duration": 0,
    "start_time": "2022-06-09T10:28:20.567Z"
   },
   {
    "duration": 11,
    "start_time": "2022-06-09T10:29:09.457Z"
   },
   {
    "duration": 1155,
    "start_time": "2022-06-09T10:30:34.650Z"
   },
   {
    "duration": 82,
    "start_time": "2022-06-09T10:30:35.807Z"
   },
   {
    "duration": 12,
    "start_time": "2022-06-09T10:30:35.891Z"
   },
   {
    "duration": 4,
    "start_time": "2022-06-09T10:30:35.904Z"
   },
   {
    "duration": 23,
    "start_time": "2022-06-09T10:30:35.911Z"
   },
   {
    "duration": 14,
    "start_time": "2022-06-09T10:30:35.938Z"
   },
   {
    "duration": 12,
    "start_time": "2022-06-09T10:30:35.955Z"
   },
   {
    "duration": 12,
    "start_time": "2022-06-09T10:30:35.968Z"
   },
   {
    "duration": 14,
    "start_time": "2022-06-09T10:30:35.982Z"
   },
   {
    "duration": 8,
    "start_time": "2022-06-09T10:30:35.998Z"
   },
   {
    "duration": 9,
    "start_time": "2022-06-09T10:30:36.008Z"
   },
   {
    "duration": 31,
    "start_time": "2022-06-09T10:30:36.019Z"
   },
   {
    "duration": 6,
    "start_time": "2022-06-09T10:30:36.051Z"
   },
   {
    "duration": 7,
    "start_time": "2022-06-09T10:30:36.059Z"
   },
   {
    "duration": 7,
    "start_time": "2022-06-09T10:30:36.067Z"
   },
   {
    "duration": 8,
    "start_time": "2022-06-09T10:30:36.075Z"
   },
   {
    "duration": 13,
    "start_time": "2022-06-09T10:30:36.084Z"
   },
   {
    "duration": 283,
    "start_time": "2022-06-09T10:30:36.127Z"
   },
   {
    "duration": 14,
    "start_time": "2022-06-09T10:30:36.412Z"
   },
   {
    "duration": 15,
    "start_time": "2022-06-09T10:30:36.433Z"
   },
   {
    "duration": 264,
    "start_time": "2022-06-09T10:30:36.450Z"
   },
   {
    "duration": 92,
    "start_time": "2022-06-09T10:30:36.716Z"
   },
   {
    "duration": 8,
    "start_time": "2022-06-09T10:30:36.810Z"
   },
   {
    "duration": 39,
    "start_time": "2022-06-09T10:30:36.820Z"
   },
   {
    "duration": 67,
    "start_time": "2022-06-09T10:30:36.861Z"
   },
   {
    "duration": 20,
    "start_time": "2022-06-09T10:30:36.931Z"
   },
   {
    "duration": 18,
    "start_time": "2022-06-09T10:30:36.953Z"
   },
   {
    "duration": 9,
    "start_time": "2022-06-09T10:30:36.973Z"
   },
   {
    "duration": 18,
    "start_time": "2022-06-09T10:30:36.983Z"
   },
   {
    "duration": 278,
    "start_time": "2022-06-09T10:30:37.003Z"
   },
   {
    "duration": 200,
    "start_time": "2022-06-09T10:30:37.282Z"
   },
   {
    "duration": 330,
    "start_time": "2022-06-09T10:30:37.484Z"
   },
   {
    "duration": 245,
    "start_time": "2022-06-09T10:30:37.816Z"
   },
   {
    "duration": 316,
    "start_time": "2022-06-09T10:30:38.064Z"
   },
   {
    "duration": 216,
    "start_time": "2022-06-09T10:30:38.382Z"
   },
   {
    "duration": 8,
    "start_time": "2022-06-09T10:30:38.599Z"
   },
   {
    "duration": 272,
    "start_time": "2022-06-09T10:30:38.609Z"
   },
   {
    "duration": 260,
    "start_time": "2022-06-09T10:30:38.882Z"
   },
   {
    "duration": 9,
    "start_time": "2022-06-09T10:30:39.144Z"
   },
   {
    "duration": 6,
    "start_time": "2022-06-09T10:30:39.154Z"
   },
   {
    "duration": 15,
    "start_time": "2022-06-09T10:30:39.163Z"
   },
   {
    "duration": 17,
    "start_time": "2022-06-09T10:30:39.179Z"
   },
   {
    "duration": 58,
    "start_time": "2022-06-09T10:30:39.197Z"
   },
   {
    "duration": 6,
    "start_time": "2022-06-09T10:30:39.257Z"
   },
   {
    "duration": 9,
    "start_time": "2022-06-09T10:30:39.265Z"
   },
   {
    "duration": 148,
    "start_time": "2022-06-09T10:30:39.276Z"
   },
   {
    "duration": 9,
    "start_time": "2022-06-09T10:30:39.427Z"
   },
   {
    "duration": 13,
    "start_time": "2022-06-09T10:30:39.439Z"
   },
   {
    "duration": 15,
    "start_time": "2022-06-09T10:30:39.454Z"
   },
   {
    "duration": 118,
    "start_time": "2022-06-09T10:30:39.470Z"
   },
   {
    "duration": 1138,
    "start_time": "2022-06-09T10:34:18.084Z"
   },
   {
    "duration": 84,
    "start_time": "2022-06-09T10:34:19.225Z"
   },
   {
    "duration": 11,
    "start_time": "2022-06-09T10:34:19.311Z"
   },
   {
    "duration": 15,
    "start_time": "2022-06-09T10:34:19.325Z"
   },
   {
    "duration": 11,
    "start_time": "2022-06-09T10:34:19.342Z"
   },
   {
    "duration": 5,
    "start_time": "2022-06-09T10:34:19.354Z"
   },
   {
    "duration": 11,
    "start_time": "2022-06-09T10:34:19.361Z"
   },
   {
    "duration": 5,
    "start_time": "2022-06-09T10:34:19.373Z"
   },
   {
    "duration": 10,
    "start_time": "2022-06-09T10:34:19.379Z"
   },
   {
    "duration": 7,
    "start_time": "2022-06-09T10:34:19.392Z"
   },
   {
    "duration": 9,
    "start_time": "2022-06-09T10:34:19.401Z"
   },
   {
    "duration": 29,
    "start_time": "2022-06-09T10:34:19.411Z"
   },
   {
    "duration": 11,
    "start_time": "2022-06-09T10:34:19.441Z"
   },
   {
    "duration": 7,
    "start_time": "2022-06-09T10:34:19.453Z"
   },
   {
    "duration": 7,
    "start_time": "2022-06-09T10:34:19.461Z"
   },
   {
    "duration": 8,
    "start_time": "2022-06-09T10:34:19.469Z"
   },
   {
    "duration": 10,
    "start_time": "2022-06-09T10:34:19.479Z"
   },
   {
    "duration": 311,
    "start_time": "2022-06-09T10:34:19.490Z"
   },
   {
    "duration": 4,
    "start_time": "2022-06-09T10:34:19.803Z"
   },
   {
    "duration": 23,
    "start_time": "2022-06-09T10:34:19.809Z"
   },
   {
    "duration": 283,
    "start_time": "2022-06-09T10:34:19.834Z"
   },
   {
    "duration": 76,
    "start_time": "2022-06-09T10:34:20.119Z"
   },
   {
    "duration": 6,
    "start_time": "2022-06-09T10:34:20.196Z"
   },
   {
    "duration": 40,
    "start_time": "2022-06-09T10:34:20.204Z"
   },
   {
    "duration": 56,
    "start_time": "2022-06-09T10:34:20.246Z"
   },
   {
    "duration": 35,
    "start_time": "2022-06-09T10:34:20.303Z"
   },
   {
    "duration": 16,
    "start_time": "2022-06-09T10:34:20.340Z"
   },
   {
    "duration": 11,
    "start_time": "2022-06-09T10:34:20.360Z"
   },
   {
    "duration": 13,
    "start_time": "2022-06-09T10:34:20.372Z"
   },
   {
    "duration": 286,
    "start_time": "2022-06-09T10:34:20.386Z"
   },
   {
    "duration": 190,
    "start_time": "2022-06-09T10:34:20.674Z"
   },
   {
    "duration": 283,
    "start_time": "2022-06-09T10:34:20.866Z"
   },
   {
    "duration": 214,
    "start_time": "2022-06-09T10:34:21.150Z"
   },
   {
    "duration": 281,
    "start_time": "2022-06-09T10:34:21.365Z"
   },
   {
    "duration": 209,
    "start_time": "2022-06-09T10:34:21.648Z"
   },
   {
    "duration": 8,
    "start_time": "2022-06-09T10:34:21.859Z"
   },
   {
    "duration": 283,
    "start_time": "2022-06-09T10:34:21.869Z"
   },
   {
    "duration": 262,
    "start_time": "2022-06-09T10:34:22.155Z"
   },
   {
    "duration": 13,
    "start_time": "2022-06-09T10:34:22.426Z"
   },
   {
    "duration": 22,
    "start_time": "2022-06-09T10:34:22.441Z"
   },
   {
    "duration": 22,
    "start_time": "2022-06-09T10:34:22.465Z"
   },
   {
    "duration": 8,
    "start_time": "2022-06-09T10:34:22.489Z"
   },
   {
    "duration": 16,
    "start_time": "2022-06-09T10:34:22.498Z"
   },
   {
    "duration": 45,
    "start_time": "2022-06-09T10:34:22.516Z"
   },
   {
    "duration": 40,
    "start_time": "2022-06-09T10:34:22.566Z"
   },
   {
    "duration": 262,
    "start_time": "2022-06-09T10:34:22.610Z"
   },
   {
    "duration": 11,
    "start_time": "2022-06-09T10:34:22.874Z"
   },
   {
    "duration": 11,
    "start_time": "2022-06-09T10:34:22.887Z"
   },
   {
    "duration": 32,
    "start_time": "2022-06-09T10:34:22.900Z"
   },
   {
    "duration": 1285,
    "start_time": "2022-06-10T06:29:26.091Z"
   },
   {
    "duration": 92,
    "start_time": "2022-06-10T06:30:44.925Z"
   },
   {
    "duration": 1165,
    "start_time": "2022-06-10T06:30:53.831Z"
   },
   {
    "duration": 175,
    "start_time": "2022-06-10T06:30:54.998Z"
   },
   {
    "duration": 13,
    "start_time": "2022-06-10T06:30:55.175Z"
   },
   {
    "duration": 5,
    "start_time": "2022-06-10T06:30:55.190Z"
   },
   {
    "duration": 12,
    "start_time": "2022-06-10T06:30:55.196Z"
   },
   {
    "duration": 4,
    "start_time": "2022-06-10T06:30:55.210Z"
   },
   {
    "duration": 11,
    "start_time": "2022-06-10T06:30:55.216Z"
   },
   {
    "duration": 5,
    "start_time": "2022-06-10T06:30:55.229Z"
   },
   {
    "duration": 11,
    "start_time": "2022-06-10T06:30:55.236Z"
   },
   {
    "duration": 9,
    "start_time": "2022-06-10T06:30:55.261Z"
   },
   {
    "duration": 11,
    "start_time": "2022-06-10T06:30:55.272Z"
   },
   {
    "duration": 19,
    "start_time": "2022-06-10T06:30:55.285Z"
   },
   {
    "duration": 6,
    "start_time": "2022-06-10T06:30:55.306Z"
   },
   {
    "duration": 7,
    "start_time": "2022-06-10T06:30:55.314Z"
   },
   {
    "duration": 10,
    "start_time": "2022-06-10T06:30:55.322Z"
   },
   {
    "duration": 33,
    "start_time": "2022-06-10T06:30:55.333Z"
   },
   {
    "duration": 11,
    "start_time": "2022-06-10T06:30:55.368Z"
   },
   {
    "duration": 283,
    "start_time": "2022-06-10T06:30:55.380Z"
   },
   {
    "duration": 5,
    "start_time": "2022-06-10T06:30:55.665Z"
   },
   {
    "duration": 13,
    "start_time": "2022-06-10T06:30:55.672Z"
   },
   {
    "duration": 264,
    "start_time": "2022-06-10T06:30:55.687Z"
   },
   {
    "duration": 190,
    "start_time": "2022-06-10T06:30:55.952Z"
   },
   {
    "duration": 76,
    "start_time": "2022-06-10T06:30:56.143Z"
   },
   {
    "duration": 7,
    "start_time": "2022-06-10T06:30:56.221Z"
   },
   {
    "duration": 36,
    "start_time": "2022-06-10T06:30:56.229Z"
   },
   {
    "duration": 57,
    "start_time": "2022-06-10T06:30:56.267Z"
   },
   {
    "duration": 20,
    "start_time": "2022-06-10T06:30:56.326Z"
   },
   {
    "duration": 16,
    "start_time": "2022-06-10T06:30:56.358Z"
   },
   {
    "duration": 11,
    "start_time": "2022-06-10T06:30:56.375Z"
   },
   {
    "duration": 15,
    "start_time": "2022-06-10T06:30:56.387Z"
   },
   {
    "duration": 267,
    "start_time": "2022-06-10T06:30:56.403Z"
   },
   {
    "duration": 193,
    "start_time": "2022-06-10T06:30:56.673Z"
   },
   {
    "duration": 325,
    "start_time": "2022-06-10T06:30:56.868Z"
   },
   {
    "duration": 240,
    "start_time": "2022-06-10T06:30:57.195Z"
   },
   {
    "duration": 381,
    "start_time": "2022-06-10T06:30:57.437Z"
   },
   {
    "duration": 113,
    "start_time": "2022-06-10T06:30:57.821Z"
   },
   {
    "duration": 24,
    "start_time": "2022-06-10T06:30:57.936Z"
   },
   {
    "duration": 233,
    "start_time": "2022-06-10T06:30:57.962Z"
   },
   {
    "duration": 250,
    "start_time": "2022-06-10T06:30:58.196Z"
   },
   {
    "duration": 18,
    "start_time": "2022-06-10T06:30:58.448Z"
   },
   {
    "duration": 5,
    "start_time": "2022-06-10T06:30:58.468Z"
   },
   {
    "duration": 17,
    "start_time": "2022-06-10T06:30:58.475Z"
   },
   {
    "duration": 130,
    "start_time": "2022-06-10T06:30:58.495Z"
   },
   {
    "duration": 0,
    "start_time": "2022-06-10T06:30:58.627Z"
   },
   {
    "duration": 0,
    "start_time": "2022-06-10T06:30:58.628Z"
   },
   {
    "duration": 0,
    "start_time": "2022-06-10T06:30:58.630Z"
   },
   {
    "duration": 0,
    "start_time": "2022-06-10T06:30:58.631Z"
   },
   {
    "duration": 0,
    "start_time": "2022-06-10T06:30:58.633Z"
   },
   {
    "duration": 0,
    "start_time": "2022-06-10T06:30:58.634Z"
   },
   {
    "duration": 0,
    "start_time": "2022-06-10T06:30:58.636Z"
   },
   {
    "duration": 11,
    "start_time": "2022-06-10T06:41:38.656Z"
   },
   {
    "duration": 5,
    "start_time": "2022-06-10T06:41:56.739Z"
   },
   {
    "duration": 11,
    "start_time": "2022-06-10T06:43:31.503Z"
   },
   {
    "duration": 11,
    "start_time": "2022-06-10T06:43:38.308Z"
   },
   {
    "duration": 6,
    "start_time": "2022-06-10T06:45:37.343Z"
   },
   {
    "duration": 1123,
    "start_time": "2022-06-10T06:45:43.779Z"
   },
   {
    "duration": 79,
    "start_time": "2022-06-10T06:45:44.904Z"
   },
   {
    "duration": 11,
    "start_time": "2022-06-10T06:45:44.985Z"
   },
   {
    "duration": 2,
    "start_time": "2022-06-10T06:45:44.998Z"
   },
   {
    "duration": 12,
    "start_time": "2022-06-10T06:45:45.002Z"
   },
   {
    "duration": 20,
    "start_time": "2022-06-10T06:45:45.015Z"
   },
   {
    "duration": 15,
    "start_time": "2022-06-10T06:45:45.037Z"
   },
   {
    "duration": 9,
    "start_time": "2022-06-10T06:45:45.053Z"
   },
   {
    "duration": 22,
    "start_time": "2022-06-10T06:45:45.064Z"
   },
   {
    "duration": 8,
    "start_time": "2022-06-10T06:45:45.089Z"
   },
   {
    "duration": 9,
    "start_time": "2022-06-10T06:45:45.099Z"
   },
   {
    "duration": 17,
    "start_time": "2022-06-10T06:45:45.110Z"
   },
   {
    "duration": 8,
    "start_time": "2022-06-10T06:45:45.130Z"
   },
   {
    "duration": 23,
    "start_time": "2022-06-10T06:45:45.140Z"
   },
   {
    "duration": 14,
    "start_time": "2022-06-10T06:45:45.167Z"
   },
   {
    "duration": 7,
    "start_time": "2022-06-10T06:45:45.183Z"
   },
   {
    "duration": 12,
    "start_time": "2022-06-10T06:45:45.192Z"
   },
   {
    "duration": 277,
    "start_time": "2022-06-10T06:45:45.206Z"
   },
   {
    "duration": 4,
    "start_time": "2022-06-10T06:45:45.485Z"
   },
   {
    "duration": 17,
    "start_time": "2022-06-10T06:45:45.491Z"
   },
   {
    "duration": 262,
    "start_time": "2022-06-10T06:45:45.509Z"
   },
   {
    "duration": 201,
    "start_time": "2022-06-10T06:45:45.773Z"
   },
   {
    "duration": 65,
    "start_time": "2022-06-10T06:45:45.976Z"
   },
   {
    "duration": 28,
    "start_time": "2022-06-10T06:45:46.043Z"
   },
   {
    "duration": 16,
    "start_time": "2022-06-10T06:45:46.072Z"
   },
   {
    "duration": 85,
    "start_time": "2022-06-10T06:45:46.089Z"
   },
   {
    "duration": 4,
    "start_time": "2022-06-10T06:45:46.176Z"
   },
   {
    "duration": 11,
    "start_time": "2022-06-10T06:45:46.183Z"
   },
   {
    "duration": 21,
    "start_time": "2022-06-10T06:45:46.195Z"
   },
   {
    "duration": 14,
    "start_time": "2022-06-10T06:45:46.218Z"
   },
   {
    "duration": 8,
    "start_time": "2022-06-10T06:45:46.233Z"
   },
   {
    "duration": 33,
    "start_time": "2022-06-10T06:45:46.243Z"
   },
   {
    "duration": 254,
    "start_time": "2022-06-10T06:45:46.277Z"
   },
   {
    "duration": 194,
    "start_time": "2022-06-10T06:45:46.533Z"
   },
   {
    "duration": 324,
    "start_time": "2022-06-10T06:45:46.729Z"
   },
   {
    "duration": 292,
    "start_time": "2022-06-10T06:45:47.058Z"
   },
   {
    "duration": 418,
    "start_time": "2022-06-10T06:45:47.352Z"
   },
   {
    "duration": 110,
    "start_time": "2022-06-10T06:45:47.772Z"
   },
   {
    "duration": 9,
    "start_time": "2022-06-10T06:45:47.883Z"
   },
   {
    "duration": 242,
    "start_time": "2022-06-10T06:45:47.893Z"
   },
   {
    "duration": 286,
    "start_time": "2022-06-10T06:45:48.136Z"
   },
   {
    "duration": 8,
    "start_time": "2022-06-10T06:45:48.424Z"
   },
   {
    "duration": 10,
    "start_time": "2022-06-10T06:45:48.433Z"
   },
   {
    "duration": 32,
    "start_time": "2022-06-10T06:45:48.444Z"
   },
   {
    "duration": 109,
    "start_time": "2022-06-10T06:45:48.477Z"
   },
   {
    "duration": 0,
    "start_time": "2022-06-10T06:45:48.588Z"
   },
   {
    "duration": 0,
    "start_time": "2022-06-10T06:45:48.589Z"
   },
   {
    "duration": 0,
    "start_time": "2022-06-10T06:45:48.590Z"
   },
   {
    "duration": 0,
    "start_time": "2022-06-10T06:45:48.591Z"
   },
   {
    "duration": 0,
    "start_time": "2022-06-10T06:45:48.593Z"
   },
   {
    "duration": 0,
    "start_time": "2022-06-10T06:45:48.594Z"
   },
   {
    "duration": 0,
    "start_time": "2022-06-10T06:45:48.595Z"
   },
   {
    "duration": 5,
    "start_time": "2022-06-10T06:46:12.798Z"
   },
   {
    "duration": 1067,
    "start_time": "2022-06-10T06:46:17.824Z"
   },
   {
    "duration": 80,
    "start_time": "2022-06-10T06:46:18.893Z"
   },
   {
    "duration": 11,
    "start_time": "2022-06-10T06:46:18.975Z"
   },
   {
    "duration": 11,
    "start_time": "2022-06-10T06:46:18.987Z"
   },
   {
    "duration": 21,
    "start_time": "2022-06-10T06:46:19.000Z"
   },
   {
    "duration": 27,
    "start_time": "2022-06-10T06:46:19.023Z"
   },
   {
    "duration": 33,
    "start_time": "2022-06-10T06:46:19.052Z"
   },
   {
    "duration": 17,
    "start_time": "2022-06-10T06:46:19.087Z"
   },
   {
    "duration": 21,
    "start_time": "2022-06-10T06:46:19.105Z"
   },
   {
    "duration": 13,
    "start_time": "2022-06-10T06:46:19.127Z"
   },
   {
    "duration": 17,
    "start_time": "2022-06-10T06:46:19.141Z"
   },
   {
    "duration": 30,
    "start_time": "2022-06-10T06:46:19.160Z"
   },
   {
    "duration": 18,
    "start_time": "2022-06-10T06:46:19.191Z"
   },
   {
    "duration": 19,
    "start_time": "2022-06-10T06:46:19.212Z"
   },
   {
    "duration": 17,
    "start_time": "2022-06-10T06:46:19.233Z"
   },
   {
    "duration": 27,
    "start_time": "2022-06-10T06:46:19.251Z"
   },
   {
    "duration": 13,
    "start_time": "2022-06-10T06:46:19.280Z"
   },
   {
    "duration": 278,
    "start_time": "2022-06-10T06:46:19.295Z"
   },
   {
    "duration": 4,
    "start_time": "2022-06-10T06:46:19.575Z"
   },
   {
    "duration": 37,
    "start_time": "2022-06-10T06:46:19.580Z"
   },
   {
    "duration": 261,
    "start_time": "2022-06-10T06:46:19.618Z"
   },
   {
    "duration": 198,
    "start_time": "2022-06-10T06:46:19.881Z"
   },
   {
    "duration": 64,
    "start_time": "2022-06-10T06:46:20.080Z"
   },
   {
    "duration": 15,
    "start_time": "2022-06-10T06:46:20.146Z"
   },
   {
    "duration": 27,
    "start_time": "2022-06-10T06:46:20.163Z"
   },
   {
    "duration": 71,
    "start_time": "2022-06-10T06:46:20.191Z"
   },
   {
    "duration": 11,
    "start_time": "2022-06-10T06:46:20.263Z"
   },
   {
    "duration": 9,
    "start_time": "2022-06-10T06:46:20.276Z"
   },
   {
    "duration": 22,
    "start_time": "2022-06-10T06:46:20.287Z"
   },
   {
    "duration": 14,
    "start_time": "2022-06-10T06:46:20.311Z"
   },
   {
    "duration": 11,
    "start_time": "2022-06-10T06:46:20.327Z"
   },
   {
    "duration": 24,
    "start_time": "2022-06-10T06:46:20.339Z"
   },
   {
    "duration": 274,
    "start_time": "2022-06-10T06:46:20.366Z"
   },
   {
    "duration": 203,
    "start_time": "2022-06-10T06:46:20.642Z"
   },
   {
    "duration": 306,
    "start_time": "2022-06-10T06:46:20.847Z"
   },
   {
    "duration": 205,
    "start_time": "2022-06-10T06:46:21.162Z"
   },
   {
    "duration": 380,
    "start_time": "2022-06-10T06:46:21.369Z"
   },
   {
    "duration": 122,
    "start_time": "2022-06-10T06:46:21.758Z"
   },
   {
    "duration": 8,
    "start_time": "2022-06-10T06:46:21.882Z"
   },
   {
    "duration": 274,
    "start_time": "2022-06-10T06:46:21.892Z"
   },
   {
    "duration": 251,
    "start_time": "2022-06-10T06:46:22.180Z"
   },
   {
    "duration": 37,
    "start_time": "2022-06-10T06:46:22.433Z"
   },
   {
    "duration": 6,
    "start_time": "2022-06-10T06:46:22.471Z"
   },
   {
    "duration": 25,
    "start_time": "2022-06-10T06:46:22.478Z"
   },
   {
    "duration": 10,
    "start_time": "2022-06-10T06:46:22.506Z"
   },
   {
    "duration": 9,
    "start_time": "2022-06-10T06:46:22.518Z"
   },
   {
    "duration": 6,
    "start_time": "2022-06-10T06:46:22.528Z"
   },
   {
    "duration": 29,
    "start_time": "2022-06-10T06:46:22.535Z"
   },
   {
    "duration": 152,
    "start_time": "2022-06-10T06:46:22.566Z"
   },
   {
    "duration": 8,
    "start_time": "2022-06-10T06:46:22.720Z"
   },
   {
    "duration": 34,
    "start_time": "2022-06-10T06:46:22.730Z"
   },
   {
    "duration": 127,
    "start_time": "2022-06-10T06:46:22.766Z"
   },
   {
    "duration": 13,
    "start_time": "2022-06-10T06:46:33.029Z"
   },
   {
    "duration": 5,
    "start_time": "2022-06-10T06:47:53.647Z"
   },
   {
    "duration": 8,
    "start_time": "2022-06-10T06:48:03.801Z"
   },
   {
    "duration": 13,
    "start_time": "2022-06-10T06:48:05.792Z"
   },
   {
    "duration": 6,
    "start_time": "2022-06-10T06:51:36.036Z"
   },
   {
    "duration": 5,
    "start_time": "2022-06-10T06:51:38.076Z"
   },
   {
    "duration": 28,
    "start_time": "2022-06-10T06:52:16.989Z"
   },
   {
    "duration": 6,
    "start_time": "2022-06-10T06:52:42.381Z"
   },
   {
    "duration": 6,
    "start_time": "2022-06-10T06:52:49.117Z"
   },
   {
    "duration": 21,
    "start_time": "2022-06-10T06:53:10.178Z"
   },
   {
    "duration": 5,
    "start_time": "2022-06-10T06:53:18.914Z"
   },
   {
    "duration": 1238,
    "start_time": "2022-06-10T07:23:37.484Z"
   },
   {
    "duration": 71,
    "start_time": "2022-06-10T07:23:38.724Z"
   },
   {
    "duration": 12,
    "start_time": "2022-06-10T07:23:38.797Z"
   },
   {
    "duration": 4,
    "start_time": "2022-06-10T07:23:38.810Z"
   },
   {
    "duration": 16,
    "start_time": "2022-06-10T07:23:38.816Z"
   },
   {
    "duration": 6,
    "start_time": "2022-06-10T07:23:38.833Z"
   },
   {
    "duration": 10,
    "start_time": "2022-06-10T07:23:38.840Z"
   },
   {
    "duration": 27,
    "start_time": "2022-06-10T07:23:38.852Z"
   },
   {
    "duration": 17,
    "start_time": "2022-06-10T07:23:38.880Z"
   },
   {
    "duration": 13,
    "start_time": "2022-06-10T07:23:38.898Z"
   },
   {
    "duration": 9,
    "start_time": "2022-06-10T07:23:38.912Z"
   },
   {
    "duration": 20,
    "start_time": "2022-06-10T07:23:38.923Z"
   },
   {
    "duration": 9,
    "start_time": "2022-06-10T07:23:38.944Z"
   },
   {
    "duration": 21,
    "start_time": "2022-06-10T07:23:38.960Z"
   },
   {
    "duration": 8,
    "start_time": "2022-06-10T07:23:38.983Z"
   },
   {
    "duration": 9,
    "start_time": "2022-06-10T07:23:38.993Z"
   },
   {
    "duration": 16,
    "start_time": "2022-06-10T07:23:39.004Z"
   },
   {
    "duration": 319,
    "start_time": "2022-06-10T07:23:39.022Z"
   },
   {
    "duration": 5,
    "start_time": "2022-06-10T07:23:39.343Z"
   },
   {
    "duration": 41,
    "start_time": "2022-06-10T07:23:39.349Z"
   },
   {
    "duration": 244,
    "start_time": "2022-06-10T07:23:39.392Z"
   },
   {
    "duration": 188,
    "start_time": "2022-06-10T07:23:39.637Z"
   },
   {
    "duration": 6,
    "start_time": "2022-06-10T07:23:39.826Z"
   },
   {
    "duration": 7,
    "start_time": "2022-06-10T07:23:39.833Z"
   },
   {
    "duration": 87,
    "start_time": "2022-06-10T07:23:39.841Z"
   },
   {
    "duration": 6,
    "start_time": "2022-06-10T07:23:39.929Z"
   },
   {
    "duration": 140,
    "start_time": "2022-06-10T07:23:39.936Z"
   },
   {
    "duration": 0,
    "start_time": "2022-06-10T07:23:40.079Z"
   },
   {
    "duration": 0,
    "start_time": "2022-06-10T07:23:40.080Z"
   },
   {
    "duration": 0,
    "start_time": "2022-06-10T07:23:40.082Z"
   },
   {
    "duration": 0,
    "start_time": "2022-06-10T07:23:40.084Z"
   },
   {
    "duration": 0,
    "start_time": "2022-06-10T07:23:40.085Z"
   },
   {
    "duration": 0,
    "start_time": "2022-06-10T07:23:40.086Z"
   },
   {
    "duration": 0,
    "start_time": "2022-06-10T07:23:40.087Z"
   },
   {
    "duration": 0,
    "start_time": "2022-06-10T07:23:40.089Z"
   },
   {
    "duration": 0,
    "start_time": "2022-06-10T07:23:40.091Z"
   },
   {
    "duration": 0,
    "start_time": "2022-06-10T07:23:40.092Z"
   },
   {
    "duration": 0,
    "start_time": "2022-06-10T07:23:40.094Z"
   },
   {
    "duration": 0,
    "start_time": "2022-06-10T07:23:40.095Z"
   },
   {
    "duration": 0,
    "start_time": "2022-06-10T07:23:40.096Z"
   },
   {
    "duration": 0,
    "start_time": "2022-06-10T07:23:40.098Z"
   },
   {
    "duration": 0,
    "start_time": "2022-06-10T07:23:40.099Z"
   },
   {
    "duration": 0,
    "start_time": "2022-06-10T07:23:40.100Z"
   },
   {
    "duration": 0,
    "start_time": "2022-06-10T07:23:40.102Z"
   },
   {
    "duration": 0,
    "start_time": "2022-06-10T07:23:40.103Z"
   },
   {
    "duration": 0,
    "start_time": "2022-06-10T07:23:40.104Z"
   },
   {
    "duration": 0,
    "start_time": "2022-06-10T07:23:40.106Z"
   },
   {
    "duration": 0,
    "start_time": "2022-06-10T07:23:40.107Z"
   },
   {
    "duration": 0,
    "start_time": "2022-06-10T07:23:40.109Z"
   },
   {
    "duration": 0,
    "start_time": "2022-06-10T07:23:40.110Z"
   },
   {
    "duration": 0,
    "start_time": "2022-06-10T07:23:40.111Z"
   },
   {
    "duration": 0,
    "start_time": "2022-06-10T07:23:40.112Z"
   },
   {
    "duration": 0,
    "start_time": "2022-06-10T07:23:40.113Z"
   },
   {
    "duration": 12,
    "start_time": "2022-06-10T07:24:09.110Z"
   },
   {
    "duration": 33,
    "start_time": "2022-06-10T07:24:29.349Z"
   },
   {
    "duration": 4,
    "start_time": "2022-06-10T07:24:36.573Z"
   },
   {
    "duration": 5,
    "start_time": "2022-06-10T07:24:42.630Z"
   },
   {
    "duration": 20,
    "start_time": "2022-06-10T07:25:21.984Z"
   },
   {
    "duration": 68,
    "start_time": "2022-06-10T07:25:25.279Z"
   },
   {
    "duration": 6,
    "start_time": "2022-06-10T07:25:59.805Z"
   },
   {
    "duration": 1180,
    "start_time": "2022-06-10T07:26:05.548Z"
   },
   {
    "duration": 75,
    "start_time": "2022-06-10T07:26:06.730Z"
   },
   {
    "duration": 11,
    "start_time": "2022-06-10T07:26:06.807Z"
   },
   {
    "duration": 2,
    "start_time": "2022-06-10T07:26:06.820Z"
   },
   {
    "duration": 12,
    "start_time": "2022-06-10T07:26:06.824Z"
   },
   {
    "duration": 6,
    "start_time": "2022-06-10T07:26:06.837Z"
   },
   {
    "duration": 24,
    "start_time": "2022-06-10T07:26:06.844Z"
   },
   {
    "duration": 11,
    "start_time": "2022-06-10T07:26:06.872Z"
   },
   {
    "duration": 9,
    "start_time": "2022-06-10T07:26:06.885Z"
   },
   {
    "duration": 22,
    "start_time": "2022-06-10T07:26:06.896Z"
   },
   {
    "duration": 8,
    "start_time": "2022-06-10T07:26:06.920Z"
   },
   {
    "duration": 18,
    "start_time": "2022-06-10T07:26:06.929Z"
   },
   {
    "duration": 21,
    "start_time": "2022-06-10T07:26:06.949Z"
   },
   {
    "duration": 10,
    "start_time": "2022-06-10T07:26:06.973Z"
   },
   {
    "duration": 14,
    "start_time": "2022-06-10T07:26:06.985Z"
   },
   {
    "duration": 24,
    "start_time": "2022-06-10T07:26:07.001Z"
   },
   {
    "duration": 18,
    "start_time": "2022-06-10T07:26:07.027Z"
   },
   {
    "duration": 338,
    "start_time": "2022-06-10T07:26:07.047Z"
   },
   {
    "duration": 7,
    "start_time": "2022-06-10T07:26:07.387Z"
   },
   {
    "duration": 21,
    "start_time": "2022-06-10T07:26:07.397Z"
   },
   {
    "duration": 278,
    "start_time": "2022-06-10T07:26:07.420Z"
   },
   {
    "duration": 192,
    "start_time": "2022-06-10T07:26:07.699Z"
   },
   {
    "duration": 5,
    "start_time": "2022-06-10T07:26:07.892Z"
   },
   {
    "duration": 10,
    "start_time": "2022-06-10T07:26:07.899Z"
   },
   {
    "duration": 89,
    "start_time": "2022-06-10T07:26:07.910Z"
   },
   {
    "duration": 6,
    "start_time": "2022-06-10T07:26:08.000Z"
   },
   {
    "duration": 17,
    "start_time": "2022-06-10T07:26:08.008Z"
   },
   {
    "duration": 73,
    "start_time": "2022-06-10T07:26:08.028Z"
   },
   {
    "duration": 5,
    "start_time": "2022-06-10T07:26:08.102Z"
   },
   {
    "duration": 19,
    "start_time": "2022-06-10T07:26:08.108Z"
   },
   {
    "duration": 33,
    "start_time": "2022-06-10T07:26:08.129Z"
   },
   {
    "duration": 9,
    "start_time": "2022-06-10T07:26:08.168Z"
   },
   {
    "duration": 17,
    "start_time": "2022-06-10T07:26:08.178Z"
   },
   {
    "duration": 252,
    "start_time": "2022-06-10T07:26:08.197Z"
   },
   {
    "duration": 193,
    "start_time": "2022-06-10T07:26:08.451Z"
   },
   {
    "duration": 337,
    "start_time": "2022-06-10T07:26:08.646Z"
   },
   {
    "duration": 211,
    "start_time": "2022-06-10T07:26:08.985Z"
   },
   {
    "duration": 353,
    "start_time": "2022-06-10T07:26:09.198Z"
   },
   {
    "duration": 118,
    "start_time": "2022-06-10T07:26:09.558Z"
   },
   {
    "duration": 9,
    "start_time": "2022-06-10T07:26:09.678Z"
   },
   {
    "duration": 243,
    "start_time": "2022-06-10T07:26:09.689Z"
   },
   {
    "duration": 292,
    "start_time": "2022-06-10T07:26:09.933Z"
   },
   {
    "duration": 9,
    "start_time": "2022-06-10T07:26:10.227Z"
   },
   {
    "duration": 23,
    "start_time": "2022-06-10T07:26:10.238Z"
   },
   {
    "duration": 34,
    "start_time": "2022-06-10T07:26:10.263Z"
   },
   {
    "duration": 21,
    "start_time": "2022-06-10T07:26:10.298Z"
   },
   {
    "duration": 24,
    "start_time": "2022-06-10T07:26:10.321Z"
   },
   {
    "duration": 30,
    "start_time": "2022-06-10T07:26:10.346Z"
   },
   {
    "duration": 14,
    "start_time": "2022-06-10T07:26:10.378Z"
   },
   {
    "duration": 147,
    "start_time": "2022-06-10T07:26:10.394Z"
   },
   {
    "duration": 31,
    "start_time": "2022-06-10T07:26:10.542Z"
   },
   {
    "duration": 10,
    "start_time": "2022-06-10T07:26:10.576Z"
   },
   {
    "duration": 19,
    "start_time": "2022-06-10T07:26:10.588Z"
   },
   {
    "duration": 102,
    "start_time": "2022-06-10T07:26:50.285Z"
   },
   {
    "duration": 4,
    "start_time": "2022-06-10T07:27:00.353Z"
   },
   {
    "duration": 1097,
    "start_time": "2022-06-10T07:27:12.581Z"
   },
   {
    "duration": 68,
    "start_time": "2022-06-10T07:27:13.680Z"
   },
   {
    "duration": 25,
    "start_time": "2022-06-10T07:27:13.749Z"
   },
   {
    "duration": 6,
    "start_time": "2022-06-10T07:27:13.775Z"
   },
   {
    "duration": 13,
    "start_time": "2022-06-10T07:27:13.783Z"
   },
   {
    "duration": 24,
    "start_time": "2022-06-10T07:27:13.797Z"
   },
   {
    "duration": 36,
    "start_time": "2022-06-10T07:27:13.823Z"
   },
   {
    "duration": 20,
    "start_time": "2022-06-10T07:27:13.860Z"
   },
   {
    "duration": 11,
    "start_time": "2022-06-10T07:27:13.881Z"
   },
   {
    "duration": 7,
    "start_time": "2022-06-10T07:27:13.893Z"
   },
   {
    "duration": 6,
    "start_time": "2022-06-10T07:27:13.902Z"
   },
   {
    "duration": 16,
    "start_time": "2022-06-10T07:27:13.910Z"
   },
   {
    "duration": 6,
    "start_time": "2022-06-10T07:27:13.927Z"
   },
   {
    "duration": 4,
    "start_time": "2022-06-10T07:27:13.960Z"
   },
   {
    "duration": 5,
    "start_time": "2022-06-10T07:27:13.965Z"
   },
   {
    "duration": 11,
    "start_time": "2022-06-10T07:27:13.972Z"
   },
   {
    "duration": 10,
    "start_time": "2022-06-10T07:27:13.984Z"
   },
   {
    "duration": 284,
    "start_time": "2022-06-10T07:27:13.995Z"
   },
   {
    "duration": 4,
    "start_time": "2022-06-10T07:27:14.281Z"
   },
   {
    "duration": 12,
    "start_time": "2022-06-10T07:27:14.287Z"
   },
   {
    "duration": 273,
    "start_time": "2022-06-10T07:27:14.301Z"
   },
   {
    "duration": 207,
    "start_time": "2022-06-10T07:27:14.577Z"
   },
   {
    "duration": 7,
    "start_time": "2022-06-10T07:27:14.786Z"
   },
   {
    "duration": 9,
    "start_time": "2022-06-10T07:27:14.796Z"
   },
   {
    "duration": 103,
    "start_time": "2022-06-10T07:27:14.807Z"
   },
   {
    "duration": 6,
    "start_time": "2022-06-10T07:27:14.911Z"
   },
   {
    "duration": 16,
    "start_time": "2022-06-10T07:27:14.919Z"
   },
   {
    "duration": 79,
    "start_time": "2022-06-10T07:27:14.937Z"
   },
   {
    "duration": 5,
    "start_time": "2022-06-10T07:27:15.018Z"
   },
   {
    "duration": 33,
    "start_time": "2022-06-10T07:27:15.024Z"
   },
   {
    "duration": 21,
    "start_time": "2022-06-10T07:27:15.058Z"
   },
   {
    "duration": 13,
    "start_time": "2022-06-10T07:27:15.081Z"
   },
   {
    "duration": 18,
    "start_time": "2022-06-10T07:27:15.095Z"
   },
   {
    "duration": 273,
    "start_time": "2022-06-10T07:27:15.115Z"
   },
   {
    "duration": 195,
    "start_time": "2022-06-10T07:27:15.389Z"
   },
   {
    "duration": 264,
    "start_time": "2022-06-10T07:27:15.586Z"
   },
   {
    "duration": 203,
    "start_time": "2022-06-10T07:27:15.851Z"
   },
   {
    "duration": 416,
    "start_time": "2022-06-10T07:27:16.055Z"
   },
   {
    "duration": 106,
    "start_time": "2022-06-10T07:27:16.473Z"
   },
   {
    "duration": 8,
    "start_time": "2022-06-10T07:27:16.581Z"
   },
   {
    "duration": 276,
    "start_time": "2022-06-10T07:27:16.592Z"
   },
   {
    "duration": 264,
    "start_time": "2022-06-10T07:27:16.875Z"
   },
   {
    "duration": 18,
    "start_time": "2022-06-10T07:27:17.142Z"
   },
   {
    "duration": 30,
    "start_time": "2022-06-10T07:27:17.161Z"
   },
   {
    "duration": 19,
    "start_time": "2022-06-10T07:27:17.193Z"
   },
   {
    "duration": 23,
    "start_time": "2022-06-10T07:27:17.214Z"
   },
   {
    "duration": 16,
    "start_time": "2022-06-10T07:27:17.239Z"
   },
   {
    "duration": 36,
    "start_time": "2022-06-10T07:27:17.258Z"
   },
   {
    "duration": 15,
    "start_time": "2022-06-10T07:27:17.297Z"
   },
   {
    "duration": 224,
    "start_time": "2022-06-10T07:27:17.314Z"
   },
   {
    "duration": 9,
    "start_time": "2022-06-10T07:27:17.540Z"
   },
   {
    "duration": 12,
    "start_time": "2022-06-10T07:27:17.551Z"
   },
   {
    "duration": 22,
    "start_time": "2022-06-10T07:27:17.567Z"
   },
   {
    "duration": 11,
    "start_time": "2022-06-10T07:28:58.782Z"
   },
   {
    "duration": 4,
    "start_time": "2022-06-10T07:29:14.798Z"
   },
   {
    "duration": 341,
    "start_time": "2022-06-10T07:31:22.938Z"
   },
   {
    "duration": 5,
    "start_time": "2022-06-10T07:42:26.504Z"
   },
   {
    "duration": 1103,
    "start_time": "2022-06-10T07:42:33.116Z"
   },
   {
    "duration": 78,
    "start_time": "2022-06-10T07:42:34.220Z"
   },
   {
    "duration": 9,
    "start_time": "2022-06-10T07:42:34.300Z"
   },
   {
    "duration": 5,
    "start_time": "2022-06-10T07:42:34.311Z"
   },
   {
    "duration": 10,
    "start_time": "2022-06-10T07:42:34.318Z"
   },
   {
    "duration": 5,
    "start_time": "2022-06-10T07:42:34.330Z"
   },
   {
    "duration": 9,
    "start_time": "2022-06-10T07:42:34.336Z"
   },
   {
    "duration": 6,
    "start_time": "2022-06-10T07:42:34.347Z"
   },
   {
    "duration": 15,
    "start_time": "2022-06-10T07:42:34.354Z"
   },
   {
    "duration": 22,
    "start_time": "2022-06-10T07:42:34.372Z"
   },
   {
    "duration": 9,
    "start_time": "2022-06-10T07:42:34.395Z"
   },
   {
    "duration": 24,
    "start_time": "2022-06-10T07:42:34.405Z"
   },
   {
    "duration": 6,
    "start_time": "2022-06-10T07:42:34.430Z"
   },
   {
    "duration": 11,
    "start_time": "2022-06-10T07:42:34.438Z"
   },
   {
    "duration": 18,
    "start_time": "2022-06-10T07:42:34.451Z"
   },
   {
    "duration": 19,
    "start_time": "2022-06-10T07:42:34.471Z"
   },
   {
    "duration": 10,
    "start_time": "2022-06-10T07:42:34.492Z"
   },
   {
    "duration": 285,
    "start_time": "2022-06-10T07:42:34.503Z"
   },
   {
    "duration": 4,
    "start_time": "2022-06-10T07:42:34.792Z"
   },
   {
    "duration": 22,
    "start_time": "2022-06-10T07:42:34.798Z"
   },
   {
    "duration": 244,
    "start_time": "2022-06-10T07:42:34.821Z"
   },
   {
    "duration": 183,
    "start_time": "2022-06-10T07:42:35.067Z"
   },
   {
    "duration": 25,
    "start_time": "2022-06-10T07:42:35.252Z"
   },
   {
    "duration": 25,
    "start_time": "2022-06-10T07:42:35.279Z"
   },
   {
    "duration": 80,
    "start_time": "2022-06-10T07:42:35.306Z"
   },
   {
    "duration": 7,
    "start_time": "2022-06-10T07:42:35.388Z"
   },
   {
    "duration": 21,
    "start_time": "2022-06-10T07:42:35.396Z"
   },
   {
    "duration": 86,
    "start_time": "2022-06-10T07:42:35.421Z"
   },
   {
    "duration": 4,
    "start_time": "2022-06-10T07:42:35.509Z"
   },
   {
    "duration": 22,
    "start_time": "2022-06-10T07:42:35.515Z"
   },
   {
    "duration": 30,
    "start_time": "2022-06-10T07:42:35.538Z"
   },
   {
    "duration": 26,
    "start_time": "2022-06-10T07:42:35.570Z"
   },
   {
    "duration": 14,
    "start_time": "2022-06-10T07:42:35.597Z"
   },
   {
    "duration": 11,
    "start_time": "2022-06-10T07:42:35.612Z"
   },
   {
    "duration": 8,
    "start_time": "2022-06-10T07:42:35.625Z"
   },
   {
    "duration": 277,
    "start_time": "2022-06-10T07:42:35.635Z"
   },
   {
    "duration": 202,
    "start_time": "2022-06-10T07:42:35.913Z"
   },
   {
    "duration": 293,
    "start_time": "2022-06-10T07:42:36.117Z"
   },
   {
    "duration": 208,
    "start_time": "2022-06-10T07:42:36.412Z"
   },
   {
    "duration": 366,
    "start_time": "2022-06-10T07:42:36.622Z"
   },
   {
    "duration": 115,
    "start_time": "2022-06-10T07:42:36.990Z"
   },
   {
    "duration": 7,
    "start_time": "2022-06-10T07:42:37.107Z"
   },
   {
    "duration": 291,
    "start_time": "2022-06-10T07:42:37.115Z"
   },
   {
    "duration": 240,
    "start_time": "2022-06-10T07:42:37.408Z"
   },
   {
    "duration": 17,
    "start_time": "2022-06-10T07:42:37.650Z"
   },
   {
    "duration": 39,
    "start_time": "2022-06-10T07:42:37.671Z"
   },
   {
    "duration": 34,
    "start_time": "2022-06-10T07:42:37.711Z"
   },
   {
    "duration": 42,
    "start_time": "2022-06-10T07:42:37.747Z"
   },
   {
    "duration": 30,
    "start_time": "2022-06-10T07:42:37.790Z"
   },
   {
    "duration": 19,
    "start_time": "2022-06-10T07:42:37.821Z"
   },
   {
    "duration": 12,
    "start_time": "2022-06-10T07:42:37.841Z"
   },
   {
    "duration": 158,
    "start_time": "2022-06-10T07:42:37.855Z"
   },
   {
    "duration": 7,
    "start_time": "2022-06-10T07:42:38.015Z"
   },
   {
    "duration": 21,
    "start_time": "2022-06-10T07:42:38.024Z"
   },
   {
    "duration": 48,
    "start_time": "2022-06-10T07:42:38.046Z"
   },
   {
    "duration": 178,
    "start_time": "2022-06-10T07:49:29.497Z"
   },
   {
    "duration": 146,
    "start_time": "2022-06-10T07:49:44.335Z"
   },
   {
    "duration": 9,
    "start_time": "2022-06-10T07:49:51.001Z"
   },
   {
    "duration": 10,
    "start_time": "2022-06-10T07:49:59.281Z"
   },
   {
    "duration": 1110,
    "start_time": "2022-06-10T07:53:18.583Z"
   },
   {
    "duration": 79,
    "start_time": "2022-06-10T07:53:19.695Z"
   },
   {
    "duration": 11,
    "start_time": "2022-06-10T07:53:19.776Z"
   },
   {
    "duration": 6,
    "start_time": "2022-06-10T07:53:19.789Z"
   },
   {
    "duration": 11,
    "start_time": "2022-06-10T07:53:19.797Z"
   },
   {
    "duration": 7,
    "start_time": "2022-06-10T07:53:19.809Z"
   },
   {
    "duration": 9,
    "start_time": "2022-06-10T07:53:19.817Z"
   },
   {
    "duration": 4,
    "start_time": "2022-06-10T07:53:19.827Z"
   },
   {
    "duration": 10,
    "start_time": "2022-06-10T07:53:19.832Z"
   },
   {
    "duration": 7,
    "start_time": "2022-06-10T07:53:19.843Z"
   },
   {
    "duration": 17,
    "start_time": "2022-06-10T07:53:19.851Z"
   },
   {
    "duration": 23,
    "start_time": "2022-06-10T07:53:19.871Z"
   },
   {
    "duration": 5,
    "start_time": "2022-06-10T07:53:19.895Z"
   },
   {
    "duration": 4,
    "start_time": "2022-06-10T07:53:19.904Z"
   },
   {
    "duration": 8,
    "start_time": "2022-06-10T07:53:19.909Z"
   },
   {
    "duration": 8,
    "start_time": "2022-06-10T07:53:19.919Z"
   },
   {
    "duration": 10,
    "start_time": "2022-06-10T07:53:19.928Z"
   },
   {
    "duration": 287,
    "start_time": "2022-06-10T07:53:19.939Z"
   },
   {
    "duration": 5,
    "start_time": "2022-06-10T07:53:20.228Z"
   },
   {
    "duration": 27,
    "start_time": "2022-06-10T07:53:20.235Z"
   },
   {
    "duration": 249,
    "start_time": "2022-06-10T07:53:20.263Z"
   },
   {
    "duration": 184,
    "start_time": "2022-06-10T07:53:20.514Z"
   },
   {
    "duration": 5,
    "start_time": "2022-06-10T07:53:20.699Z"
   },
   {
    "duration": 10,
    "start_time": "2022-06-10T07:53:20.705Z"
   },
   {
    "duration": 88,
    "start_time": "2022-06-10T07:53:20.716Z"
   },
   {
    "duration": 7,
    "start_time": "2022-06-10T07:53:20.806Z"
   },
   {
    "duration": 25,
    "start_time": "2022-06-10T07:53:20.814Z"
   },
   {
    "duration": 71,
    "start_time": "2022-06-10T07:53:20.841Z"
   },
   {
    "duration": 3,
    "start_time": "2022-06-10T07:53:20.914Z"
   },
   {
    "duration": 18,
    "start_time": "2022-06-10T07:53:20.919Z"
   },
   {
    "duration": 40,
    "start_time": "2022-06-10T07:53:20.939Z"
   },
   {
    "duration": 15,
    "start_time": "2022-06-10T07:53:20.982Z"
   },
   {
    "duration": 11,
    "start_time": "2022-06-10T07:53:20.998Z"
   },
   {
    "duration": 15,
    "start_time": "2022-06-10T07:53:21.011Z"
   },
   {
    "duration": 11,
    "start_time": "2022-06-10T07:53:21.028Z"
   },
   {
    "duration": 287,
    "start_time": "2022-06-10T07:53:21.041Z"
   },
   {
    "duration": 198,
    "start_time": "2022-06-10T07:53:21.330Z"
   },
   {
    "duration": 314,
    "start_time": "2022-06-10T07:53:21.530Z"
   },
   {
    "duration": 237,
    "start_time": "2022-06-10T07:53:21.845Z"
   },
   {
    "duration": 366,
    "start_time": "2022-06-10T07:53:22.085Z"
   },
   {
    "duration": 119,
    "start_time": "2022-06-10T07:53:22.465Z"
   },
   {
    "duration": 7,
    "start_time": "2022-06-10T07:53:22.586Z"
   },
   {
    "duration": 245,
    "start_time": "2022-06-10T07:53:22.595Z"
   },
   {
    "duration": 290,
    "start_time": "2022-06-10T07:53:22.841Z"
   },
   {
    "duration": 8,
    "start_time": "2022-06-10T07:53:23.133Z"
   },
   {
    "duration": 18,
    "start_time": "2022-06-10T07:53:23.143Z"
   },
   {
    "duration": 160,
    "start_time": "2022-06-10T07:53:23.163Z"
   },
   {
    "duration": 14,
    "start_time": "2022-06-10T07:53:23.324Z"
   },
   {
    "duration": 8,
    "start_time": "2022-06-10T07:53:23.340Z"
   },
   {
    "duration": 31,
    "start_time": "2022-06-10T07:53:23.350Z"
   },
   {
    "duration": 10,
    "start_time": "2022-06-10T07:53:23.387Z"
   },
   {
    "duration": 7,
    "start_time": "2022-06-10T07:53:23.398Z"
   },
   {
    "duration": 141,
    "start_time": "2022-06-10T07:53:23.406Z"
   },
   {
    "duration": 22,
    "start_time": "2022-06-10T07:53:23.549Z"
   },
   {
    "duration": 22,
    "start_time": "2022-06-10T07:53:23.577Z"
   },
   {
    "duration": 9,
    "start_time": "2022-06-10T07:53:23.601Z"
   },
   {
    "duration": 1141,
    "start_time": "2022-06-10T08:04:16.005Z"
   },
   {
    "duration": 106,
    "start_time": "2022-06-10T08:04:17.147Z"
   },
   {
    "duration": 26,
    "start_time": "2022-06-10T08:04:17.255Z"
   },
   {
    "duration": 19,
    "start_time": "2022-06-10T08:04:17.290Z"
   },
   {
    "duration": 12,
    "start_time": "2022-06-10T08:04:17.312Z"
   },
   {
    "duration": 6,
    "start_time": "2022-06-10T08:04:17.326Z"
   },
   {
    "duration": 17,
    "start_time": "2022-06-10T08:04:17.334Z"
   },
   {
    "duration": 11,
    "start_time": "2022-06-10T08:04:17.353Z"
   },
   {
    "duration": 48,
    "start_time": "2022-06-10T08:04:17.366Z"
   },
   {
    "duration": 10,
    "start_time": "2022-06-10T08:04:17.416Z"
   },
   {
    "duration": 11,
    "start_time": "2022-06-10T08:04:17.428Z"
   },
   {
    "duration": 26,
    "start_time": "2022-06-10T08:04:17.441Z"
   },
   {
    "duration": 13,
    "start_time": "2022-06-10T08:04:17.473Z"
   },
   {
    "duration": 29,
    "start_time": "2022-06-10T08:04:17.492Z"
   },
   {
    "duration": 12,
    "start_time": "2022-06-10T08:04:17.523Z"
   },
   {
    "duration": 12,
    "start_time": "2022-06-10T08:04:17.537Z"
   },
   {
    "duration": 28,
    "start_time": "2022-06-10T08:04:17.550Z"
   },
   {
    "duration": 324,
    "start_time": "2022-06-10T08:04:17.584Z"
   },
   {
    "duration": 5,
    "start_time": "2022-06-10T08:04:17.910Z"
   },
   {
    "duration": 15,
    "start_time": "2022-06-10T08:04:17.916Z"
   },
   {
    "duration": 305,
    "start_time": "2022-06-10T08:04:17.932Z"
   },
   {
    "duration": 213,
    "start_time": "2022-06-10T08:04:18.239Z"
   },
   {
    "duration": 17,
    "start_time": "2022-06-10T08:04:18.458Z"
   },
   {
    "duration": 32,
    "start_time": "2022-06-10T08:04:18.476Z"
   },
   {
    "duration": 90,
    "start_time": "2022-06-10T08:04:18.510Z"
   },
   {
    "duration": 6,
    "start_time": "2022-06-10T08:04:18.602Z"
   },
   {
    "duration": 21,
    "start_time": "2022-06-10T08:04:18.609Z"
   },
   {
    "duration": 68,
    "start_time": "2022-06-10T08:04:18.632Z"
   },
   {
    "duration": 4,
    "start_time": "2022-06-10T08:04:18.702Z"
   },
   {
    "duration": 32,
    "start_time": "2022-06-10T08:04:18.707Z"
   },
   {
    "duration": 16,
    "start_time": "2022-06-10T08:04:18.740Z"
   },
   {
    "duration": 67,
    "start_time": "2022-06-10T08:04:18.757Z"
   },
   {
    "duration": 24,
    "start_time": "2022-06-10T08:04:18.826Z"
   },
   {
    "duration": 47,
    "start_time": "2022-06-10T08:04:18.852Z"
   },
   {
    "duration": 19,
    "start_time": "2022-06-10T08:04:18.902Z"
   },
   {
    "duration": 311,
    "start_time": "2022-06-10T08:04:18.923Z"
   },
   {
    "duration": 234,
    "start_time": "2022-06-10T08:04:19.235Z"
   },
   {
    "duration": 337,
    "start_time": "2022-06-10T08:04:19.471Z"
   },
   {
    "duration": 249,
    "start_time": "2022-06-10T08:04:19.810Z"
   },
   {
    "duration": 435,
    "start_time": "2022-06-10T08:04:20.066Z"
   },
   {
    "duration": 125,
    "start_time": "2022-06-10T08:04:20.505Z"
   },
   {
    "duration": 8,
    "start_time": "2022-06-10T08:04:20.632Z"
   },
   {
    "duration": 293,
    "start_time": "2022-06-10T08:04:20.641Z"
   },
   {
    "duration": 315,
    "start_time": "2022-06-10T08:04:20.936Z"
   },
   {
    "duration": 36,
    "start_time": "2022-06-10T08:04:21.254Z"
   },
   {
    "duration": 22,
    "start_time": "2022-06-10T08:04:21.291Z"
   },
   {
    "duration": 156,
    "start_time": "2022-06-10T08:04:21.315Z"
   },
   {
    "duration": 21,
    "start_time": "2022-06-10T08:04:21.480Z"
   },
   {
    "duration": 8,
    "start_time": "2022-06-10T08:04:21.503Z"
   },
   {
    "duration": 16,
    "start_time": "2022-06-10T08:04:21.512Z"
   },
   {
    "duration": 8,
    "start_time": "2022-06-10T08:04:21.530Z"
   },
   {
    "duration": 24,
    "start_time": "2022-06-10T08:04:21.540Z"
   },
   {
    "duration": 167,
    "start_time": "2022-06-10T08:04:21.566Z"
   },
   {
    "duration": 7,
    "start_time": "2022-06-10T08:04:21.735Z"
   },
   {
    "duration": 56,
    "start_time": "2022-06-10T08:04:21.761Z"
   },
   {
    "duration": 58,
    "start_time": "2022-06-10T08:04:21.818Z"
   },
   {
    "duration": 125,
    "start_time": "2022-06-10T08:08:07.111Z"
   },
   {
    "duration": 11,
    "start_time": "2022-06-10T08:08:50.606Z"
   },
   {
    "duration": 505,
    "start_time": "2022-06-10T08:09:05.072Z"
   },
   {
    "duration": 433,
    "start_time": "2022-06-10T08:09:25.498Z"
   },
   {
    "duration": 480,
    "start_time": "2022-06-10T08:09:32.751Z"
   },
   {
    "duration": 8,
    "start_time": "2022-06-10T08:10:27.147Z"
   },
   {
    "duration": 9,
    "start_time": "2022-06-10T08:10:32.901Z"
   },
   {
    "duration": 8,
    "start_time": "2022-06-10T08:40:22.320Z"
   },
   {
    "duration": 77,
    "start_time": "2022-06-10T08:41:54.132Z"
   },
   {
    "duration": 76,
    "start_time": "2022-06-10T08:42:05.352Z"
   },
   {
    "duration": 89,
    "start_time": "2022-06-10T08:42:07.877Z"
   },
   {
    "duration": 1113,
    "start_time": "2022-06-10T08:43:09.401Z"
   },
   {
    "duration": 83,
    "start_time": "2022-06-10T08:43:10.516Z"
   },
   {
    "duration": 11,
    "start_time": "2022-06-10T08:43:10.601Z"
   },
   {
    "duration": 4,
    "start_time": "2022-06-10T08:43:10.614Z"
   },
   {
    "duration": 10,
    "start_time": "2022-06-10T08:43:10.620Z"
   },
   {
    "duration": 7,
    "start_time": "2022-06-10T08:43:10.632Z"
   },
   {
    "duration": 12,
    "start_time": "2022-06-10T08:43:10.640Z"
   },
   {
    "duration": 4,
    "start_time": "2022-06-10T08:43:10.653Z"
   },
   {
    "duration": 31,
    "start_time": "2022-06-10T08:43:10.662Z"
   },
   {
    "duration": 7,
    "start_time": "2022-06-10T08:43:10.695Z"
   },
   {
    "duration": 8,
    "start_time": "2022-06-10T08:43:10.703Z"
   },
   {
    "duration": 14,
    "start_time": "2022-06-10T08:43:10.713Z"
   },
   {
    "duration": 7,
    "start_time": "2022-06-10T08:43:10.729Z"
   },
   {
    "duration": 11,
    "start_time": "2022-06-10T08:43:10.739Z"
   },
   {
    "duration": 10,
    "start_time": "2022-06-10T08:43:10.751Z"
   },
   {
    "duration": 43,
    "start_time": "2022-06-10T08:43:10.762Z"
   },
   {
    "duration": 20,
    "start_time": "2022-06-10T08:43:10.807Z"
   },
   {
    "duration": 294,
    "start_time": "2022-06-10T08:43:10.829Z"
   },
   {
    "duration": 4,
    "start_time": "2022-06-10T08:43:11.125Z"
   },
   {
    "duration": 15,
    "start_time": "2022-06-10T08:43:11.130Z"
   },
   {
    "duration": 276,
    "start_time": "2022-06-10T08:43:11.147Z"
   },
   {
    "duration": 203,
    "start_time": "2022-06-10T08:43:11.424Z"
   },
   {
    "duration": 7,
    "start_time": "2022-06-10T08:43:11.628Z"
   },
   {
    "duration": 8,
    "start_time": "2022-06-10T08:43:11.637Z"
   },
   {
    "duration": 73,
    "start_time": "2022-06-10T08:43:11.659Z"
   },
   {
    "duration": 5,
    "start_time": "2022-06-10T08:43:11.734Z"
   },
   {
    "duration": 37,
    "start_time": "2022-06-10T08:43:11.740Z"
   },
   {
    "duration": 71,
    "start_time": "2022-06-10T08:43:11.779Z"
   },
   {
    "duration": 4,
    "start_time": "2022-06-10T08:43:11.852Z"
   },
   {
    "duration": 42,
    "start_time": "2022-06-10T08:43:11.857Z"
   },
   {
    "duration": 14,
    "start_time": "2022-06-10T08:43:11.901Z"
   },
   {
    "duration": 6,
    "start_time": "2022-06-10T08:43:11.916Z"
   },
   {
    "duration": 15,
    "start_time": "2022-06-10T08:43:11.924Z"
   },
   {
    "duration": 10,
    "start_time": "2022-06-10T08:43:11.940Z"
   },
   {
    "duration": 11,
    "start_time": "2022-06-10T08:43:11.952Z"
   },
   {
    "duration": 291,
    "start_time": "2022-06-10T08:43:11.964Z"
   },
   {
    "duration": 207,
    "start_time": "2022-06-10T08:43:12.258Z"
   },
   {
    "duration": 299,
    "start_time": "2022-06-10T08:43:12.467Z"
   },
   {
    "duration": 223,
    "start_time": "2022-06-10T08:43:12.767Z"
   },
   {
    "duration": 402,
    "start_time": "2022-06-10T08:43:12.992Z"
   },
   {
    "duration": 118,
    "start_time": "2022-06-10T08:43:13.398Z"
   },
   {
    "duration": 7,
    "start_time": "2022-06-10T08:43:13.517Z"
   },
   {
    "duration": 266,
    "start_time": "2022-06-10T08:43:13.525Z"
   },
   {
    "duration": 252,
    "start_time": "2022-06-10T08:43:13.793Z"
   },
   {
    "duration": 29,
    "start_time": "2022-06-10T08:43:14.047Z"
   },
   {
    "duration": 16,
    "start_time": "2022-06-10T08:43:14.077Z"
   },
   {
    "duration": 10,
    "start_time": "2022-06-10T08:43:14.095Z"
   },
   {
    "duration": 71,
    "start_time": "2022-06-10T08:43:14.107Z"
   },
   {
    "duration": 87,
    "start_time": "2022-06-10T08:43:14.180Z"
   },
   {
    "duration": 31,
    "start_time": "2022-06-10T08:43:14.269Z"
   },
   {
    "duration": 8,
    "start_time": "2022-06-10T08:43:14.301Z"
   },
   {
    "duration": 10,
    "start_time": "2022-06-10T08:43:14.310Z"
   },
   {
    "duration": 5,
    "start_time": "2022-06-10T08:43:14.322Z"
   },
   {
    "duration": 9,
    "start_time": "2022-06-10T08:43:14.328Z"
   },
   {
    "duration": 147,
    "start_time": "2022-06-10T08:43:14.338Z"
   },
   {
    "duration": 7,
    "start_time": "2022-06-10T08:43:14.487Z"
   },
   {
    "duration": 8,
    "start_time": "2022-06-10T08:43:14.495Z"
   },
   {
    "duration": 10,
    "start_time": "2022-06-10T08:43:14.504Z"
   },
   {
    "duration": 8,
    "start_time": "2022-06-10T08:44:57.866Z"
   },
   {
    "duration": 6,
    "start_time": "2022-06-10T08:45:05.601Z"
   },
   {
    "duration": 7,
    "start_time": "2022-06-10T08:45:19.508Z"
   },
   {
    "duration": 29,
    "start_time": "2022-06-10T08:45:51.222Z"
   },
   {
    "duration": 5,
    "start_time": "2022-06-10T08:47:07.537Z"
   },
   {
    "duration": 3,
    "start_time": "2022-06-10T08:48:29.197Z"
   },
   {
    "duration": 4,
    "start_time": "2022-06-10T08:48:47.994Z"
   },
   {
    "duration": 3,
    "start_time": "2022-06-10T08:49:07.713Z"
   },
   {
    "duration": 121,
    "start_time": "2022-06-10T08:49:25.952Z"
   },
   {
    "duration": 3,
    "start_time": "2022-06-10T08:49:35.817Z"
   },
   {
    "duration": 8,
    "start_time": "2022-06-10T08:49:44.027Z"
   },
   {
    "duration": 4,
    "start_time": "2022-06-10T08:49:55.625Z"
   },
   {
    "duration": 33,
    "start_time": "2022-06-10T08:50:05.086Z"
   },
   {
    "duration": 15,
    "start_time": "2022-06-10T08:50:16.876Z"
   },
   {
    "duration": 22,
    "start_time": "2022-06-10T08:50:22.610Z"
   },
   {
    "duration": 5,
    "start_time": "2022-06-10T08:50:28.412Z"
   },
   {
    "duration": 11,
    "start_time": "2022-06-10T08:50:37.654Z"
   },
   {
    "duration": 27,
    "start_time": "2022-06-10T08:50:50.781Z"
   },
   {
    "duration": 5,
    "start_time": "2022-06-10T08:50:55.827Z"
   },
   {
    "duration": 7,
    "start_time": "2022-06-10T08:52:01.485Z"
   },
   {
    "duration": 4,
    "start_time": "2022-06-10T08:52:10.741Z"
   },
   {
    "duration": 4,
    "start_time": "2022-06-10T08:52:16.320Z"
   },
   {
    "duration": 37,
    "start_time": "2022-06-10T08:52:22.797Z"
   },
   {
    "duration": 23,
    "start_time": "2022-06-10T08:52:43.142Z"
   },
   {
    "duration": 18,
    "start_time": "2022-06-10T08:52:47.658Z"
   },
   {
    "duration": 8,
    "start_time": "2022-06-10T08:53:09.657Z"
   },
   {
    "duration": 60,
    "start_time": "2022-06-10T08:53:26.244Z"
   },
   {
    "duration": 44,
    "start_time": "2022-06-10T08:53:53.642Z"
   },
   {
    "duration": 9,
    "start_time": "2022-06-10T08:54:04.001Z"
   },
   {
    "duration": 1171,
    "start_time": "2022-06-10T08:54:12.408Z"
   },
   {
    "duration": 111,
    "start_time": "2022-06-10T08:54:13.581Z"
   },
   {
    "duration": 11,
    "start_time": "2022-06-10T08:54:13.694Z"
   },
   {
    "duration": 2,
    "start_time": "2022-06-10T08:54:13.707Z"
   },
   {
    "duration": 15,
    "start_time": "2022-06-10T08:54:13.710Z"
   },
   {
    "duration": 6,
    "start_time": "2022-06-10T08:54:13.726Z"
   },
   {
    "duration": 9,
    "start_time": "2022-06-10T08:54:13.734Z"
   },
   {
    "duration": 6,
    "start_time": "2022-06-10T08:54:13.745Z"
   },
   {
    "duration": 21,
    "start_time": "2022-06-10T08:54:13.752Z"
   },
   {
    "duration": 31,
    "start_time": "2022-06-10T08:54:13.776Z"
   },
   {
    "duration": 9,
    "start_time": "2022-06-10T08:54:13.809Z"
   },
   {
    "duration": 15,
    "start_time": "2022-06-10T08:54:13.819Z"
   },
   {
    "duration": 6,
    "start_time": "2022-06-10T08:54:13.836Z"
   },
   {
    "duration": 5,
    "start_time": "2022-06-10T08:54:13.844Z"
   },
   {
    "duration": 5,
    "start_time": "2022-06-10T08:54:13.851Z"
   },
   {
    "duration": 43,
    "start_time": "2022-06-10T08:54:13.858Z"
   },
   {
    "duration": 23,
    "start_time": "2022-06-10T08:54:13.903Z"
   },
   {
    "duration": 321,
    "start_time": "2022-06-10T08:54:13.928Z"
   },
   {
    "duration": 3,
    "start_time": "2022-06-10T08:54:14.251Z"
   },
   {
    "duration": 27,
    "start_time": "2022-06-10T08:54:14.255Z"
   },
   {
    "duration": 283,
    "start_time": "2022-06-10T08:54:14.284Z"
   },
   {
    "duration": 196,
    "start_time": "2022-06-10T08:54:14.570Z"
   },
   {
    "duration": 8,
    "start_time": "2022-06-10T08:54:14.768Z"
   },
   {
    "duration": 37,
    "start_time": "2022-06-10T08:54:14.777Z"
   },
   {
    "duration": 77,
    "start_time": "2022-06-10T08:54:14.816Z"
   },
   {
    "duration": 6,
    "start_time": "2022-06-10T08:54:14.899Z"
   },
   {
    "duration": 16,
    "start_time": "2022-06-10T08:54:14.907Z"
   },
   {
    "duration": 72,
    "start_time": "2022-06-10T08:54:14.926Z"
   },
   {
    "duration": 5,
    "start_time": "2022-06-10T08:54:15.000Z"
   },
   {
    "duration": 32,
    "start_time": "2022-06-10T08:54:15.006Z"
   },
   {
    "duration": 13,
    "start_time": "2022-06-10T08:54:15.040Z"
   },
   {
    "duration": 13,
    "start_time": "2022-06-10T08:54:15.055Z"
   },
   {
    "duration": 42,
    "start_time": "2022-06-10T08:54:15.070Z"
   },
   {
    "duration": 7,
    "start_time": "2022-06-10T08:54:15.114Z"
   },
   {
    "duration": 7,
    "start_time": "2022-06-10T08:54:15.122Z"
   },
   {
    "duration": 282,
    "start_time": "2022-06-10T08:54:15.130Z"
   },
   {
    "duration": 207,
    "start_time": "2022-06-10T08:54:15.413Z"
   },
   {
    "duration": 331,
    "start_time": "2022-06-10T08:54:15.621Z"
   },
   {
    "duration": 209,
    "start_time": "2022-06-10T08:54:15.954Z"
   },
   {
    "duration": 400,
    "start_time": "2022-06-10T08:54:16.164Z"
   },
   {
    "duration": 130,
    "start_time": "2022-06-10T08:54:16.565Z"
   },
   {
    "duration": 11,
    "start_time": "2022-06-10T08:54:16.702Z"
   },
   {
    "duration": 277,
    "start_time": "2022-06-10T08:54:16.715Z"
   },
   {
    "duration": 238,
    "start_time": "2022-06-10T08:54:16.997Z"
   },
   {
    "duration": 35,
    "start_time": "2022-06-10T08:54:17.237Z"
   },
   {
    "duration": 9,
    "start_time": "2022-06-10T08:54:17.275Z"
   },
   {
    "duration": 35,
    "start_time": "2022-06-10T08:54:17.286Z"
   },
   {
    "duration": 87,
    "start_time": "2022-06-10T08:54:17.324Z"
   },
   {
    "duration": 97,
    "start_time": "2022-06-10T08:54:17.414Z"
   },
   {
    "duration": 17,
    "start_time": "2022-06-10T08:54:17.513Z"
   },
   {
    "duration": 14,
    "start_time": "2022-06-10T08:54:17.532Z"
   },
   {
    "duration": 51,
    "start_time": "2022-06-10T08:54:17.559Z"
   },
   {
    "duration": 12,
    "start_time": "2022-06-10T08:54:17.612Z"
   },
   {
    "duration": 14,
    "start_time": "2022-06-10T08:54:17.625Z"
   },
   {
    "duration": 10,
    "start_time": "2022-06-10T08:54:17.641Z"
   },
   {
    "duration": 167,
    "start_time": "2022-06-10T08:54:17.652Z"
   },
   {
    "duration": 8,
    "start_time": "2022-06-10T08:54:17.821Z"
   },
   {
    "duration": 9,
    "start_time": "2022-06-10T08:54:17.830Z"
   },
   {
    "duration": 29,
    "start_time": "2022-06-10T08:54:17.840Z"
   },
   {
    "duration": 123,
    "start_time": "2022-06-10T08:54:53.229Z"
   },
   {
    "duration": 9,
    "start_time": "2022-06-10T08:55:13.990Z"
   },
   {
    "duration": 19,
    "start_time": "2022-06-10T09:00:17.024Z"
   },
   {
    "duration": 23,
    "start_time": "2022-06-10T09:00:44.094Z"
   },
   {
    "duration": 39,
    "start_time": "2022-06-10T09:00:56.349Z"
   },
   {
    "duration": 36,
    "start_time": "2022-06-10T09:03:12.977Z"
   },
   {
    "duration": 50,
    "start_time": "2022-06-10T09:03:36.954Z"
   },
   {
    "duration": 61,
    "start_time": "2022-06-10T09:03:45.143Z"
   },
   {
    "duration": 60,
    "start_time": "2022-06-10T09:07:03.449Z"
   },
   {
    "duration": 34,
    "start_time": "2022-06-10T09:16:21.147Z"
   },
   {
    "duration": 19,
    "start_time": "2022-06-10T09:16:31.584Z"
   },
   {
    "duration": 504,
    "start_time": "2022-06-10T09:16:38.728Z"
   },
   {
    "duration": 1253,
    "start_time": "2022-06-10T09:16:55.955Z"
   },
   {
    "duration": 98,
    "start_time": "2022-06-10T09:16:57.210Z"
   },
   {
    "duration": 13,
    "start_time": "2022-06-10T09:16:57.310Z"
   },
   {
    "duration": 15,
    "start_time": "2022-06-10T09:16:57.324Z"
   },
   {
    "duration": 20,
    "start_time": "2022-06-10T09:16:57.341Z"
   },
   {
    "duration": 49,
    "start_time": "2022-06-10T09:16:57.363Z"
   },
   {
    "duration": 14,
    "start_time": "2022-06-10T09:16:57.414Z"
   },
   {
    "duration": 11,
    "start_time": "2022-06-10T09:16:57.431Z"
   },
   {
    "duration": 14,
    "start_time": "2022-06-10T09:16:57.444Z"
   },
   {
    "duration": 57,
    "start_time": "2022-06-10T09:16:57.460Z"
   },
   {
    "duration": 13,
    "start_time": "2022-06-10T09:16:57.519Z"
   },
   {
    "duration": 25,
    "start_time": "2022-06-10T09:16:57.534Z"
   },
   {
    "duration": 55,
    "start_time": "2022-06-10T09:16:57.560Z"
   },
   {
    "duration": 11,
    "start_time": "2022-06-10T09:16:57.621Z"
   },
   {
    "duration": 11,
    "start_time": "2022-06-10T09:16:57.634Z"
   },
   {
    "duration": 15,
    "start_time": "2022-06-10T09:16:57.647Z"
   },
   {
    "duration": 49,
    "start_time": "2022-06-10T09:16:57.668Z"
   },
   {
    "duration": 312,
    "start_time": "2022-06-10T09:16:57.719Z"
   },
   {
    "duration": 4,
    "start_time": "2022-06-10T09:16:58.033Z"
   },
   {
    "duration": 31,
    "start_time": "2022-06-10T09:16:58.039Z"
   },
   {
    "duration": 305,
    "start_time": "2022-06-10T09:16:58.078Z"
   },
   {
    "duration": 225,
    "start_time": "2022-06-10T09:16:58.384Z"
   },
   {
    "duration": 7,
    "start_time": "2022-06-10T09:16:58.610Z"
   },
   {
    "duration": 7,
    "start_time": "2022-06-10T09:16:58.619Z"
   },
   {
    "duration": 105,
    "start_time": "2022-06-10T09:16:58.628Z"
   },
   {
    "duration": 7,
    "start_time": "2022-06-10T09:16:58.734Z"
   },
   {
    "duration": 32,
    "start_time": "2022-06-10T09:16:58.743Z"
   },
   {
    "duration": 92,
    "start_time": "2022-06-10T09:16:58.778Z"
   },
   {
    "duration": 6,
    "start_time": "2022-06-10T09:16:58.873Z"
   },
   {
    "duration": 37,
    "start_time": "2022-06-10T09:16:58.881Z"
   },
   {
    "duration": 14,
    "start_time": "2022-06-10T09:16:58.920Z"
   },
   {
    "duration": 11,
    "start_time": "2022-06-10T09:16:58.935Z"
   },
   {
    "duration": 19,
    "start_time": "2022-06-10T09:16:58.947Z"
   },
   {
    "duration": 41,
    "start_time": "2022-06-10T09:16:58.971Z"
   },
   {
    "duration": 8,
    "start_time": "2022-06-10T09:16:59.014Z"
   },
   {
    "duration": 313,
    "start_time": "2022-06-10T09:16:59.024Z"
   },
   {
    "duration": 228,
    "start_time": "2022-06-10T09:16:59.339Z"
   },
   {
    "duration": 312,
    "start_time": "2022-06-10T09:16:59.571Z"
   },
   {
    "duration": 243,
    "start_time": "2022-06-10T09:16:59.886Z"
   },
   {
    "duration": 455,
    "start_time": "2022-06-10T09:17:00.131Z"
   },
   {
    "duration": 131,
    "start_time": "2022-06-10T09:17:00.591Z"
   },
   {
    "duration": 9,
    "start_time": "2022-06-10T09:17:00.724Z"
   },
   {
    "duration": 310,
    "start_time": "2022-06-10T09:17:00.735Z"
   },
   {
    "duration": 286,
    "start_time": "2022-06-10T09:17:01.047Z"
   },
   {
    "duration": 8,
    "start_time": "2022-06-10T09:17:01.334Z"
   },
   {
    "duration": 82,
    "start_time": "2022-06-10T09:17:01.359Z"
   },
   {
    "duration": 113,
    "start_time": "2022-06-10T09:17:01.442Z"
   },
   {
    "duration": 84,
    "start_time": "2022-06-10T09:17:01.557Z"
   },
   {
    "duration": 101,
    "start_time": "2022-06-10T09:17:01.643Z"
   },
   {
    "duration": 61,
    "start_time": "2022-06-10T09:17:01.746Z"
   },
   {
    "duration": 38,
    "start_time": "2022-06-10T09:17:01.809Z"
   },
   {
    "duration": 78,
    "start_time": "2022-06-10T09:17:01.850Z"
   },
   {
    "duration": 25,
    "start_time": "2022-06-10T09:17:01.930Z"
   },
   {
    "duration": 220,
    "start_time": "2022-06-10T09:17:01.957Z"
   },
   {
    "duration": 18,
    "start_time": "2022-06-10T09:17:02.179Z"
   },
   {
    "duration": 23,
    "start_time": "2022-06-10T09:17:02.199Z"
   },
   {
    "duration": 20,
    "start_time": "2022-06-10T09:17:02.224Z"
   },
   {
    "duration": 89,
    "start_time": "2022-06-10T10:08:34.651Z"
   },
   {
    "duration": 8,
    "start_time": "2022-06-10T10:08:53.339Z"
   },
   {
    "duration": 124,
    "start_time": "2022-06-10T10:18:00.545Z"
   },
   {
    "duration": 16,
    "start_time": "2022-06-10T10:18:17.662Z"
   },
   {
    "duration": 25,
    "start_time": "2022-06-10T10:18:27.426Z"
   },
   {
    "duration": 20,
    "start_time": "2022-06-10T10:19:03.071Z"
   },
   {
    "duration": 1186,
    "start_time": "2022-06-10T10:19:19.082Z"
   },
   {
    "duration": 78,
    "start_time": "2022-06-10T10:19:20.270Z"
   },
   {
    "duration": 26,
    "start_time": "2022-06-10T10:19:20.349Z"
   },
   {
    "duration": 11,
    "start_time": "2022-06-10T10:19:20.382Z"
   },
   {
    "duration": 11,
    "start_time": "2022-06-10T10:19:20.395Z"
   },
   {
    "duration": 5,
    "start_time": "2022-06-10T10:19:20.407Z"
   },
   {
    "duration": 15,
    "start_time": "2022-06-10T10:19:20.413Z"
   },
   {
    "duration": 4,
    "start_time": "2022-06-10T10:19:20.430Z"
   },
   {
    "duration": 9,
    "start_time": "2022-06-10T10:19:20.436Z"
   },
   {
    "duration": 46,
    "start_time": "2022-06-10T10:19:20.446Z"
   },
   {
    "duration": 9,
    "start_time": "2022-06-10T10:19:20.494Z"
   },
   {
    "duration": 18,
    "start_time": "2022-06-10T10:19:20.505Z"
   },
   {
    "duration": 7,
    "start_time": "2022-06-10T10:19:20.525Z"
   },
   {
    "duration": 5,
    "start_time": "2022-06-10T10:19:20.535Z"
   },
   {
    "duration": 9,
    "start_time": "2022-06-10T10:19:20.541Z"
   },
   {
    "duration": 13,
    "start_time": "2022-06-10T10:19:20.552Z"
   },
   {
    "duration": 35,
    "start_time": "2022-06-10T10:19:20.571Z"
   },
   {
    "duration": 291,
    "start_time": "2022-06-10T10:19:20.607Z"
   },
   {
    "duration": 5,
    "start_time": "2022-06-10T10:19:20.900Z"
   },
   {
    "duration": 17,
    "start_time": "2022-06-10T10:19:20.906Z"
   },
   {
    "duration": 271,
    "start_time": "2022-06-10T10:19:20.925Z"
   },
   {
    "duration": 196,
    "start_time": "2022-06-10T10:19:21.198Z"
   },
   {
    "duration": 6,
    "start_time": "2022-06-10T10:19:21.396Z"
   },
   {
    "duration": 8,
    "start_time": "2022-06-10T10:19:21.404Z"
   },
   {
    "duration": 98,
    "start_time": "2022-06-10T10:19:21.414Z"
   },
   {
    "duration": 7,
    "start_time": "2022-06-10T10:19:21.514Z"
   },
   {
    "duration": 21,
    "start_time": "2022-06-10T10:19:21.523Z"
   },
   {
    "duration": 104,
    "start_time": "2022-06-10T10:19:21.545Z"
   },
   {
    "duration": 5,
    "start_time": "2022-06-10T10:19:21.651Z"
   },
   {
    "duration": 64,
    "start_time": "2022-06-10T10:19:21.657Z"
   },
   {
    "duration": 78,
    "start_time": "2022-06-10T10:19:21.723Z"
   },
   {
    "duration": 25,
    "start_time": "2022-06-10T10:19:21.803Z"
   },
   {
    "duration": 33,
    "start_time": "2022-06-10T10:19:21.830Z"
   },
   {
    "duration": 67,
    "start_time": "2022-06-10T10:19:21.864Z"
   },
   {
    "duration": 21,
    "start_time": "2022-06-10T10:19:21.933Z"
   },
   {
    "duration": 343,
    "start_time": "2022-06-10T10:19:21.956Z"
   },
   {
    "duration": 233,
    "start_time": "2022-06-10T10:19:22.301Z"
   },
   {
    "duration": 325,
    "start_time": "2022-06-10T10:19:22.536Z"
   },
   {
    "duration": 260,
    "start_time": "2022-06-10T10:19:22.863Z"
   },
   {
    "duration": 385,
    "start_time": "2022-06-10T10:19:23.124Z"
   },
   {
    "duration": 128,
    "start_time": "2022-06-10T10:19:23.513Z"
   },
   {
    "duration": 8,
    "start_time": "2022-06-10T10:19:23.642Z"
   },
   {
    "duration": 259,
    "start_time": "2022-06-10T10:19:23.667Z"
   },
   {
    "duration": 301,
    "start_time": "2022-06-10T10:19:23.928Z"
   },
   {
    "duration": 10,
    "start_time": "2022-06-10T10:19:24.231Z"
   },
   {
    "duration": 37,
    "start_time": "2022-06-10T10:19:24.260Z"
   },
   {
    "duration": 22,
    "start_time": "2022-06-10T10:19:24.299Z"
   },
   {
    "duration": 43,
    "start_time": "2022-06-10T10:19:24.323Z"
   },
   {
    "duration": 19,
    "start_time": "2022-06-10T10:19:24.368Z"
   },
   {
    "duration": 19,
    "start_time": "2022-06-10T10:19:24.390Z"
   },
   {
    "duration": 11,
    "start_time": "2022-06-10T10:19:24.411Z"
   },
   {
    "duration": 7,
    "start_time": "2022-06-10T10:19:24.424Z"
   },
   {
    "duration": 5,
    "start_time": "2022-06-10T10:19:24.433Z"
   },
   {
    "duration": 232,
    "start_time": "2022-06-10T10:19:24.440Z"
   },
   {
    "duration": 127,
    "start_time": "2022-06-10T10:19:24.675Z"
   },
   {
    "duration": 0,
    "start_time": "2022-06-10T10:19:24.804Z"
   },
   {
    "duration": 0,
    "start_time": "2022-06-10T10:19:24.804Z"
   },
   {
    "duration": 11,
    "start_time": "2022-06-10T10:20:34.215Z"
   },
   {
    "duration": 3,
    "start_time": "2022-06-10T10:23:50.420Z"
   },
   {
    "duration": 10,
    "start_time": "2022-06-10T10:23:54.534Z"
   },
   {
    "duration": 9,
    "start_time": "2022-06-10T10:24:11.648Z"
   },
   {
    "duration": 1152,
    "start_time": "2022-06-10T10:24:20.824Z"
   },
   {
    "duration": 81,
    "start_time": "2022-06-10T10:24:21.979Z"
   },
   {
    "duration": 27,
    "start_time": "2022-06-10T10:24:22.067Z"
   },
   {
    "duration": 9,
    "start_time": "2022-06-10T10:24:22.107Z"
   },
   {
    "duration": 10,
    "start_time": "2022-06-10T10:24:22.119Z"
   },
   {
    "duration": 9,
    "start_time": "2022-06-10T10:24:22.130Z"
   },
   {
    "duration": 14,
    "start_time": "2022-06-10T10:24:22.141Z"
   },
   {
    "duration": 59,
    "start_time": "2022-06-10T10:24:22.156Z"
   },
   {
    "duration": 12,
    "start_time": "2022-06-10T10:24:22.216Z"
   },
   {
    "duration": 9,
    "start_time": "2022-06-10T10:24:22.230Z"
   },
   {
    "duration": 22,
    "start_time": "2022-06-10T10:24:22.241Z"
   },
   {
    "duration": 35,
    "start_time": "2022-06-10T10:24:22.267Z"
   },
   {
    "duration": 41,
    "start_time": "2022-06-10T10:24:22.304Z"
   },
   {
    "duration": 61,
    "start_time": "2022-06-10T10:24:22.348Z"
   },
   {
    "duration": 12,
    "start_time": "2022-06-10T10:24:22.411Z"
   },
   {
    "duration": 12,
    "start_time": "2022-06-10T10:24:22.425Z"
   },
   {
    "duration": 24,
    "start_time": "2022-06-10T10:24:22.438Z"
   },
   {
    "duration": 374,
    "start_time": "2022-06-10T10:24:22.464Z"
   },
   {
    "duration": 5,
    "start_time": "2022-06-10T10:24:22.840Z"
   },
   {
    "duration": 79,
    "start_time": "2022-06-10T10:24:22.847Z"
   },
   {
    "duration": 364,
    "start_time": "2022-06-10T10:24:22.929Z"
   },
   {
    "duration": 242,
    "start_time": "2022-06-10T10:24:23.295Z"
   },
   {
    "duration": 5,
    "start_time": "2022-06-10T10:24:23.540Z"
   },
   {
    "duration": 77,
    "start_time": "2022-06-10T10:24:23.546Z"
   },
   {
    "duration": 81,
    "start_time": "2022-06-10T10:24:23.626Z"
   },
   {
    "duration": 7,
    "start_time": "2022-06-10T10:24:23.709Z"
   },
   {
    "duration": 25,
    "start_time": "2022-06-10T10:24:23.718Z"
   },
   {
    "duration": 101,
    "start_time": "2022-06-10T10:24:23.745Z"
   },
   {
    "duration": 7,
    "start_time": "2022-06-10T10:24:23.848Z"
   },
   {
    "duration": 75,
    "start_time": "2022-06-10T10:24:23.856Z"
   },
   {
    "duration": 32,
    "start_time": "2022-06-10T10:24:23.934Z"
   },
   {
    "duration": 42,
    "start_time": "2022-06-10T10:24:23.976Z"
   },
   {
    "duration": 27,
    "start_time": "2022-06-10T10:24:24.021Z"
   },
   {
    "duration": 10,
    "start_time": "2022-06-10T10:24:24.050Z"
   },
   {
    "duration": 85,
    "start_time": "2022-06-10T10:24:24.062Z"
   },
   {
    "duration": 394,
    "start_time": "2022-06-10T10:24:24.149Z"
   },
   {
    "duration": 243,
    "start_time": "2022-06-10T10:24:24.545Z"
   },
   {
    "duration": 325,
    "start_time": "2022-06-10T10:24:24.790Z"
   },
   {
    "duration": 307,
    "start_time": "2022-06-10T10:24:25.117Z"
   },
   {
    "duration": 426,
    "start_time": "2022-06-10T10:24:25.430Z"
   },
   {
    "duration": 193,
    "start_time": "2022-06-10T10:24:25.861Z"
   },
   {
    "duration": 19,
    "start_time": "2022-06-10T10:24:26.056Z"
   },
   {
    "duration": 422,
    "start_time": "2022-06-10T10:24:26.076Z"
   },
   {
    "duration": 303,
    "start_time": "2022-06-10T10:24:26.503Z"
   },
   {
    "duration": 23,
    "start_time": "2022-06-10T10:24:26.814Z"
   },
   {
    "duration": 97,
    "start_time": "2022-06-10T10:24:26.838Z"
   },
   {
    "duration": 39,
    "start_time": "2022-06-10T10:24:26.937Z"
   },
   {
    "duration": 76,
    "start_time": "2022-06-10T10:24:26.981Z"
   },
   {
    "duration": 19,
    "start_time": "2022-06-10T10:24:27.059Z"
   },
   {
    "duration": 77,
    "start_time": "2022-06-10T10:24:27.080Z"
   },
   {
    "duration": 78,
    "start_time": "2022-06-10T10:24:27.163Z"
   },
   {
    "duration": 74,
    "start_time": "2022-06-10T10:24:27.244Z"
   },
   {
    "duration": 23,
    "start_time": "2022-06-10T10:24:27.320Z"
   },
   {
    "duration": 9,
    "start_time": "2022-06-10T10:24:27.346Z"
   },
   {
    "duration": 265,
    "start_time": "2022-06-10T10:24:27.357Z"
   },
   {
    "duration": 8,
    "start_time": "2022-06-10T10:24:27.623Z"
   },
   {
    "duration": 113,
    "start_time": "2022-06-10T10:24:27.632Z"
   },
   {
    "duration": 30,
    "start_time": "2022-06-10T10:24:27.747Z"
   },
   {
    "duration": 34,
    "start_time": "2022-06-10T10:25:06.284Z"
   },
   {
    "duration": 5,
    "start_time": "2022-06-10T10:25:13.351Z"
   },
   {
    "duration": 6,
    "start_time": "2022-06-10T10:25:23.857Z"
   },
   {
    "duration": 145,
    "start_time": "2022-06-10T10:25:26.203Z"
   },
   {
    "duration": 135,
    "start_time": "2022-06-10T10:25:32.993Z"
   },
   {
    "duration": 2,
    "start_time": "2022-06-10T10:25:45.308Z"
   },
   {
    "duration": 151,
    "start_time": "2022-06-10T10:25:46.914Z"
   },
   {
    "duration": 9,
    "start_time": "2022-06-10T10:31:40.983Z"
   },
   {
    "duration": 6,
    "start_time": "2022-06-10T10:33:15.236Z"
   },
   {
    "duration": 12,
    "start_time": "2022-06-10T10:33:20.421Z"
   },
   {
    "duration": 21,
    "start_time": "2022-06-10T10:33:30.722Z"
   },
   {
    "duration": 3,
    "start_time": "2022-06-10T10:33:51.121Z"
   },
   {
    "duration": 22,
    "start_time": "2022-06-10T10:34:07.953Z"
   },
   {
    "duration": 1494,
    "start_time": "2022-06-10T10:34:36.112Z"
   },
   {
    "duration": 96,
    "start_time": "2022-06-10T10:34:37.615Z"
   },
   {
    "duration": 14,
    "start_time": "2022-06-10T10:34:37.719Z"
   },
   {
    "duration": 17,
    "start_time": "2022-06-10T10:34:37.735Z"
   },
   {
    "duration": 74,
    "start_time": "2022-06-10T10:34:37.755Z"
   },
   {
    "duration": 20,
    "start_time": "2022-06-10T10:34:37.831Z"
   },
   {
    "duration": 87,
    "start_time": "2022-06-10T10:34:37.853Z"
   },
   {
    "duration": 30,
    "start_time": "2022-06-10T10:34:37.942Z"
   },
   {
    "duration": 60,
    "start_time": "2022-06-10T10:34:37.976Z"
   },
   {
    "duration": 76,
    "start_time": "2022-06-10T10:34:38.038Z"
   },
   {
    "duration": 24,
    "start_time": "2022-06-10T10:34:38.116Z"
   },
   {
    "duration": 25,
    "start_time": "2022-06-10T10:34:38.141Z"
   },
   {
    "duration": 47,
    "start_time": "2022-06-10T10:34:38.172Z"
   },
   {
    "duration": 9,
    "start_time": "2022-06-10T10:34:38.222Z"
   },
   {
    "duration": 12,
    "start_time": "2022-06-10T10:34:38.232Z"
   },
   {
    "duration": 10,
    "start_time": "2022-06-10T10:34:38.245Z"
   },
   {
    "duration": 33,
    "start_time": "2022-06-10T10:34:38.257Z"
   },
   {
    "duration": 352,
    "start_time": "2022-06-10T10:34:38.291Z"
   },
   {
    "duration": 6,
    "start_time": "2022-06-10T10:34:38.646Z"
   },
   {
    "duration": 58,
    "start_time": "2022-06-10T10:34:38.668Z"
   },
   {
    "duration": 396,
    "start_time": "2022-06-10T10:34:38.728Z"
   },
   {
    "duration": 239,
    "start_time": "2022-06-10T10:34:39.126Z"
   },
   {
    "duration": 25,
    "start_time": "2022-06-10T10:34:39.371Z"
   },
   {
    "duration": 33,
    "start_time": "2022-06-10T10:34:39.400Z"
   },
   {
    "duration": 158,
    "start_time": "2022-06-10T10:34:39.435Z"
   },
   {
    "duration": 9,
    "start_time": "2022-06-10T10:34:39.596Z"
   },
   {
    "duration": 40,
    "start_time": "2022-06-10T10:34:39.608Z"
   },
   {
    "duration": 76,
    "start_time": "2022-06-10T10:34:39.649Z"
   },
   {
    "duration": 4,
    "start_time": "2022-06-10T10:34:39.728Z"
   },
   {
    "duration": 46,
    "start_time": "2022-06-10T10:34:39.734Z"
   },
   {
    "duration": 37,
    "start_time": "2022-06-10T10:34:39.789Z"
   },
   {
    "duration": 13,
    "start_time": "2022-06-10T10:34:39.829Z"
   },
   {
    "duration": 26,
    "start_time": "2022-06-10T10:34:39.844Z"
   },
   {
    "duration": 51,
    "start_time": "2022-06-10T10:34:39.871Z"
   },
   {
    "duration": 10,
    "start_time": "2022-06-10T10:34:39.924Z"
   },
   {
    "duration": 345,
    "start_time": "2022-06-10T10:34:39.936Z"
   },
   {
    "duration": 283,
    "start_time": "2022-06-10T10:34:40.289Z"
   },
   {
    "duration": 363,
    "start_time": "2022-06-10T10:34:40.577Z"
   },
   {
    "duration": 269,
    "start_time": "2022-06-10T10:34:40.942Z"
   },
   {
    "duration": 381,
    "start_time": "2022-06-10T10:34:41.213Z"
   },
   {
    "duration": 127,
    "start_time": "2022-06-10T10:34:41.599Z"
   },
   {
    "duration": 10,
    "start_time": "2022-06-10T10:34:41.728Z"
   },
   {
    "duration": 291,
    "start_time": "2022-06-10T10:34:41.739Z"
   },
   {
    "duration": 295,
    "start_time": "2022-06-10T10:34:42.032Z"
   },
   {
    "duration": 9,
    "start_time": "2022-06-10T10:34:42.330Z"
   },
   {
    "duration": 46,
    "start_time": "2022-06-10T10:34:42.340Z"
   },
   {
    "duration": 59,
    "start_time": "2022-06-10T10:34:42.389Z"
   },
   {
    "duration": 64,
    "start_time": "2022-06-10T10:34:42.450Z"
   },
   {
    "duration": 34,
    "start_time": "2022-06-10T10:34:42.516Z"
   },
   {
    "duration": 70,
    "start_time": "2022-06-10T10:34:42.552Z"
   },
   {
    "duration": 11,
    "start_time": "2022-06-10T10:34:42.624Z"
   },
   {
    "duration": 17,
    "start_time": "2022-06-10T10:34:42.638Z"
   },
   {
    "duration": 48,
    "start_time": "2022-06-10T10:34:42.657Z"
   },
   {
    "duration": 15,
    "start_time": "2022-06-10T10:34:42.708Z"
   },
   {
    "duration": 204,
    "start_time": "2022-06-10T10:34:42.725Z"
   },
   {
    "duration": 13,
    "start_time": "2022-06-10T10:34:42.933Z"
   },
   {
    "duration": 61,
    "start_time": "2022-06-10T10:34:42.967Z"
   },
   {
    "duration": 36,
    "start_time": "2022-06-10T10:34:43.030Z"
   },
   {
    "duration": 23,
    "start_time": "2022-06-10T10:37:16.654Z"
   },
   {
    "duration": 1316,
    "start_time": "2022-06-10T10:38:05.239Z"
   },
   {
    "duration": 109,
    "start_time": "2022-06-10T10:38:06.557Z"
   },
   {
    "duration": 36,
    "start_time": "2022-06-10T10:38:06.668Z"
   },
   {
    "duration": 14,
    "start_time": "2022-06-10T10:38:06.706Z"
   },
   {
    "duration": 10,
    "start_time": "2022-06-10T10:38:06.722Z"
   },
   {
    "duration": 7,
    "start_time": "2022-06-10T10:38:06.735Z"
   },
   {
    "duration": 13,
    "start_time": "2022-06-10T10:38:06.745Z"
   },
   {
    "duration": 63,
    "start_time": "2022-06-10T10:38:06.759Z"
   },
   {
    "duration": 10,
    "start_time": "2022-06-10T10:38:06.824Z"
   },
   {
    "duration": 13,
    "start_time": "2022-06-10T10:38:06.836Z"
   },
   {
    "duration": 27,
    "start_time": "2022-06-10T10:38:06.851Z"
   },
   {
    "duration": 48,
    "start_time": "2022-06-10T10:38:06.888Z"
   },
   {
    "duration": 9,
    "start_time": "2022-06-10T10:38:06.938Z"
   },
   {
    "duration": 10,
    "start_time": "2022-06-10T10:38:06.953Z"
   },
   {
    "duration": 48,
    "start_time": "2022-06-10T10:38:06.971Z"
   },
   {
    "duration": 11,
    "start_time": "2022-06-10T10:38:07.021Z"
   },
   {
    "duration": 16,
    "start_time": "2022-06-10T10:38:07.034Z"
   },
   {
    "duration": 458,
    "start_time": "2022-06-10T10:38:07.052Z"
   },
   {
    "duration": 25,
    "start_time": "2022-06-10T10:38:07.512Z"
   },
   {
    "duration": 36,
    "start_time": "2022-06-10T10:38:07.539Z"
   },
   {
    "duration": 359,
    "start_time": "2022-06-10T10:38:07.585Z"
   },
   {
    "duration": 262,
    "start_time": "2022-06-10T10:38:07.947Z"
   },
   {
    "duration": 21,
    "start_time": "2022-06-10T10:38:08.212Z"
   },
   {
    "duration": 12,
    "start_time": "2022-06-10T10:38:08.237Z"
   },
   {
    "duration": 84,
    "start_time": "2022-06-10T10:38:08.251Z"
   },
   {
    "duration": 7,
    "start_time": "2022-06-10T10:38:08.337Z"
   },
   {
    "duration": 47,
    "start_time": "2022-06-10T10:38:08.345Z"
   },
   {
    "duration": 113,
    "start_time": "2022-06-10T10:38:08.395Z"
   },
   {
    "duration": 6,
    "start_time": "2022-06-10T10:38:08.510Z"
   },
   {
    "duration": 32,
    "start_time": "2022-06-10T10:38:08.519Z"
   },
   {
    "duration": 35,
    "start_time": "2022-06-10T10:38:08.553Z"
   },
   {
    "duration": 49,
    "start_time": "2022-06-10T10:38:08.590Z"
   },
   {
    "duration": 38,
    "start_time": "2022-06-10T10:38:08.641Z"
   },
   {
    "duration": 51,
    "start_time": "2022-06-10T10:38:08.680Z"
   },
   {
    "duration": 13,
    "start_time": "2022-06-10T10:38:08.734Z"
   },
   {
    "duration": 364,
    "start_time": "2022-06-10T10:38:08.749Z"
   },
   {
    "duration": 226,
    "start_time": "2022-06-10T10:38:09.115Z"
   },
   {
    "duration": 368,
    "start_time": "2022-06-10T10:38:09.343Z"
   },
   {
    "duration": 242,
    "start_time": "2022-06-10T10:38:09.713Z"
   },
   {
    "duration": 448,
    "start_time": "2022-06-10T10:38:09.957Z"
   },
   {
    "duration": 127,
    "start_time": "2022-06-10T10:38:10.409Z"
   },
   {
    "duration": 9,
    "start_time": "2022-06-10T10:38:10.538Z"
   },
   {
    "duration": 290,
    "start_time": "2022-06-10T10:38:10.549Z"
   },
   {
    "duration": 280,
    "start_time": "2022-06-10T10:38:10.841Z"
   },
   {
    "duration": 8,
    "start_time": "2022-06-10T10:38:11.123Z"
   },
   {
    "duration": 5,
    "start_time": "2022-06-10T10:38:11.133Z"
   },
   {
    "duration": 25,
    "start_time": "2022-06-10T10:38:11.165Z"
   },
   {
    "duration": 79,
    "start_time": "2022-06-10T10:38:11.192Z"
   },
   {
    "duration": 22,
    "start_time": "2022-06-10T10:38:11.276Z"
   },
   {
    "duration": 37,
    "start_time": "2022-06-10T10:38:11.300Z"
   },
   {
    "duration": 7,
    "start_time": "2022-06-10T10:38:11.339Z"
   },
   {
    "duration": 20,
    "start_time": "2022-06-10T10:38:11.347Z"
   },
   {
    "duration": 57,
    "start_time": "2022-06-10T10:38:11.372Z"
   },
   {
    "duration": 12,
    "start_time": "2022-06-10T10:38:11.430Z"
   },
   {
    "duration": 149,
    "start_time": "2022-06-10T10:38:11.444Z"
   },
   {
    "duration": 9,
    "start_time": "2022-06-10T10:38:11.594Z"
   },
   {
    "duration": 24,
    "start_time": "2022-06-10T10:38:11.604Z"
   },
   {
    "duration": 19,
    "start_time": "2022-06-10T10:38:11.630Z"
   },
   {
    "duration": 40,
    "start_time": "2022-06-10T13:03:38.880Z"
   },
   {
    "duration": 1126,
    "start_time": "2022-06-10T13:03:49.485Z"
   },
   {
    "duration": 194,
    "start_time": "2022-06-10T13:03:50.613Z"
   },
   {
    "duration": 11,
    "start_time": "2022-06-10T13:03:50.809Z"
   },
   {
    "duration": 5,
    "start_time": "2022-06-10T13:03:50.821Z"
   },
   {
    "duration": 8,
    "start_time": "2022-06-10T13:03:50.827Z"
   },
   {
    "duration": 3,
    "start_time": "2022-06-10T13:03:50.836Z"
   },
   {
    "duration": 11,
    "start_time": "2022-06-10T13:03:50.841Z"
   },
   {
    "duration": 5,
    "start_time": "2022-06-10T13:03:50.853Z"
   },
   {
    "duration": 8,
    "start_time": "2022-06-10T13:03:50.859Z"
   },
   {
    "duration": 5,
    "start_time": "2022-06-10T13:03:50.869Z"
   },
   {
    "duration": 8,
    "start_time": "2022-06-10T13:03:50.875Z"
   },
   {
    "duration": 14,
    "start_time": "2022-06-10T13:03:50.884Z"
   },
   {
    "duration": 5,
    "start_time": "2022-06-10T13:03:50.899Z"
   },
   {
    "duration": 5,
    "start_time": "2022-06-10T13:03:50.905Z"
   },
   {
    "duration": 6,
    "start_time": "2022-06-10T13:03:50.911Z"
   },
   {
    "duration": 8,
    "start_time": "2022-06-10T13:03:50.918Z"
   },
   {
    "duration": 9,
    "start_time": "2022-06-10T13:03:50.927Z"
   },
   {
    "duration": 241,
    "start_time": "2022-06-10T13:03:50.937Z"
   },
   {
    "duration": 4,
    "start_time": "2022-06-10T13:03:51.179Z"
   },
   {
    "duration": 9,
    "start_time": "2022-06-10T13:03:51.190Z"
   },
   {
    "duration": 213,
    "start_time": "2022-06-10T13:03:51.200Z"
   },
   {
    "duration": 158,
    "start_time": "2022-06-10T13:03:51.414Z"
   },
   {
    "duration": 4,
    "start_time": "2022-06-10T13:03:51.574Z"
   },
   {
    "duration": 14,
    "start_time": "2022-06-10T13:03:51.579Z"
   },
   {
    "duration": 59,
    "start_time": "2022-06-10T13:03:51.594Z"
   },
   {
    "duration": 4,
    "start_time": "2022-06-10T13:03:51.655Z"
   },
   {
    "duration": 13,
    "start_time": "2022-06-10T13:03:51.661Z"
   },
   {
    "duration": 50,
    "start_time": "2022-06-10T13:03:51.693Z"
   },
   {
    "duration": 4,
    "start_time": "2022-06-10T13:03:51.744Z"
   },
   {
    "duration": 28,
    "start_time": "2022-06-10T13:03:51.749Z"
   },
   {
    "duration": 18,
    "start_time": "2022-06-10T13:03:51.778Z"
   },
   {
    "duration": 5,
    "start_time": "2022-06-10T13:03:51.797Z"
   },
   {
    "duration": 11,
    "start_time": "2022-06-10T13:03:51.803Z"
   },
   {
    "duration": 10,
    "start_time": "2022-06-10T13:03:51.815Z"
   },
   {
    "duration": 14,
    "start_time": "2022-06-10T13:03:51.826Z"
   },
   {
    "duration": 226,
    "start_time": "2022-06-10T13:03:51.841Z"
   },
   {
    "duration": 160,
    "start_time": "2022-06-10T13:03:52.069Z"
   },
   {
    "duration": 270,
    "start_time": "2022-06-10T13:03:52.230Z"
   },
   {
    "duration": 169,
    "start_time": "2022-06-10T13:03:52.501Z"
   },
   {
    "duration": 307,
    "start_time": "2022-06-10T13:03:52.671Z"
   },
   {
    "duration": 98,
    "start_time": "2022-06-10T13:03:52.979Z"
   },
   {
    "duration": 14,
    "start_time": "2022-06-10T13:03:53.079Z"
   },
   {
    "duration": 208,
    "start_time": "2022-06-10T13:03:53.094Z"
   },
   {
    "duration": 225,
    "start_time": "2022-06-10T13:03:53.303Z"
   },
   {
    "duration": 7,
    "start_time": "2022-06-10T13:03:53.529Z"
   },
   {
    "duration": 5,
    "start_time": "2022-06-10T13:03:53.537Z"
   },
   {
    "duration": 22,
    "start_time": "2022-06-10T13:03:53.543Z"
   },
   {
    "duration": 51,
    "start_time": "2022-06-10T13:03:53.567Z"
   },
   {
    "duration": 12,
    "start_time": "2022-06-10T13:03:53.620Z"
   },
   {
    "duration": 7,
    "start_time": "2022-06-10T13:03:53.633Z"
   },
   {
    "duration": 5,
    "start_time": "2022-06-10T13:03:53.641Z"
   },
   {
    "duration": 6,
    "start_time": "2022-06-10T13:03:53.647Z"
   },
   {
    "duration": 4,
    "start_time": "2022-06-10T13:03:53.655Z"
   },
   {
    "duration": 33,
    "start_time": "2022-06-10T13:03:53.660Z"
   },
   {
    "duration": 132,
    "start_time": "2022-06-10T13:03:53.695Z"
   },
   {
    "duration": 89,
    "start_time": "2022-06-10T13:03:53.828Z"
   },
   {
    "duration": 0,
    "start_time": "2022-06-10T13:03:53.918Z"
   },
   {
    "duration": 0,
    "start_time": "2022-06-10T13:03:53.920Z"
   },
   {
    "duration": 3,
    "start_time": "2022-06-10T13:04:34.871Z"
   },
   {
    "duration": 108,
    "start_time": "2022-06-10T13:04:43.100Z"
   },
   {
    "duration": 7,
    "start_time": "2022-06-10T13:04:45.928Z"
   },
   {
    "duration": 32,
    "start_time": "2022-06-10T13:05:40.570Z"
   },
   {
    "duration": 4,
    "start_time": "2022-06-10T13:05:48.012Z"
   },
   {
    "duration": 5,
    "start_time": "2022-06-10T13:06:08.712Z"
   },
   {
    "duration": 935,
    "start_time": "2022-06-10T13:06:58.511Z"
   },
   {
    "duration": 75,
    "start_time": "2022-06-10T13:06:59.448Z"
   },
   {
    "duration": 9,
    "start_time": "2022-06-10T13:06:59.525Z"
   },
   {
    "duration": 2,
    "start_time": "2022-06-10T13:06:59.536Z"
   },
   {
    "duration": 8,
    "start_time": "2022-06-10T13:06:59.540Z"
   },
   {
    "duration": 3,
    "start_time": "2022-06-10T13:06:59.550Z"
   },
   {
    "duration": 10,
    "start_time": "2022-06-10T13:06:59.555Z"
   },
   {
    "duration": 3,
    "start_time": "2022-06-10T13:06:59.567Z"
   },
   {
    "duration": 6,
    "start_time": "2022-06-10T13:06:59.571Z"
   },
   {
    "duration": 5,
    "start_time": "2022-06-10T13:06:59.579Z"
   },
   {
    "duration": 6,
    "start_time": "2022-06-10T13:06:59.585Z"
   },
   {
    "duration": 12,
    "start_time": "2022-06-10T13:06:59.592Z"
   },
   {
    "duration": 5,
    "start_time": "2022-06-10T13:06:59.605Z"
   },
   {
    "duration": 4,
    "start_time": "2022-06-10T13:06:59.611Z"
   },
   {
    "duration": 4,
    "start_time": "2022-06-10T13:06:59.617Z"
   },
   {
    "duration": 6,
    "start_time": "2022-06-10T13:06:59.622Z"
   },
   {
    "duration": 8,
    "start_time": "2022-06-10T13:06:59.629Z"
   },
   {
    "duration": 245,
    "start_time": "2022-06-10T13:06:59.638Z"
   },
   {
    "duration": 7,
    "start_time": "2022-06-10T13:06:59.885Z"
   },
   {
    "duration": 14,
    "start_time": "2022-06-10T13:06:59.893Z"
   },
   {
    "duration": 218,
    "start_time": "2022-06-10T13:06:59.908Z"
   },
   {
    "duration": 168,
    "start_time": "2022-06-10T13:07:00.128Z"
   },
   {
    "duration": 6,
    "start_time": "2022-06-10T13:07:00.297Z"
   },
   {
    "duration": 31,
    "start_time": "2022-06-10T13:07:00.304Z"
   },
   {
    "duration": 99,
    "start_time": "2022-06-10T13:07:00.337Z"
   },
   {
    "duration": 6,
    "start_time": "2022-06-10T13:07:00.437Z"
   },
   {
    "duration": 21,
    "start_time": "2022-06-10T13:07:00.444Z"
   },
   {
    "duration": 67,
    "start_time": "2022-06-10T13:07:00.469Z"
   },
   {
    "duration": 4,
    "start_time": "2022-06-10T13:07:00.537Z"
   },
   {
    "duration": 25,
    "start_time": "2022-06-10T13:07:00.542Z"
   },
   {
    "duration": 24,
    "start_time": "2022-06-10T13:07:00.569Z"
   },
   {
    "duration": 20,
    "start_time": "2022-06-10T13:07:00.594Z"
   },
   {
    "duration": 20,
    "start_time": "2022-06-10T13:07:00.616Z"
   },
   {
    "duration": 6,
    "start_time": "2022-06-10T13:07:00.638Z"
   },
   {
    "duration": 5,
    "start_time": "2022-06-10T13:07:00.645Z"
   },
   {
    "duration": 226,
    "start_time": "2022-06-10T13:07:00.652Z"
   },
   {
    "duration": 158,
    "start_time": "2022-06-10T13:07:00.880Z"
   },
   {
    "duration": 232,
    "start_time": "2022-06-10T13:07:01.040Z"
   },
   {
    "duration": 176,
    "start_time": "2022-06-10T13:07:01.273Z"
   },
   {
    "duration": 310,
    "start_time": "2022-06-10T13:07:01.451Z"
   },
   {
    "duration": 107,
    "start_time": "2022-06-10T13:07:01.762Z"
   },
   {
    "duration": 7,
    "start_time": "2022-06-10T13:07:01.870Z"
   },
   {
    "duration": 228,
    "start_time": "2022-06-10T13:07:01.878Z"
   },
   {
    "duration": 229,
    "start_time": "2022-06-10T13:07:02.108Z"
   },
   {
    "duration": 7,
    "start_time": "2022-06-10T13:07:02.339Z"
   },
   {
    "duration": 20,
    "start_time": "2022-06-10T13:07:02.347Z"
   },
   {
    "duration": 25,
    "start_time": "2022-06-10T13:07:02.368Z"
   },
   {
    "duration": 37,
    "start_time": "2022-06-10T13:07:02.395Z"
   },
   {
    "duration": 17,
    "start_time": "2022-06-10T13:07:02.433Z"
   },
   {
    "duration": 26,
    "start_time": "2022-06-10T13:07:02.451Z"
   },
   {
    "duration": 24,
    "start_time": "2022-06-10T13:07:02.478Z"
   },
   {
    "duration": 24,
    "start_time": "2022-06-10T13:07:02.503Z"
   },
   {
    "duration": 18,
    "start_time": "2022-06-10T13:07:02.528Z"
   },
   {
    "duration": 26,
    "start_time": "2022-06-10T13:07:02.547Z"
   },
   {
    "duration": 12,
    "start_time": "2022-06-10T13:07:02.574Z"
   },
   {
    "duration": 22,
    "start_time": "2022-06-10T13:07:02.587Z"
   },
   {
    "duration": 129,
    "start_time": "2022-06-10T13:07:02.611Z"
   },
   {
    "duration": 6,
    "start_time": "2022-06-10T13:07:02.742Z"
   },
   {
    "duration": 20,
    "start_time": "2022-06-10T13:07:02.749Z"
   },
   {
    "duration": 26,
    "start_time": "2022-06-10T13:07:02.771Z"
   },
   {
    "duration": 38,
    "start_time": "2022-06-10T15:19:26.082Z"
   },
   {
    "duration": 1293,
    "start_time": "2022-06-10T15:19:32.629Z"
   },
   {
    "duration": 246,
    "start_time": "2022-06-10T15:19:33.924Z"
   },
   {
    "duration": 10,
    "start_time": "2022-06-10T15:19:34.172Z"
   },
   {
    "duration": 2,
    "start_time": "2022-06-10T15:19:34.184Z"
   },
   {
    "duration": 14,
    "start_time": "2022-06-10T15:19:34.187Z"
   },
   {
    "duration": 9,
    "start_time": "2022-06-10T15:19:34.203Z"
   },
   {
    "duration": 11,
    "start_time": "2022-06-10T15:19:34.213Z"
   },
   {
    "duration": 11,
    "start_time": "2022-06-10T15:19:34.225Z"
   },
   {
    "duration": 14,
    "start_time": "2022-06-10T15:19:34.238Z"
   },
   {
    "duration": 18,
    "start_time": "2022-06-10T15:19:34.255Z"
   },
   {
    "duration": 10,
    "start_time": "2022-06-10T15:19:34.275Z"
   },
   {
    "duration": 19,
    "start_time": "2022-06-10T15:19:34.287Z"
   },
   {
    "duration": 11,
    "start_time": "2022-06-10T15:19:34.308Z"
   },
   {
    "duration": 10,
    "start_time": "2022-06-10T15:19:34.320Z"
   },
   {
    "duration": 15,
    "start_time": "2022-06-10T15:19:34.332Z"
   },
   {
    "duration": 10,
    "start_time": "2022-06-10T15:19:34.349Z"
   },
   {
    "duration": 11,
    "start_time": "2022-06-10T15:19:34.360Z"
   },
   {
    "duration": 322,
    "start_time": "2022-06-10T15:19:34.373Z"
   },
   {
    "duration": 11,
    "start_time": "2022-06-10T15:19:34.700Z"
   },
   {
    "duration": 13,
    "start_time": "2022-06-10T15:19:34.713Z"
   },
   {
    "duration": 254,
    "start_time": "2022-06-10T15:19:34.727Z"
   },
   {
    "duration": 201,
    "start_time": "2022-06-10T15:19:34.983Z"
   },
   {
    "duration": 23,
    "start_time": "2022-06-10T15:19:35.186Z"
   },
   {
    "duration": 26,
    "start_time": "2022-06-10T15:19:35.210Z"
   },
   {
    "duration": 77,
    "start_time": "2022-06-10T15:19:35.238Z"
   },
   {
    "duration": 6,
    "start_time": "2022-06-10T15:19:35.317Z"
   },
   {
    "duration": 24,
    "start_time": "2022-06-10T15:19:35.324Z"
   },
   {
    "duration": 78,
    "start_time": "2022-06-10T15:19:35.351Z"
   },
   {
    "duration": 4,
    "start_time": "2022-06-10T15:19:35.430Z"
   },
   {
    "duration": 27,
    "start_time": "2022-06-10T15:19:35.435Z"
   },
   {
    "duration": 16,
    "start_time": "2022-06-10T15:19:35.464Z"
   },
   {
    "duration": 19,
    "start_time": "2022-06-10T15:19:35.482Z"
   },
   {
    "duration": 19,
    "start_time": "2022-06-10T15:19:35.503Z"
   },
   {
    "duration": 8,
    "start_time": "2022-06-10T15:19:35.523Z"
   },
   {
    "duration": 7,
    "start_time": "2022-06-10T15:19:35.532Z"
   },
   {
    "duration": 267,
    "start_time": "2022-06-10T15:19:35.540Z"
   },
   {
    "duration": 175,
    "start_time": "2022-06-10T15:19:35.808Z"
   },
   {
    "duration": 341,
    "start_time": "2022-06-10T15:19:35.984Z"
   },
   {
    "duration": 209,
    "start_time": "2022-06-10T15:19:36.327Z"
   },
   {
    "duration": 371,
    "start_time": "2022-06-10T15:19:36.538Z"
   },
   {
    "duration": 110,
    "start_time": "2022-06-10T15:19:36.910Z"
   },
   {
    "duration": 7,
    "start_time": "2022-06-10T15:19:37.022Z"
   },
   {
    "duration": 235,
    "start_time": "2022-06-10T15:19:37.031Z"
   },
   {
    "duration": 294,
    "start_time": "2022-06-10T15:19:37.267Z"
   },
   {
    "duration": 8,
    "start_time": "2022-06-10T15:19:37.563Z"
   },
   {
    "duration": 31,
    "start_time": "2022-06-10T15:19:37.573Z"
   },
   {
    "duration": 20,
    "start_time": "2022-06-10T15:19:37.606Z"
   },
   {
    "duration": 4,
    "start_time": "2022-06-10T15:19:37.627Z"
   },
   {
    "duration": 0,
    "start_time": "2022-06-10T15:19:37.632Z"
   },
   {
    "duration": 0,
    "start_time": "2022-06-10T15:19:37.634Z"
   },
   {
    "duration": 0,
    "start_time": "2022-06-10T15:19:37.635Z"
   },
   {
    "duration": 0,
    "start_time": "2022-06-10T15:19:37.636Z"
   },
   {
    "duration": 0,
    "start_time": "2022-06-10T15:19:37.637Z"
   },
   {
    "duration": 0,
    "start_time": "2022-06-10T15:19:37.638Z"
   },
   {
    "duration": 0,
    "start_time": "2022-06-10T15:19:37.639Z"
   },
   {
    "duration": 0,
    "start_time": "2022-06-10T15:19:37.640Z"
   },
   {
    "duration": 0,
    "start_time": "2022-06-10T15:19:37.641Z"
   },
   {
    "duration": 0,
    "start_time": "2022-06-10T15:19:37.643Z"
   },
   {
    "duration": 0,
    "start_time": "2022-06-10T15:19:37.644Z"
   },
   {
    "duration": 0,
    "start_time": "2022-06-10T15:19:37.645Z"
   },
   {
    "duration": 0,
    "start_time": "2022-06-10T15:19:37.646Z"
   },
   {
    "duration": 1228,
    "start_time": "2022-06-10T15:20:07.485Z"
   },
   {
    "duration": 74,
    "start_time": "2022-06-10T15:20:08.715Z"
   },
   {
    "duration": 21,
    "start_time": "2022-06-10T15:20:08.791Z"
   },
   {
    "duration": 8,
    "start_time": "2022-06-10T15:20:08.814Z"
   },
   {
    "duration": 16,
    "start_time": "2022-06-10T15:20:08.825Z"
   },
   {
    "duration": 22,
    "start_time": "2022-06-10T15:20:08.843Z"
   },
   {
    "duration": 26,
    "start_time": "2022-06-10T15:20:08.868Z"
   },
   {
    "duration": 32,
    "start_time": "2022-06-10T15:20:08.896Z"
   },
   {
    "duration": 21,
    "start_time": "2022-06-10T15:20:08.931Z"
   },
   {
    "duration": 31,
    "start_time": "2022-06-10T15:20:08.955Z"
   },
   {
    "duration": 35,
    "start_time": "2022-06-10T15:20:08.989Z"
   },
   {
    "duration": 31,
    "start_time": "2022-06-10T15:20:09.026Z"
   },
   {
    "duration": 15,
    "start_time": "2022-06-10T15:20:09.059Z"
   },
   {
    "duration": 11,
    "start_time": "2022-06-10T15:20:09.079Z"
   },
   {
    "duration": 36,
    "start_time": "2022-06-10T15:20:09.092Z"
   },
   {
    "duration": 14,
    "start_time": "2022-06-10T15:20:09.131Z"
   },
   {
    "duration": 21,
    "start_time": "2022-06-10T15:20:09.147Z"
   },
   {
    "duration": 336,
    "start_time": "2022-06-10T15:20:09.171Z"
   },
   {
    "duration": 4,
    "start_time": "2022-06-10T15:20:09.509Z"
   },
   {
    "duration": 19,
    "start_time": "2022-06-10T15:20:09.515Z"
   },
   {
    "duration": 282,
    "start_time": "2022-06-10T15:20:09.536Z"
   },
   {
    "duration": 202,
    "start_time": "2022-06-10T15:20:09.820Z"
   },
   {
    "duration": 7,
    "start_time": "2022-06-10T15:20:10.023Z"
   },
   {
    "duration": 13,
    "start_time": "2022-06-10T15:20:10.031Z"
   },
   {
    "duration": 90,
    "start_time": "2022-06-10T15:20:10.046Z"
   },
   {
    "duration": 5,
    "start_time": "2022-06-10T15:20:10.138Z"
   },
   {
    "duration": 22,
    "start_time": "2022-06-10T15:20:10.145Z"
   },
   {
    "duration": 79,
    "start_time": "2022-06-10T15:20:10.169Z"
   },
   {
    "duration": 5,
    "start_time": "2022-06-10T15:20:10.250Z"
   },
   {
    "duration": 21,
    "start_time": "2022-06-10T15:20:10.257Z"
   },
   {
    "duration": 27,
    "start_time": "2022-06-10T15:20:10.280Z"
   },
   {
    "duration": 9,
    "start_time": "2022-06-10T15:20:10.313Z"
   },
   {
    "duration": 18,
    "start_time": "2022-06-10T15:20:10.325Z"
   },
   {
    "duration": 8,
    "start_time": "2022-06-10T15:20:10.345Z"
   },
   {
    "duration": 7,
    "start_time": "2022-06-10T15:20:10.355Z"
   },
   {
    "duration": 310,
    "start_time": "2022-06-10T15:20:10.364Z"
   },
   {
    "duration": 204,
    "start_time": "2022-06-10T15:20:10.676Z"
   },
   {
    "duration": 317,
    "start_time": "2022-06-10T15:20:10.882Z"
   },
   {
    "duration": 214,
    "start_time": "2022-06-10T15:20:11.200Z"
   },
   {
    "duration": 382,
    "start_time": "2022-06-10T15:20:11.416Z"
   },
   {
    "duration": 110,
    "start_time": "2022-06-10T15:20:11.808Z"
   },
   {
    "duration": 8,
    "start_time": "2022-06-10T15:20:11.919Z"
   },
   {
    "duration": 254,
    "start_time": "2022-06-10T15:20:11.929Z"
   },
   {
    "duration": 297,
    "start_time": "2022-06-10T15:20:12.185Z"
   },
   {
    "duration": 23,
    "start_time": "2022-06-10T15:20:12.484Z"
   },
   {
    "duration": 13,
    "start_time": "2022-06-10T15:20:12.509Z"
   },
   {
    "duration": 29,
    "start_time": "2022-06-10T15:20:12.524Z"
   },
   {
    "duration": 57,
    "start_time": "2022-06-10T15:20:12.555Z"
   },
   {
    "duration": 15,
    "start_time": "2022-06-10T15:20:12.614Z"
   },
   {
    "duration": 10,
    "start_time": "2022-06-10T15:20:12.630Z"
   },
   {
    "duration": 6,
    "start_time": "2022-06-10T15:20:12.642Z"
   },
   {
    "duration": 9,
    "start_time": "2022-06-10T15:20:12.649Z"
   },
   {
    "duration": 6,
    "start_time": "2022-06-10T15:20:12.659Z"
   },
   {
    "duration": 37,
    "start_time": "2022-06-10T15:20:12.666Z"
   },
   {
    "duration": 9,
    "start_time": "2022-06-10T15:20:12.708Z"
   },
   {
    "duration": 6,
    "start_time": "2022-06-10T15:20:12.718Z"
   },
   {
    "duration": 149,
    "start_time": "2022-06-10T15:20:12.726Z"
   },
   {
    "duration": 7,
    "start_time": "2022-06-10T15:20:12.877Z"
   },
   {
    "duration": 10,
    "start_time": "2022-06-10T15:20:12.897Z"
   },
   {
    "duration": 17,
    "start_time": "2022-06-10T15:20:12.912Z"
   },
   {
    "duration": 40,
    "start_time": "2022-06-10T15:21:53.843Z"
   },
   {
    "duration": 10,
    "start_time": "2022-06-10T15:28:47.207Z"
   },
   {
    "duration": 1149,
    "start_time": "2022-06-10T15:29:02.154Z"
   },
   {
    "duration": 74,
    "start_time": "2022-06-10T15:29:03.306Z"
   },
   {
    "duration": 15,
    "start_time": "2022-06-10T15:29:03.382Z"
   },
   {
    "duration": 10,
    "start_time": "2022-06-10T15:29:03.401Z"
   },
   {
    "duration": 12,
    "start_time": "2022-06-10T15:29:03.412Z"
   },
   {
    "duration": 6,
    "start_time": "2022-06-10T15:29:03.426Z"
   },
   {
    "duration": 10,
    "start_time": "2022-06-10T15:29:03.434Z"
   },
   {
    "duration": 5,
    "start_time": "2022-06-10T15:29:03.445Z"
   },
   {
    "duration": 13,
    "start_time": "2022-06-10T15:29:03.451Z"
   },
   {
    "duration": 11,
    "start_time": "2022-06-10T15:29:03.467Z"
   },
   {
    "duration": 12,
    "start_time": "2022-06-10T15:29:03.480Z"
   },
   {
    "duration": 27,
    "start_time": "2022-06-10T15:29:03.494Z"
   },
   {
    "duration": 6,
    "start_time": "2022-06-10T15:29:03.522Z"
   },
   {
    "duration": 8,
    "start_time": "2022-06-10T15:29:03.530Z"
   },
   {
    "duration": 12,
    "start_time": "2022-06-10T15:29:03.539Z"
   },
   {
    "duration": 13,
    "start_time": "2022-06-10T15:29:03.553Z"
   },
   {
    "duration": 10,
    "start_time": "2022-06-10T15:29:03.567Z"
   },
   {
    "duration": 288,
    "start_time": "2022-06-10T15:29:03.579Z"
   },
   {
    "duration": 5,
    "start_time": "2022-06-10T15:29:03.869Z"
   },
   {
    "duration": 25,
    "start_time": "2022-06-10T15:29:03.875Z"
   },
   {
    "duration": 264,
    "start_time": "2022-06-10T15:29:03.905Z"
   },
   {
    "duration": 211,
    "start_time": "2022-06-10T15:29:04.171Z"
   },
   {
    "duration": 18,
    "start_time": "2022-06-10T15:29:04.384Z"
   },
   {
    "duration": 7,
    "start_time": "2022-06-10T15:29:04.404Z"
   },
   {
    "duration": 74,
    "start_time": "2022-06-10T15:29:04.412Z"
   },
   {
    "duration": 11,
    "start_time": "2022-06-10T15:29:04.494Z"
   },
   {
    "duration": 20,
    "start_time": "2022-06-10T15:29:04.509Z"
   },
   {
    "duration": 86,
    "start_time": "2022-06-10T15:29:04.534Z"
   },
   {
    "duration": 5,
    "start_time": "2022-06-10T15:29:04.622Z"
   },
   {
    "duration": 19,
    "start_time": "2022-06-10T15:29:04.628Z"
   },
   {
    "duration": 15,
    "start_time": "2022-06-10T15:29:04.649Z"
   },
   {
    "duration": 38,
    "start_time": "2022-06-10T15:29:04.666Z"
   },
   {
    "duration": 15,
    "start_time": "2022-06-10T15:29:04.706Z"
   },
   {
    "duration": 11,
    "start_time": "2022-06-10T15:29:04.722Z"
   },
   {
    "duration": 6,
    "start_time": "2022-06-10T15:29:04.734Z"
   },
   {
    "duration": 284,
    "start_time": "2022-06-10T15:29:04.742Z"
   },
   {
    "duration": 200,
    "start_time": "2022-06-10T15:29:05.029Z"
   },
   {
    "duration": 300,
    "start_time": "2022-06-10T15:29:05.230Z"
   },
   {
    "duration": 233,
    "start_time": "2022-06-10T15:29:05.532Z"
   },
   {
    "duration": 376,
    "start_time": "2022-06-10T15:29:05.767Z"
   },
   {
    "duration": 123,
    "start_time": "2022-06-10T15:29:06.145Z"
   },
   {
    "duration": 9,
    "start_time": "2022-06-10T15:29:06.271Z"
   },
   {
    "duration": 264,
    "start_time": "2022-06-10T15:29:06.281Z"
   },
   {
    "duration": 234,
    "start_time": "2022-06-10T15:29:06.547Z"
   },
   {
    "duration": 24,
    "start_time": "2022-06-10T15:29:06.782Z"
   },
   {
    "duration": 11,
    "start_time": "2022-06-10T15:29:06.808Z"
   },
   {
    "duration": 23,
    "start_time": "2022-06-10T15:29:06.821Z"
   },
   {
    "duration": 68,
    "start_time": "2022-06-10T15:29:06.846Z"
   },
   {
    "duration": 14,
    "start_time": "2022-06-10T15:29:06.916Z"
   },
   {
    "duration": 13,
    "start_time": "2022-06-10T15:29:06.932Z"
   },
   {
    "duration": 7,
    "start_time": "2022-06-10T15:29:06.946Z"
   },
   {
    "duration": 7,
    "start_time": "2022-06-10T15:29:06.955Z"
   },
   {
    "duration": 6,
    "start_time": "2022-06-10T15:29:06.964Z"
   },
   {
    "duration": 33,
    "start_time": "2022-06-10T15:29:06.971Z"
   },
   {
    "duration": 9,
    "start_time": "2022-06-10T15:29:07.006Z"
   },
   {
    "duration": 12,
    "start_time": "2022-06-10T15:29:07.017Z"
   },
   {
    "duration": 148,
    "start_time": "2022-06-10T15:29:07.030Z"
   },
   {
    "duration": 14,
    "start_time": "2022-06-10T15:29:07.180Z"
   },
   {
    "duration": 18,
    "start_time": "2022-06-10T15:29:07.196Z"
   },
   {
    "duration": 13,
    "start_time": "2022-06-10T15:29:07.216Z"
   },
   {
    "duration": 1202,
    "start_time": "2022-06-10T15:30:27.934Z"
   },
   {
    "duration": 86,
    "start_time": "2022-06-10T15:30:29.139Z"
   },
   {
    "duration": 12,
    "start_time": "2022-06-10T15:30:29.227Z"
   },
   {
    "duration": 3,
    "start_time": "2022-06-10T15:30:29.240Z"
   },
   {
    "duration": 10,
    "start_time": "2022-06-10T15:30:29.245Z"
   },
   {
    "duration": 5,
    "start_time": "2022-06-10T15:30:29.257Z"
   },
   {
    "duration": 11,
    "start_time": "2022-06-10T15:30:29.263Z"
   },
   {
    "duration": 12,
    "start_time": "2022-06-10T15:30:29.276Z"
   },
   {
    "duration": 25,
    "start_time": "2022-06-10T15:30:29.289Z"
   },
   {
    "duration": 10,
    "start_time": "2022-06-10T15:30:29.316Z"
   },
   {
    "duration": 8,
    "start_time": "2022-06-10T15:30:29.328Z"
   },
   {
    "duration": 17,
    "start_time": "2022-06-10T15:30:29.338Z"
   },
   {
    "duration": 6,
    "start_time": "2022-06-10T15:30:29.357Z"
   },
   {
    "duration": 8,
    "start_time": "2022-06-10T15:30:29.366Z"
   },
   {
    "duration": 19,
    "start_time": "2022-06-10T15:30:29.375Z"
   },
   {
    "duration": 13,
    "start_time": "2022-06-10T15:30:29.396Z"
   },
   {
    "duration": 19,
    "start_time": "2022-06-10T15:30:29.411Z"
   },
   {
    "duration": 307,
    "start_time": "2022-06-10T15:30:29.432Z"
   },
   {
    "duration": 5,
    "start_time": "2022-06-10T15:30:29.741Z"
   },
   {
    "duration": 14,
    "start_time": "2022-06-10T15:30:29.748Z"
   },
   {
    "duration": 294,
    "start_time": "2022-06-10T15:30:29.763Z"
   },
   {
    "duration": 214,
    "start_time": "2022-06-10T15:30:30.059Z"
   },
   {
    "duration": 10,
    "start_time": "2022-06-10T15:30:30.276Z"
   },
   {
    "duration": 20,
    "start_time": "2022-06-10T15:30:30.288Z"
   },
   {
    "duration": 95,
    "start_time": "2022-06-10T15:30:30.310Z"
   },
   {
    "duration": 7,
    "start_time": "2022-06-10T15:30:30.407Z"
   },
   {
    "duration": 29,
    "start_time": "2022-06-10T15:30:30.416Z"
   },
   {
    "duration": 74,
    "start_time": "2022-06-10T15:30:30.447Z"
   },
   {
    "duration": 5,
    "start_time": "2022-06-10T15:30:30.523Z"
   },
   {
    "duration": 42,
    "start_time": "2022-06-10T15:30:30.530Z"
   },
   {
    "duration": 18,
    "start_time": "2022-06-10T15:30:30.574Z"
   },
   {
    "duration": 33,
    "start_time": "2022-06-10T15:30:30.594Z"
   },
   {
    "duration": 27,
    "start_time": "2022-06-10T15:30:30.629Z"
   },
   {
    "duration": 21,
    "start_time": "2022-06-10T15:30:30.658Z"
   },
   {
    "duration": 40,
    "start_time": "2022-06-10T15:30:30.681Z"
   },
   {
    "duration": 310,
    "start_time": "2022-06-10T15:30:30.723Z"
   },
   {
    "duration": 213,
    "start_time": "2022-06-10T15:30:31.035Z"
   },
   {
    "duration": 304,
    "start_time": "2022-06-10T15:30:31.250Z"
   },
   {
    "duration": 216,
    "start_time": "2022-06-10T15:30:31.555Z"
   },
   {
    "duration": 416,
    "start_time": "2022-06-10T15:30:31.773Z"
   },
   {
    "duration": 126,
    "start_time": "2022-06-10T15:30:32.195Z"
   },
   {
    "duration": 8,
    "start_time": "2022-06-10T15:30:32.323Z"
   },
   {
    "duration": 304,
    "start_time": "2022-06-10T15:30:32.332Z"
   },
   {
    "duration": 240,
    "start_time": "2022-06-10T15:30:32.637Z"
   },
   {
    "duration": 29,
    "start_time": "2022-06-10T15:30:32.879Z"
   },
   {
    "duration": 9,
    "start_time": "2022-06-10T15:30:32.910Z"
   },
   {
    "duration": 23,
    "start_time": "2022-06-10T15:30:32.921Z"
   },
   {
    "duration": 64,
    "start_time": "2022-06-10T15:30:32.946Z"
   },
   {
    "duration": 14,
    "start_time": "2022-06-10T15:30:33.012Z"
   },
   {
    "duration": 11,
    "start_time": "2022-06-10T15:30:33.028Z"
   },
   {
    "duration": 6,
    "start_time": "2022-06-10T15:30:33.040Z"
   },
   {
    "duration": 10,
    "start_time": "2022-06-10T15:30:33.048Z"
   },
   {
    "duration": 9,
    "start_time": "2022-06-10T15:30:33.060Z"
   },
   {
    "duration": 8,
    "start_time": "2022-06-10T15:30:33.071Z"
   },
   {
    "duration": 11,
    "start_time": "2022-06-10T15:30:33.094Z"
   },
   {
    "duration": 11,
    "start_time": "2022-06-10T15:30:33.107Z"
   },
   {
    "duration": 157,
    "start_time": "2022-06-10T15:30:33.119Z"
   },
   {
    "duration": 16,
    "start_time": "2022-06-10T15:30:33.278Z"
   },
   {
    "duration": 28,
    "start_time": "2022-06-10T15:30:33.295Z"
   },
   {
    "duration": 12,
    "start_time": "2022-06-10T15:30:33.325Z"
   },
   {
    "duration": 1137,
    "start_time": "2022-06-10T15:31:49.714Z"
   },
   {
    "duration": 76,
    "start_time": "2022-06-10T15:31:50.852Z"
   },
   {
    "duration": 11,
    "start_time": "2022-06-10T15:31:50.930Z"
   },
   {
    "duration": 8,
    "start_time": "2022-06-10T15:31:50.943Z"
   },
   {
    "duration": 13,
    "start_time": "2022-06-10T15:31:50.953Z"
   },
   {
    "duration": 5,
    "start_time": "2022-06-10T15:31:50.967Z"
   },
   {
    "duration": 11,
    "start_time": "2022-06-10T15:31:50.974Z"
   },
   {
    "duration": 6,
    "start_time": "2022-06-10T15:31:50.986Z"
   },
   {
    "duration": 21,
    "start_time": "2022-06-10T15:31:50.993Z"
   },
   {
    "duration": 10,
    "start_time": "2022-06-10T15:31:51.017Z"
   },
   {
    "duration": 9,
    "start_time": "2022-06-10T15:31:51.029Z"
   },
   {
    "duration": 25,
    "start_time": "2022-06-10T15:31:51.039Z"
   },
   {
    "duration": 7,
    "start_time": "2022-06-10T15:31:51.065Z"
   },
   {
    "duration": 8,
    "start_time": "2022-06-10T15:31:51.074Z"
   },
   {
    "duration": 23,
    "start_time": "2022-06-10T15:31:51.084Z"
   },
   {
    "duration": 15,
    "start_time": "2022-06-10T15:31:51.109Z"
   },
   {
    "duration": 16,
    "start_time": "2022-06-10T15:31:51.126Z"
   },
   {
    "duration": 289,
    "start_time": "2022-06-10T15:31:51.144Z"
   },
   {
    "duration": 5,
    "start_time": "2022-06-10T15:31:51.435Z"
   },
   {
    "duration": 15,
    "start_time": "2022-06-10T15:31:51.442Z"
   },
   {
    "duration": 297,
    "start_time": "2022-06-10T15:31:51.459Z"
   },
   {
    "duration": 190,
    "start_time": "2022-06-10T15:31:51.758Z"
   },
   {
    "duration": 6,
    "start_time": "2022-06-10T15:31:51.949Z"
   },
   {
    "duration": 8,
    "start_time": "2022-06-10T15:31:51.957Z"
   },
   {
    "duration": 93,
    "start_time": "2022-06-10T15:31:51.966Z"
   },
   {
    "duration": 6,
    "start_time": "2022-06-10T15:31:52.061Z"
   },
   {
    "duration": 33,
    "start_time": "2022-06-10T15:31:52.069Z"
   },
   {
    "duration": 71,
    "start_time": "2022-06-10T15:31:52.108Z"
   },
   {
    "duration": 4,
    "start_time": "2022-06-10T15:31:52.181Z"
   },
   {
    "duration": 33,
    "start_time": "2022-06-10T15:31:52.193Z"
   },
   {
    "duration": 14,
    "start_time": "2022-06-10T15:31:52.228Z"
   },
   {
    "duration": 6,
    "start_time": "2022-06-10T15:31:52.244Z"
   },
   {
    "duration": 13,
    "start_time": "2022-06-10T15:31:52.251Z"
   },
   {
    "duration": 10,
    "start_time": "2022-06-10T15:31:52.266Z"
   },
   {
    "duration": 16,
    "start_time": "2022-06-10T15:31:52.277Z"
   },
   {
    "duration": 319,
    "start_time": "2022-06-10T15:31:52.295Z"
   },
   {
    "duration": 201,
    "start_time": "2022-06-10T15:31:52.617Z"
   },
   {
    "duration": 295,
    "start_time": "2022-06-10T15:31:52.820Z"
   },
   {
    "duration": 233,
    "start_time": "2022-06-10T15:31:53.117Z"
   },
   {
    "duration": 382,
    "start_time": "2022-06-10T15:31:53.352Z"
   },
   {
    "duration": 123,
    "start_time": "2022-06-10T15:31:53.736Z"
   },
   {
    "duration": 8,
    "start_time": "2022-06-10T15:31:53.860Z"
   },
   {
    "duration": 271,
    "start_time": "2022-06-10T15:31:53.869Z"
   },
   {
    "duration": 240,
    "start_time": "2022-06-10T15:31:54.143Z"
   },
   {
    "duration": 20,
    "start_time": "2022-06-10T15:31:54.385Z"
   },
   {
    "duration": 15,
    "start_time": "2022-06-10T15:31:54.407Z"
   },
   {
    "duration": 25,
    "start_time": "2022-06-10T15:31:54.424Z"
   },
   {
    "duration": 70,
    "start_time": "2022-06-10T15:31:54.451Z"
   },
   {
    "duration": 15,
    "start_time": "2022-06-10T15:31:54.523Z"
   },
   {
    "duration": 8,
    "start_time": "2022-06-10T15:31:54.540Z"
   },
   {
    "duration": 5,
    "start_time": "2022-06-10T15:31:54.549Z"
   },
   {
    "duration": 5,
    "start_time": "2022-06-10T15:31:54.556Z"
   },
   {
    "duration": 32,
    "start_time": "2022-06-10T15:31:54.563Z"
   },
   {
    "duration": 6,
    "start_time": "2022-06-10T15:31:54.598Z"
   },
   {
    "duration": 6,
    "start_time": "2022-06-10T15:31:54.605Z"
   },
   {
    "duration": 9,
    "start_time": "2022-06-10T15:31:54.612Z"
   },
   {
    "duration": 166,
    "start_time": "2022-06-10T15:31:54.622Z"
   },
   {
    "duration": 20,
    "start_time": "2022-06-10T15:31:54.790Z"
   },
   {
    "duration": 11,
    "start_time": "2022-06-10T15:31:54.812Z"
   },
   {
    "duration": 11,
    "start_time": "2022-06-10T15:31:54.826Z"
   }
  ],
  "kernelspec": {
   "display_name": "Python 3 (ipykernel)",
   "language": "python",
   "name": "python3"
  },
  "language_info": {
   "codemirror_mode": {
    "name": "ipython",
    "version": 3
   },
   "file_extension": ".py",
   "mimetype": "text/x-python",
   "name": "python",
   "nbconvert_exporter": "python",
   "pygments_lexer": "ipython3",
   "version": "3.9.7"
  },
  "toc": {
   "base_numbering": 1,
   "nav_menu": {},
   "number_sections": true,
   "sideBar": true,
   "skip_h1_title": true,
   "title_cell": "Table of Contents",
   "title_sidebar": "Contents",
   "toc_cell": false,
   "toc_position": {
    "height": "calc(100% - 180px)",
    "left": "10px",
    "top": "150px",
    "width": "286.875px"
   },
   "toc_section_display": true,
   "toc_window_display": false
  }
 },
 "nbformat": 4,
 "nbformat_minor": 2
}
